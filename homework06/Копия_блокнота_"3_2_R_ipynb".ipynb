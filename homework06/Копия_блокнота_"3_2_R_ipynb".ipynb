{
  "nbformat": 4,
  "nbformat_minor": 0,
  "metadata": {
    "colab": {
      "provenance": [],
      "include_colab_link": true
    },
    "kernelspec": {
      "name": "ir",
      "display_name": "R"
    },
    "language_info": {
      "name": "R"
    }
  },
  "cells": [
    {
      "cell_type": "markdown",
      "metadata": {
        "id": "view-in-github",
        "colab_type": "text"
      },
      "source": [
        "<a href=\"https://colab.research.google.com/github/soreloserrr/cs102/blob/homework06/homework06/%D0%9A%D0%BE%D0%BF%D0%B8%D1%8F_%D0%B1%D0%BB%D0%BE%D0%BA%D0%BD%D0%BE%D1%82%D0%B0_%223_2_R_ipynb%22.ipynb\" target=\"_parent\"><img src=\"https://colab.research.google.com/assets/colab-badge.svg\" alt=\"Open In Colab\"/></a>"
      ]
    },
    {
      "cell_type": "markdown",
      "source": [
        "# Очень краткое введение в R\n",
        "> только базовые функции без пакетов"
      ],
      "metadata": {
        "id": "RsGKLxVby2EJ"
      }
    },
    {
      "cell_type": "code",
      "source": [
        "# Задание 1\n",
        "\n",
        "\n",
        "music <- read.csv(\"music_genre.csv\")\n",
        "set.seed(31)\n",
        "\n",
        "music <- music[sample(nrow(music), 20000, replace = FALSE),]\n",
        "head(music)\n",
        "\n",
        "if (anyDuplicated(music)) {\n",
        "music <- unique(music)\n",
        "}\n",
        "\n",
        "empty_rows <- subset(music, artist_name == \"empty_field\")\n",
        "if (nrow(empty_rows) > 0) {\n",
        "music <- subset(music, artist_name != \"empty_field\")\n",
        "} else {\n",
        "cat(\"Дубликатов не содержится\")\n",
        "}\n",
        "music <- na.omit(music)\n"
      ],
      "metadata": {
        "id": "SlHRDV3KAb4g",
        "outputId": "a8a81918-0d95-4e04-e38f-c721863cc47f",
        "colab": {
          "base_uri": "https://localhost:8080/",
          "height": 462
        }
      },
      "execution_count": 13,
      "outputs": [
        {
          "output_type": "display_data",
          "data": {
            "text/html": [
              "<table class=\"dataframe\">\n",
              "<caption>A data.frame: 6 × 18</caption>\n",
              "<thead>\n",
              "\t<tr><th></th><th scope=col>instance_id</th><th scope=col>artist_name</th><th scope=col>track_name</th><th scope=col>popularity</th><th scope=col>acousticness</th><th scope=col>danceability</th><th scope=col>duration_ms</th><th scope=col>energy</th><th scope=col>instrumentalness</th><th scope=col>key</th><th scope=col>liveness</th><th scope=col>loudness</th><th scope=col>mode</th><th scope=col>speechiness</th><th scope=col>tempo</th><th scope=col>obtained_date</th><th scope=col>valence</th><th scope=col>music_genre</th></tr>\n",
              "\t<tr><th></th><th scope=col>&lt;dbl&gt;</th><th scope=col>&lt;chr&gt;</th><th scope=col>&lt;chr&gt;</th><th scope=col>&lt;dbl&gt;</th><th scope=col>&lt;dbl&gt;</th><th scope=col>&lt;dbl&gt;</th><th scope=col>&lt;dbl&gt;</th><th scope=col>&lt;dbl&gt;</th><th scope=col>&lt;dbl&gt;</th><th scope=col>&lt;chr&gt;</th><th scope=col>&lt;dbl&gt;</th><th scope=col>&lt;dbl&gt;</th><th scope=col>&lt;chr&gt;</th><th scope=col>&lt;dbl&gt;</th><th scope=col>&lt;chr&gt;</th><th scope=col>&lt;chr&gt;</th><th scope=col>&lt;dbl&gt;</th><th scope=col>&lt;chr&gt;</th></tr>\n",
              "</thead>\n",
              "<tbody>\n",
              "\t<tr><th scope=row>27816</th><td>41458</td><td>Lil Uzi Vert       </td><td>Baby Are You Home                  </td><td>61</td><td>0.10100</td><td>0.653</td><td>230296</td><td>0.546</td><td>0.00e+00</td><td>F </td><td>0.1340</td><td> -8.818</td><td>Minor</td><td>0.2820</td><td>149.975</td><td>4-Apr</td><td>0.462</td><td>Rap        </td></tr>\n",
              "\t<tr><th scope=row>29632</th><td>80729</td><td>$uicideBoy$        </td><td>I'm Done.                          </td><td>61</td><td>0.07660</td><td>0.820</td><td>158459</td><td>0.875</td><td>6.49e-04</td><td>A#</td><td>0.0883</td><td> -6.682</td><td>Minor</td><td>0.0707</td><td>?      </td><td>4-Apr</td><td>0.591</td><td>Rap        </td></tr>\n",
              "\t<tr><th scope=row>11319</th><td>62636</td><td>empty_field        </td><td>Good Rockin' Daddy - Single Version</td><td>40</td><td>0.86000</td><td>0.740</td><td>145120</td><td>0.397</td><td>0.00e+00</td><td>D#</td><td>0.3700</td><td> -6.726</td><td>Major</td><td>0.0407</td><td>113.835</td><td>4-Apr</td><td>0.647</td><td>Jazz       </td></tr>\n",
              "\t<tr><th scope=row>15934</th><td>31221</td><td>Cemetery Sun       </td><td>E.Y.T.Y.K.                         </td><td>43</td><td>0.24300</td><td>0.529</td><td>224973</td><td>0.797</td><td>0.00e+00</td><td>E </td><td>0.0508</td><td> -4.529</td><td>Major</td><td>0.0386</td><td>?      </td><td>4-Apr</td><td>0.436</td><td>Alternative</td></tr>\n",
              "\t<tr><th scope=row>925</th><td>48277</td><td>3LAU               </td><td>Fire - Paris Blohm Remix           </td><td>46</td><td>0.00383</td><td>0.613</td><td>193552</td><td>0.925</td><td>1.52e-06</td><td>F#</td><td>0.0913</td><td> -1.579</td><td>Minor</td><td>0.0622</td><td>?      </td><td>4-Apr</td><td>0.467</td><td>Electronic </td></tr>\n",
              "\t<tr><th scope=row>7546</th><td>38921</td><td>Takatsugu Muramatsu</td><td>Magic Science                      </td><td>14</td><td>0.16400</td><td>0.324</td><td>154693</td><td>0.357</td><td>7.31e-03</td><td>C </td><td>0.1220</td><td>-16.489</td><td>Major</td><td>0.0483</td><td>173.415</td><td>3-Apr</td><td>0.124</td><td>Anime      </td></tr>\n",
              "</tbody>\n",
              "</table>\n"
            ],
            "text/markdown": "\nA data.frame: 6 × 18\n\n| <!--/--> | instance_id &lt;dbl&gt; | artist_name &lt;chr&gt; | track_name &lt;chr&gt; | popularity &lt;dbl&gt; | acousticness &lt;dbl&gt; | danceability &lt;dbl&gt; | duration_ms &lt;dbl&gt; | energy &lt;dbl&gt; | instrumentalness &lt;dbl&gt; | key &lt;chr&gt; | liveness &lt;dbl&gt; | loudness &lt;dbl&gt; | mode &lt;chr&gt; | speechiness &lt;dbl&gt; | tempo &lt;chr&gt; | obtained_date &lt;chr&gt; | valence &lt;dbl&gt; | music_genre &lt;chr&gt; |\n|---|---|---|---|---|---|---|---|---|---|---|---|---|---|---|---|---|---|---|\n| 27816 | 41458 | Lil Uzi Vert        | Baby Are You Home                   | 61 | 0.10100 | 0.653 | 230296 | 0.546 | 0.00e+00 | F  | 0.1340 |  -8.818 | Minor | 0.2820 | 149.975 | 4-Apr | 0.462 | Rap         |\n| 29632 | 80729 | $uicideBoy$         | I'm Done.                           | 61 | 0.07660 | 0.820 | 158459 | 0.875 | 6.49e-04 | A# | 0.0883 |  -6.682 | Minor | 0.0707 | ?       | 4-Apr | 0.591 | Rap         |\n| 11319 | 62636 | empty_field         | Good Rockin' Daddy - Single Version | 40 | 0.86000 | 0.740 | 145120 | 0.397 | 0.00e+00 | D# | 0.3700 |  -6.726 | Major | 0.0407 | 113.835 | 4-Apr | 0.647 | Jazz        |\n| 15934 | 31221 | Cemetery Sun        | E.Y.T.Y.K.                          | 43 | 0.24300 | 0.529 | 224973 | 0.797 | 0.00e+00 | E  | 0.0508 |  -4.529 | Major | 0.0386 | ?       | 4-Apr | 0.436 | Alternative |\n| 925 | 48277 | 3LAU                | Fire - Paris Blohm Remix            | 46 | 0.00383 | 0.613 | 193552 | 0.925 | 1.52e-06 | F# | 0.0913 |  -1.579 | Minor | 0.0622 | ?       | 4-Apr | 0.467 | Electronic  |\n| 7546 | 38921 | Takatsugu Muramatsu | Magic Science                       | 14 | 0.16400 | 0.324 | 154693 | 0.357 | 7.31e-03 | C  | 0.1220 | -16.489 | Major | 0.0483 | 173.415 | 3-Apr | 0.124 | Anime       |\n\n",
            "text/latex": "A data.frame: 6 × 18\n\\begin{tabular}{r|llllllllllllllllll}\n  & instance\\_id & artist\\_name & track\\_name & popularity & acousticness & danceability & duration\\_ms & energy & instrumentalness & key & liveness & loudness & mode & speechiness & tempo & obtained\\_date & valence & music\\_genre\\\\\n  & <dbl> & <chr> & <chr> & <dbl> & <dbl> & <dbl> & <dbl> & <dbl> & <dbl> & <chr> & <dbl> & <dbl> & <chr> & <dbl> & <chr> & <chr> & <dbl> & <chr>\\\\\n\\hline\n\t27816 & 41458 & Lil Uzi Vert        & Baby Are You Home                   & 61 & 0.10100 & 0.653 & 230296 & 0.546 & 0.00e+00 & F  & 0.1340 &  -8.818 & Minor & 0.2820 & 149.975 & 4-Apr & 0.462 & Rap        \\\\\n\t29632 & 80729 & \\$uicideBoy\\$         & I'm Done.                           & 61 & 0.07660 & 0.820 & 158459 & 0.875 & 6.49e-04 & A\\# & 0.0883 &  -6.682 & Minor & 0.0707 & ?       & 4-Apr & 0.591 & Rap        \\\\\n\t11319 & 62636 & empty\\_field         & Good Rockin' Daddy - Single Version & 40 & 0.86000 & 0.740 & 145120 & 0.397 & 0.00e+00 & D\\# & 0.3700 &  -6.726 & Major & 0.0407 & 113.835 & 4-Apr & 0.647 & Jazz       \\\\\n\t15934 & 31221 & Cemetery Sun        & E.Y.T.Y.K.                          & 43 & 0.24300 & 0.529 & 224973 & 0.797 & 0.00e+00 & E  & 0.0508 &  -4.529 & Major & 0.0386 & ?       & 4-Apr & 0.436 & Alternative\\\\\n\t925 & 48277 & 3LAU                & Fire - Paris Blohm Remix            & 46 & 0.00383 & 0.613 & 193552 & 0.925 & 1.52e-06 & F\\# & 0.0913 &  -1.579 & Minor & 0.0622 & ?       & 4-Apr & 0.467 & Electronic \\\\\n\t7546 & 38921 & Takatsugu Muramatsu & Magic Science                       & 14 & 0.16400 & 0.324 & 154693 & 0.357 & 7.31e-03 & C  & 0.1220 & -16.489 & Major & 0.0483 & 173.415 & 3-Apr & 0.124 & Anime      \\\\\n\\end{tabular}\n",
            "text/plain": [
              "      instance_id artist_name         track_name                         \n",
              "27816 41458       Lil Uzi Vert        Baby Are You Home                  \n",
              "29632 80729       $uicideBoy$         I'm Done.                          \n",
              "11319 62636       empty_field         Good Rockin' Daddy - Single Version\n",
              "15934 31221       Cemetery Sun        E.Y.T.Y.K.                         \n",
              "925   48277       3LAU                Fire - Paris Blohm Remix           \n",
              "7546  38921       Takatsugu Muramatsu Magic Science                      \n",
              "      popularity acousticness danceability duration_ms energy instrumentalness\n",
              "27816 61         0.10100      0.653        230296      0.546  0.00e+00        \n",
              "29632 61         0.07660      0.820        158459      0.875  6.49e-04        \n",
              "11319 40         0.86000      0.740        145120      0.397  0.00e+00        \n",
              "15934 43         0.24300      0.529        224973      0.797  0.00e+00        \n",
              "925   46         0.00383      0.613        193552      0.925  1.52e-06        \n",
              "7546  14         0.16400      0.324        154693      0.357  7.31e-03        \n",
              "      key liveness loudness mode  speechiness tempo   obtained_date valence\n",
              "27816 F   0.1340    -8.818  Minor 0.2820      149.975 4-Apr         0.462  \n",
              "29632 A#  0.0883    -6.682  Minor 0.0707      ?       4-Apr         0.591  \n",
              "11319 D#  0.3700    -6.726  Major 0.0407      113.835 4-Apr         0.647  \n",
              "15934 E   0.0508    -4.529  Major 0.0386      ?       4-Apr         0.436  \n",
              "925   F#  0.0913    -1.579  Minor 0.0622      ?       4-Apr         0.467  \n",
              "7546  C   0.1220   -16.489  Major 0.0483      173.415 3-Apr         0.124  \n",
              "      music_genre\n",
              "27816 Rap        \n",
              "29632 Rap        \n",
              "11319 Jazz       \n",
              "15934 Alternative\n",
              "925   Electronic \n",
              "7546  Anime      "
            ]
          },
          "metadata": {}
        }
      ]
    },
    {
      "cell_type": "code",
      "source": [
        "# Задание 2\n",
        "\n",
        "install.packages(\"dplyr\")\n",
        "install.packages(\"ggplot2\")\n",
        "library(dplyr)\n",
        "library(ggplot2)\n",
        "\n",
        "\n",
        "#1\n",
        "genre_props <- prop.table(table(music$music_genre))\n",
        "cat(\"Доля каждого жанра в датасете:\\n\")\n",
        "print(genre_props)\n",
        "\n",
        "\n",
        "#2\n",
        "genre_count <- music %>%\n",
        "  group_by(music_genre) %>%\n",
        "  summarize(track_count = n()) %>%\n",
        "  arrange(desc(track_count))\n",
        "\n",
        "ggplot(genre_count, aes(x = music_genre, y = track_count)) +\n",
        "  geom_col(fill = ifelse(genre_count$music_genre[1] == genre_count$music_genre, \"red\", \"grey\")) + \n",
        "  labs(title = \"Распределение количества треков по жанрам\",\n",
        "       x = \"Жанры\",\n",
        "       y = \"Количество треков\") +\n",
        "  theme(axis.text.x = element_text(angle = 90, vjust = 0.5))\n",
        "\n",
        "\n",
        "\n",
        "#3\n",
        "danceability_by_genre <- music %>% \n",
        "  group_by(music_genre) %>% \n",
        "  summarize(mean_danceability = mean(danceability))\n",
        "  the_most_danceable_genre <- danceability_by_genre %>% \n",
        "  arrange(desc(mean_danceability)) %>% \n",
        "  head(1)\n",
        "cat(\"Самый танцевальный жанр:\", the_most_danceable_genre$music_genre, \"\\n\")\n",
        "\n",
        "#4\n",
        "music_genre %>%\n",
        "  group_by(music_genre, mode) %>%\n",
        "  summarise(n = n()) %>%\n",
        "  mutate(prop = n / sum(n)) %>%\n",
        "  filter(prop == max(prop)) %>%\n",
        "  select(music_genre, mode)\n",
        "\n"
      ],
      "metadata": {
        "id": "1JQft5h5AzJY",
        "outputId": "a6560417-9ae5-45e8-e90b-39fbfda151cb",
        "colab": {
          "base_uri": "https://localhost:8080/",
          "height": 1000
        }
      },
      "execution_count": 19,
      "outputs": [
        {
          "output_type": "stream",
          "name": "stderr",
          "text": [
            "Installing package into ‘/usr/local/lib/R/site-library’\n",
            "(as ‘lib’ is unspecified)\n",
            "\n",
            "Installing package into ‘/usr/local/lib/R/site-library’\n",
            "(as ‘lib’ is unspecified)\n",
            "\n"
          ]
        },
        {
          "output_type": "stream",
          "name": "stdout",
          "text": [
            "Доля каждого жанра в датасете:\n",
            "\n",
            "Alternative       Anime       Blues   Classical     Country  Electronic \n",
            " 0.10052075  0.09762769  0.10178318  0.10083636  0.10052075  0.09773289 \n",
            "    Hip-Hop        Jazz         Rap        Rock \n",
            " 0.09978434  0.10015254  0.10136237  0.09967913 \n",
            "Самый танцевальный жанр: Hip-Hop \n"
          ]
        },
        {
          "output_type": "stream",
          "name": "stderr",
          "text": [
            "\u001b[1m\u001b[22m`summarise()` has grouped output by 'music_genre'. You can override using the\n",
            "`.groups` argument.\n"
          ]
        },
        {
          "output_type": "display_data",
          "data": {
            "text/html": [
              "<table class=\"dataframe\">\n",
              "<caption>A grouped_df: 11 × 2</caption>\n",
              "<thead>\n",
              "\t<tr><th scope=col>music_genre</th><th scope=col>mode</th></tr>\n",
              "\t<tr><th scope=col>&lt;chr&gt;</th><th scope=col>&lt;chr&gt;</th></tr>\n",
              "</thead>\n",
              "<tbody>\n",
              "\t<tr><td>           </td><td>     </td></tr>\n",
              "\t<tr><td>Alternative</td><td>Major</td></tr>\n",
              "\t<tr><td>Anime      </td><td>Major</td></tr>\n",
              "\t<tr><td>Blues      </td><td>Major</td></tr>\n",
              "\t<tr><td>Classical  </td><td>Major</td></tr>\n",
              "\t<tr><td>Country    </td><td>Major</td></tr>\n",
              "\t<tr><td>Electronic </td><td>Major</td></tr>\n",
              "\t<tr><td>Hip-Hop    </td><td>Major</td></tr>\n",
              "\t<tr><td>Jazz       </td><td>Major</td></tr>\n",
              "\t<tr><td>Rap        </td><td>Major</td></tr>\n",
              "\t<tr><td>Rock       </td><td>Major</td></tr>\n",
              "</tbody>\n",
              "</table>\n"
            ],
            "text/markdown": "\nA grouped_df: 11 × 2\n\n| music_genre &lt;chr&gt; | mode &lt;chr&gt; |\n|---|---|\n| <!----> | <!----> |\n| Alternative | Major |\n| Anime       | Major |\n| Blues       | Major |\n| Classical   | Major |\n| Country     | Major |\n| Electronic  | Major |\n| Hip-Hop     | Major |\n| Jazz        | Major |\n| Rap         | Major |\n| Rock        | Major |\n\n",
            "text/latex": "A grouped\\_df: 11 × 2\n\\begin{tabular}{ll}\n music\\_genre & mode\\\\\n <chr> & <chr>\\\\\n\\hline\n\t             &      \\\\\n\t Alternative & Major\\\\\n\t Anime       & Major\\\\\n\t Blues       & Major\\\\\n\t Classical   & Major\\\\\n\t Country     & Major\\\\\n\t Electronic  & Major\\\\\n\t Hip-Hop     & Major\\\\\n\t Jazz        & Major\\\\\n\t Rap         & Major\\\\\n\t Rock        & Major\\\\\n\\end{tabular}\n",
            "text/plain": [
              "   music_genre mode \n",
              "1                   \n",
              "2  Alternative Major\n",
              "3  Anime       Major\n",
              "4  Blues       Major\n",
              "5  Classical   Major\n",
              "6  Country     Major\n",
              "7  Electronic  Major\n",
              "8  Hip-Hop     Major\n",
              "9  Jazz        Major\n",
              "10 Rap         Major\n",
              "11 Rock        Major"
            ]
          },
          "metadata": {}
        },
        {
          "output_type": "display_data",
          "data": {
            "text/plain": [
              "plot without title"
            ],
            "image/png": "[encoded data removed]"
          },
          "metadata": {
            "image/png": {
              "width": 420,
              "height": 420
            }
          }
        }
      ]
    },
    {
      "cell_type": "code",
      "source": [
        "# Задание 3\n",
        "library(dplyr)\n",
        "library(ggplot2)\n",
        "music_genre <- read.csv(\"music_genre.csv\", header = TRUE)\n",
        "\n",
        "set.seed(31)\n",
        "music_genre_sample <- music_genre[sample(nrow(music_genre), 20000, replace = FALSE),]\n",
        "\n",
        "music_genre_clean <- music_genre %>%\n",
        "  filter(!is.na(artist_name) & artist_name != \"empty_field\")\n",
        "\n",
        "set.seed(31)\n",
        "music_genre_sample <- music_genre_clean[sample(nrow(music_genre_clean), 20000, replace = FALSE),]\n",
        "\n",
        "\n",
        "#1\n",
        "music_genre_sample %>%\n",
        "  count(artist_name) %>%\n",
        "  arrange(desc(n)) %>%\n",
        "  slice_tail(n = 1) %>%\n",
        "  bind_rows(music_genre_sample %>% count(artist_name) %>% arrange(n) %>% tail(n = 1))\n",
        "  \n",
        "\n",
        "\n",
        "\n",
        "#2\n",
        "music_genre_clean <- music_genre %>%\n",
        "  filter(!is.na(artist_name) & artist_name != \"empty_field\")\n",
        "\n",
        "music_genre_clean %>%\n",
        "  count(artist_name) %>%\n",
        "  arrange(desc(n)) %>%\n",
        "  slice(1:20) %>%\n",
        "  ggplot(aes(x = reorder(artist_name, n), y = n)) +\n",
        "  geom_col(fill = \"purple\") +\n",
        "  theme(axis.text.x = element_text(angle = 90)) +\n",
        "  ggtitle(\"Топ-20 исполнителей\") +\n",
        "  labs(y = \"Количество треков\", x = \"Исполнитель\")\n"
      ],
      "metadata": {
        "id": "KlhqOr0zDo0A",
        "outputId": "3ed22fe6-8e96-4c52-8f86-1d0af8358648",
        "colab": {
          "base_uri": "https://localhost:8080/",
          "height": 581
        }
      },
      "execution_count": 7,
      "outputs": [
        {
          "output_type": "display_data",
          "data": {
            "text/html": [
              "<table class=\"dataframe\">\n",
              "<caption>A data.frame: 2 × 2</caption>\n",
              "<thead>\n",
              "\t<tr><th scope=col>artist_name</th><th scope=col>n</th></tr>\n",
              "\t<tr><th scope=col>&lt;chr&gt;</th><th scope=col>&lt;int&gt;</th></tr>\n",
              "</thead>\n",
              "<tbody>\n",
              "\t<tr><td>鉤貫レム(CV.斉藤壮馬)</td><td>  1</td></tr>\n",
              "\t<tr><td>Nobuo Uematsu        </td><td>190</td></tr>\n",
              "</tbody>\n",
              "</table>\n"
            ],
            "text/markdown": "\nA data.frame: 2 × 2\n\n| artist_name &lt;chr&gt; | n &lt;int&gt; |\n|---|---|\n| 鉤貫レム(CV.斉藤壮馬) |   1 |\n| Nobuo Uematsu         | 190 |\n\n",
            "text/latex": "A data.frame: 2 × 2\n\\begin{tabular}{ll}\n artist\\_name & n\\\\\n <chr> & <int>\\\\\n\\hline\n\t 鉤貫レム(CV.斉藤壮馬) &   1\\\\\n\t Nobuo Uematsu         & 190\\\\\n\\end{tabular}\n",
            "text/plain": [
              "  artist_name           n  \n",
              "1 鉤貫レム(CV.斉藤壮馬)   1\n",
              "2 Nobuo Uematsu         190"
            ]
          },
          "metadata": {}
        },
        {
          "output_type": "display_data",
          "data": {
            "text/plain": [
              "plot without title"
            ],
            "image/png": "[encoded data removed]"
          },
          "metadata": {
            "image/png": {
              "width": 420,
              "height": 420
            }
          }
        }
      ]
    },
    {
      "cell_type": "markdown",
      "source": [
        "Вывод: исполнителем с наибольшим количеством треков оказался Nobuo Uematsu, с наименьшим количеством треков - 鉤貫レム(CV.斉藤壮馬)"
      ],
      "metadata": {
        "id": "6qfXCC6tOdJy"
      }
    },
    {
      "cell_type": "code",
      "source": [
        "# Задание 4\n",
        "\n",
        "\n",
        "install.packages(\"corrplot\")\n",
        "install.packages(\"palmerpenguins\")\n",
        "library(corrplot)\n",
        "library(RColorBrewer)\n",
        "\n",
        "music_genre <- read.csv(\"music_genre.csv\")\n",
        "\n",
        "music_genre$tempo <- as.numeric(music_genre$tempo)\n",
        "\n",
        "music_genre_clean <- na.omit(music_genre[c('duration_ms', 'loudness', 'tempo', 'danceability', 'energy')])\n",
        "music_genre_clean$tempo <- as.numeric(music_genre_clean$tempo)\n",
        "\n",
        "cor_mat <- cor(music_genre_clean)\n",
        "\n",
        "col_ramp <- brewer.pal(9, \"Blues\")\n",
        "corrplot(cor_mat, method = \"color\", tl.pos = \"d\", addCoef.col = \"black\", col = col_ramp)\n",
        "\n",
        "sum(is.na(music_genre$popularity))\n",
        "music_genre <- na.omit(music_genre)\n",
        "cor(music_genre$popularity, nchar(as.character(music_genre$track_name)))"
      ],
      "metadata": {
        "id": "RS7W06w8I6Vp",
        "outputId": "3a1c4589-dfd6-407f-a41d-6cb14c85c22c",
        "colab": {
          "base_uri": "https://localhost:8080/",
          "height": 618
        }
      },
      "execution_count": null,
      "outputs": [
        {
          "output_type": "stream",
          "name": "stderr",
          "text": [
            "Installing package into ‘/usr/local/lib/R/site-library’\n",
            "(as ‘lib’ is unspecified)\n",
            "\n",
            "Installing package into ‘/usr/local/lib/R/site-library’\n",
            "(as ‘lib’ is unspecified)\n",
            "\n",
            "Warning message in eval(expr, envir, enclos):\n",
            "“NAs introduced by coercion”\n"
          ]
        },
        {
          "output_type": "display_data",
          "data": {
            "text/html": [
              "5"
            ],
            "text/markdown": "5",
            "text/latex": "5",
            "text/plain": [
              "[1] 5"
            ]
          },
          "metadata": {}
        },
        {
          "output_type": "display_data",
          "data": {
            "text/html": [
              "-0.223200361787678"
            ],
            "text/markdown": "-0.223200361787678",
            "text/latex": "-0.223200361787678",
            "text/plain": [
              "[1] -0.2232004"
            ]
          },
          "metadata": {}
        },
        {
          "output_type": "display_data",
          "data": {
            "text/plain": [
              "Plot with title “”"
            ],
            "image/png": "[encoded data removed]"
          },
          "metadata": {
            "image/png": {
              "width": 420,
              "height": 420
            }
          }
        }
      ]
    },
    {
      "cell_type": "code",
      "source": [
        "Сильная корреляция между характеристиками loudness и energy. Слабая корреляция между характеристиками duration_ms и danceability. Характеристики, между которыми корреляции практически нет: tempo и danceability."
      ],
      "metadata": {
        "id": "GkKOYdGCO1qR"
      },
      "execution_count": null,
      "outputs": []
    },
    {
      "cell_type": "code",
      "source": [
        "# Задание 5\n",
        "\n",
        "install.packages(\"ggplot2\")\n",
        "library(ggplot2)\n",
        "\n",
        "music_genre <- read.csv(\"music_genre.csv\")\n",
        "\n",
        "set.seed(31)\n",
        "music_genre_sample <- music_genre[sample(nrow(music_genre), 20000, replace = FALSE),]\n",
        "\n",
        "\n",
        "ggplot(music_genre, aes(x = music_genre, y = popularity)) + \n",
        "  geom_boxplot() + \n",
        "  xlab(\"Жанр\") + \n",
        "  ylab(\"Популярность\")\n"
      ],
      "metadata": {
        "id": "UJ5H6ovRLn9N",
        "outputId": "82ab81fd-f113-4efe-eb9b-1d42813bf62b",
        "colab": {
          "base_uri": "https://localhost:8080/",
          "height": 473
        }
      },
      "execution_count": null,
      "outputs": [
        {
          "output_type": "stream",
          "name": "stderr",
          "text": [
            "Warning message:\n",
            "“\u001b[1m\u001b[22mRemoved 5 rows containing non-finite values (`stat_boxplot()`).”\n"
          ]
        },
        {
          "output_type": "display_data",
          "data": {
            "text/plain": [
              "plot without title"
            ],
            "image/png": "[encoded data removed]"
          },
          "metadata": {
            "image/png": {
              "width": 420,
              "height": 420
            }
          }
        }
      ]
    },
    {
      "cell_type": "markdown",
      "source": [
        "Между собой похожи такие жанры, как Blues и Classical; Rap, Rock и Hip-Hop"
      ],
      "metadata": {
        "id": "oic62CW-PjLv"
      }
    },
    {
      "cell_type": "code",
      "source": [
        "# Задание 7\n",
        "library(ggplot2)\n",
        "library(tidyr)\n",
        "library(dplyr)\n",
        "\n",
        "\n",
        "data <- music\n",
        "grouped_data <- music %>% group_by(music_genre)  %>%\n",
        "                      summarise(status = mean(valence))\n",
        "\n",
        "most_popular_genre <- (grouped_data %>% filter(max(status) == status))[[1]]\n",
        "most_unpopular_genre <- (grouped_data %>% filter(min(status) == status))[[1]]\n",
        "ee <- subset(music, music_genre == most_popular_genre)\n",
        "yy <- subset(music, music_genre == most_unpopular_genre)\n",
        "\n",
        "ee <- ee[,!names(ee) %in% c(\"id\", \"valence\", \"duration_ms\")]\n",
        "yy <- yy[,!names(yy) %in% c(\"id\", \"valence\", \"duration_ms\")]\n",
        "\n",
        "ee <- ee[ , unlist(lapply(ee, is.numeric))] \n",
        "yy <- yy[ , unlist(lapply(yy, is.numeric))] \n",
        "\n",
        "X <- as.numeric(unlist(colMeans(ee)))\n",
        "Y <- names(unlist(colMeans(ee)))\n",
        "\n",
        "colors <- ifelse(X < 0, 'red', 'grey')\n",
        "\n",
        "par(mar=c(4,7,4,3))\n",
        "barplot(X, names.arg=Y,\n",
        "        ylab=\"Характеристики\",\n",
        "        col=colors, \n",
        "        main=most_popular_genre, \n",
        "        beside=TRUE, \n",
        "        cex.names=0.6, \n",
        "        ylim=c(-10, 5), \n",
        "        las=1)\n",
        "\n",
        "X <- as.numeric(unlist(colMeans(yy)))\n",
        "Y <- names(unlist(colMeans(yy)))\n",
        "\n",
        "colors <- ifelse(X < 0, 'red', 'grey')\n",
        "\n",
        "par(mar=c(4,7,4,1))\n",
        "barplot(X, names.arg=Y,\n",
        "        ylab=\"Характеристики\",\n",
        "        col=colors, \n",
        "        main=most_unpopular_genre, \n",
        "        beside=TRUE, \n",
        "        cex.names=0.6, \n",
        "        ylim=c(-10, 5), \n",
        "        las=1)\n"
      ],
      "metadata": {
        "id": "wP3XVqj-LzFP",
        "outputId": "ddce4678-c75e-42e8-bd7f-3ea324d2ddbd",
        "colab": {
          "base_uri": "https://localhost:8080/",
          "height": 857
        }
      },
      "execution_count": 17,
      "outputs": [
        {
          "output_type": "display_data",
          "data": {
            "text/plain": [
              "Plot with title “Blues”"
            ],
            "image/png": "[encoded data removed]"
          },
          "metadata": {
            "image/png": {
              "width": 420,
              "height": 420
            }
          }
        },
        {
          "output_type": "display_data",
          "data": {
            "text/plain": [
              "Plot with title “Classical”"
            ],
            "image/png": "[encoded data removed]"
          },
          "metadata": {
            "image/png": {
              "width": 420,
              "height": 420
            }
          }
        }
      ]
    },
    {
      "cell_type": "code",
      "source": [
        "# Задание 8\n",
        "library(ggplot2)\n",
        "music_genre <- read.csv(\"music_genre.csv\")\n",
        "\n",
        "set.seed(31)\n",
        "music_genre_sample <- music_genre[sample(nrow(music_genre), 20000, replace = FALSE),]\n",
        "\n",
        "\n",
        "#1\n",
        "music_genre$длительность_трека <- cut(music_genre$duration_ms/1000/60, \n",
        "                                      breaks = c(0, 3, 5, Inf), \n",
        "                                      labels = c(\"короткая\", \"средняя\", \"длинная\"),\n",
        "                                      include.lowest = TRUE)\n",
        "\n",
        "\n",
        "#2\n",
        "ggplot(na.omit(music_genre), aes(x = loudness, fill = длительность_трека)) + \n",
        "  geom_density(alpha = 0.5) +\n",
        "  xlab(\"Loudness\") +\n",
        "  ylab(\"Density\") +\n",
        "  ggtitle(\"Плотность распределения loudness по длительности трека\")\n",
        "\n",
        "\n",
        "#3\n",
        "ggplot(na.omit(music_genre), aes(x = \"\", fill = длительность_трека)) + \n",
        "  geom_bar(width = 1) +\n",
        "  coord_polar(\"y\", start=0) +\n",
        "  labs(fill = \"Длительность\") +\n",
        "  ggtitle(\"Численное соотношение треков разной длительности\")         \n"
      ],
      "metadata": {
        "id": "7Uh7I2OaMr8N",
        "outputId": "7bb42f9a-d10f-4ac6-86e4-e6366fc87925",
        "colab": {
          "base_uri": "https://localhost:8080/",
          "height": 857
        }
      },
      "execution_count": 28,
      "outputs": [
        {
          "output_type": "display_data",
          "data": {
            "text/plain": [
              "plot without title"
            ],
            "image/png": "[encoded data removed]"
          },
          "metadata": {
            "image/png": {
              "width": 420,
              "height": 420
            }
          }
        },
        {
          "output_type": "display_data",
          "data": {
            "text/plain": [
              "plot without title"
            ],
            "image/png": "[encoded data removed]"
          },
          "metadata": {
            "image/png": {
              "width": 420,
              "height": 420
            }
          }
        }
      ]
    },
    {
      "cell_type": "markdown",
      "source": [
        "`R` - объектно-ориентированный, интерпретируемый язык программирования для анализа данных, появившийся в начале 90-х. Достаточно мощное средство для статистического анализа данных, визуализации, а также решения задач машинного обучения. Можно использовать через [Google Colab](https://colab.to/r) или скачать и установить [RStudio](https://www.rstudio.com/) или плагин для `PyCharm` или `DataSpell`."
      ],
      "metadata": {
        "id": "DwjEYpJEy8az"
      }
    },
    {
      "cell_type": "markdown",
      "metadata": {
        "hidden": true,
        "id": "X3S_QIKatPVk"
      },
      "source": [
        "\n",
        "## Cоздаем DataFrame из векторов"
      ]
    },
    {
      "cell_type": "code",
      "source": [
        "df <- data.frame(c(10, 20, 30), c(11, 21, 31))\n",
        "df"
      ],
      "metadata": {
        "colab": {
          "base_uri": "https://localhost:8080/",
          "height": 192
        },
        "id": "NTiqiKu11H7w",
        "outputId": "484fc7fb-0f94-4526-a1b1-ae895d962071"
      },
      "execution_count": null,
      "outputs": [
        {
          "output_type": "display_data",
          "data": {
            "text/plain": [
              "  c.10..20..30. c.11..21..31.\n",
              "1 10            11           \n",
              "2 20            21           \n",
              "3 30            31           "
            ],
            "text/latex": "A data.frame: 3 × 2\n\\begin{tabular}{ll}\n c.10..20..30. & c.11..21..31.\\\\\n <dbl> & <dbl>\\\\\n\\hline\n\t 10 & 11\\\\\n\t 20 & 21\\\\\n\t 30 & 31\\\\\n\\end{tabular}\n",
            "text/markdown": "\nA data.frame: 3 × 2\n\n| c.10..20..30. &lt;dbl&gt; | c.11..21..31. &lt;dbl&gt; |\n|---|---|\n| 10 | 11 |\n| 20 | 21 |\n| 30 | 31 |\n\n",
            "text/html": [
              "<table class=\"dataframe\">\n",
              "<caption>A data.frame: 3 × 2</caption>\n",
              "<thead>\n",
              "\t<tr><th scope=col>c.10..20..30.</th><th scope=col>c.11..21..31.</th></tr>\n",
              "\t<tr><th scope=col>&lt;dbl&gt;</th><th scope=col>&lt;dbl&gt;</th></tr>\n",
              "</thead>\n",
              "<tbody>\n",
              "\t<tr><td>10</td><td>11</td></tr>\n",
              "\t<tr><td>20</td><td>21</td></tr>\n",
              "\t<tr><td>30</td><td>31</td></tr>\n",
              "</tbody>\n",
              "</table>\n"
            ]
          },
          "metadata": {}
        }
      ]
    },
    {
      "cell_type": "markdown",
      "metadata": {
        "hidden": true,
        "id": "QzVGLmTUtPVu"
      },
      "source": [
        "Создаем таблицу с именованными столбцами"
      ]
    },
    {
      "cell_type": "code",
      "source": [
        "df <- data.frame(col_1=c(10, 20, 30), col_2=c(11, 21, 31))\n",
        "df"
      ],
      "metadata": {
        "colab": {
          "base_uri": "https://localhost:8080/",
          "height": 209
        },
        "id": "J-srcklk1sVd",
        "outputId": "30f3ca68-4dd8-4538-88db-3fcaf115c66e"
      },
      "execution_count": null,
      "outputs": [
        {
          "output_type": "display_data",
          "data": {
            "text/plain": [
              "  col_1 col_2\n",
              "1 10    11   \n",
              "2 20    21   \n",
              "3 30    31   "
            ],
            "text/latex": "A data.frame: 3 × 2\n\\begin{tabular}{ll}\n col\\_1 & col\\_2\\\\\n <dbl> & <dbl>\\\\\n\\hline\n\t 10 & 11\\\\\n\t 20 & 21\\\\\n\t 30 & 31\\\\\n\\end{tabular}\n",
            "text/markdown": "\nA data.frame: 3 × 2\n\n| col_1 &lt;dbl&gt; | col_2 &lt;dbl&gt; |\n|---|---|\n| 10 | 11 |\n| 20 | 21 |\n| 30 | 31 |\n\n",
            "text/html": [
              "<table class=\"dataframe\">\n",
              "<caption>A data.frame: 3 × 2</caption>\n",
              "<thead>\n",
              "\t<tr><th scope=col>col_1</th><th scope=col>col_2</th></tr>\n",
              "\t<tr><th scope=col>&lt;dbl&gt;</th><th scope=col>&lt;dbl&gt;</th></tr>\n",
              "</thead>\n",
              "<tbody>\n",
              "\t<tr><td>10</td><td>11</td></tr>\n",
              "\t<tr><td>20</td><td>21</td></tr>\n",
              "\t<tr><td>30</td><td>31</td></tr>\n",
              "</tbody>\n",
              "</table>\n"
            ]
          },
          "metadata": {}
        }
      ]
    },
    {
      "cell_type": "code",
      "source": [
        "print(df)"
      ],
      "metadata": {
        "colab": {
          "base_uri": "https://localhost:8080/"
        },
        "id": "QeQApmzO1-fO",
        "outputId": "f4f42d49-0a62-4d86-a823-77311a015bf1"
      },
      "execution_count": null,
      "outputs": [
        {
          "output_type": "stream",
          "name": "stdout",
          "text": [
            "  col_1 col_2\n",
            "1    10    11\n",
            "2    20    21\n",
            "3    30    31\n"
          ]
        }
      ]
    },
    {
      "cell_type": "markdown",
      "metadata": {
        "hidden": true,
        "id": "RDh5DzRctPW1"
      },
      "source": [
        "Задаем имена столбцов после создания датафрейма"
      ]
    },
    {
      "cell_type": "code",
      "source": [
        "colnames(df) <- c(\"A\", \"B\")\n",
        "df"
      ],
      "metadata": {
        "colab": {
          "base_uri": "https://localhost:8080/",
          "height": 209
        },
        "id": "mNjqKB1T2KqI",
        "outputId": "de74af86-3c46-492e-d3d0-5cc3a790d0eb"
      },
      "execution_count": null,
      "outputs": [
        {
          "output_type": "display_data",
          "data": {
            "text/plain": [
              "  A  B \n",
              "1 10 11\n",
              "2 20 21\n",
              "3 30 31"
            ],
            "text/latex": "A data.frame: 3 × 2\n\\begin{tabular}{ll}\n A & B\\\\\n <dbl> & <dbl>\\\\\n\\hline\n\t 10 & 11\\\\\n\t 20 & 21\\\\\n\t 30 & 31\\\\\n\\end{tabular}\n",
            "text/markdown": "\nA data.frame: 3 × 2\n\n| A &lt;dbl&gt; | B &lt;dbl&gt; |\n|---|---|\n| 10 | 11 |\n| 20 | 21 |\n| 30 | 31 |\n\n",
            "text/html": [
              "<table class=\"dataframe\">\n",
              "<caption>A data.frame: 3 × 2</caption>\n",
              "<thead>\n",
              "\t<tr><th scope=col>A</th><th scope=col>B</th></tr>\n",
              "\t<tr><th scope=col>&lt;dbl&gt;</th><th scope=col>&lt;dbl&gt;</th></tr>\n",
              "</thead>\n",
              "<tbody>\n",
              "\t<tr><td>10</td><td>11</td></tr>\n",
              "\t<tr><td>20</td><td>21</td></tr>\n",
              "\t<tr><td>30</td><td>31</td></tr>\n",
              "</tbody>\n",
              "</table>\n"
            ]
          },
          "metadata": {}
        }
      ]
    },
    {
      "cell_type": "markdown",
      "source": [
        "Чаще всего датафреймы создаются путём считывания данных из CSV-файла с помощью функции read.csv. В качестве примера в этом и нескольких следующих блокнотах будем использовать датасет с kaggle про [270 самых популярных программистских книг](https://www.kaggle.com/thomaskonstantin/top-270-rated-computer-science-programing-books?select=prog_book.csv)."
      ],
      "metadata": {
        "id": "UAEUI8MD2hxl"
      }
    },
    {
      "cell_type": "markdown",
      "source": [
        "Какие данные у нас есть?\n",
        "271 строка и 7 столбцов:\n",
        "* `Rating` - рейтинг книги от 0 до 5\n",
        "* `Reviews` - количество отзывов\n",
        "* `Book_title` - название книги\n",
        "* `Description` - аннотация\n",
        "* `Number_of_pages` - количество страниц\n",
        "* `Type` - тип (электронная / в твердом переплете / в мягком переплете и др.)\n",
        "* `Price` - усредненная цена (в долларах) по нескольким источникам"
      ],
      "metadata": {
        "id": "VQeEg2AB2nyx"
      }
    },
    {
      "cell_type": "markdown",
      "source": [
        "Обращайте внимание на разделитель. Вот этот код в зависимости от среды, где запускается файл, может выдать ошибку или некорректно считать данные. Перед запуском убедитесь в том, что загрузили этот файл в коллаб."
      ],
      "metadata": {
        "id": "niUdNbFX2qbO"
      }
    },
    {
      "cell_type": "markdown",
      "source": [
        "`Google Colab` пока не сделал адекватную аутентификацию для `R`, поэтому по-старинке будем загружать файлы в локальную сессию."
      ],
      "metadata": {
        "id": "Xi7sRrZ004cZ"
      }
    },
    {
      "cell_type": "code",
      "source": [
        "read.csv(\"prog_book.csv\", header = TRUE)"
      ],
      "metadata": {
        "colab": {
          "base_uri": "https://localhost:8080/",
          "height": 1000
        },
        "id": "QzkULTn8zrfP",
        "outputId": "930c8c90-53a2-4e3e-e889-15e1ba5f22d9"
      },
      "execution_count": null,
      "outputs": [
        {
          "output_type": "display_data",
          "data": {
            "text/plain": [
              "    Rating Reviews\n",
              "1   4.17   3,829  \n",
              "2   4.01   1,406  \n",
              "3   3.33   0      \n",
              "4   3.97   1,658  \n",
              "5   4.06   1,325  \n",
              "6   3.84   117    \n",
              "7   4.09   5,938  \n",
              "8   4.15   1,817  \n",
              "9   3.87   2,093  \n",
              "10  4.62   0      \n",
              "11  4.03   160    \n",
              "12  3.78   481    \n",
              "13  3.73   33     \n",
              "14  3.87   1,255  \n",
              "15  3.87   593    \n",
              "16  3.95   417    \n",
              "17  3.85   80     \n",
              "18  3.94   279    \n",
              "19  3.75   370    \n",
              "20  4.10   2,092  \n",
              "21  4.22   27     \n",
              "22  3.71   676    \n",
              "23  4.21   16     \n",
              "24  4.28   1,268  \n",
              "25  3.20   0      \n",
              "26  3.67   19     \n",
              "27  3.97   491    \n",
              "28  3.98   48     \n",
              "29  3.96   1      \n",
              "30  4.37   1      \n",
              "⋮   ⋮      ⋮      \n",
              "242 4.06   3      \n",
              "243 3.97   4      \n",
              "244 4.37   44     \n",
              "245 4.10   7      \n",
              "246 4.35   21     \n",
              "247 4.37   0      \n",
              "248 3.90   2      \n",
              "249 4.02   25     \n",
              "250 4.03   1      \n",
              "251 4.10   31     \n",
              "252 4.42   38     \n",
              "253 4.11   56     \n",
              "254 4.11   56     \n",
              "255 3.96   15     \n",
              "256 3.67   2      \n",
              "257 4.13   14     \n",
              "258 3.87   13     \n",
              "259 4.16   16     \n",
              "260 4.18   130    \n",
              "261 3.45   1      \n",
              "262 3.82   0      \n",
              "263 4.08   56     \n",
              "264 3.77   0      \n",
              "265 3.82   0      \n",
              "266 4.26   5      \n",
              "267 3.76   0      \n",
              "268 3.94   22     \n",
              "269 4.49   36     \n",
              "270 4.77   4      \n",
              "271 3.84   5      \n",
              "    Book_title                                                                                                                               \n",
              "1   The Elements of Style                                                                                                                    \n",
              "2   The Information: A History, a Theory, a Flood                                                                                            \n",
              "3   Responsive Web Design Overview For Beginners                                                                                             \n",
              "4   Ghost in the Wires: My Adventures as the World's Most Wanted Hacker                                                                      \n",
              "5   How Google Works                                                                                                                         \n",
              "6   The Meme Machine                                                                                                                         \n",
              "7   Start with Why: How Great Leaders Inspire Everyone to Take Action                                                                        \n",
              "8   Algorithms to Live By: The Computer Science of Human Decisions                                                                           \n",
              "9   Weapons of Math Destruction: How Big Data Increases Inequality and Threatens Democracy                                                   \n",
              "10  ZX Spectrum Games Code Club: Twenty fun games to code and learn                                                                          \n",
              "11  Sync: The Emerging Science of Spontaneous Order                                                                                          \n",
              "12  The Master Algorithm: How the Quest for the Ultimate Learning Machine Will Remake Our World                                              \n",
              "13  Ship It!                                                                                                                                 \n",
              "14  Superintelligence: Paths, Dangers, Strategies                                                                                            \n",
              "15  The Art of the Start: The Time-Tested, Battle-Hardened Guide for Anyone Starting Anything                                                \n",
              "16  Kingpin: How One Hacker Took Over the Billion-Dollar Cybercrime Underground                                                              \n",
              "17  The Quark and the Jaguar: Adventures in the Simple and the Complex                                                                       \n",
              "18  Linked: How Everything Is Connected to Everything Else and What It Means for Business, Science, and Everyday Life                        \n",
              "19  Our Final Invention: Artificial Intelligence and the End of the Human Era                                                                \n",
              "20  The Innovators: How a Group of Hackers, Geniuses and Geeks Created the Digital Revolution                                                \n",
              "21  Debugging: The 9 Indispensable Rules for Finding Even the Most Elusive Software and Hardware Problems                                    \n",
              "22  Big Data: A Revolution That Will Transform How We Live, Work, and Think                                                                  \n",
              "23  Help Your Kids with Computer Coding                                                                                                      \n",
              "24  The Code Book: The Science of Secrecy from Ancient Egypt to Quantum Cryptography                                                         \n",
              "25  Game Programming Golden Rules                                                                                                            \n",
              "26  The Architecture of Open Source Applications                                                                                             \n",
              "27  How to Create a Mind: The Secret of Human Thought Revealed                                                                               \n",
              "28  The Hidden Connections: A Science for Sustainable Living                                                                                 \n",
              "29  Computability and Unsolvability                                                                                                          \n",
              "30  Adventures in Minecraft                                                                                                                  \n",
              "⋮   ⋮                                                                                                                                        \n",
              "242 Geometric Algebra for Computer Science: An Object-Oriented Approach to Geometry                                                          \n",
              "243 Essentials of Programming Languages                                                                                                      \n",
              "244 The Art of Computer Programming, Volume 1: Fundamental Algorithms                                                                        \n",
              "245 Essential Mathematics for Games and Interactive Applications                                                                             \n",
              "246 Game Engine Architecture                                                                                                                 \n",
              "247 A First Course in Logic: An Introduction to Model Theory, Proof Theory, Computability, and Complexity                                    \n",
              "248 Computational Science and Engineering                                                                                                    \n",
              "249 Introduction to Automata Theory, Languages, and Computation                                                                              \n",
              "250 Geometric Tools for Computer Graphics                                                                                                    \n",
              "251 Computer Architecture: A Quantitative Approach                                                                                           \n",
              "252 Computer Systems: A Programmer's Perspective                                                                                             \n",
              "253 Modern Operating Systems                                                                                                                 \n",
              "254 Modern Operating Systems, 4th Edition                                                                                                    \n",
              "255 Structured Computer Organization                                                                                                         \n",
              "256 Game Engine Gems 1                                                                                                                       \n",
              "257 Concepts, Techniques, and Models of Computer Programming                                                                                 \n",
              "258 File Structures: An Object-Oriented Approach with C++                                                                                    \n",
              "259 The C++ Standard Library: A Tutorial and Reference                                                                                       \n",
              "260 Artificial Intelligence: A Modern Approach                                                                                               \n",
              "261 3D Game Engine Design: A Practical Approach to Real-Time Computer Graphics (The Morgan Kaufmann Series in Interactive 3D Technology)     \n",
              "262 Game Programming Gems 6                                                                                                                  \n",
              "263 Compilers: Principles, Techniques, and Tools                                                                                             \n",
              "264 Game Programming Gems 4                                                                                                                  \n",
              "265 Game Programming Gems 3                                                                                                                  \n",
              "266 Numerical Recipes: The Art of Scientific Computing                                                                                       \n",
              "267 3D Game Engine Architecture: Engineering Real-Time Applications with Wild Magic (The Morgan Kaufmann Series in Interactive 3d Technology)\n",
              "268 An Introduction to Database Systems                                                                                                      \n",
              "269 The Art of Computer Programming, Volumes 1-3 Boxed Set                                                                                   \n",
              "270 The Art of Computer Programming, Volumes 1-4a Boxed Set                                                                                  \n",
              "271 A Discipline for Software Engineering                                                                                                    \n",
              "    Description                                                                                                                                                                                                                                                                                                                                                                                                                                           \n",
              "1   This style manual offers practical advice on improving writing skills. Throughout, the emphasis is on promoting a plain English style. This little book can help you communicate more effectively by showing you how to enliven your sentences.                                                                                                                                                                                                       \n",
              "2   James Gleick, the author of the best sellers Chaos and Genius, now brings us a work just as astonishing and masterly: a revelatory chronicle and meditation that shows how information has become the modern era’s defining quality—the blood, the fuel, the vital principle of our world.\\n \\nThe story of information begins in a time profoundly unlike our own, when every thought and\\n\\n\\n\\n...more                                             \n",
              "3   In Responsive Web Design Overview For Beginners, you'll get an overview of what to expect when building a responsive website.\\n\\nYou'll learn about all of the following:\\nResponsive Web Design Overview\\nUsability of Smaller Screens\\nWhy Plugins Aren't the Solution\\nWhy a Responsive Web Design Theme May Not Be Best for Your Existing Website\\nRisks Involved with Responsive Web Design F\\n\\n\\n\\n\\n\\n\\n\\n\\n\\n\\n\\n\\n\\n...more                 \n",
              "4   If they were a hall of fame or shame for computer hackers, a Kevin Mitnick plaque would be mounted the near the entrance. While other nerds were fumbling with password possibilities, this adept break-artist was penetrating the digital secrets of Sun Microsystems, Digital Equipment Corporation, Nokia, Motorola, Pacific Bell, and other mammoth enterprises. His Ghost in the W\\n...more                                                      \n",
              "5   Both Eric Schmidt and Jonathan Rosenberg came to Google as seasoned Silicon Valley business executives, but over the course of a decade they came to see the wisdom in Coach John Wooden's observation that 'it's what you learn after you know it all that counts'. As they helped grow Google from a young start-up to a global icon, they relearned everything they knew about manag\\n\\n\\n\\n...more                                                \n",
              "6   What is a meme? First coined by Richard Dawkins in 'The Selfish Gene', a meme is any idea, behavior, or skill that can be transferred from one person to another by imitation: stories, fashions, inventions, recipes, songs, ways of plowing a field or throwing a baseball or making a sculpture.\\n\\nThe meme is also one of the most important--and controversial--concepts to emerge s\\n\\n\\n\\n\\n\\n\\n\\n\\n\\n...more                                 \n",
              "7   Why do you do what you do?\\n\\nWhy are some people and organizations more innovative, more influential, and more profitable than others? Why do some command greater loyalty from customers and employees alike? Even among the successful, why are so few able to repeat their success over and over?\\n\\nPeople like Martin Luther King Jr., Steve Jobs, and the Wright Brothers might have lit\\n\\n\\n\\n\\n\\n\\n\\n\\n\\n\\n\\n...more                        \n",
              "8   A fascinating exploration of how insights from computer algorithms can be applied to our everyday lives, helping to solve common decision-making problems and illuminate the workings of the human mind\\n\\nAll our lives are constrained by limited space and time, limits that give rise to a particular set of problems. What should we do, or leave undone, in a day or a lifetime? How\\n\\n\\n\\n...more                                             \n",
              "9   A former Wall Street quant sounds an alarm on mathematical modeling—a pervasive new force in society that threatens to undermine democracy and widen inequality.\\n \\nWe live in the age of the algorithm. Increasingly, the decisions that affect our lives—where we go to school, whether we get a car loan, how much we pay for health insurance—are being made not by humans, but by m\\n\\n\\n\\n...more                                              \n",
              "10  This book is ideal for ZX Spectrum fans and beginner coders of any age that want to learn or practice building simple games. Contains 20 games specifically created for this book, from Arcade classics to more wacky game ideas.\\n\\nNo special equipment needed! Works on...\\n\\n\\nWindows Mac Original ZX Spectrum Recreated ZX Spectrum Internet Browsers: Chrome / FF etc Linux Raspberry Pi\\n\\n\\n\\n\\n\\n\\n\\n\\n\\n\\n\\n\\n\\n\\n\\n\\n...more              \n",
              "11  At the heart of the universe is a steady, insistent beat, the sound of cycles in sync. Along the tidal rivers of Malaysia, thousands of fireflies congregate and flash in unison; the moon spins in perfect resonance with its orbit around the earth; our hearts depend on the synchronous firing of ten thousand pacemaker cells. While the forces that synchronize the flashing of f ...more                                                       \n",
              "12  A thought-provoking and wide-ranging exploration of machine learning and the race to build computer intelligences as flexible as our own\\nIn the world's top research labs and universities, the race is on to invent the ultimate learning algorithm: one capable of discovering any knowledge from data, and doing anything we want, before we even ask. In The Master Algorithm, Pedro\\n\\n...more                                                  \n",
              "13  Ship It! is a collection of tips that show the tools and techniques a successful project team has to use, and how to use them well. You'll get quick, easy-to-follow advice on modern practices: which to use, and when they should be applied. This book avoids current fashion trends and marketing hype; instead, readers find page after page of solid advice, all tried and tested\\n\\n\\n\\n\\n\\n\\n\\n\\n...more                                      \n",
              "14  Superintelligence asks the questions: what happens when machines surpass humans in general intelligence? Will artificial agents save or destroy us? Nick Bostrom lays the foundation for understanding the future of humanity and intelligent life.\\n\\nThe human brain has some capabilities that the brains of other animals lack. It is to these distinctive capabilities that our speci\\n\\n\\n\\n...more                                             \n",
              "15  A new product, a new service, a new company, a new division, a new organization, a new anything—where there’s a will, here’s the way. It begins with a dream that just won’t quit, the once-in-a-lifetime thunderbolt of pure inspiration, the obsession, the world-beater, the killer app, the next big thing. Everyone who wants to make the world a better place becomes possessed b\\n\\n...more                                                    \n",
              "16  The true story of Max Butler, the master hacker who ran a billion dollar cyber crime network.\\n\\nThe word spread through the hacking underground like some unstoppable new virus: an audacious crook had staged a hostile takeover of an online criminal network that siphoned billions of dollars from the US economy.\\n\\nThe culprit was a brilliant programmer with a hippie ethic and a sup\\n\\n\\n\\n\\n\\n...more                                    \n",
              "17  From one of the architects of the new science of simplicity and complexity comes an explanation of the connections between nature at its most basic level and natural selection, archaeology, linguistics, child development, computers, and other complex adaptive systems. Nobel laureate Murray Gell-Mann offers a uniquely personal and unifying vision of the relationship between ...more                                                       \n",
              "18  A cocktail party? A terrorist cell? Ancient bacteria? An international conglomerate?\\n\\nAll are networks, and all are a part of a surprising scientific revolution. Albert-László Barabási, the nation’s foremost expert in the new science of networks and author of Bursts, takes us on an intellectual adventure to prove that social networks, corporations, and living organisms are m\\n\\n\\n\\n...more                                            \n",
              "19  In as little as a decade, artificial intelligence could match, then surpass human intelligence. Corporations & government agencies around the world are pouring billions into achieving AI’s Holy Grail—human-level intelligence. Once AI has attained it, scientists argue, it will have survival drives much like our own. We may be forced to compete with a rival more cunning, mor ...more                                                       \n",
              "20  The computer and the internet are among the most important innovations of our era, but few people know who created them. They were not conjured up in a garret or garage by solo inventors suitable to be singled out on magazine covers or put into a pantheon with Edison, Bell, and Morse. Instead, most of the innovations of the digital age were done collaboratively. There were ...more                                                       \n",
              "21  When the pressure is on to root out an elusive software or hardware glitch, what’s needed is a cool head courtesy of a set of rules guaranteed to work on any system, in any circumstance. Written in a frank but engaging style, Debuggingprovides simple, foolproof principles guaranteed to help find any bug quickly. This book makes those shelves of application-specific debuggi ...more                                                       \n",
              "22  A revelatory exploration of the hottest trend in technology and the dramatic impact it will have on the economy, science, and society at large.\\n\\nWhich paint color is most likely to tell you that a used car is in good shape? How can officials identify the most dangerous New York City manholes before they explode? And how did Google searches predict the spread of the H1N1 flu\\n\\n\\n\\n\\n\\n\\n\\n\\n\\n\\n...more                               \n",
              "23  Take your kids from browsing to building the web with the latest in DK's award-winning Help Your Kids series: \"Help Your Kids With Computer Coding.\" Computer programming is one of the fastest-growing industries and highest paid college degrees, and learning to code promotes a way of thinking helpful for every budding brain. Yet 9 out of 10 schools don't even offer computer ...more                                                       \n",
              "24  In his first book since the bestselling Fermat’s Enigma, Simon Singh offers the first sweeping history of encryption, tracing its evolution and revealing the dramatic effects codes have had on wars, nations, and individual lives. From Mary, Queen of Scots, trapped by her own code, to the Navajo Code Talkers who helped the Allies win World War II, to the incredible (and inc\\n\\n...more                                                    \n",
              "25  'Game Programming Golden Rules' provides indispensable techniques that should be part of every game programmer's arsenal. Written as a series of easy-to-remember rules, the book provides a building block approach in which each new rule builds upon the previous one.                                                                                                                                                                             \n",
              "26  Architects look at thousands of buildings during their training, and study critiques of those buildings written by masters. In contrast, most software developers only ever get to know a handful of large programs well—usually programs they wrote themselves—and never study the great programs of history. As a result, they repeat one another's mistakes rather than building on\\n\\n\\n\\n...more                                                 \n",
              "27  The bold futurist and bestselling author explores the limitless potential of reverse-engineering the human brain\\n\\nRay Kurzweil is arguably today’s most influential—and often controversial—futurist. In How to Create a Mind, Kurzweil presents a provocative exploration of the most important project in human-machine civilization—reverse engineering the brain to understand precis\\n\\n\\n\\n\\n\\n...more                                        \n",
              "28  Fritjof Capra, bestselling author of The Tao of Physics and The Web of Life, here explores another frontier in the human significance of scientific ideas—applying complexity theory to large-scale social interaction.\\n\\nIn the 1980s, complexity theory emerged as a powerful alternative to classic, linear thought. A forerunner of that revolution, Fritjof Capra now continues to e\\n\\n...more                                                 \n",
              "29  Classic text considers general theory of computability, computable functions, operations on computable functions, Turing machines self-applied, unsolvable decision problems, applications of general theory, mathematical logic, Kleene hierarchy, computable functionals, classification of unsolvable decision problems and more.                                                                                                                  \n",
              "30  Here's your ticket to a world of adventures with Minecraft and programming.\\n\\nLearn how to extend Minecraft and create a new gaming experience, by exploring the magical world of Minecraft programming. Adventures in Minecraft, like other books in the highly successful Adventures series, is written especially for 11- to 15-year-olds. With this book you will learn new programmin\\n\\n\\n\\n\\n\\n\\n\\n\\n\\n\\n...more                              \n",
              "⋮   ⋮                                                                                                                                                                                                                                                                                                                                                                                                                                                     \n",
              "242 Until recently, almost all of the interactions between objects in virtual 3D worlds have been based on calculations performed using linear algebra. Linear algebra relies heavily on coordinates, however, which can make many geometric programming tasks very specific and complex-often a lot of effort is required to bring about even modest performance enhancements. Although li\\n\\n...more                                                    \n",
              "243 This book provides students with a deep, working understanding of the essential concepts of programming languages. Most of these essentials relate to the semantics, or meaning, of program elements, and the text uses interpreters (short programs that directly analyze an abstract representation of the program text) to express the semantics of many essential language elements\\n\\n...more                                                    \n",
              "244 The bible of all fundamental algorithms and the work that taught many of today's software developers most of what they know about computer programming. -Byte, September 1995 I can't begin to tell you how many pleasurable hours of study and recreation they have afforded me! I have pored over them in cars, restaurants, at work, at home... and even at a Little League game wh\\n...more                                                       \n",
              "245 Expert Guidance on the Math Needed for 3D Game Programming\\nDeveloped from the authors popular Game Developers Conference (GDC) tutorial, Essential Mathematics for Games and Interactive Applications, Third Edition illustrates the importance of mathematics in 3D programming. It shows you how to properly animate, simulate, and render scenes and discusses the mathematics behind\\n\\n\\n\\n\\n\\n\\n\\n\\n\\n\\n\\n\\n\\n\\n...more                        \n",
              "246 Hailed as a \"must-have textbook\" (CHOICE, January 2010), the first edition of Game Engine Architecture provided readers with a complete guide to the theory and practice of game engine software development. Updating the content to match today s landscape of game engine architecture, this second edition continues to thoroughly cover the major components that make up a typica\\n\\n\\n\\n\\n\\n\\n\\n\\n\\n...more                                    \n",
              "247 The ability to reason and think in a logical manner forms the basis of learning for most mathematics, computer science, philosophy and logic students. Based on the author's teaching notes at the University of Maryland and aimed at a broad audience, this text covers the fundamental topics in classical logic in an extremely clear, thorough and accurate style that is accessib\\n...more                                                      \n",
              "248 Encompasses the full range of computational science and engineering from modelling to solution, both analytical and numerical. It develops a framework for the equations and numerical methods of applied mathematics. Gilbert Strang has taught this material to thousands of engineers and scientists (and many more on MIT's OpenCourseWare 18.085-6). His experience is seen in his ...more                                                       \n",
              "249 It has been more than 20 years since this classic book on formal languages, automata theory, and computational complexity was first published. With this long-awaited revision, the authors continue to present the theory in a concise and straightforward manner, now with an eye out for the practical applications. They have revised this book to make it more accessible to today ...more                                                       \n",
              "250 Do you spend too much time creating the building blocks of your graphics applications or finding and correcting errors? Geometric Tools for Computer Graphics is an extensive, conveniently organized collection of proven solutions to fundamental problems that you'd rather not solve over and over again, including building primitives, distance calculation, approximation, conta\\n\\n\\n\\n\\n\\n\\n\\n\\n\\n\\n\\n\\n\\n\\n\\n\\n\\n\\n\\n\\n\\n\\n\\n\\n\\n\\n\\n...more\n",
              "251 Computer Architecture: A Quantitative Approach, Fifth Edition, explores the ways that software and technology in the cloud are accessed by digital media, such as cell phones, computers, tablets, and other mobile devices. The book, which became a part of Intel's 2012 recommended reading list for developers, covers the revolution of mobile computing. It also highlights the\\n\\n\\n\\n...more                                                  \n",
              "252 For Computer Organization and Architecture and Computer Systems courses in CS and EE and ECE departments. Developed out of an introductory course at Carnegie Mellon University, this text explains the important and enduring concepts underlying all computer systems, and shows the concrete ways that these ideas affect the correctness, performance, and utility of application p ...more                                                       \n",
              "253 For software development professionals and computer science students, Modern Operating Systems gives a solid conceptual overview of operating system design, including detailed case studies of Unix/Linux and Windows 2000.\\nWhat makes an operating system modern? According to author Andrew Tanenbaum, it is the awareness of high-demand computer applications--primarily in the ar\\n...more                                                     \n",
              "254 \"Modern Operating Systems, Fourth Edition, \"\" is intended for introductory courses in Operating Systems in Computer Science, Computer Engineering, and Electrical Engineering programs. It also serves as a useful reference for OS professionals\" The widely anticipated revision of this worldwide best-seller incorporates the latest developments in operating systems (OS) technol ...more                                                       \n",
              "255 Completely updated, this book explains how computer designers can follow the structured model to develop efficient hardware and software systems\\n\\nNew information has been included on UNIX, OS/2, INTEL 8088/80286/80386, Motorola 68000/68020/68030 and RISC machine. The operation of a typical IBM PC clone is now described in detail at the chip level.                                                                                       \n",
              "256 Game Engine Gems Brings Together In A Single Volume Dozens Of New Articles From Leading Professionals In The Game Development Industry. Each \"Gem\" Presents A Previously Unpublished Technique Related To Game Engines And Real-Time Virtual Simulations. Specific Topics Include Rendering Techniques, Shaders, Scene Organization, Visibility Determination, Collision Detection, Aud ...more                                                       \n",
              "257 This innovative text presents computer programming as a unified discipline in a way that is both practical and scientifically sound. The book focuses on techniques of lasting value and explains them precisely in terms of a simple abstract machine. The book presents all major programming paradigms in a uniform framework that shows their deep relationships and how and where\\n\\n...more                                                     \n",
              "258 Based on the bestselling File Structures, Second Edition, this book takes an object-oriented approach to the study of file structures. It allows students and professionals to acquire the fundamental tools needed to design intelligent, cost-effective, and appropriate solutions to file structure problems. The book begins by presenting the software and hardware characteristic ...more                                                       \n",
              "259 The Best-Selling C++ ResourceNow Updated for C++11 The C++ standard library provides a set of common classes and interfaces that greatly extend the core C++ language. The library, however, is not self-explanatory. To make full use of its components-and to benefit from their power-you need a resource that does far more than list the classes and their functions. \"The C++ Sta ...more                                                       \n",
              "260 For one or two-semester, undergraduate or graduate-level courses in Artificial Intelligence. The long-anticipated revision of this best-selling text offers the most comprehensive, up-to-date introduction to the theory and practice of artificial intelligence. *NEW-Nontechnical learning material-Accompanies each part of the book. *NEW-The Internet as a sample application for ...more                                                       \n",
              "261 A major revision of the international bestseller on game programming!\\nGraphics hardware has evolved enormously in the last decade. Hardware can now be directly controlled through techniques such as shader programming, which requires an entirely new thought process of a programmer. 3D Game Engine Design, Second Edition shows step-by-step how to make a shader-based graphi\\n\\n\\n\\n...more                                                  \n",
              "262 Welcome to the sixth volume of the Game Programming Gems series. With team sizes constantly expanding, developers are finding themselves pushed to become increasingly specialized. This makes it important to have cutting-edge, ready-to-use material in your specialization, as well as resources that you can call upon if you need to work outside your area of expertise. Volume ...more                                                        \n",
              "263 This introduction to compilers is the direct descendant of the well-known book by Aho and Ullman, Principles of Compiler Design. The authors present updated coverage of compilers based on research and techniques that have been developed in the field over the past few years. The book provides a thorough introduction to compiler design and covers topics such as context-free ...more                                                        \n",
              "264 Uncover the secrets of the game industry's best programmers with the newest volume of the Game Programming Gems series With over 60 all new techniques, Game Programming Gems 4 continues to be the definitive resource for developers. Written by expert game developers who make today's amazing games, these articles not only provide quick solutions to cutting-edge problems, but ...more                                                       \n",
              "265 The journey continues with this ALL NEW volume in the Game Programming Gems series! As with the first two volumes, a dynamic group of some of the best game programmers in the industry have generously joined together to share their insights and techniques. Their ready-to-use ideas, tips, and solutions, will help save hours of programming time, prevent redundancy, and leave ...more                                                        \n",
              "266 Co-authored by four leading scientists from academia and industry, Numerical Recipes Third Edition starts with basic mathematics and computer science and proceeds to complete, working routines. Widely recognized as the most comprehensive, accessible and practical basis for scientific computing, this new edition incorporates more than 400 Numerical Recipes routines, many of\\n...more                                                      \n",
              "267 Dave Eberly's 3D Game Engine Design was the first professional guide to the essential concepts and algorithms of real-time 3D engines and quickly became a classic of game development. Dave's new book 3D Game Engine Architecture continues the tradition with a comprehensive look at the software engineering and programming of 3D engines.\\nThis book is a complete guide to the\\n\\n\\n\\n\\n...more                                               \n",
              "268 Continuing in the eighth edition, An Introduction to Database Systems provides a comprehensive introduction to the now very large field of database systems by providing a solid grounding in the foundations of database technology while shedding some light on how the field is likely to develop in the future. This new edition has been rewritten and expanded to stay current wi ...more                                                       \n",
              "269 Knuth's classic work has been widely acclaimed as one of the most influential works in the field of computer science. For the first time, these books are available as a boxed, three-volume set. The handsome slipcase makes this set an ideal gift for the recent computer science graduate or professional programmer. Offering a description of classical computer science, this mu ...more                                                       \n",
              "270 \"The bible of all fundamental algorithms and the work that taught many of today's software developers most of what they know about computer programming.\"\"--Byte,\" September 1995 Countless readers have spoken about the profound personal influence of Knuth's work. Scientists have marveled at the beauty and elegance of his analysis, while ordinary programmers have successfull\\n\\n\\n\\n...more                                                \n",
              "271 Designed to help individual programmers develop software more effectively and successfully, this book presents a scaled-down version of Humphrey's popular methods for managing the software process. It: presents concepts and methods for a disciplined software engineering process for individual programmers, following the Capability Maturity Model (CMM); scales down industria ...more                                                       \n",
              "    Number_Of_Pages Type                  Price    \n",
              "1   105             Hardcover              9.323529\n",
              "2   527             Hardcover             11.000000\n",
              "3    50             Kindle Edition        11.267647\n",
              "4   393             Hardcover             12.873529\n",
              "5   305             Kindle Edition        13.164706\n",
              "6   288             Paperback             14.188235\n",
              "7   256             Hardcover             14.232353\n",
              "8   368             Hardcover             14.364706\n",
              "9   259             Hardcover             14.502941\n",
              "10  128             Paperback             14.641176\n",
              "11  352             Hardcover             15.229412\n",
              "12  352             Hardcover             15.229412\n",
              "13  200             Paperback             15.326471\n",
              "14  328             Hardcover             15.682353\n",
              "15  240             Hardcover             15.885294\n",
              "16  288             Hardcover             16.073529\n",
              "17  392             Paperback             16.367647\n",
              "18  304             Paperback             16.852941\n",
              "19  336             Hardcover             16.891176\n",
              "20  542             Hardcover             17.229412\n",
              "21  192             Paperback             17.491176\n",
              "22  242             Hardcover             17.620588\n",
              "23  224             Paperback             18.938235\n",
              "24  412             Paperback             19.132353\n",
              "25  318             Paperback             19.152941\n",
              "26  432             Paperback             19.247059\n",
              "27  336             Hardcover             19.855882\n",
              "28  320             Paperback             20.052941\n",
              "29  288             Paperback             20.400000\n",
              "30  320             Paperback             21.038235\n",
              "⋮   ⋮               ⋮                     ⋮        \n",
              "242  626            Hardcover              92.35882\n",
              "243  410            Hardcover              92.41176\n",
              "244  672            Hardcover              93.45588\n",
              "245  624            Hardcover              94.78529\n",
              "246 1052            Hardcover              96.03235\n",
              "247  431            Paperback              96.49412\n",
              "248  716            Hardcover              97.52647\n",
              "249  521            Hardcover              97.68824\n",
              "250 1056            Hardcover              99.82941\n",
              "251  493            Paperback             101.05588\n",
              "252  978            Hardcover             103.17353\n",
              "253  976            Hardcover             103.46176\n",
              "254 1136            Paperback             103.46176\n",
              "255  669            Hardcover             103.60882\n",
              "256  362            Hardcover             105.65000\n",
              "257  936            Hardcover             107.74706\n",
              "258  724            Paperback             108.36765\n",
              "259 1136            Hardcover             113.30294\n",
              "260 1132            Hardcover             115.75000\n",
              "261 1040            Hardcover             117.98824\n",
              "262  700            Hardcover             119.20294\n",
              "263  796            Hardcover             126.57941\n",
              "264  703            Hardcover             139.43529\n",
              "265  663            Hardcover             143.13824\n",
              "266 1235            Hardcover             176.14412\n",
              "267  752            Hardcover             203.10882\n",
              "268 1040            Paperback             212.09706\n",
              "269  896            Boxed Set - Hardcover 220.38529\n",
              "270 3168            Hardcover             220.38529\n",
              "271  789            Hardcover             235.65000"
            ],
            "text/latex": "A data.frame: 271 × 7\n\\begin{tabular}{lllllll}\n Rating & Reviews & Book\\_title & Description & Number\\_Of\\_Pages & Type & Price\\\\\n <dbl> & <chr> & <chr> & <chr> & <int> & <chr> & <dbl>\\\\\n\\hline\n\t 4.17 & 3,829 & The Elements of Style                                                                                             & This style manual offers practical advice on improving writing skills. Throughout, the emphasis is on promoting a plain English style. This little book can help you communicate more effectively by showing you how to enliven your sentences.                                                                                                                                                                                          & 105 & Hardcover      &  9.323529\\\\\n\t 4.01 & 1,406 & The Information: A History, a Theory, a Flood                                                                     & James Gleick, the author of the best sellers Chaos and Genius, now brings us a work just as astonishing and masterly: a revelatory chronicle and meditation that shows how information has become the modern era’s defining quality—the blood, the fuel, the vital principle of our world.\n \nThe story of information begins in a time profoundly unlike our own, when every thought and\n\n\n\n...more                                & 527 & Hardcover      & 11.000000\\\\\n\t 3.33 & 0     & Responsive Web Design Overview For Beginners                                                                      & In Responsive Web Design Overview For Beginners, you'll get an overview of what to expect when building a responsive website.\n\nYou'll learn about all of the following:\nResponsive Web Design Overview\nUsability of Smaller Screens\nWhy Plugins Aren't the Solution\nWhy a Responsive Web Design Theme May Not Be Best for Your Existing Website\nRisks Involved with Responsive Web Design F\n\n\n\n\n\n\n\n\n\n\n\n\n\n...more    &  50 & Kindle Edition & 11.267647\\\\\n\t 3.97 & 1,658 & Ghost in the Wires: My Adventures as the World's Most Wanted Hacker                                               & If they were a hall of fame or shame for computer hackers, a Kevin Mitnick plaque would be mounted the near the entrance. While other nerds were fumbling with password possibilities, this adept break-artist was penetrating the digital secrets of Sun Microsystems, Digital Equipment Corporation, Nokia, Motorola, Pacific Bell, and other mammoth enterprises. His Ghost in the W\n...more                                         & 393 & Hardcover      & 12.873529\\\\\n\t 4.06 & 1,325 & How Google Works                                                                                                  & Both Eric Schmidt and Jonathan Rosenberg came to Google as seasoned Silicon Valley business executives, but over the course of a decade they came to see the wisdom in Coach John Wooden's observation that 'it's what you learn after you know it all that counts'. As they helped grow Google from a young start-up to a global icon, they relearned everything they knew about manag\n\n\n\n...more                                   & 305 & Kindle Edition & 13.164706\\\\\n\t 3.84 & 117   & The Meme Machine                                                                                                  & What is a meme? First coined by Richard Dawkins in 'The Selfish Gene', a meme is any idea, behavior, or skill that can be transferred from one person to another by imitation: stories, fashions, inventions, recipes, songs, ways of plowing a field or throwing a baseball or making a sculpture.\n\nThe meme is also one of the most important--and controversial--concepts to emerge s\n\n\n\n\n\n\n\n\n\n...more                    & 288 & Paperback      & 14.188235\\\\\n\t 4.09 & 5,938 & Start with Why: How Great Leaders Inspire Everyone to Take Action                                                 & Why do you do what you do?\n\nWhy are some people and organizations more innovative, more influential, and more profitable than others? Why do some command greater loyalty from customers and employees alike? Even among the successful, why are so few able to repeat their success over and over?\n\nPeople like Martin Luther King Jr., Steve Jobs, and the Wright Brothers might have lit\n\n\n\n\n\n\n\n\n\n\n\n...more           & 256 & Hardcover      & 14.232353\\\\\n\t 4.15 & 1,817 & Algorithms to Live By: The Computer Science of Human Decisions                                                    & A fascinating exploration of how insights from computer algorithms can be applied to our everyday lives, helping to solve common decision-making problems and illuminate the workings of the human mind\n\nAll our lives are constrained by limited space and time, limits that give rise to a particular set of problems. What should we do, or leave undone, in a day or a lifetime? How\n\n\n\n...more                                & 368 & Hardcover      & 14.364706\\\\\n\t 3.87 & 2,093 & Weapons of Math Destruction: How Big Data Increases Inequality and Threatens Democracy                            & A former Wall Street quant sounds an alarm on mathematical modeling—a pervasive new force in society that threatens to undermine democracy and widen inequality.\n \nWe live in the age of the algorithm. Increasingly, the decisions that affect our lives—where we go to school, whether we get a car loan, how much we pay for health insurance—are being made not by humans, but by m\n\n\n\n...more                                 & 259 & Hardcover      & 14.502941\\\\\n\t 4.62 & 0     & ZX Spectrum Games Code Club: Twenty fun games to code and learn                                                   & This book is ideal for ZX Spectrum fans and beginner coders of any age that want to learn or practice building simple games. Contains 20 games specifically created for this book, from Arcade classics to more wacky game ideas.\n\nNo special equipment needed! Works on...\n\n\nWindows Mac Original ZX Spectrum Recreated ZX Spectrum Internet Browsers: Chrome / FF etc Linux Raspberry Pi\n\n\n\n\n\n\n\n\n\n\n\n\n\n\n\n\n...more & 128 & Paperback      & 14.641176\\\\\n\t 4.03 & 160   & Sync: The Emerging Science of Spontaneous Order                                                                   & At the heart of the universe is a steady, insistent beat, the sound of cycles in sync. Along the tidal rivers of Malaysia, thousands of fireflies congregate and flash in unison; the moon spins in perfect resonance with its orbit around the earth; our hearts depend on the synchronous firing of ten thousand pacemaker cells. While the forces that synchronize the flashing of f ...more                                          & 352 & Hardcover      & 15.229412\\\\\n\t 3.78 & 481   & The Master Algorithm: How the Quest for the Ultimate Learning Machine Will Remake Our World                       & A thought-provoking and wide-ranging exploration of machine learning and the race to build computer intelligences as flexible as our own\nIn the world's top research labs and universities, the race is on to invent the ultimate learning algorithm: one capable of discovering any knowledge from data, and doing anything we want, before we even ask. In The Master Algorithm, Pedro\n\n...more                                     & 352 & Hardcover      & 15.229412\\\\\n\t 3.73 & 33    & Ship It!                                                                                                          & Ship It! is a collection of tips that show the tools and techniques a successful project team has to use, and how to use them well. You'll get quick, easy-to-follow advice on modern practices: which to use, and when they should be applied. This book avoids current fashion trends and marketing hype; instead, readers find page after page of solid advice, all tried and tested\n\n\n\n\n\n\n\n\n...more                         & 200 & Paperback      & 15.326471\\\\\n\t 3.87 & 1,255 & Superintelligence: Paths, Dangers, Strategies                                                                     & Superintelligence asks the questions: what happens when machines surpass humans in general intelligence? Will artificial agents save or destroy us? Nick Bostrom lays the foundation for understanding the future of humanity and intelligent life.\n\nThe human brain has some capabilities that the brains of other animals lack. It is to these distinctive capabilities that our speci\n\n\n\n...more                                & 328 & Hardcover      & 15.682353\\\\\n\t 3.87 & 593   & The Art of the Start: The Time-Tested, Battle-Hardened Guide for Anyone Starting Anything                         & A new product, a new service, a new company, a new division, a new organization, a new anything—where there’s a will, here’s the way. It begins with a dream that just won’t quit, the once-in-a-lifetime thunderbolt of pure inspiration, the obsession, the world-beater, the killer app, the next big thing. Everyone who wants to make the world a better place becomes possessed b\n\n...more                                       & 240 & Hardcover      & 15.885294\\\\\n\t 3.95 & 417   & Kingpin: How One Hacker Took Over the Billion-Dollar Cybercrime Underground                                       & The true story of Max Butler, the master hacker who ran a billion dollar cyber crime network.\n\nThe word spread through the hacking underground like some unstoppable new virus: an audacious crook had staged a hostile takeover of an online criminal network that siphoned billions of dollars from the US economy.\n\nThe culprit was a brilliant programmer with a hippie ethic and a sup\n\n\n\n\n\n...more                       & 288 & Hardcover      & 16.073529\\\\\n\t 3.85 & 80    & The Quark and the Jaguar: Adventures in the Simple and the Complex                                                & From one of the architects of the new science of simplicity and complexity comes an explanation of the connections between nature at its most basic level and natural selection, archaeology, linguistics, child development, computers, and other complex adaptive systems. Nobel laureate Murray Gell-Mann offers a uniquely personal and unifying vision of the relationship between ...more                                          & 392 & Paperback      & 16.367647\\\\\n\t 3.94 & 279   & Linked: How Everything Is Connected to Everything Else and What It Means for Business, Science, and Everyday Life & A cocktail party? A terrorist cell? Ancient bacteria? An international conglomerate?\n\nAll are networks, and all are a part of a surprising scientific revolution. Albert-László Barabási, the nation’s foremost expert in the new science of networks and author of Bursts, takes us on an intellectual adventure to prove that social networks, corporations, and living organisms are m\n\n\n\n...more                               & 304 & Paperback      & 16.852941\\\\\n\t 3.75 & 370   & Our Final Invention: Artificial Intelligence and the End of the Human Era                                         & In as little as a decade, artificial intelligence could match, then surpass human intelligence. Corporations \\& government agencies around the world are pouring billions into achieving AI’s Holy Grail—human-level intelligence. Once AI has attained it, scientists argue, it will have survival drives much like our own. We may be forced to compete with a rival more cunning, mor ...more                                          & 336 & Hardcover      & 16.891176\\\\\n\t 4.10 & 2,092 & The Innovators: How a Group of Hackers, Geniuses and Geeks Created the Digital Revolution                         & The computer and the internet are among the most important innovations of our era, but few people know who created them. They were not conjured up in a garret or garage by solo inventors suitable to be singled out on magazine covers or put into a pantheon with Edison, Bell, and Morse. Instead, most of the innovations of the digital age were done collaboratively. There were ...more                                          & 542 & Hardcover      & 17.229412\\\\\n\t 4.22 & 27    & Debugging: The 9 Indispensable Rules for Finding Even the Most Elusive Software and Hardware Problems             & When the pressure is on to root out an elusive software or hardware glitch, what’s needed is a cool head courtesy of a set of rules guaranteed to work on any system, in any circumstance. Written in a frank but engaging style, Debuggingprovides simple, foolproof principles guaranteed to help find any bug quickly. This book makes those shelves of application-specific debuggi ...more                                          & 192 & Paperback      & 17.491176\\\\\n\t 3.71 & 676   & Big Data: A Revolution That Will Transform How We Live, Work, and Think                                           & A revelatory exploration of the hottest trend in technology and the dramatic impact it will have on the economy, science, and society at large.\n\nWhich paint color is most likely to tell you that a used car is in good shape? How can officials identify the most dangerous New York City manholes before they explode? And how did Google searches predict the spread of the H1N1 flu\n\n\n\n\n\n\n\n\n\n\n...more                  & 242 & Hardcover      & 17.620588\\\\\n\t 4.21 & 16    & Help Your Kids with Computer Coding                                                                               & Take your kids from browsing to building the web with the latest in DK's award-winning Help Your Kids series: \"Help Your Kids With Computer Coding.\" Computer programming is one of the fastest-growing industries and highest paid college degrees, and learning to code promotes a way of thinking helpful for every budding brain. Yet 9 out of 10 schools don't even offer computer ...more                                          & 224 & Paperback      & 18.938235\\\\\n\t 4.28 & 1,268 & The Code Book: The Science of Secrecy from Ancient Egypt to Quantum Cryptography                                  & In his first book since the bestselling Fermat’s Enigma, Simon Singh offers the first sweeping history of encryption, tracing its evolution and revealing the dramatic effects codes have had on wars, nations, and individual lives. From Mary, Queen of Scots, trapped by her own code, to the Navajo Code Talkers who helped the Allies win World War II, to the incredible (and inc\n\n...more                                       & 412 & Paperback      & 19.132353\\\\\n\t 3.20 & 0     & Game Programming Golden Rules                                                                                     & 'Game Programming Golden Rules' provides indispensable techniques that should be part of every game programmer's arsenal. Written as a series of easy-to-remember rules, the book provides a building block approach in which each new rule builds upon the previous one.                                                                                                                                                                & 318 & Paperback      & 19.152941\\\\\n\t 3.67 & 19    & The Architecture of Open Source Applications                                                                      & Architects look at thousands of buildings during their training, and study critiques of those buildings written by masters. In contrast, most software developers only ever get to know a handful of large programs well—usually programs they wrote themselves—and never study the great programs of history. As a result, they repeat one another's mistakes rather than building on\n\n\n\n...more                                    & 432 & Paperback      & 19.247059\\\\\n\t 3.97 & 491   & How to Create a Mind: The Secret of Human Thought Revealed                                                        & The bold futurist and bestselling author explores the limitless potential of reverse-engineering the human brain\n\nRay Kurzweil is arguably today’s most influential—and often controversial—futurist. In How to Create a Mind, Kurzweil presents a provocative exploration of the most important project in human-machine civilization—reverse engineering the brain to understand precis\n\n\n\n\n\n...more                           & 336 & Hardcover      & 19.855882\\\\\n\t 3.98 & 48    & The Hidden Connections: A Science for Sustainable Living                                                          & Fritjof Capra, bestselling author of The Tao of Physics and The Web of Life, here explores another frontier in the human significance of scientific ideas—applying complexity theory to large-scale social interaction.\n\nIn the 1980s, complexity theory emerged as a powerful alternative to classic, linear thought. A forerunner of that revolution, Fritjof Capra now continues to e\n\n...more                                    & 320 & Paperback      & 20.052941\\\\\n\t 3.96 & 1     & Computability and Unsolvability                                                                                   & Classic text considers general theory of computability, computable functions, operations on computable functions, Turing machines self-applied, unsolvable decision problems, applications of general theory, mathematical logic, Kleene hierarchy, computable functionals, classification of unsolvable decision problems and more.                                                                                                     & 288 & Paperback      & 20.400000\\\\\n\t 4.37 & 1     & Adventures in Minecraft                                                                                           & Here's your ticket to a world of adventures with Minecraft and programming.\n\nLearn how to extend Minecraft and create a new gaming experience, by exploring the magical world of Minecraft programming. Adventures in Minecraft, like other books in the highly successful Adventures series, is written especially for 11- to 15-year-olds. With this book you will learn new programmin\n\n\n\n\n\n\n\n\n\n\n...more                 & 320 & Paperback      & 21.038235\\\\\n\t ⋮ & ⋮ & ⋮ & ⋮ & ⋮ & ⋮ & ⋮\\\\\n\t 4.06 & 3   & Geometric Algebra for Computer Science: An Object-Oriented Approach to Geometry                                                           & Until recently, almost all of the interactions between objects in virtual 3D worlds have been based on calculations performed using linear algebra. Linear algebra relies heavily on coordinates, however, which can make many geometric programming tasks very specific and complex-often a lot of effort is required to bring about even modest performance enhancements. Although li\n\n...more                                                     &  626 & Hardcover             &  92.35882\\\\\n\t 3.97 & 4   & Essentials of Programming Languages                                                                                                       & This book provides students with a deep, working understanding of the essential concepts of programming languages. Most of these essentials relate to the semantics, or meaning, of program elements, and the text uses interpreters (short programs that directly analyze an abstract representation of the program text) to express the semantics of many essential language elements\n\n...more                                                     &  410 & Hardcover             &  92.41176\\\\\n\t 4.37 & 44  & The Art of Computer Programming, Volume 1: Fundamental Algorithms                                                                         & The bible of all fundamental algorithms and the work that taught many of today's software developers most of what they know about computer programming. -Byte, September 1995 I can't begin to tell you how many pleasurable hours of study and recreation they have afforded me! I have pored over them in cars, restaurants, at work, at home... and even at a Little League game wh\n...more                                                        &  672 & Hardcover             &  93.45588\\\\\n\t 4.10 & 7   & Essential Mathematics for Games and Interactive Applications                                                                              & Expert Guidance on the Math Needed for 3D Game Programming\nDeveloped from the authors popular Game Developers Conference (GDC) tutorial, Essential Mathematics for Games and Interactive Applications, Third Edition illustrates the importance of mathematics in 3D programming. It shows you how to properly animate, simulate, and render scenes and discusses the mathematics behind\n\n\n\n\n\n\n\n\n\n\n\n\n\n\n...more                         &  624 & Hardcover             &  94.78529\\\\\n\t 4.35 & 21  & Game Engine Architecture                                                                                                                  & Hailed as a \"must-have textbook\" (CHOICE, January 2010), the first edition of Game Engine Architecture provided readers with a complete guide to the theory and practice of game engine software development. Updating the content to match today s landscape of game engine architecture, this second edition continues to thoroughly cover the major components that make up a typica\n\n\n\n\n\n\n\n\n\n...more                                     & 1052 & Hardcover             &  96.03235\\\\\n\t 4.37 & 0   & A First Course in Logic: An Introduction to Model Theory, Proof Theory, Computability, and Complexity                                     & The ability to reason and think in a logical manner forms the basis of learning for most mathematics, computer science, philosophy and logic students. Based on the author's teaching notes at the University of Maryland and aimed at a broad audience, this text covers the fundamental topics in classical logic in an extremely clear, thorough and accurate style that is accessib\n...more                                                       &  431 & Paperback             &  96.49412\\\\\n\t 3.90 & 2   & Computational Science and Engineering                                                                                                     & Encompasses the full range of computational science and engineering from modelling to solution, both analytical and numerical. It develops a framework for the equations and numerical methods of applied mathematics. Gilbert Strang has taught this material to thousands of engineers and scientists (and many more on MIT's OpenCourseWare 18.085-6). His experience is seen in his ...more                                                        &  716 & Hardcover             &  97.52647\\\\\n\t 4.02 & 25  & Introduction to Automata Theory, Languages, and Computation                                                                               & It has been more than 20 years since this classic book on formal languages, automata theory, and computational complexity was first published. With this long-awaited revision, the authors continue to present the theory in a concise and straightforward manner, now with an eye out for the practical applications. They have revised this book to make it more accessible to today ...more                                                        &  521 & Hardcover             &  97.68824\\\\\n\t 4.03 & 1   & Geometric Tools for Computer Graphics                                                                                                     & Do you spend too much time creating the building blocks of your graphics applications or finding and correcting errors? Geometric Tools for Computer Graphics is an extensive, conveniently organized collection of proven solutions to fundamental problems that you'd rather not solve over and over again, including building primitives, distance calculation, approximation, conta\n\n\n\n\n\n\n\n\n\n\n\n\n\n\n\n\n\n\n\n\n\n\n\n\n\n\n\n...more & 1056 & Hardcover             &  99.82941\\\\\n\t 4.10 & 31  & Computer Architecture: A Quantitative Approach                                                                                            & Computer Architecture: A Quantitative Approach, Fifth Edition, explores the ways that software and technology in the cloud are accessed by digital media, such as cell phones, computers, tablets, and other mobile devices. The book, which became a part of Intel's 2012 recommended reading list for developers, covers the revolution of mobile computing. It also highlights the\n\n\n\n...more                                                   &  493 & Paperback             & 101.05588\\\\\n\t 4.42 & 38  & Computer Systems: A Programmer's Perspective                                                                                              & For Computer Organization and Architecture and Computer Systems courses in CS and EE and ECE departments. Developed out of an introductory course at Carnegie Mellon University, this text explains the important and enduring concepts underlying all computer systems, and shows the concrete ways that these ideas affect the correctness, performance, and utility of application p ...more                                                        &  978 & Hardcover             & 103.17353\\\\\n\t 4.11 & 56  & Modern Operating Systems                                                                                                                  & For software development professionals and computer science students, Modern Operating Systems gives a solid conceptual overview of operating system design, including detailed case studies of Unix/Linux and Windows 2000.\nWhat makes an operating system modern? According to author Andrew Tanenbaum, it is the awareness of high-demand computer applications--primarily in the ar\n...more                                                      &  976 & Hardcover             & 103.46176\\\\\n\t 4.11 & 56  & Modern Operating Systems, 4th Edition                                                                                                     & \"Modern Operating Systems, Fourth Edition, \"\" is intended for introductory courses in Operating Systems in Computer Science, Computer Engineering, and Electrical Engineering programs. It also serves as a useful reference for OS professionals\" The widely anticipated revision of this worldwide best-seller incorporates the latest developments in operating systems (OS) technol ...more                                                        & 1136 & Paperback             & 103.46176\\\\\n\t 3.96 & 15  & Structured Computer Organization                                                                                                          & Completely updated, this book explains how computer designers can follow the structured model to develop efficient hardware and software systems\n\nNew information has been included on UNIX, OS/2, INTEL 8088/80286/80386, Motorola 68000/68020/68030 and RISC machine. The operation of a typical IBM PC clone is now described in detail at the chip level.                                                                                        &  669 & Hardcover             & 103.60882\\\\\n\t 3.67 & 2   & Game Engine Gems 1                                                                                                                        & Game Engine Gems Brings Together In A Single Volume Dozens Of New Articles From Leading Professionals In The Game Development Industry. Each \"Gem\" Presents A Previously Unpublished Technique Related To Game Engines And Real-Time Virtual Simulations. Specific Topics Include Rendering Techniques, Shaders, Scene Organization, Visibility Determination, Collision Detection, Aud ...more                                                        &  362 & Hardcover             & 105.65000\\\\\n\t 4.13 & 14  & Concepts, Techniques, and Models of Computer Programming                                                                                  & This innovative text presents computer programming as a unified discipline in a way that is both practical and scientifically sound. The book focuses on techniques of lasting value and explains them precisely in terms of a simple abstract machine. The book presents all major programming paradigms in a uniform framework that shows their deep relationships and how and where\n\n...more                                                      &  936 & Hardcover             & 107.74706\\\\\n\t 3.87 & 13  & File Structures: An Object-Oriented Approach with C++                                                                                     & Based on the bestselling File Structures, Second Edition, this book takes an object-oriented approach to the study of file structures. It allows students and professionals to acquire the fundamental tools needed to design intelligent, cost-effective, and appropriate solutions to file structure problems. The book begins by presenting the software and hardware characteristic ...more                                                        &  724 & Paperback             & 108.36765\\\\\n\t 4.16 & 16  & The C++ Standard Library: A Tutorial and Reference                                                                                        & The Best-Selling C++ ResourceNow Updated for C++11 The C++ standard library provides a set of common classes and interfaces that greatly extend the core C++ language. The library, however, is not self-explanatory. To make full use of its components-and to benefit from their power-you need a resource that does far more than list the classes and their functions. \"The C++ Sta ...more                                                        & 1136 & Hardcover             & 113.30294\\\\\n\t 4.18 & 130 & Artificial Intelligence: A Modern Approach                                                                                                & For one or two-semester, undergraduate or graduate-level courses in Artificial Intelligence. The long-anticipated revision of this best-selling text offers the most comprehensive, up-to-date introduction to the theory and practice of artificial intelligence. *NEW-Nontechnical learning material-Accompanies each part of the book. *NEW-The Internet as a sample application for ...more                                                        & 1132 & Hardcover             & 115.75000\\\\\n\t 3.45 & 1   & 3D Game Engine Design: A Practical Approach to Real-Time Computer Graphics (The Morgan Kaufmann Series in Interactive 3D Technology)      & A major revision of the international bestseller on game programming!\nGraphics hardware has evolved enormously in the last decade. Hardware can now be directly controlled through techniques such as shader programming, which requires an entirely new thought process of a programmer. 3D Game Engine Design, Second Edition shows step-by-step how to make a shader-based graphi\n\n\n\n...more                                                   & 1040 & Hardcover             & 117.98824\\\\\n\t 3.82 & 0   & Game Programming Gems 6                                                                                                                   & Welcome to the sixth volume of the Game Programming Gems series. With team sizes constantly expanding, developers are finding themselves pushed to become increasingly specialized. This makes it important to have cutting-edge, ready-to-use material in your specialization, as well as resources that you can call upon if you need to work outside your area of expertise. Volume ...more                                                         &  700 & Hardcover             & 119.20294\\\\\n\t 4.08 & 56  & Compilers: Principles, Techniques, and Tools                                                                                              & This introduction to compilers is the direct descendant of the well-known book by Aho and Ullman, Principles of Compiler Design. The authors present updated coverage of compilers based on research and techniques that have been developed in the field over the past few years. The book provides a thorough introduction to compiler design and covers topics such as context-free ...more                                                         &  796 & Hardcover             & 126.57941\\\\\n\t 3.77 & 0   & Game Programming Gems 4                                                                                                                   & Uncover the secrets of the game industry's best programmers with the newest volume of the Game Programming Gems series With over 60 all new techniques, Game Programming Gems 4 continues to be the definitive resource for developers. Written by expert game developers who make today's amazing games, these articles not only provide quick solutions to cutting-edge problems, but ...more                                                        &  703 & Hardcover             & 139.43529\\\\\n\t 3.82 & 0   & Game Programming Gems 3                                                                                                                   & The journey continues with this ALL NEW volume in the Game Programming Gems series! As with the first two volumes, a dynamic group of some of the best game programmers in the industry have generously joined together to share their insights and techniques. Their ready-to-use ideas, tips, and solutions, will help save hours of programming time, prevent redundancy, and leave ...more                                                         &  663 & Hardcover             & 143.13824\\\\\n\t 4.26 & 5   & Numerical Recipes: The Art of Scientific Computing                                                                                        & Co-authored by four leading scientists from academia and industry, Numerical Recipes Third Edition starts with basic mathematics and computer science and proceeds to complete, working routines. Widely recognized as the most comprehensive, accessible and practical basis for scientific computing, this new edition incorporates more than 400 Numerical Recipes routines, many of\n...more                                                       & 1235 & Hardcover             & 176.14412\\\\\n\t 3.76 & 0   & 3D Game Engine Architecture: Engineering Real-Time Applications with Wild Magic (The Morgan Kaufmann Series in Interactive 3d Technology) & Dave Eberly's 3D Game Engine Design was the first professional guide to the essential concepts and algorithms of real-time 3D engines and quickly became a classic of game development. Dave's new book 3D Game Engine Architecture continues the tradition with a comprehensive look at the software engineering and programming of 3D engines.\nThis book is a complete guide to the\n\n\n\n\n...more                                                &  752 & Hardcover             & 203.10882\\\\\n\t 3.94 & 22  & An Introduction to Database Systems                                                                                                       & Continuing in the eighth edition, An Introduction to Database Systems provides a comprehensive introduction to the now very large field of database systems by providing a solid grounding in the foundations of database technology while shedding some light on how the field is likely to develop in the future. This new edition has been rewritten and expanded to stay current wi ...more                                                        & 1040 & Paperback             & 212.09706\\\\\n\t 4.49 & 36  & The Art of Computer Programming, Volumes 1-3 Boxed Set                                                                                    & Knuth's classic work has been widely acclaimed as one of the most influential works in the field of computer science. For the first time, these books are available as a boxed, three-volume set. The handsome slipcase makes this set an ideal gift for the recent computer science graduate or professional programmer. Offering a description of classical computer science, this mu ...more                                                        &  896 & Boxed Set - Hardcover & 220.38529\\\\\n\t 4.77 & 4   & The Art of Computer Programming, Volumes 1-4a Boxed Set                                                                                   & \"The bible of all fundamental algorithms and the work that taught many of today's software developers most of what they know about computer programming.\"\"--Byte,\" September 1995 Countless readers have spoken about the profound personal influence of Knuth's work. Scientists have marveled at the beauty and elegance of his analysis, while ordinary programmers have successfull\n\n\n\n...more                                                 & 3168 & Hardcover             & 220.38529\\\\\n\t 3.84 & 5   & A Discipline for Software Engineering                                                                                                     & Designed to help individual programmers develop software more effectively and successfully, this book presents a scaled-down version of Humphrey's popular methods for managing the software process. It: presents concepts and methods for a disciplined software engineering process for individual programmers, following the Capability Maturity Model (CMM); scales down industria ...more                                                        &  789 & Hardcover             & 235.65000\\\\\n\\end{tabular}\n",
            "text/markdown": "\nA data.frame: 271 × 7\n\n| Rating &lt;dbl&gt; | Reviews &lt;chr&gt; | Book_title &lt;chr&gt; | Description &lt;chr&gt; | Number_Of_Pages &lt;int&gt; | Type &lt;chr&gt; | Price &lt;dbl&gt; |\n|---|---|---|---|---|---|---|\n| 4.17 | 3,829 | The Elements of Style                                                                                             | This style manual offers practical advice on improving writing skills. Throughout, the emphasis is on promoting a plain English style. This little book can help you communicate more effectively by showing you how to enliven your sentences.                                                                                                                                                                                          | 105 | Hardcover      |  9.323529 |\n| 4.01 | 1,406 | The Information: A History, a Theory, a Flood                                                                     | James Gleick, the author of the best sellers Chaos and Genius, now brings us a work just as astonishing and masterly: a revelatory chronicle and meditation that shows how information has become the modern era’s defining quality—the blood, the fuel, the vital principle of our world.\n \nThe story of information begins in a time profoundly unlike our own, when every thought and\n\n\n\n...more                                | 527 | Hardcover      | 11.000000 |\n| 3.33 | 0     | Responsive Web Design Overview For Beginners                                                                      | In Responsive Web Design Overview For Beginners, you'll get an overview of what to expect when building a responsive website.\n\nYou'll learn about all of the following:\nResponsive Web Design Overview\nUsability of Smaller Screens\nWhy Plugins Aren't the Solution\nWhy a Responsive Web Design Theme May Not Be Best for Your Existing Website\nRisks Involved with Responsive Web Design F\n\n\n\n\n\n\n\n\n\n\n\n\n\n...more    |  50 | Kindle Edition | 11.267647 |\n| 3.97 | 1,658 | Ghost in the Wires: My Adventures as the World's Most Wanted Hacker                                               | If they were a hall of fame or shame for computer hackers, a Kevin Mitnick plaque would be mounted the near the entrance. While other nerds were fumbling with password possibilities, this adept break-artist was penetrating the digital secrets of Sun Microsystems, Digital Equipment Corporation, Nokia, Motorola, Pacific Bell, and other mammoth enterprises. His Ghost in the W\n...more                                         | 393 | Hardcover      | 12.873529 |\n| 4.06 | 1,325 | How Google Works                                                                                                  | Both Eric Schmidt and Jonathan Rosenberg came to Google as seasoned Silicon Valley business executives, but over the course of a decade they came to see the wisdom in Coach John Wooden's observation that 'it's what you learn after you know it all that counts'. As they helped grow Google from a young start-up to a global icon, they relearned everything they knew about manag\n\n\n\n...more                                   | 305 | Kindle Edition | 13.164706 |\n| 3.84 | 117   | The Meme Machine                                                                                                  | What is a meme? First coined by Richard Dawkins in 'The Selfish Gene', a meme is any idea, behavior, or skill that can be transferred from one person to another by imitation: stories, fashions, inventions, recipes, songs, ways of plowing a field or throwing a baseball or making a sculpture.\n\nThe meme is also one of the most important--and controversial--concepts to emerge s\n\n\n\n\n\n\n\n\n\n...more                    | 288 | Paperback      | 14.188235 |\n| 4.09 | 5,938 | Start with Why: How Great Leaders Inspire Everyone to Take Action                                                 | Why do you do what you do?\n\nWhy are some people and organizations more innovative, more influential, and more profitable than others? Why do some command greater loyalty from customers and employees alike? Even among the successful, why are so few able to repeat their success over and over?\n\nPeople like Martin Luther King Jr., Steve Jobs, and the Wright Brothers might have lit\n\n\n\n\n\n\n\n\n\n\n\n...more           | 256 | Hardcover      | 14.232353 |\n| 4.15 | 1,817 | Algorithms to Live By: The Computer Science of Human Decisions                                                    | A fascinating exploration of how insights from computer algorithms can be applied to our everyday lives, helping to solve common decision-making problems and illuminate the workings of the human mind\n\nAll our lives are constrained by limited space and time, limits that give rise to a particular set of problems. What should we do, or leave undone, in a day or a lifetime? How\n\n\n\n...more                                | 368 | Hardcover      | 14.364706 |\n| 3.87 | 2,093 | Weapons of Math Destruction: How Big Data Increases Inequality and Threatens Democracy                            | A former Wall Street quant sounds an alarm on mathematical modeling—a pervasive new force in society that threatens to undermine democracy and widen inequality.\n \nWe live in the age of the algorithm. Increasingly, the decisions that affect our lives—where we go to school, whether we get a car loan, how much we pay for health insurance—are being made not by humans, but by m\n\n\n\n...more                                 | 259 | Hardcover      | 14.502941 |\n| 4.62 | 0     | ZX Spectrum Games Code Club: Twenty fun games to code and learn                                                   | This book is ideal for ZX Spectrum fans and beginner coders of any age that want to learn or practice building simple games. Contains 20 games specifically created for this book, from Arcade classics to more wacky game ideas.\n\nNo special equipment needed! Works on...\n\n\nWindows Mac Original ZX Spectrum Recreated ZX Spectrum Internet Browsers: Chrome / FF etc Linux Raspberry Pi\n\n\n\n\n\n\n\n\n\n\n\n\n\n\n\n\n...more | 128 | Paperback      | 14.641176 |\n| 4.03 | 160   | Sync: The Emerging Science of Spontaneous Order                                                                   | At the heart of the universe is a steady, insistent beat, the sound of cycles in sync. Along the tidal rivers of Malaysia, thousands of fireflies congregate and flash in unison; the moon spins in perfect resonance with its orbit around the earth; our hearts depend on the synchronous firing of ten thousand pacemaker cells. While the forces that synchronize the flashing of f ...more                                          | 352 | Hardcover      | 15.229412 |\n| 3.78 | 481   | The Master Algorithm: How the Quest for the Ultimate Learning Machine Will Remake Our World                       | A thought-provoking and wide-ranging exploration of machine learning and the race to build computer intelligences as flexible as our own\nIn the world's top research labs and universities, the race is on to invent the ultimate learning algorithm: one capable of discovering any knowledge from data, and doing anything we want, before we even ask. In The Master Algorithm, Pedro\n\n...more                                     | 352 | Hardcover      | 15.229412 |\n| 3.73 | 33    | Ship It!                                                                                                          | Ship It! is a collection of tips that show the tools and techniques a successful project team has to use, and how to use them well. You'll get quick, easy-to-follow advice on modern practices: which to use, and when they should be applied. This book avoids current fashion trends and marketing hype; instead, readers find page after page of solid advice, all tried and tested\n\n\n\n\n\n\n\n\n...more                         | 200 | Paperback      | 15.326471 |\n| 3.87 | 1,255 | Superintelligence: Paths, Dangers, Strategies                                                                     | Superintelligence asks the questions: what happens when machines surpass humans in general intelligence? Will artificial agents save or destroy us? Nick Bostrom lays the foundation for understanding the future of humanity and intelligent life.\n\nThe human brain has some capabilities that the brains of other animals lack. It is to these distinctive capabilities that our speci\n\n\n\n...more                                | 328 | Hardcover      | 15.682353 |\n| 3.87 | 593   | The Art of the Start: The Time-Tested, Battle-Hardened Guide for Anyone Starting Anything                         | A new product, a new service, a new company, a new division, a new organization, a new anything—where there’s a will, here’s the way. It begins with a dream that just won’t quit, the once-in-a-lifetime thunderbolt of pure inspiration, the obsession, the world-beater, the killer app, the next big thing. Everyone who wants to make the world a better place becomes possessed b\n\n...more                                       | 240 | Hardcover      | 15.885294 |\n| 3.95 | 417   | Kingpin: How One Hacker Took Over the Billion-Dollar Cybercrime Underground                                       | The true story of Max Butler, the master hacker who ran a billion dollar cyber crime network.\n\nThe word spread through the hacking underground like some unstoppable new virus: an audacious crook had staged a hostile takeover of an online criminal network that siphoned billions of dollars from the US economy.\n\nThe culprit was a brilliant programmer with a hippie ethic and a sup\n\n\n\n\n\n...more                       | 288 | Hardcover      | 16.073529 |\n| 3.85 | 80    | The Quark and the Jaguar: Adventures in the Simple and the Complex                                                | From one of the architects of the new science of simplicity and complexity comes an explanation of the connections between nature at its most basic level and natural selection, archaeology, linguistics, child development, computers, and other complex adaptive systems. Nobel laureate Murray Gell-Mann offers a uniquely personal and unifying vision of the relationship between ...more                                          | 392 | Paperback      | 16.367647 |\n| 3.94 | 279   | Linked: How Everything Is Connected to Everything Else and What It Means for Business, Science, and Everyday Life | A cocktail party? A terrorist cell? Ancient bacteria? An international conglomerate?\n\nAll are networks, and all are a part of a surprising scientific revolution. Albert-László Barabási, the nation’s foremost expert in the new science of networks and author of Bursts, takes us on an intellectual adventure to prove that social networks, corporations, and living organisms are m\n\n\n\n...more                               | 304 | Paperback      | 16.852941 |\n| 3.75 | 370   | Our Final Invention: Artificial Intelligence and the End of the Human Era                                         | In as little as a decade, artificial intelligence could match, then surpass human intelligence. Corporations &amp; government agencies around the world are pouring billions into achieving AI’s Holy Grail—human-level intelligence. Once AI has attained it, scientists argue, it will have survival drives much like our own. We may be forced to compete with a rival more cunning, mor ...more                                          | 336 | Hardcover      | 16.891176 |\n| 4.10 | 2,092 | The Innovators: How a Group of Hackers, Geniuses and Geeks Created the Digital Revolution                         | The computer and the internet are among the most important innovations of our era, but few people know who created them. They were not conjured up in a garret or garage by solo inventors suitable to be singled out on magazine covers or put into a pantheon with Edison, Bell, and Morse. Instead, most of the innovations of the digital age were done collaboratively. There were ...more                                          | 542 | Hardcover      | 17.229412 |\n| 4.22 | 27    | Debugging: The 9 Indispensable Rules for Finding Even the Most Elusive Software and Hardware Problems             | When the pressure is on to root out an elusive software or hardware glitch, what’s needed is a cool head courtesy of a set of rules guaranteed to work on any system, in any circumstance. Written in a frank but engaging style, Debuggingprovides simple, foolproof principles guaranteed to help find any bug quickly. This book makes those shelves of application-specific debuggi ...more                                          | 192 | Paperback      | 17.491176 |\n| 3.71 | 676   | Big Data: A Revolution That Will Transform How We Live, Work, and Think                                           | A revelatory exploration of the hottest trend in technology and the dramatic impact it will have on the economy, science, and society at large.\n\nWhich paint color is most likely to tell you that a used car is in good shape? How can officials identify the most dangerous New York City manholes before they explode? And how did Google searches predict the spread of the H1N1 flu\n\n\n\n\n\n\n\n\n\n\n...more                  | 242 | Hardcover      | 17.620588 |\n| 4.21 | 16    | Help Your Kids with Computer Coding                                                                               | Take your kids from browsing to building the web with the latest in DK's award-winning Help Your Kids series: \"Help Your Kids With Computer Coding.\" Computer programming is one of the fastest-growing industries and highest paid college degrees, and learning to code promotes a way of thinking helpful for every budding brain. Yet 9 out of 10 schools don't even offer computer ...more                                          | 224 | Paperback      | 18.938235 |\n| 4.28 | 1,268 | The Code Book: The Science of Secrecy from Ancient Egypt to Quantum Cryptography                                  | In his first book since the bestselling Fermat’s Enigma, Simon Singh offers the first sweeping history of encryption, tracing its evolution and revealing the dramatic effects codes have had on wars, nations, and individual lives. From Mary, Queen of Scots, trapped by her own code, to the Navajo Code Talkers who helped the Allies win World War II, to the incredible (and inc\n\n...more                                       | 412 | Paperback      | 19.132353 |\n| 3.20 | 0     | Game Programming Golden Rules                                                                                     | 'Game Programming Golden Rules' provides indispensable techniques that should be part of every game programmer's arsenal. Written as a series of easy-to-remember rules, the book provides a building block approach in which each new rule builds upon the previous one.                                                                                                                                                                | 318 | Paperback      | 19.152941 |\n| 3.67 | 19    | The Architecture of Open Source Applications                                                                      | Architects look at thousands of buildings during their training, and study critiques of those buildings written by masters. In contrast, most software developers only ever get to know a handful of large programs well—usually programs they wrote themselves—and never study the great programs of history. As a result, they repeat one another's mistakes rather than building on\n\n\n\n...more                                    | 432 | Paperback      | 19.247059 |\n| 3.97 | 491   | How to Create a Mind: The Secret of Human Thought Revealed                                                        | The bold futurist and bestselling author explores the limitless potential of reverse-engineering the human brain\n\nRay Kurzweil is arguably today’s most influential—and often controversial—futurist. In How to Create a Mind, Kurzweil presents a provocative exploration of the most important project in human-machine civilization—reverse engineering the brain to understand precis\n\n\n\n\n\n...more                           | 336 | Hardcover      | 19.855882 |\n| 3.98 | 48    | The Hidden Connections: A Science for Sustainable Living                                                          | Fritjof Capra, bestselling author of The Tao of Physics and The Web of Life, here explores another frontier in the human significance of scientific ideas—applying complexity theory to large-scale social interaction.\n\nIn the 1980s, complexity theory emerged as a powerful alternative to classic, linear thought. A forerunner of that revolution, Fritjof Capra now continues to e\n\n...more                                    | 320 | Paperback      | 20.052941 |\n| 3.96 | 1     | Computability and Unsolvability                                                                                   | Classic text considers general theory of computability, computable functions, operations on computable functions, Turing machines self-applied, unsolvable decision problems, applications of general theory, mathematical logic, Kleene hierarchy, computable functionals, classification of unsolvable decision problems and more.                                                                                                     | 288 | Paperback      | 20.400000 |\n| 4.37 | 1     | Adventures in Minecraft                                                                                           | Here's your ticket to a world of adventures with Minecraft and programming.\n\nLearn how to extend Minecraft and create a new gaming experience, by exploring the magical world of Minecraft programming. Adventures in Minecraft, like other books in the highly successful Adventures series, is written especially for 11- to 15-year-olds. With this book you will learn new programmin\n\n\n\n\n\n\n\n\n\n\n...more                 | 320 | Paperback      | 21.038235 |\n| ⋮ | ⋮ | ⋮ | ⋮ | ⋮ | ⋮ | ⋮ |\n| 4.06 | 3   | Geometric Algebra for Computer Science: An Object-Oriented Approach to Geometry                                                           | Until recently, almost all of the interactions between objects in virtual 3D worlds have been based on calculations performed using linear algebra. Linear algebra relies heavily on coordinates, however, which can make many geometric programming tasks very specific and complex-often a lot of effort is required to bring about even modest performance enhancements. Although li\n\n...more                                                     |  626 | Hardcover             |  92.35882 |\n| 3.97 | 4   | Essentials of Programming Languages                                                                                                       | This book provides students with a deep, working understanding of the essential concepts of programming languages. Most of these essentials relate to the semantics, or meaning, of program elements, and the text uses interpreters (short programs that directly analyze an abstract representation of the program text) to express the semantics of many essential language elements\n\n...more                                                     |  410 | Hardcover             |  92.41176 |\n| 4.37 | 44  | The Art of Computer Programming, Volume 1: Fundamental Algorithms                                                                         | The bible of all fundamental algorithms and the work that taught many of today's software developers most of what they know about computer programming. -Byte, September 1995 I can't begin to tell you how many pleasurable hours of study and recreation they have afforded me! I have pored over them in cars, restaurants, at work, at home... and even at a Little League game wh\n...more                                                        |  672 | Hardcover             |  93.45588 |\n| 4.10 | 7   | Essential Mathematics for Games and Interactive Applications                                                                              | Expert Guidance on the Math Needed for 3D Game Programming\nDeveloped from the authors popular Game Developers Conference (GDC) tutorial, Essential Mathematics for Games and Interactive Applications, Third Edition illustrates the importance of mathematics in 3D programming. It shows you how to properly animate, simulate, and render scenes and discusses the mathematics behind\n\n\n\n\n\n\n\n\n\n\n\n\n\n\n...more                         |  624 | Hardcover             |  94.78529 |\n| 4.35 | 21  | Game Engine Architecture                                                                                                                  | Hailed as a \"must-have textbook\" (CHOICE, January 2010), the first edition of Game Engine Architecture provided readers with a complete guide to the theory and practice of game engine software development. Updating the content to match today s landscape of game engine architecture, this second edition continues to thoroughly cover the major components that make up a typica\n\n\n\n\n\n\n\n\n\n...more                                     | 1052 | Hardcover             |  96.03235 |\n| 4.37 | 0   | A First Course in Logic: An Introduction to Model Theory, Proof Theory, Computability, and Complexity                                     | The ability to reason and think in a logical manner forms the basis of learning for most mathematics, computer science, philosophy and logic students. Based on the author's teaching notes at the University of Maryland and aimed at a broad audience, this text covers the fundamental topics in classical logic in an extremely clear, thorough and accurate style that is accessib\n...more                                                       |  431 | Paperback             |  96.49412 |\n| 3.90 | 2   | Computational Science and Engineering                                                                                                     | Encompasses the full range of computational science and engineering from modelling to solution, both analytical and numerical. It develops a framework for the equations and numerical methods of applied mathematics. Gilbert Strang has taught this material to thousands of engineers and scientists (and many more on MIT's OpenCourseWare 18.085-6). His experience is seen in his ...more                                                        |  716 | Hardcover             |  97.52647 |\n| 4.02 | 25  | Introduction to Automata Theory, Languages, and Computation                                                                               | It has been more than 20 years since this classic book on formal languages, automata theory, and computational complexity was first published. With this long-awaited revision, the authors continue to present the theory in a concise and straightforward manner, now with an eye out for the practical applications. They have revised this book to make it more accessible to today ...more                                                        |  521 | Hardcover             |  97.68824 |\n| 4.03 | 1   | Geometric Tools for Computer Graphics                                                                                                     | Do you spend too much time creating the building blocks of your graphics applications or finding and correcting errors? Geometric Tools for Computer Graphics is an extensive, conveniently organized collection of proven solutions to fundamental problems that you'd rather not solve over and over again, including building primitives, distance calculation, approximation, conta\n\n\n\n\n\n\n\n\n\n\n\n\n\n\n\n\n\n\n\n\n\n\n\n\n\n\n\n...more | 1056 | Hardcover             |  99.82941 |\n| 4.10 | 31  | Computer Architecture: A Quantitative Approach                                                                                            | Computer Architecture: A Quantitative Approach, Fifth Edition, explores the ways that software and technology in the cloud are accessed by digital media, such as cell phones, computers, tablets, and other mobile devices. The book, which became a part of Intel's 2012 recommended reading list for developers, covers the revolution of mobile computing. It also highlights the\n\n\n\n...more                                                   |  493 | Paperback             | 101.05588 |\n| 4.42 | 38  | Computer Systems: A Programmer's Perspective                                                                                              | For Computer Organization and Architecture and Computer Systems courses in CS and EE and ECE departments. Developed out of an introductory course at Carnegie Mellon University, this text explains the important and enduring concepts underlying all computer systems, and shows the concrete ways that these ideas affect the correctness, performance, and utility of application p ...more                                                        |  978 | Hardcover             | 103.17353 |\n| 4.11 | 56  | Modern Operating Systems                                                                                                                  | For software development professionals and computer science students, Modern Operating Systems gives a solid conceptual overview of operating system design, including detailed case studies of Unix/Linux and Windows 2000.\nWhat makes an operating system modern? According to author Andrew Tanenbaum, it is the awareness of high-demand computer applications--primarily in the ar\n...more                                                      |  976 | Hardcover             | 103.46176 |\n| 4.11 | 56  | Modern Operating Systems, 4th Edition                                                                                                     | \"Modern Operating Systems, Fourth Edition, \"\" is intended for introductory courses in Operating Systems in Computer Science, Computer Engineering, and Electrical Engineering programs. It also serves as a useful reference for OS professionals\" The widely anticipated revision of this worldwide best-seller incorporates the latest developments in operating systems (OS) technol ...more                                                        | 1136 | Paperback             | 103.46176 |\n| 3.96 | 15  | Structured Computer Organization                                                                                                          | Completely updated, this book explains how computer designers can follow the structured model to develop efficient hardware and software systems\n\nNew information has been included on UNIX, OS/2, INTEL 8088/80286/80386, Motorola 68000/68020/68030 and RISC machine. The operation of a typical IBM PC clone is now described in detail at the chip level.                                                                                        |  669 | Hardcover             | 103.60882 |\n| 3.67 | 2   | Game Engine Gems 1                                                                                                                        | Game Engine Gems Brings Together In A Single Volume Dozens Of New Articles From Leading Professionals In The Game Development Industry. Each \"Gem\" Presents A Previously Unpublished Technique Related To Game Engines And Real-Time Virtual Simulations. Specific Topics Include Rendering Techniques, Shaders, Scene Organization, Visibility Determination, Collision Detection, Aud ...more                                                        |  362 | Hardcover             | 105.65000 |\n| 4.13 | 14  | Concepts, Techniques, and Models of Computer Programming                                                                                  | This innovative text presents computer programming as a unified discipline in a way that is both practical and scientifically sound. The book focuses on techniques of lasting value and explains them precisely in terms of a simple abstract machine. The book presents all major programming paradigms in a uniform framework that shows their deep relationships and how and where\n\n...more                                                      |  936 | Hardcover             | 107.74706 |\n| 3.87 | 13  | File Structures: An Object-Oriented Approach with C++                                                                                     | Based on the bestselling File Structures, Second Edition, this book takes an object-oriented approach to the study of file structures. It allows students and professionals to acquire the fundamental tools needed to design intelligent, cost-effective, and appropriate solutions to file structure problems. The book begins by presenting the software and hardware characteristic ...more                                                        |  724 | Paperback             | 108.36765 |\n| 4.16 | 16  | The C++ Standard Library: A Tutorial and Reference                                                                                        | The Best-Selling C++ ResourceNow Updated for C++11 The C++ standard library provides a set of common classes and interfaces that greatly extend the core C++ language. The library, however, is not self-explanatory. To make full use of its components-and to benefit from their power-you need a resource that does far more than list the classes and their functions. \"The C++ Sta ...more                                                        | 1136 | Hardcover             | 113.30294 |\n| 4.18 | 130 | Artificial Intelligence: A Modern Approach                                                                                                | For one or two-semester, undergraduate or graduate-level courses in Artificial Intelligence. The long-anticipated revision of this best-selling text offers the most comprehensive, up-to-date introduction to the theory and practice of artificial intelligence. *NEW-Nontechnical learning material-Accompanies each part of the book. *NEW-The Internet as a sample application for ...more                                                        | 1132 | Hardcover             | 115.75000 |\n| 3.45 | 1   | 3D Game Engine Design: A Practical Approach to Real-Time Computer Graphics (The Morgan Kaufmann Series in Interactive 3D Technology)      | A major revision of the international bestseller on game programming!\nGraphics hardware has evolved enormously in the last decade. Hardware can now be directly controlled through techniques such as shader programming, which requires an entirely new thought process of a programmer. 3D Game Engine Design, Second Edition shows step-by-step how to make a shader-based graphi\n\n\n\n...more                                                   | 1040 | Hardcover             | 117.98824 |\n| 3.82 | 0   | Game Programming Gems 6                                                                                                                   | Welcome to the sixth volume of the Game Programming Gems series. With team sizes constantly expanding, developers are finding themselves pushed to become increasingly specialized. This makes it important to have cutting-edge, ready-to-use material in your specialization, as well as resources that you can call upon if you need to work outside your area of expertise. Volume ...more                                                         |  700 | Hardcover             | 119.20294 |\n| 4.08 | 56  | Compilers: Principles, Techniques, and Tools                                                                                              | This introduction to compilers is the direct descendant of the well-known book by Aho and Ullman, Principles of Compiler Design. The authors present updated coverage of compilers based on research and techniques that have been developed in the field over the past few years. The book provides a thorough introduction to compiler design and covers topics such as context-free ...more                                                         |  796 | Hardcover             | 126.57941 |\n| 3.77 | 0   | Game Programming Gems 4                                                                                                                   | Uncover the secrets of the game industry's best programmers with the newest volume of the Game Programming Gems series With over 60 all new techniques, Game Programming Gems 4 continues to be the definitive resource for developers. Written by expert game developers who make today's amazing games, these articles not only provide quick solutions to cutting-edge problems, but ...more                                                        |  703 | Hardcover             | 139.43529 |\n| 3.82 | 0   | Game Programming Gems 3                                                                                                                   | The journey continues with this ALL NEW volume in the Game Programming Gems series! As with the first two volumes, a dynamic group of some of the best game programmers in the industry have generously joined together to share their insights and techniques. Their ready-to-use ideas, tips, and solutions, will help save hours of programming time, prevent redundancy, and leave ...more                                                         |  663 | Hardcover             | 143.13824 |\n| 4.26 | 5   | Numerical Recipes: The Art of Scientific Computing                                                                                        | Co-authored by four leading scientists from academia and industry, Numerical Recipes Third Edition starts with basic mathematics and computer science and proceeds to complete, working routines. Widely recognized as the most comprehensive, accessible and practical basis for scientific computing, this new edition incorporates more than 400 Numerical Recipes routines, many of\n...more                                                       | 1235 | Hardcover             | 176.14412 |\n| 3.76 | 0   | 3D Game Engine Architecture: Engineering Real-Time Applications with Wild Magic (The Morgan Kaufmann Series in Interactive 3d Technology) | Dave Eberly's 3D Game Engine Design was the first professional guide to the essential concepts and algorithms of real-time 3D engines and quickly became a classic of game development. Dave's new book 3D Game Engine Architecture continues the tradition with a comprehensive look at the software engineering and programming of 3D engines.\nThis book is a complete guide to the\n\n\n\n\n...more                                                |  752 | Hardcover             | 203.10882 |\n| 3.94 | 22  | An Introduction to Database Systems                                                                                                       | Continuing in the eighth edition, An Introduction to Database Systems provides a comprehensive introduction to the now very large field of database systems by providing a solid grounding in the foundations of database technology while shedding some light on how the field is likely to develop in the future. This new edition has been rewritten and expanded to stay current wi ...more                                                        | 1040 | Paperback             | 212.09706 |\n| 4.49 | 36  | The Art of Computer Programming, Volumes 1-3 Boxed Set                                                                                    | Knuth's classic work has been widely acclaimed as one of the most influential works in the field of computer science. For the first time, these books are available as a boxed, three-volume set. The handsome slipcase makes this set an ideal gift for the recent computer science graduate or professional programmer. Offering a description of classical computer science, this mu ...more                                                        |  896 | Boxed Set - Hardcover | 220.38529 |\n| 4.77 | 4   | The Art of Computer Programming, Volumes 1-4a Boxed Set                                                                                   | \"The bible of all fundamental algorithms and the work that taught many of today's software developers most of what they know about computer programming.\"\"--Byte,\" September 1995 Countless readers have spoken about the profound personal influence of Knuth's work. Scientists have marveled at the beauty and elegance of his analysis, while ordinary programmers have successfull\n\n\n\n...more                                                 | 3168 | Hardcover             | 220.38529 |\n| 3.84 | 5   | A Discipline for Software Engineering                                                                                                     | Designed to help individual programmers develop software more effectively and successfully, this book presents a scaled-down version of Humphrey's popular methods for managing the software process. It: presents concepts and methods for a disciplined software engineering process for individual programmers, following the Capability Maturity Model (CMM); scales down industria ...more                                                        |  789 | Hardcover             | 235.65000 |\n\n",
            "text/html": [
              "<table class=\"dataframe\">\n",
              "<caption>A data.frame: 271 × 7</caption>\n",
              "<thead>\n",
              "\t<tr><th scope=col>Rating</th><th scope=col>Reviews</th><th scope=col>Book_title</th><th scope=col>Description</th><th scope=col>Number_Of_Pages</th><th scope=col>Type</th><th scope=col>Price</th></tr>\n",
              "\t<tr><th scope=col>&lt;dbl&gt;</th><th scope=col>&lt;chr&gt;</th><th scope=col>&lt;chr&gt;</th><th scope=col>&lt;chr&gt;</th><th scope=col>&lt;int&gt;</th><th scope=col>&lt;chr&gt;</th><th scope=col>&lt;dbl&gt;</th></tr>\n",
              "</thead>\n",
              "<tbody>\n",
              "\t<tr><td>4.17</td><td>3,829</td><td>The Elements of Style                                                                                            </td><td>This style manual offers practical advice on improving writing skills. Throughout, the emphasis is on promoting a plain English style. This little book can help you communicate more effectively by showing you how to enliven your sentences.                                                                                                                                                                                         </td><td>105</td><td>Hardcover     </td><td> 9.323529</td></tr>\n",
              "\t<tr><td>4.01</td><td>1,406</td><td>The Information: A History, a Theory, a Flood                                                                    </td><td>James Gleick, the author of the best sellers Chaos and Genius, now brings us a work just as astonishing and masterly: a revelatory chronicle and meditation that shows how information has become the modern era’s defining quality—the blood, the fuel, the vital principle of our world.\n",
              " \n",
              "The story of information begins in a time profoundly unlike our own, when every thought and\n",
              "\n",
              "\n",
              "\n",
              "...more                               </td><td>527</td><td>Hardcover     </td><td>11.000000</td></tr>\n",
              "\t<tr><td>3.33</td><td>0    </td><td>Responsive Web Design Overview For Beginners                                                                     </td><td>In Responsive Web Design Overview For Beginners, you'll get an overview of what to expect when building a responsive website.\n",
              "\n",
              "You'll learn about all of the following:\n",
              "Responsive Web Design Overview\n",
              "Usability of Smaller Screens\n",
              "Why Plugins Aren't the Solution\n",
              "Why a Responsive Web Design Theme May Not Be Best for Your Existing Website\n",
              "Risks Involved with Responsive Web Design F\n",
              "\n",
              "\n",
              "\n",
              "\n",
              "\n",
              "\n",
              "\n",
              "\n",
              "\n",
              "\n",
              "\n",
              "\n",
              "\n",
              "...more   </td><td> 50</td><td>Kindle Edition</td><td>11.267647</td></tr>\n",
              "\t<tr><td>3.97</td><td>1,658</td><td>Ghost in the Wires: My Adventures as the World's Most Wanted Hacker                                              </td><td>If they were a hall of fame or shame for computer hackers, a Kevin Mitnick plaque would be mounted the near the entrance. While other nerds were fumbling with password possibilities, this adept break-artist was penetrating the digital secrets of Sun Microsystems, Digital Equipment Corporation, Nokia, Motorola, Pacific Bell, and other mammoth enterprises. His Ghost in the W\n",
              "...more                                        </td><td>393</td><td>Hardcover     </td><td>12.873529</td></tr>\n",
              "\t<tr><td>4.06</td><td>1,325</td><td>How Google Works                                                                                                 </td><td>Both Eric Schmidt and Jonathan Rosenberg came to Google as seasoned Silicon Valley business executives, but over the course of a decade they came to see the wisdom in Coach John Wooden's observation that 'it's what you learn after you know it all that counts'. As they helped grow Google from a young start-up to a global icon, they relearned everything they knew about manag\n",
              "\n",
              "\n",
              "\n",
              "...more                                  </td><td>305</td><td>Kindle Edition</td><td>13.164706</td></tr>\n",
              "\t<tr><td>3.84</td><td>117  </td><td>The Meme Machine                                                                                                 </td><td>What is a meme? First coined by Richard Dawkins in 'The Selfish Gene', a meme is any idea, behavior, or skill that can be transferred from one person to another by imitation: stories, fashions, inventions, recipes, songs, ways of plowing a field or throwing a baseball or making a sculpture.\n",
              "\n",
              "The meme is also one of the most important--and controversial--concepts to emerge s\n",
              "\n",
              "\n",
              "\n",
              "\n",
              "\n",
              "\n",
              "\n",
              "\n",
              "\n",
              "...more                   </td><td>288</td><td>Paperback     </td><td>14.188235</td></tr>\n",
              "\t<tr><td>4.09</td><td>5,938</td><td>Start with Why: How Great Leaders Inspire Everyone to Take Action                                                </td><td>Why do you do what you do?\n",
              "\n",
              "Why are some people and organizations more innovative, more influential, and more profitable than others? Why do some command greater loyalty from customers and employees alike? Even among the successful, why are so few able to repeat their success over and over?\n",
              "\n",
              "People like Martin Luther King Jr., Steve Jobs, and the Wright Brothers might have lit\n",
              "\n",
              "\n",
              "\n",
              "\n",
              "\n",
              "\n",
              "\n",
              "\n",
              "\n",
              "\n",
              "\n",
              "...more          </td><td>256</td><td>Hardcover     </td><td>14.232353</td></tr>\n",
              "\t<tr><td>4.15</td><td>1,817</td><td>Algorithms to Live By: The Computer Science of Human Decisions                                                   </td><td>A fascinating exploration of how insights from computer algorithms can be applied to our everyday lives, helping to solve common decision-making problems and illuminate the workings of the human mind\n",
              "\n",
              "All our lives are constrained by limited space and time, limits that give rise to a particular set of problems. What should we do, or leave undone, in a day or a lifetime? How\n",
              "\n",
              "\n",
              "\n",
              "...more                               </td><td>368</td><td>Hardcover     </td><td>14.364706</td></tr>\n",
              "\t<tr><td>3.87</td><td>2,093</td><td>Weapons of Math Destruction: How Big Data Increases Inequality and Threatens Democracy                           </td><td>A former Wall Street quant sounds an alarm on mathematical modeling—a pervasive new force in society that threatens to undermine democracy and widen inequality.\n",
              " \n",
              "We live in the age of the algorithm. Increasingly, the decisions that affect our lives—where we go to school, whether we get a car loan, how much we pay for health insurance—are being made not by humans, but by m\n",
              "\n",
              "\n",
              "\n",
              "...more                                </td><td>259</td><td>Hardcover     </td><td>14.502941</td></tr>\n",
              "\t<tr><td>4.62</td><td>0    </td><td>ZX Spectrum Games Code Club: Twenty fun games to code and learn                                                  </td><td>This book is ideal for ZX Spectrum fans and beginner coders of any age that want to learn or practice building simple games. Contains 20 games specifically created for this book, from Arcade classics to more wacky game ideas.\n",
              "\n",
              "No special equipment needed! Works on...\n",
              "\n",
              "\n",
              "Windows Mac Original ZX Spectrum Recreated ZX Spectrum Internet Browsers: Chrome / FF etc Linux Raspberry Pi\n",
              "\n",
              "\n",
              "\n",
              "\n",
              "\n",
              "\n",
              "\n",
              "\n",
              "\n",
              "\n",
              "\n",
              "\n",
              "\n",
              "\n",
              "\n",
              "\n",
              "...more</td><td>128</td><td>Paperback     </td><td>14.641176</td></tr>\n",
              "\t<tr><td>4.03</td><td>160  </td><td>Sync: The Emerging Science of Spontaneous Order                                                                  </td><td>At the heart of the universe is a steady, insistent beat, the sound of cycles in sync. Along the tidal rivers of Malaysia, thousands of fireflies congregate and flash in unison; the moon spins in perfect resonance with its orbit around the earth; our hearts depend on the synchronous firing of ten thousand pacemaker cells. While the forces that synchronize the flashing of f ...more                                         </td><td>352</td><td>Hardcover     </td><td>15.229412</td></tr>\n",
              "\t<tr><td>3.78</td><td>481  </td><td>The Master Algorithm: How the Quest for the Ultimate Learning Machine Will Remake Our World                      </td><td>A thought-provoking and wide-ranging exploration of machine learning and the race to build computer intelligences as flexible as our own\n",
              "In the world's top research labs and universities, the race is on to invent the ultimate learning algorithm: one capable of discovering any knowledge from data, and doing anything we want, before we even ask. In The Master Algorithm, Pedro\n",
              "\n",
              "...more                                    </td><td>352</td><td>Hardcover     </td><td>15.229412</td></tr>\n",
              "\t<tr><td>3.73</td><td>33   </td><td>Ship It!                                                                                                         </td><td>Ship It! is a collection of tips that show the tools and techniques a successful project team has to use, and how to use them well. You'll get quick, easy-to-follow advice on modern practices: which to use, and when they should be applied. This book avoids current fashion trends and marketing hype; instead, readers find page after page of solid advice, all tried and tested\n",
              "\n",
              "\n",
              "\n",
              "\n",
              "\n",
              "\n",
              "\n",
              "\n",
              "...more                        </td><td>200</td><td>Paperback     </td><td>15.326471</td></tr>\n",
              "\t<tr><td>3.87</td><td>1,255</td><td>Superintelligence: Paths, Dangers, Strategies                                                                    </td><td>Superintelligence asks the questions: what happens when machines surpass humans in general intelligence? Will artificial agents save or destroy us? Nick Bostrom lays the foundation for understanding the future of humanity and intelligent life.\n",
              "\n",
              "The human brain has some capabilities that the brains of other animals lack. It is to these distinctive capabilities that our speci\n",
              "\n",
              "\n",
              "\n",
              "...more                               </td><td>328</td><td>Hardcover     </td><td>15.682353</td></tr>\n",
              "\t<tr><td>3.87</td><td>593  </td><td>The Art of the Start: The Time-Tested, Battle-Hardened Guide for Anyone Starting Anything                        </td><td>A new product, a new service, a new company, a new division, a new organization, a new anything—where there’s a will, here’s the way. It begins with a dream that just won’t quit, the once-in-a-lifetime thunderbolt of pure inspiration, the obsession, the world-beater, the killer app, the next big thing. Everyone who wants to make the world a better place becomes possessed b\n",
              "\n",
              "...more                                      </td><td>240</td><td>Hardcover     </td><td>15.885294</td></tr>\n",
              "\t<tr><td>3.95</td><td>417  </td><td>Kingpin: How One Hacker Took Over the Billion-Dollar Cybercrime Underground                                      </td><td>The true story of Max Butler, the master hacker who ran a billion dollar cyber crime network.\n",
              "\n",
              "The word spread through the hacking underground like some unstoppable new virus: an audacious crook had staged a hostile takeover of an online criminal network that siphoned billions of dollars from the US economy.\n",
              "\n",
              "The culprit was a brilliant programmer with a hippie ethic and a sup\n",
              "\n",
              "\n",
              "\n",
              "\n",
              "\n",
              "...more                      </td><td>288</td><td>Hardcover     </td><td>16.073529</td></tr>\n",
              "\t<tr><td>3.85</td><td>80   </td><td>The Quark and the Jaguar: Adventures in the Simple and the Complex                                               </td><td>From one of the architects of the new science of simplicity and complexity comes an explanation of the connections between nature at its most basic level and natural selection, archaeology, linguistics, child development, computers, and other complex adaptive systems. Nobel laureate Murray Gell-Mann offers a uniquely personal and unifying vision of the relationship between ...more                                         </td><td>392</td><td>Paperback     </td><td>16.367647</td></tr>\n",
              "\t<tr><td>3.94</td><td>279  </td><td>Linked: How Everything Is Connected to Everything Else and What It Means for Business, Science, and Everyday Life</td><td>A cocktail party? A terrorist cell? Ancient bacteria? An international conglomerate?\n",
              "\n",
              "All are networks, and all are a part of a surprising scientific revolution. Albert-László Barabási, the nation’s foremost expert in the new science of networks and author of Bursts, takes us on an intellectual adventure to prove that social networks, corporations, and living organisms are m\n",
              "\n",
              "\n",
              "\n",
              "...more                              </td><td>304</td><td>Paperback     </td><td>16.852941</td></tr>\n",
              "\t<tr><td>3.75</td><td><span style=white-space:pre-wrap>370  </span></td><td><span style=white-space:pre-wrap>Our Final Invention: Artificial Intelligence and the End of the Human Era                                        </span></td><td><span style=white-space:pre-wrap>In as little as a decade, artificial intelligence could match, then surpass human intelligence. Corporations &amp; government agencies around the world are pouring billions into achieving AI’s Holy Grail—human-level intelligence. Once AI has attained it, scientists argue, it will have survival drives much like our own. We may be forced to compete with a rival more cunning, mor ...more                                         </span></td><td>336</td><td><span style=white-space:pre-wrap>Hardcover     </span></td><td>16.891176</td></tr>\n",
              "\t<tr><td>4.10</td><td>2,092</td><td>The Innovators: How a Group of Hackers, Geniuses and Geeks Created the Digital Revolution                        </td><td>The computer and the internet are among the most important innovations of our era, but few people know who created them. They were not conjured up in a garret or garage by solo inventors suitable to be singled out on magazine covers or put into a pantheon with Edison, Bell, and Morse. Instead, most of the innovations of the digital age were done collaboratively. There were ...more                                         </td><td>542</td><td>Hardcover     </td><td>17.229412</td></tr>\n",
              "\t<tr><td>4.22</td><td>27   </td><td>Debugging: The 9 Indispensable Rules for Finding Even the Most Elusive Software and Hardware Problems            </td><td>When the pressure is on to root out an elusive software or hardware glitch, what’s needed is a cool head courtesy of a set of rules guaranteed to work on any system, in any circumstance. Written in a frank but engaging style, Debuggingprovides simple, foolproof principles guaranteed to help find any bug quickly. This book makes those shelves of application-specific debuggi ...more                                         </td><td>192</td><td>Paperback     </td><td>17.491176</td></tr>\n",
              "\t<tr><td>3.71</td><td>676  </td><td>Big Data: A Revolution That Will Transform How We Live, Work, and Think                                          </td><td>A revelatory exploration of the hottest trend in technology and the dramatic impact it will have on the economy, science, and society at large.\n",
              "\n",
              "Which paint color is most likely to tell you that a used car is in good shape? How can officials identify the most dangerous New York City manholes before they explode? And how did Google searches predict the spread of the H1N1 flu\n",
              "\n",
              "\n",
              "\n",
              "\n",
              "\n",
              "\n",
              "\n",
              "\n",
              "\n",
              "\n",
              "...more                 </td><td>242</td><td>Hardcover     </td><td>17.620588</td></tr>\n",
              "\t<tr><td>4.21</td><td>16   </td><td>Help Your Kids with Computer Coding                                                                              </td><td>Take your kids from browsing to building the web with the latest in DK's award-winning Help Your Kids series: \"Help Your Kids With Computer Coding.\" Computer programming is one of the fastest-growing industries and highest paid college degrees, and learning to code promotes a way of thinking helpful for every budding brain. Yet 9 out of 10 schools don't even offer computer ...more                                         </td><td>224</td><td>Paperback     </td><td>18.938235</td></tr>\n",
              "\t<tr><td>4.28</td><td>1,268</td><td>The Code Book: The Science of Secrecy from Ancient Egypt to Quantum Cryptography                                 </td><td>In his first book since the bestselling Fermat’s Enigma, Simon Singh offers the first sweeping history of encryption, tracing its evolution and revealing the dramatic effects codes have had on wars, nations, and individual lives. From Mary, Queen of Scots, trapped by her own code, to the Navajo Code Talkers who helped the Allies win World War II, to the incredible (and inc\n",
              "\n",
              "...more                                      </td><td>412</td><td>Paperback     </td><td>19.132353</td></tr>\n",
              "\t<tr><td>3.20</td><td>0    </td><td>Game Programming Golden Rules                                                                                    </td><td>'Game Programming Golden Rules' provides indispensable techniques that should be part of every game programmer's arsenal. Written as a series of easy-to-remember rules, the book provides a building block approach in which each new rule builds upon the previous one.                                                                                                                                                               </td><td>318</td><td>Paperback     </td><td>19.152941</td></tr>\n",
              "\t<tr><td>3.67</td><td>19   </td><td>The Architecture of Open Source Applications                                                                     </td><td>Architects look at thousands of buildings during their training, and study critiques of those buildings written by masters. In contrast, most software developers only ever get to know a handful of large programs well—usually programs they wrote themselves—and never study the great programs of history. As a result, they repeat one another's mistakes rather than building on\n",
              "\n",
              "\n",
              "\n",
              "...more                                   </td><td>432</td><td>Paperback     </td><td>19.247059</td></tr>\n",
              "\t<tr><td>3.97</td><td>491  </td><td>How to Create a Mind: The Secret of Human Thought Revealed                                                       </td><td>The bold futurist and bestselling author explores the limitless potential of reverse-engineering the human brain\n",
              "\n",
              "Ray Kurzweil is arguably today’s most influential—and often controversial—futurist. In How to Create a Mind, Kurzweil presents a provocative exploration of the most important project in human-machine civilization—reverse engineering the brain to understand precis\n",
              "\n",
              "\n",
              "\n",
              "\n",
              "\n",
              "...more                          </td><td>336</td><td>Hardcover     </td><td>19.855882</td></tr>\n",
              "\t<tr><td>3.98</td><td>48   </td><td>The Hidden Connections: A Science for Sustainable Living                                                         </td><td>Fritjof Capra, bestselling author of The Tao of Physics and The Web of Life, here explores another frontier in the human significance of scientific ideas—applying complexity theory to large-scale social interaction.\n",
              "\n",
              "In the 1980s, complexity theory emerged as a powerful alternative to classic, linear thought. A forerunner of that revolution, Fritjof Capra now continues to e\n",
              "\n",
              "...more                                   </td><td>320</td><td>Paperback     </td><td>20.052941</td></tr>\n",
              "\t<tr><td>3.96</td><td>1    </td><td>Computability and Unsolvability                                                                                  </td><td>Classic text considers general theory of computability, computable functions, operations on computable functions, Turing machines self-applied, unsolvable decision problems, applications of general theory, mathematical logic, Kleene hierarchy, computable functionals, classification of unsolvable decision problems and more.                                                                                                    </td><td>288</td><td>Paperback     </td><td>20.400000</td></tr>\n",
              "\t<tr><td>4.37</td><td>1    </td><td>Adventures in Minecraft                                                                                          </td><td>Here's your ticket to a world of adventures with Minecraft and programming.\n",
              "\n",
              "Learn how to extend Minecraft and create a new gaming experience, by exploring the magical world of Minecraft programming. Adventures in Minecraft, like other books in the highly successful Adventures series, is written especially for 11- to 15-year-olds. With this book you will learn new programmin\n",
              "\n",
              "\n",
              "\n",
              "\n",
              "\n",
              "\n",
              "\n",
              "\n",
              "\n",
              "\n",
              "...more                </td><td>320</td><td>Paperback     </td><td>21.038235</td></tr>\n",
              "\t<tr><td>⋮</td><td>⋮</td><td>⋮</td><td>⋮</td><td>⋮</td><td>⋮</td><td>⋮</td></tr>\n",
              "\t<tr><td>4.06</td><td>3  </td><td>Geometric Algebra for Computer Science: An Object-Oriented Approach to Geometry                                                          </td><td>Until recently, almost all of the interactions between objects in virtual 3D worlds have been based on calculations performed using linear algebra. Linear algebra relies heavily on coordinates, however, which can make many geometric programming tasks very specific and complex-often a lot of effort is required to bring about even modest performance enhancements. Although li\n",
              "\n",
              "...more                                                    </td><td> 626</td><td>Hardcover            </td><td> 92.35882</td></tr>\n",
              "\t<tr><td>3.97</td><td>4  </td><td>Essentials of Programming Languages                                                                                                      </td><td>This book provides students with a deep, working understanding of the essential concepts of programming languages. Most of these essentials relate to the semantics, or meaning, of program elements, and the text uses interpreters (short programs that directly analyze an abstract representation of the program text) to express the semantics of many essential language elements\n",
              "\n",
              "...more                                                    </td><td> 410</td><td>Hardcover            </td><td> 92.41176</td></tr>\n",
              "\t<tr><td>4.37</td><td>44 </td><td>The Art of Computer Programming, Volume 1: Fundamental Algorithms                                                                        </td><td>The bible of all fundamental algorithms and the work that taught many of today's software developers most of what they know about computer programming. -Byte, September 1995 I can't begin to tell you how many pleasurable hours of study and recreation they have afforded me! I have pored over them in cars, restaurants, at work, at home... and even at a Little League game wh\n",
              "...more                                                       </td><td> 672</td><td>Hardcover            </td><td> 93.45588</td></tr>\n",
              "\t<tr><td>4.10</td><td>7  </td><td>Essential Mathematics for Games and Interactive Applications                                                                             </td><td>Expert Guidance on the Math Needed for 3D Game Programming\n",
              "Developed from the authors popular Game Developers Conference (GDC) tutorial, Essential Mathematics for Games and Interactive Applications, Third Edition illustrates the importance of mathematics in 3D programming. It shows you how to properly animate, simulate, and render scenes and discusses the mathematics behind\n",
              "\n",
              "\n",
              "\n",
              "\n",
              "\n",
              "\n",
              "\n",
              "\n",
              "\n",
              "\n",
              "\n",
              "\n",
              "\n",
              "\n",
              "...more                        </td><td> 624</td><td>Hardcover            </td><td> 94.78529</td></tr>\n",
              "\t<tr><td>4.35</td><td>21 </td><td>Game Engine Architecture                                                                                                                 </td><td>Hailed as a \"must-have textbook\" (CHOICE, January 2010), the first edition of Game Engine Architecture provided readers with a complete guide to the theory and practice of game engine software development. Updating the content to match today s landscape of game engine architecture, this second edition continues to thoroughly cover the major components that make up a typica\n",
              "\n",
              "\n",
              "\n",
              "\n",
              "\n",
              "\n",
              "\n",
              "\n",
              "\n",
              "...more                                    </td><td>1052</td><td>Hardcover            </td><td> 96.03235</td></tr>\n",
              "\t<tr><td>4.37</td><td>0  </td><td>A First Course in Logic: An Introduction to Model Theory, Proof Theory, Computability, and Complexity                                    </td><td>The ability to reason and think in a logical manner forms the basis of learning for most mathematics, computer science, philosophy and logic students. Based on the author's teaching notes at the University of Maryland and aimed at a broad audience, this text covers the fundamental topics in classical logic in an extremely clear, thorough and accurate style that is accessib\n",
              "...more                                                      </td><td> 431</td><td>Paperback            </td><td> 96.49412</td></tr>\n",
              "\t<tr><td>3.90</td><td>2  </td><td>Computational Science and Engineering                                                                                                    </td><td>Encompasses the full range of computational science and engineering from modelling to solution, both analytical and numerical. It develops a framework for the equations and numerical methods of applied mathematics. Gilbert Strang has taught this material to thousands of engineers and scientists (and many more on MIT's OpenCourseWare 18.085-6). His experience is seen in his ...more                                                       </td><td> 716</td><td>Hardcover            </td><td> 97.52647</td></tr>\n",
              "\t<tr><td>4.02</td><td>25 </td><td>Introduction to Automata Theory, Languages, and Computation                                                                              </td><td>It has been more than 20 years since this classic book on formal languages, automata theory, and computational complexity was first published. With this long-awaited revision, the authors continue to present the theory in a concise and straightforward manner, now with an eye out for the practical applications. They have revised this book to make it more accessible to today ...more                                                       </td><td> 521</td><td>Hardcover            </td><td> 97.68824</td></tr>\n",
              "\t<tr><td>4.03</td><td>1  </td><td>Geometric Tools for Computer Graphics                                                                                                    </td><td>Do you spend too much time creating the building blocks of your graphics applications or finding and correcting errors? Geometric Tools for Computer Graphics is an extensive, conveniently organized collection of proven solutions to fundamental problems that you'd rather not solve over and over again, including building primitives, distance calculation, approximation, conta\n",
              "\n",
              "\n",
              "\n",
              "\n",
              "\n",
              "\n",
              "\n",
              "\n",
              "\n",
              "\n",
              "\n",
              "\n",
              "\n",
              "\n",
              "\n",
              "\n",
              "\n",
              "\n",
              "\n",
              "\n",
              "\n",
              "\n",
              "\n",
              "\n",
              "\n",
              "\n",
              "\n",
              "...more</td><td>1056</td><td>Hardcover            </td><td> 99.82941</td></tr>\n",
              "\t<tr><td>4.10</td><td>31 </td><td>Computer Architecture: A Quantitative Approach                                                                                           </td><td>Computer Architecture: A Quantitative Approach, Fifth Edition, explores the ways that software and technology in the cloud are accessed by digital media, such as cell phones, computers, tablets, and other mobile devices. The book, which became a part of Intel's 2012 recommended reading list for developers, covers the revolution of mobile computing. It also highlights the\n",
              "\n",
              "\n",
              "\n",
              "...more                                                  </td><td> 493</td><td>Paperback            </td><td>101.05588</td></tr>\n",
              "\t<tr><td>4.42</td><td>38 </td><td>Computer Systems: A Programmer's Perspective                                                                                             </td><td>For Computer Organization and Architecture and Computer Systems courses in CS and EE and ECE departments. Developed out of an introductory course at Carnegie Mellon University, this text explains the important and enduring concepts underlying all computer systems, and shows the concrete ways that these ideas affect the correctness, performance, and utility of application p ...more                                                       </td><td> 978</td><td>Hardcover            </td><td>103.17353</td></tr>\n",
              "\t<tr><td>4.11</td><td>56 </td><td>Modern Operating Systems                                                                                                                 </td><td>For software development professionals and computer science students, Modern Operating Systems gives a solid conceptual overview of operating system design, including detailed case studies of Unix/Linux and Windows 2000.\n",
              "What makes an operating system modern? According to author Andrew Tanenbaum, it is the awareness of high-demand computer applications--primarily in the ar\n",
              "...more                                                     </td><td> 976</td><td>Hardcover            </td><td>103.46176</td></tr>\n",
              "\t<tr><td>4.11</td><td>56 </td><td>Modern Operating Systems, 4th Edition                                                                                                    </td><td>\"Modern Operating Systems, Fourth Edition, \"\" is intended for introductory courses in Operating Systems in Computer Science, Computer Engineering, and Electrical Engineering programs. It also serves as a useful reference for OS professionals\" The widely anticipated revision of this worldwide best-seller incorporates the latest developments in operating systems (OS) technol ...more                                                       </td><td>1136</td><td>Paperback            </td><td>103.46176</td></tr>\n",
              "\t<tr><td>3.96</td><td>15 </td><td>Structured Computer Organization                                                                                                         </td><td>Completely updated, this book explains how computer designers can follow the structured model to develop efficient hardware and software systems\n",
              "\n",
              "New information has been included on UNIX, OS/2, INTEL 8088/80286/80386, Motorola 68000/68020/68030 and RISC machine. The operation of a typical IBM PC clone is now described in detail at the chip level.                                                                                       </td><td> 669</td><td>Hardcover            </td><td>103.60882</td></tr>\n",
              "\t<tr><td>3.67</td><td>2  </td><td>Game Engine Gems 1                                                                                                                       </td><td>Game Engine Gems Brings Together In A Single Volume Dozens Of New Articles From Leading Professionals In The Game Development Industry. Each \"Gem\" Presents A Previously Unpublished Technique Related To Game Engines And Real-Time Virtual Simulations. Specific Topics Include Rendering Techniques, Shaders, Scene Organization, Visibility Determination, Collision Detection, Aud ...more                                                       </td><td> 362</td><td>Hardcover            </td><td>105.65000</td></tr>\n",
              "\t<tr><td>4.13</td><td>14 </td><td>Concepts, Techniques, and Models of Computer Programming                                                                                 </td><td>This innovative text presents computer programming as a unified discipline in a way that is both practical and scientifically sound. The book focuses on techniques of lasting value and explains them precisely in terms of a simple abstract machine. The book presents all major programming paradigms in a uniform framework that shows their deep relationships and how and where\n",
              "\n",
              "...more                                                     </td><td> 936</td><td>Hardcover            </td><td>107.74706</td></tr>\n",
              "\t<tr><td>3.87</td><td>13 </td><td>File Structures: An Object-Oriented Approach with C++                                                                                    </td><td>Based on the bestselling File Structures, Second Edition, this book takes an object-oriented approach to the study of file structures. It allows students and professionals to acquire the fundamental tools needed to design intelligent, cost-effective, and appropriate solutions to file structure problems. The book begins by presenting the software and hardware characteristic ...more                                                       </td><td> 724</td><td>Paperback            </td><td>108.36765</td></tr>\n",
              "\t<tr><td>4.16</td><td>16 </td><td>The C++ Standard Library: A Tutorial and Reference                                                                                       </td><td>The Best-Selling C++ ResourceNow Updated for C++11 The C++ standard library provides a set of common classes and interfaces that greatly extend the core C++ language. The library, however, is not self-explanatory. To make full use of its components-and to benefit from their power-you need a resource that does far more than list the classes and their functions. \"The C++ Sta ...more                                                       </td><td>1136</td><td>Hardcover            </td><td>113.30294</td></tr>\n",
              "\t<tr><td>4.18</td><td>130</td><td>Artificial Intelligence: A Modern Approach                                                                                               </td><td>For one or two-semester, undergraduate or graduate-level courses in Artificial Intelligence. The long-anticipated revision of this best-selling text offers the most comprehensive, up-to-date introduction to the theory and practice of artificial intelligence. *NEW-Nontechnical learning material-Accompanies each part of the book. *NEW-The Internet as a sample application for ...more                                                       </td><td>1132</td><td>Hardcover            </td><td>115.75000</td></tr>\n",
              "\t<tr><td>3.45</td><td>1  </td><td>3D Game Engine Design: A Practical Approach to Real-Time Computer Graphics (The Morgan Kaufmann Series in Interactive 3D Technology)     </td><td>A major revision of the international bestseller on game programming!\n",
              "Graphics hardware has evolved enormously in the last decade. Hardware can now be directly controlled through techniques such as shader programming, which requires an entirely new thought process of a programmer. 3D Game Engine Design, Second Edition shows step-by-step how to make a shader-based graphi\n",
              "\n",
              "\n",
              "\n",
              "...more                                                  </td><td>1040</td><td>Hardcover            </td><td>117.98824</td></tr>\n",
              "\t<tr><td>3.82</td><td>0  </td><td>Game Programming Gems 6                                                                                                                  </td><td>Welcome to the sixth volume of the Game Programming Gems series. With team sizes constantly expanding, developers are finding themselves pushed to become increasingly specialized. This makes it important to have cutting-edge, ready-to-use material in your specialization, as well as resources that you can call upon if you need to work outside your area of expertise. Volume ...more                                                        </td><td> 700</td><td>Hardcover            </td><td>119.20294</td></tr>\n",
              "\t<tr><td>4.08</td><td>56 </td><td>Compilers: Principles, Techniques, and Tools                                                                                             </td><td>This introduction to compilers is the direct descendant of the well-known book by Aho and Ullman, Principles of Compiler Design. The authors present updated coverage of compilers based on research and techniques that have been developed in the field over the past few years. The book provides a thorough introduction to compiler design and covers topics such as context-free ...more                                                        </td><td> 796</td><td>Hardcover            </td><td>126.57941</td></tr>\n",
              "\t<tr><td>3.77</td><td>0  </td><td>Game Programming Gems 4                                                                                                                  </td><td>Uncover the secrets of the game industry's best programmers with the newest volume of the Game Programming Gems series With over 60 all new techniques, Game Programming Gems 4 continues to be the definitive resource for developers. Written by expert game developers who make today's amazing games, these articles not only provide quick solutions to cutting-edge problems, but ...more                                                       </td><td> 703</td><td>Hardcover            </td><td>139.43529</td></tr>\n",
              "\t<tr><td>3.82</td><td>0  </td><td>Game Programming Gems 3                                                                                                                  </td><td>The journey continues with this ALL NEW volume in the Game Programming Gems series! As with the first two volumes, a dynamic group of some of the best game programmers in the industry have generously joined together to share their insights and techniques. Their ready-to-use ideas, tips, and solutions, will help save hours of programming time, prevent redundancy, and leave ...more                                                        </td><td> 663</td><td>Hardcover            </td><td>143.13824</td></tr>\n",
              "\t<tr><td>4.26</td><td>5  </td><td>Numerical Recipes: The Art of Scientific Computing                                                                                       </td><td>Co-authored by four leading scientists from academia and industry, Numerical Recipes Third Edition starts with basic mathematics and computer science and proceeds to complete, working routines. Widely recognized as the most comprehensive, accessible and practical basis for scientific computing, this new edition incorporates more than 400 Numerical Recipes routines, many of\n",
              "...more                                                      </td><td>1235</td><td>Hardcover            </td><td>176.14412</td></tr>\n",
              "\t<tr><td>3.76</td><td>0  </td><td>3D Game Engine Architecture: Engineering Real-Time Applications with Wild Magic (The Morgan Kaufmann Series in Interactive 3d Technology)</td><td>Dave Eberly's 3D Game Engine Design was the first professional guide to the essential concepts and algorithms of real-time 3D engines and quickly became a classic of game development. Dave's new book 3D Game Engine Architecture continues the tradition with a comprehensive look at the software engineering and programming of 3D engines.\n",
              "This book is a complete guide to the\n",
              "\n",
              "\n",
              "\n",
              "\n",
              "...more                                               </td><td> 752</td><td>Hardcover            </td><td>203.10882</td></tr>\n",
              "\t<tr><td>3.94</td><td>22 </td><td>An Introduction to Database Systems                                                                                                      </td><td>Continuing in the eighth edition, An Introduction to Database Systems provides a comprehensive introduction to the now very large field of database systems by providing a solid grounding in the foundations of database technology while shedding some light on how the field is likely to develop in the future. This new edition has been rewritten and expanded to stay current wi ...more                                                       </td><td>1040</td><td>Paperback            </td><td>212.09706</td></tr>\n",
              "\t<tr><td>4.49</td><td>36 </td><td>The Art of Computer Programming, Volumes 1-3 Boxed Set                                                                                   </td><td>Knuth's classic work has been widely acclaimed as one of the most influential works in the field of computer science. For the first time, these books are available as a boxed, three-volume set. The handsome slipcase makes this set an ideal gift for the recent computer science graduate or professional programmer. Offering a description of classical computer science, this mu ...more                                                       </td><td> 896</td><td>Boxed Set - Hardcover</td><td>220.38529</td></tr>\n",
              "\t<tr><td>4.77</td><td>4  </td><td>The Art of Computer Programming, Volumes 1-4a Boxed Set                                                                                  </td><td>\"The bible of all fundamental algorithms and the work that taught many of today's software developers most of what they know about computer programming.\"\"--Byte,\" September 1995 Countless readers have spoken about the profound personal influence of Knuth's work. Scientists have marveled at the beauty and elegance of his analysis, while ordinary programmers have successfull\n",
              "\n",
              "\n",
              "\n",
              "...more                                                </td><td>3168</td><td>Hardcover            </td><td>220.38529</td></tr>\n",
              "\t<tr><td>3.84</td><td>5  </td><td>A Discipline for Software Engineering                                                                                                    </td><td>Designed to help individual programmers develop software more effectively and successfully, this book presents a scaled-down version of Humphrey's popular methods for managing the software process. It: presents concepts and methods for a disciplined software engineering process for individual programmers, following the Capability Maturity Model (CMM); scales down industria ...more                                                       </td><td> 789</td><td>Hardcover            </td><td>235.65000</td></tr>\n",
              "</tbody>\n",
              "</table>\n"
            ]
          },
          "metadata": {}
        }
      ]
    },
    {
      "cell_type": "code",
      "source": [
        "head(read.csv(\"prog_book.csv\", header = TRUE, sep = \",\"))"
      ],
      "metadata": {
        "colab": {
          "base_uri": "https://localhost:8080/",
          "height": 1000
        },
        "id": "3ga5WKPf3FYE",
        "outputId": "77424543-ed0b-46bd-d76f-7c56aaab312f"
      },
      "execution_count": null,
      "outputs": [
        {
          "output_type": "display_data",
          "data": {
            "text/plain": [
              "  Rating Reviews\n",
              "1 4.17   3,829  \n",
              "2 4.01   1,406  \n",
              "3 3.33   0      \n",
              "4 3.97   1,658  \n",
              "5 4.06   1,325  \n",
              "6 3.84   117    \n",
              "  Book_title                                                         \n",
              "1 The Elements of Style                                              \n",
              "2 The Information: A History, a Theory, a Flood                      \n",
              "3 Responsive Web Design Overview For Beginners                       \n",
              "4 Ghost in the Wires: My Adventures as the World's Most Wanted Hacker\n",
              "5 How Google Works                                                   \n",
              "6 The Meme Machine                                                   \n",
              "  Description                                                                                                                                                                                                                                                                                                                                                                                                                          \n",
              "1 This style manual offers practical advice on improving writing skills. Throughout, the emphasis is on promoting a plain English style. This little book can help you communicate more effectively by showing you how to enliven your sentences.                                                                                                                                                                                      \n",
              "2 James Gleick, the author of the best sellers Chaos and Genius, now brings us a work just as astonishing and masterly: a revelatory chronicle and meditation that shows how information has become the modern era’s defining quality—the blood, the fuel, the vital principle of our world.\\n \\nThe story of information begins in a time profoundly unlike our own, when every thought and\\n\\n\\n\\n...more                            \n",
              "3 In Responsive Web Design Overview For Beginners, you'll get an overview of what to expect when building a responsive website.\\n\\nYou'll learn about all of the following:\\nResponsive Web Design Overview\\nUsability of Smaller Screens\\nWhy Plugins Aren't the Solution\\nWhy a Responsive Web Design Theme May Not Be Best for Your Existing Website\\nRisks Involved with Responsive Web Design F\\n\\n\\n\\n\\n\\n\\n\\n\\n\\n\\n\\n\\n\\n...more\n",
              "4 If they were a hall of fame or shame for computer hackers, a Kevin Mitnick plaque would be mounted the near the entrance. While other nerds were fumbling with password possibilities, this adept break-artist was penetrating the digital secrets of Sun Microsystems, Digital Equipment Corporation, Nokia, Motorola, Pacific Bell, and other mammoth enterprises. His Ghost in the W\\n...more                                     \n",
              "5 Both Eric Schmidt and Jonathan Rosenberg came to Google as seasoned Silicon Valley business executives, but over the course of a decade they came to see the wisdom in Coach John Wooden's observation that 'it's what you learn after you know it all that counts'. As they helped grow Google from a young start-up to a global icon, they relearned everything they knew about manag\\n\\n\\n\\n...more                               \n",
              "6 What is a meme? First coined by Richard Dawkins in 'The Selfish Gene', a meme is any idea, behavior, or skill that can be transferred from one person to another by imitation: stories, fashions, inventions, recipes, songs, ways of plowing a field or throwing a baseball or making a sculpture.\\n\\nThe meme is also one of the most important--and controversial--concepts to emerge s\\n\\n\\n\\n\\n\\n\\n\\n\\n\\n...more                \n",
              "  Number_Of_Pages Type           Price    \n",
              "1 105             Hardcover       9.323529\n",
              "2 527             Hardcover      11.000000\n",
              "3  50             Kindle Edition 11.267647\n",
              "4 393             Hardcover      12.873529\n",
              "5 305             Kindle Edition 13.164706\n",
              "6 288             Paperback      14.188235"
            ],
            "text/latex": "A data.frame: 6 × 7\n\\begin{tabular}{r|lllllll}\n  & Rating & Reviews & Book\\_title & Description & Number\\_Of\\_Pages & Type & Price\\\\\n  & <dbl> & <chr> & <chr> & <chr> & <int> & <chr> & <dbl>\\\\\n\\hline\n\t1 & 4.17 & 3,829 & The Elements of Style                                               & This style manual offers practical advice on improving writing skills. Throughout, the emphasis is on promoting a plain English style. This little book can help you communicate more effectively by showing you how to enliven your sentences.                                                                                                                                                                                       & 105 & Hardcover      &  9.323529\\\\\n\t2 & 4.01 & 1,406 & The Information: A History, a Theory, a Flood                       & James Gleick, the author of the best sellers Chaos and Genius, now brings us a work just as astonishing and masterly: a revelatory chronicle and meditation that shows how information has become the modern era’s defining quality—the blood, the fuel, the vital principle of our world.\n \nThe story of information begins in a time profoundly unlike our own, when every thought and\n\n\n\n...more                             & 527 & Hardcover      & 11.000000\\\\\n\t3 & 3.33 & 0     & Responsive Web Design Overview For Beginners                        & In Responsive Web Design Overview For Beginners, you'll get an overview of what to expect when building a responsive website.\n\nYou'll learn about all of the following:\nResponsive Web Design Overview\nUsability of Smaller Screens\nWhy Plugins Aren't the Solution\nWhy a Responsive Web Design Theme May Not Be Best for Your Existing Website\nRisks Involved with Responsive Web Design F\n\n\n\n\n\n\n\n\n\n\n\n\n\n...more &  50 & Kindle Edition & 11.267647\\\\\n\t4 & 3.97 & 1,658 & Ghost in the Wires: My Adventures as the World's Most Wanted Hacker & If they were a hall of fame or shame for computer hackers, a Kevin Mitnick plaque would be mounted the near the entrance. While other nerds were fumbling with password possibilities, this adept break-artist was penetrating the digital secrets of Sun Microsystems, Digital Equipment Corporation, Nokia, Motorola, Pacific Bell, and other mammoth enterprises. His Ghost in the W\n...more                                      & 393 & Hardcover      & 12.873529\\\\\n\t5 & 4.06 & 1,325 & How Google Works                                                    & Both Eric Schmidt and Jonathan Rosenberg came to Google as seasoned Silicon Valley business executives, but over the course of a decade they came to see the wisdom in Coach John Wooden's observation that 'it's what you learn after you know it all that counts'. As they helped grow Google from a young start-up to a global icon, they relearned everything they knew about manag\n\n\n\n...more                                & 305 & Kindle Edition & 13.164706\\\\\n\t6 & 3.84 & 117   & The Meme Machine                                                    & What is a meme? First coined by Richard Dawkins in 'The Selfish Gene', a meme is any idea, behavior, or skill that can be transferred from one person to another by imitation: stories, fashions, inventions, recipes, songs, ways of plowing a field or throwing a baseball or making a sculpture.\n\nThe meme is also one of the most important--and controversial--concepts to emerge s\n\n\n\n\n\n\n\n\n\n...more                 & 288 & Paperback      & 14.188235\\\\\n\\end{tabular}\n",
            "text/markdown": "\nA data.frame: 6 × 7\n\n| <!--/--> | Rating &lt;dbl&gt; | Reviews &lt;chr&gt; | Book_title &lt;chr&gt; | Description &lt;chr&gt; | Number_Of_Pages &lt;int&gt; | Type &lt;chr&gt; | Price &lt;dbl&gt; |\n|---|---|---|---|---|---|---|---|\n| 1 | 4.17 | 3,829 | The Elements of Style                                               | This style manual offers practical advice on improving writing skills. Throughout, the emphasis is on promoting a plain English style. This little book can help you communicate more effectively by showing you how to enliven your sentences.                                                                                                                                                                                       | 105 | Hardcover      |  9.323529 |\n| 2 | 4.01 | 1,406 | The Information: A History, a Theory, a Flood                       | James Gleick, the author of the best sellers Chaos and Genius, now brings us a work just as astonishing and masterly: a revelatory chronicle and meditation that shows how information has become the modern era’s defining quality—the blood, the fuel, the vital principle of our world.\n \nThe story of information begins in a time profoundly unlike our own, when every thought and\n\n\n\n...more                             | 527 | Hardcover      | 11.000000 |\n| 3 | 3.33 | 0     | Responsive Web Design Overview For Beginners                        | In Responsive Web Design Overview For Beginners, you'll get an overview of what to expect when building a responsive website.\n\nYou'll learn about all of the following:\nResponsive Web Design Overview\nUsability of Smaller Screens\nWhy Plugins Aren't the Solution\nWhy a Responsive Web Design Theme May Not Be Best for Your Existing Website\nRisks Involved with Responsive Web Design F\n\n\n\n\n\n\n\n\n\n\n\n\n\n...more |  50 | Kindle Edition | 11.267647 |\n| 4 | 3.97 | 1,658 | Ghost in the Wires: My Adventures as the World's Most Wanted Hacker | If they were a hall of fame or shame for computer hackers, a Kevin Mitnick plaque would be mounted the near the entrance. While other nerds were fumbling with password possibilities, this adept break-artist was penetrating the digital secrets of Sun Microsystems, Digital Equipment Corporation, Nokia, Motorola, Pacific Bell, and other mammoth enterprises. His Ghost in the W\n...more                                      | 393 | Hardcover      | 12.873529 |\n| 5 | 4.06 | 1,325 | How Google Works                                                    | Both Eric Schmidt and Jonathan Rosenberg came to Google as seasoned Silicon Valley business executives, but over the course of a decade they came to see the wisdom in Coach John Wooden's observation that 'it's what you learn after you know it all that counts'. As they helped grow Google from a young start-up to a global icon, they relearned everything they knew about manag\n\n\n\n...more                                | 305 | Kindle Edition | 13.164706 |\n| 6 | 3.84 | 117   | The Meme Machine                                                    | What is a meme? First coined by Richard Dawkins in 'The Selfish Gene', a meme is any idea, behavior, or skill that can be transferred from one person to another by imitation: stories, fashions, inventions, recipes, songs, ways of plowing a field or throwing a baseball or making a sculpture.\n\nThe meme is also one of the most important--and controversial--concepts to emerge s\n\n\n\n\n\n\n\n\n\n...more                 | 288 | Paperback      | 14.188235 |\n\n",
            "text/html": [
              "<table class=\"dataframe\">\n",
              "<caption>A data.frame: 6 × 7</caption>\n",
              "<thead>\n",
              "\t<tr><th></th><th scope=col>Rating</th><th scope=col>Reviews</th><th scope=col>Book_title</th><th scope=col>Description</th><th scope=col>Number_Of_Pages</th><th scope=col>Type</th><th scope=col>Price</th></tr>\n",
              "\t<tr><th></th><th scope=col>&lt;dbl&gt;</th><th scope=col>&lt;chr&gt;</th><th scope=col>&lt;chr&gt;</th><th scope=col>&lt;chr&gt;</th><th scope=col>&lt;int&gt;</th><th scope=col>&lt;chr&gt;</th><th scope=col>&lt;dbl&gt;</th></tr>\n",
              "</thead>\n",
              "<tbody>\n",
              "\t<tr><th scope=row>1</th><td>4.17</td><td>3,829</td><td>The Elements of Style                                              </td><td>This style manual offers practical advice on improving writing skills. Throughout, the emphasis is on promoting a plain English style. This little book can help you communicate more effectively by showing you how to enliven your sentences.                                                                                                                                                                                      </td><td>105</td><td>Hardcover     </td><td> 9.323529</td></tr>\n",
              "\t<tr><th scope=row>2</th><td>4.01</td><td>1,406</td><td>The Information: A History, a Theory, a Flood                      </td><td>James Gleick, the author of the best sellers Chaos and Genius, now brings us a work just as astonishing and masterly: a revelatory chronicle and meditation that shows how information has become the modern era’s defining quality—the blood, the fuel, the vital principle of our world.\n",
              " \n",
              "The story of information begins in a time profoundly unlike our own, when every thought and\n",
              "\n",
              "\n",
              "\n",
              "...more                            </td><td>527</td><td>Hardcover     </td><td>11.000000</td></tr>\n",
              "\t<tr><th scope=row>3</th><td>3.33</td><td>0    </td><td>Responsive Web Design Overview For Beginners                       </td><td>In Responsive Web Design Overview For Beginners, you'll get an overview of what to expect when building a responsive website.\n",
              "\n",
              "You'll learn about all of the following:\n",
              "Responsive Web Design Overview\n",
              "Usability of Smaller Screens\n",
              "Why Plugins Aren't the Solution\n",
              "Why a Responsive Web Design Theme May Not Be Best for Your Existing Website\n",
              "Risks Involved with Responsive Web Design F\n",
              "\n",
              "\n",
              "\n",
              "\n",
              "\n",
              "\n",
              "\n",
              "\n",
              "\n",
              "\n",
              "\n",
              "\n",
              "\n",
              "...more</td><td> 50</td><td>Kindle Edition</td><td>11.267647</td></tr>\n",
              "\t<tr><th scope=row>4</th><td>3.97</td><td>1,658</td><td>Ghost in the Wires: My Adventures as the World's Most Wanted Hacker</td><td>If they were a hall of fame or shame for computer hackers, a Kevin Mitnick plaque would be mounted the near the entrance. While other nerds were fumbling with password possibilities, this adept break-artist was penetrating the digital secrets of Sun Microsystems, Digital Equipment Corporation, Nokia, Motorola, Pacific Bell, and other mammoth enterprises. His Ghost in the W\n",
              "...more                                     </td><td>393</td><td>Hardcover     </td><td>12.873529</td></tr>\n",
              "\t<tr><th scope=row>5</th><td>4.06</td><td>1,325</td><td>How Google Works                                                   </td><td>Both Eric Schmidt and Jonathan Rosenberg came to Google as seasoned Silicon Valley business executives, but over the course of a decade they came to see the wisdom in Coach John Wooden's observation that 'it's what you learn after you know it all that counts'. As they helped grow Google from a young start-up to a global icon, they relearned everything they knew about manag\n",
              "\n",
              "\n",
              "\n",
              "...more                               </td><td>305</td><td>Kindle Edition</td><td>13.164706</td></tr>\n",
              "\t<tr><th scope=row>6</th><td>3.84</td><td>117  </td><td>The Meme Machine                                                   </td><td>What is a meme? First coined by Richard Dawkins in 'The Selfish Gene', a meme is any idea, behavior, or skill that can be transferred from one person to another by imitation: stories, fashions, inventions, recipes, songs, ways of plowing a field or throwing a baseball or making a sculpture.\n",
              "\n",
              "The meme is also one of the most important--and controversial--concepts to emerge s\n",
              "\n",
              "\n",
              "\n",
              "\n",
              "\n",
              "\n",
              "\n",
              "\n",
              "\n",
              "...more                </td><td>288</td><td>Paperback     </td><td>14.188235</td></tr>\n",
              "</tbody>\n",
              "</table>\n"
            ]
          },
          "metadata": {}
        }
      ]
    },
    {
      "cell_type": "markdown",
      "metadata": {
        "hidden": true,
        "id": "qQv4RqbWtPZc"
      },
      "source": [
        "Функция read.csv предоставляет широкий список тонких настроек считывания данных. Здесь рассмотрим лишь некоторые из них. \n",
        "\n",
        "Можно считывать не все строки и не все столбцы. Столбцы:"
      ]
    },
    {
      "cell_type": "code",
      "source": [
        "head(read.csv(\"prog_book.csv\", header=TRUE, colClasses=c(\"numeric\", \"NULL\", \"factor\", \"NULL\", \"NULL\", \"NULL\", \"NULL\")))"
      ],
      "metadata": {
        "colab": {
          "base_uri": "https://localhost:8080/",
          "height": 286
        },
        "id": "2pr7bc693tja",
        "outputId": "95bc699d-4091-4f0b-adb0-a4dfe6a59b5e"
      },
      "execution_count": null,
      "outputs": [
        {
          "output_type": "display_data",
          "data": {
            "text/plain": [
              "  Rating Book_title                                                         \n",
              "1 4.17   The Elements of Style                                              \n",
              "2 4.01   The Information: A History, a Theory, a Flood                      \n",
              "3 3.33   Responsive Web Design Overview For Beginners                       \n",
              "4 3.97   Ghost in the Wires: My Adventures as the World's Most Wanted Hacker\n",
              "5 4.06   How Google Works                                                   \n",
              "6 3.84   The Meme Machine                                                   "
            ],
            "text/latex": "A data.frame: 6 × 2\n\\begin{tabular}{r|ll}\n  & Rating & Book\\_title\\\\\n  & <dbl> & <fct>\\\\\n\\hline\n\t1 & 4.17 & The Elements of Style                                              \\\\\n\t2 & 4.01 & The Information: A History, a Theory, a Flood                      \\\\\n\t3 & 3.33 & Responsive Web Design Overview For Beginners                       \\\\\n\t4 & 3.97 & Ghost in the Wires: My Adventures as the World's Most Wanted Hacker\\\\\n\t5 & 4.06 & How Google Works                                                   \\\\\n\t6 & 3.84 & The Meme Machine                                                   \\\\\n\\end{tabular}\n",
            "text/markdown": "\nA data.frame: 6 × 2\n\n| <!--/--> | Rating &lt;dbl&gt; | Book_title &lt;fct&gt; |\n|---|---|---|\n| 1 | 4.17 | The Elements of Style                                               |\n| 2 | 4.01 | The Information: A History, a Theory, a Flood                       |\n| 3 | 3.33 | Responsive Web Design Overview For Beginners                        |\n| 4 | 3.97 | Ghost in the Wires: My Adventures as the World's Most Wanted Hacker |\n| 5 | 4.06 | How Google Works                                                    |\n| 6 | 3.84 | The Meme Machine                                                    |\n\n",
            "text/html": [
              "<table class=\"dataframe\">\n",
              "<caption>A data.frame: 6 × 2</caption>\n",
              "<thead>\n",
              "\t<tr><th></th><th scope=col>Rating</th><th scope=col>Book_title</th></tr>\n",
              "\t<tr><th></th><th scope=col>&lt;dbl&gt;</th><th scope=col>&lt;fct&gt;</th></tr>\n",
              "</thead>\n",
              "<tbody>\n",
              "\t<tr><th scope=row>1</th><td>4.17</td><td>The Elements of Style                                              </td></tr>\n",
              "\t<tr><th scope=row>2</th><td>4.01</td><td>The Information: A History, a Theory, a Flood                      </td></tr>\n",
              "\t<tr><th scope=row>3</th><td>3.33</td><td>Responsive Web Design Overview For Beginners                       </td></tr>\n",
              "\t<tr><th scope=row>4</th><td>3.97</td><td>Ghost in the Wires: My Adventures as the World's Most Wanted Hacker</td></tr>\n",
              "\t<tr><th scope=row>5</th><td>4.06</td><td>How Google Works                                                   </td></tr>\n",
              "\t<tr><th scope=row>6</th><td>3.84</td><td>The Meme Machine                                                   </td></tr>\n",
              "</tbody>\n",
              "</table>\n"
            ]
          },
          "metadata": {}
        }
      ]
    },
    {
      "cell_type": "markdown",
      "source": [
        "строки"
      ],
      "metadata": {
        "id": "_aAZYipSTzE9"
      }
    },
    {
      "cell_type": "code",
      "source": [
        "head(read.csv(\"prog_book.csv\", header=TRUE, nrows=3))"
      ],
      "metadata": {
        "colab": {
          "base_uri": "https://localhost:8080/",
          "height": 1000
        },
        "id": "RSYugqZb4-2A",
        "outputId": "5bd04a6b-0a55-42e4-9e28-2f2e9f8837bf"
      },
      "execution_count": null,
      "outputs": [
        {
          "output_type": "display_data",
          "data": {
            "text/plain": [
              "  Rating Reviews Book_title                                   \n",
              "1 4.17   3,829   The Elements of Style                        \n",
              "2 4.01   1,406   The Information: A History, a Theory, a Flood\n",
              "3 3.33   0       Responsive Web Design Overview For Beginners \n",
              "  Description                                                                                                                                                                                                                                                                                                                                                                                                                          \n",
              "1 This style manual offers practical advice on improving writing skills. Throughout, the emphasis is on promoting a plain English style. This little book can help you communicate more effectively by showing you how to enliven your sentences.                                                                                                                                                                                      \n",
              "2 James Gleick, the author of the best sellers Chaos and Genius, now brings us a work just as astonishing and masterly: a revelatory chronicle and meditation that shows how information has become the modern era’s defining quality—the blood, the fuel, the vital principle of our world.\\n \\nThe story of information begins in a time profoundly unlike our own, when every thought and\\n\\n\\n\\n...more                            \n",
              "3 In Responsive Web Design Overview For Beginners, you'll get an overview of what to expect when building a responsive website.\\n\\nYou'll learn about all of the following:\\nResponsive Web Design Overview\\nUsability of Smaller Screens\\nWhy Plugins Aren't the Solution\\nWhy a Responsive Web Design Theme May Not Be Best for Your Existing Website\\nRisks Involved with Responsive Web Design F\\n\\n\\n\\n\\n\\n\\n\\n\\n\\n\\n\\n\\n\\n...more\n",
              "  Number_Of_Pages Type           Price    \n",
              "1 105             Hardcover       9.323529\n",
              "2 527             Hardcover      11.000000\n",
              "3  50             Kindle Edition 11.267647"
            ],
            "text/latex": "A data.frame: 3 × 7\n\\begin{tabular}{r|lllllll}\n  & Rating & Reviews & Book\\_title & Description & Number\\_Of\\_Pages & Type & Price\\\\\n  & <dbl> & <chr> & <chr> & <chr> & <int> & <chr> & <dbl>\\\\\n\\hline\n\t1 & 4.17 & 3,829 & The Elements of Style                         & This style manual offers practical advice on improving writing skills. Throughout, the emphasis is on promoting a plain English style. This little book can help you communicate more effectively by showing you how to enliven your sentences.                                                                                                                                                                                       & 105 & Hardcover      &  9.323529\\\\\n\t2 & 4.01 & 1,406 & The Information: A History, a Theory, a Flood & James Gleick, the author of the best sellers Chaos and Genius, now brings us a work just as astonishing and masterly: a revelatory chronicle and meditation that shows how information has become the modern era’s defining quality—the blood, the fuel, the vital principle of our world.\n \nThe story of information begins in a time profoundly unlike our own, when every thought and\n\n\n\n...more                             & 527 & Hardcover      & 11.000000\\\\\n\t3 & 3.33 & 0     & Responsive Web Design Overview For Beginners  & In Responsive Web Design Overview For Beginners, you'll get an overview of what to expect when building a responsive website.\n\nYou'll learn about all of the following:\nResponsive Web Design Overview\nUsability of Smaller Screens\nWhy Plugins Aren't the Solution\nWhy a Responsive Web Design Theme May Not Be Best for Your Existing Website\nRisks Involved with Responsive Web Design F\n\n\n\n\n\n\n\n\n\n\n\n\n\n...more &  50 & Kindle Edition & 11.267647\\\\\n\\end{tabular}\n",
            "text/markdown": "\nA data.frame: 3 × 7\n\n| <!--/--> | Rating &lt;dbl&gt; | Reviews &lt;chr&gt; | Book_title &lt;chr&gt; | Description &lt;chr&gt; | Number_Of_Pages &lt;int&gt; | Type &lt;chr&gt; | Price &lt;dbl&gt; |\n|---|---|---|---|---|---|---|---|\n| 1 | 4.17 | 3,829 | The Elements of Style                         | This style manual offers practical advice on improving writing skills. Throughout, the emphasis is on promoting a plain English style. This little book can help you communicate more effectively by showing you how to enliven your sentences.                                                                                                                                                                                       | 105 | Hardcover      |  9.323529 |\n| 2 | 4.01 | 1,406 | The Information: A History, a Theory, a Flood | James Gleick, the author of the best sellers Chaos and Genius, now brings us a work just as astonishing and masterly: a revelatory chronicle and meditation that shows how information has become the modern era’s defining quality—the blood, the fuel, the vital principle of our world.\n \nThe story of information begins in a time profoundly unlike our own, when every thought and\n\n\n\n...more                             | 527 | Hardcover      | 11.000000 |\n| 3 | 3.33 | 0     | Responsive Web Design Overview For Beginners  | In Responsive Web Design Overview For Beginners, you'll get an overview of what to expect when building a responsive website.\n\nYou'll learn about all of the following:\nResponsive Web Design Overview\nUsability of Smaller Screens\nWhy Plugins Aren't the Solution\nWhy a Responsive Web Design Theme May Not Be Best for Your Existing Website\nRisks Involved with Responsive Web Design F\n\n\n\n\n\n\n\n\n\n\n\n\n\n...more |  50 | Kindle Edition | 11.267647 |\n\n",
            "text/html": [
              "<table class=\"dataframe\">\n",
              "<caption>A data.frame: 3 × 7</caption>\n",
              "<thead>\n",
              "\t<tr><th></th><th scope=col>Rating</th><th scope=col>Reviews</th><th scope=col>Book_title</th><th scope=col>Description</th><th scope=col>Number_Of_Pages</th><th scope=col>Type</th><th scope=col>Price</th></tr>\n",
              "\t<tr><th></th><th scope=col>&lt;dbl&gt;</th><th scope=col>&lt;chr&gt;</th><th scope=col>&lt;chr&gt;</th><th scope=col>&lt;chr&gt;</th><th scope=col>&lt;int&gt;</th><th scope=col>&lt;chr&gt;</th><th scope=col>&lt;dbl&gt;</th></tr>\n",
              "</thead>\n",
              "<tbody>\n",
              "\t<tr><th scope=row>1</th><td>4.17</td><td>3,829</td><td>The Elements of Style                        </td><td>This style manual offers practical advice on improving writing skills. Throughout, the emphasis is on promoting a plain English style. This little book can help you communicate more effectively by showing you how to enliven your sentences.                                                                                                                                                                                      </td><td>105</td><td>Hardcover     </td><td> 9.323529</td></tr>\n",
              "\t<tr><th scope=row>2</th><td>4.01</td><td>1,406</td><td>The Information: A History, a Theory, a Flood</td><td>James Gleick, the author of the best sellers Chaos and Genius, now brings us a work just as astonishing and masterly: a revelatory chronicle and meditation that shows how information has become the modern era’s defining quality—the blood, the fuel, the vital principle of our world.\n",
              " \n",
              "The story of information begins in a time profoundly unlike our own, when every thought and\n",
              "\n",
              "\n",
              "\n",
              "...more                            </td><td>527</td><td>Hardcover     </td><td>11.000000</td></tr>\n",
              "\t<tr><th scope=row>3</th><td>3.33</td><td>0    </td><td>Responsive Web Design Overview For Beginners </td><td>In Responsive Web Design Overview For Beginners, you'll get an overview of what to expect when building a responsive website.\n",
              "\n",
              "You'll learn about all of the following:\n",
              "Responsive Web Design Overview\n",
              "Usability of Smaller Screens\n",
              "Why Plugins Aren't the Solution\n",
              "Why a Responsive Web Design Theme May Not Be Best for Your Existing Website\n",
              "Risks Involved with Responsive Web Design F\n",
              "\n",
              "\n",
              "\n",
              "\n",
              "\n",
              "\n",
              "\n",
              "\n",
              "\n",
              "\n",
              "\n",
              "\n",
              "\n",
              "...more</td><td> 50</td><td>Kindle Edition</td><td>11.267647</td></tr>\n",
              "</tbody>\n",
              "</table>\n"
            ]
          },
          "metadata": {}
        }
      ]
    },
    {
      "cell_type": "code",
      "source": [
        "books <- read.csv(\"prog_book.csv\", header=TRUE, colClasses=c(\"numeric\", \"factor\", \"factor\", \"NULL\", \"numeric\", \"factor\", \"numeric\"))\n",
        "head(books)"
      ],
      "metadata": {
        "colab": {
          "base_uri": "https://localhost:8080/",
          "height": 425
        },
        "id": "wKpAJFgF6kQi",
        "outputId": "09fe33df-5cfc-47be-97ff-1666371a53e8"
      },
      "execution_count": null,
      "outputs": [
        {
          "output_type": "display_data",
          "data": {
            "text/plain": [
              "  Rating Reviews\n",
              "1 4.17   3,829  \n",
              "2 4.01   1,406  \n",
              "3 3.33   0      \n",
              "4 3.97   1,658  \n",
              "5 4.06   1,325  \n",
              "6 3.84   117    \n",
              "  Book_title                                                         \n",
              "1 The Elements of Style                                              \n",
              "2 The Information: A History, a Theory, a Flood                      \n",
              "3 Responsive Web Design Overview For Beginners                       \n",
              "4 Ghost in the Wires: My Adventures as the World's Most Wanted Hacker\n",
              "5 How Google Works                                                   \n",
              "6 The Meme Machine                                                   \n",
              "  Number_Of_Pages Type           Price    \n",
              "1 105             Hardcover       9.323529\n",
              "2 527             Hardcover      11.000000\n",
              "3  50             Kindle Edition 11.267647\n",
              "4 393             Hardcover      12.873529\n",
              "5 305             Kindle Edition 13.164706\n",
              "6 288             Paperback      14.188235"
            ],
            "text/latex": "A data.frame: 6 × 6\n\\begin{tabular}{r|llllll}\n  & Rating & Reviews & Book\\_title & Number\\_Of\\_Pages & Type & Price\\\\\n  & <dbl> & <fct> & <fct> & <dbl> & <fct> & <dbl>\\\\\n\\hline\n\t1 & 4.17 & 3,829 & The Elements of Style                                               & 105 & Hardcover      &  9.323529\\\\\n\t2 & 4.01 & 1,406 & The Information: A History, a Theory, a Flood                       & 527 & Hardcover      & 11.000000\\\\\n\t3 & 3.33 & 0     & Responsive Web Design Overview For Beginners                        &  50 & Kindle Edition & 11.267647\\\\\n\t4 & 3.97 & 1,658 & Ghost in the Wires: My Adventures as the World's Most Wanted Hacker & 393 & Hardcover      & 12.873529\\\\\n\t5 & 4.06 & 1,325 & How Google Works                                                    & 305 & Kindle Edition & 13.164706\\\\\n\t6 & 3.84 & 117   & The Meme Machine                                                    & 288 & Paperback      & 14.188235\\\\\n\\end{tabular}\n",
            "text/markdown": "\nA data.frame: 6 × 6\n\n| <!--/--> | Rating &lt;dbl&gt; | Reviews &lt;fct&gt; | Book_title &lt;fct&gt; | Number_Of_Pages &lt;dbl&gt; | Type &lt;fct&gt; | Price &lt;dbl&gt; |\n|---|---|---|---|---|---|---|\n| 1 | 4.17 | 3,829 | The Elements of Style                                               | 105 | Hardcover      |  9.323529 |\n| 2 | 4.01 | 1,406 | The Information: A History, a Theory, a Flood                       | 527 | Hardcover      | 11.000000 |\n| 3 | 3.33 | 0     | Responsive Web Design Overview For Beginners                        |  50 | Kindle Edition | 11.267647 |\n| 4 | 3.97 | 1,658 | Ghost in the Wires: My Adventures as the World's Most Wanted Hacker | 393 | Hardcover      | 12.873529 |\n| 5 | 4.06 | 1,325 | How Google Works                                                    | 305 | Kindle Edition | 13.164706 |\n| 6 | 3.84 | 117   | The Meme Machine                                                    | 288 | Paperback      | 14.188235 |\n\n",
            "text/html": [
              "<table class=\"dataframe\">\n",
              "<caption>A data.frame: 6 × 6</caption>\n",
              "<thead>\n",
              "\t<tr><th></th><th scope=col>Rating</th><th scope=col>Reviews</th><th scope=col>Book_title</th><th scope=col>Number_Of_Pages</th><th scope=col>Type</th><th scope=col>Price</th></tr>\n",
              "\t<tr><th></th><th scope=col>&lt;dbl&gt;</th><th scope=col>&lt;fct&gt;</th><th scope=col>&lt;fct&gt;</th><th scope=col>&lt;dbl&gt;</th><th scope=col>&lt;fct&gt;</th><th scope=col>&lt;dbl&gt;</th></tr>\n",
              "</thead>\n",
              "<tbody>\n",
              "\t<tr><th scope=row>1</th><td>4.17</td><td>3,829</td><td>The Elements of Style                                              </td><td>105</td><td>Hardcover     </td><td> 9.323529</td></tr>\n",
              "\t<tr><th scope=row>2</th><td>4.01</td><td>1,406</td><td>The Information: A History, a Theory, a Flood                      </td><td>527</td><td>Hardcover     </td><td>11.000000</td></tr>\n",
              "\t<tr><th scope=row>3</th><td>3.33</td><td>0    </td><td>Responsive Web Design Overview For Beginners                       </td><td> 50</td><td>Kindle Edition</td><td>11.267647</td></tr>\n",
              "\t<tr><th scope=row>4</th><td>3.97</td><td>1,658</td><td>Ghost in the Wires: My Adventures as the World's Most Wanted Hacker</td><td>393</td><td>Hardcover     </td><td>12.873529</td></tr>\n",
              "\t<tr><th scope=row>5</th><td>4.06</td><td>1,325</td><td>How Google Works                                                   </td><td>305</td><td>Kindle Edition</td><td>13.164706</td></tr>\n",
              "\t<tr><th scope=row>6</th><td>3.84</td><td>117  </td><td>The Meme Machine                                                   </td><td>288</td><td>Paperback     </td><td>14.188235</td></tr>\n",
              "</tbody>\n",
              "</table>\n"
            ]
          },
          "metadata": {}
        }
      ]
    },
    {
      "cell_type": "markdown",
      "metadata": {
        "heading_collapsed": true,
        "hidden": true,
        "id": "0UMaA-SttPcy"
      },
      "source": [
        "#### количество элементов"
      ]
    },
    {
      "cell_type": "markdown",
      "metadata": {
        "heading_collapsed": true,
        "id": "3m4sNhAqtPbz"
      },
      "source": [
        "### Свойства"
      ]
    },
    {
      "cell_type": "markdown",
      "metadata": {
        "id": "FzEvKLxjjpFw"
      },
      "source": [
        "Мы узнали, как создать датафреймы в R. Дадим описание основных свойств этой структуры. \n"
      ]
    },
    {
      "cell_type": "code",
      "source": [
        "nrow(books)\n",
        "ncol(books)"
      ],
      "metadata": {
        "colab": {
          "base_uri": "https://localhost:8080/",
          "height": 51
        },
        "id": "fNcxcg5Q67W6",
        "outputId": "256a9c6e-cb78-44d7-8890-7cb250f08bb4"
      },
      "execution_count": null,
      "outputs": [
        {
          "output_type": "display_data",
          "data": {
            "text/plain": [
              "[1] 271"
            ],
            "text/latex": "271",
            "text/markdown": "271",
            "text/html": [
              "271"
            ]
          },
          "metadata": {}
        },
        {
          "output_type": "display_data",
          "data": {
            "text/plain": [
              "[1] 6"
            ],
            "text/latex": "6",
            "text/markdown": "6",
            "text/html": [
              "6"
            ]
          },
          "metadata": {}
        }
      ]
    },
    {
      "cell_type": "markdown",
      "metadata": {
        "heading_collapsed": true,
        "hidden": true,
        "id": "UpllV6HztPdN"
      },
      "source": [
        "#### количество уникальных элементов"
      ]
    },
    {
      "cell_type": "code",
      "source": [
        "unique(books$Type)"
      ],
      "metadata": {
        "colab": {
          "base_uri": "https://localhost:8080/",
          "height": 51
        },
        "id": "65cChln18JXB",
        "outputId": "4bdaf959-5f46-4cbe-dfaa-010c0cd1123f"
      },
      "execution_count": null,
      "outputs": [
        {
          "output_type": "display_data",
          "data": {
            "text/plain": [
              "[1] Hardcover             Kindle Edition        Paperback            \n",
              "[4] ebook                 Unknown Binding       Boxed Set - Hardcover\n",
              "6 Levels: Boxed Set - Hardcover ebook Hardcover Kindle Edition ... Unknown Binding"
            ],
            "text/latex": "\\begin{enumerate*}\n\\item Hardcover\n\\item Kindle Edition\n\\item Paperback\n\\item ebook\n\\item Unknown Binding\n\\item Boxed Set - Hardcover\n\\end{enumerate*}\n\n\\emph{Levels}: \\begin{enumerate*}\n\\item 'Boxed Set - Hardcover'\n\\item 'ebook'\n\\item 'Hardcover'\n\\item 'Kindle Edition'\n\\item 'Paperback'\n\\item 'Unknown Binding'\n\\end{enumerate*}\n",
            "text/markdown": "1. Hardcover\n2. Kindle Edition\n3. Paperback\n4. ebook\n5. Unknown Binding\n6. Boxed Set - Hardcover\n\n\n\n**Levels**: 1. 'Boxed Set - Hardcover'\n2. 'ebook'\n3. 'Hardcover'\n4. 'Kindle Edition'\n5. 'Paperback'\n6. 'Unknown Binding'\n\n\n",
            "text/html": [
              "<style>\n",
              ".list-inline {list-style: none; margin:0; padding: 0}\n",
              ".list-inline>li {display: inline-block}\n",
              ".list-inline>li:not(:last-child)::after {content: \"\\00b7\"; padding: 0 .5ex}\n",
              "</style>\n",
              "<ol class=list-inline><li>Hardcover</li><li>Kindle Edition</li><li>Paperback</li><li>ebook</li><li>Unknown Binding</li><li>Boxed Set - Hardcover</li></ol>\n",
              "\n",
              "<details>\n",
              "\t<summary style=display:list-item;cursor:pointer>\n",
              "\t\t<strong>Levels</strong>:\n",
              "\t</summary>\n",
              "\t<style>\n",
              "\t.list-inline {list-style: none; margin:0; padding: 0}\n",
              "\t.list-inline>li {display: inline-block}\n",
              "\t.list-inline>li:not(:last-child)::after {content: \"\\00b7\"; padding: 0 .5ex}\n",
              "\t</style>\n",
              "\t<ol class=list-inline><li>'Boxed Set - Hardcover'</li><li>'ebook'</li><li>'Hardcover'</li><li>'Kindle Edition'</li><li>'Paperback'</li><li>'Unknown Binding'</li></ol>\n",
              "</details>"
            ]
          },
          "metadata": {}
        }
      ]
    },
    {
      "cell_type": "code",
      "source": [
        "length(unique(books$Type))"
      ],
      "metadata": {
        "colab": {
          "base_uri": "https://localhost:8080/",
          "height": 34
        },
        "id": "RGQ9i01k8Pyo",
        "outputId": "0a085aa5-2130-451f-cb45-20cf662b39f2"
      },
      "execution_count": null,
      "outputs": [
        {
          "output_type": "display_data",
          "data": {
            "text/plain": [
              "[1] 6"
            ],
            "text/latex": "6",
            "text/markdown": "6",
            "text/html": [
              "6"
            ]
          },
          "metadata": {}
        }
      ]
    },
    {
      "cell_type": "code",
      "source": [
        "length(unique(books$Number_Of_Pages))"
      ],
      "metadata": {
        "colab": {
          "base_uri": "https://localhost:8080/",
          "height": 34
        },
        "id": "pgC3QV8Y82XR",
        "outputId": "cfc5d8c1-83bd-4df7-f788-c4b7a9a6e657"
      },
      "execution_count": null,
      "outputs": [
        {
          "output_type": "display_data",
          "data": {
            "text/plain": [
              "[1] 185"
            ],
            "text/latex": "185",
            "text/markdown": "185",
            "text/html": [
              "185"
            ]
          },
          "metadata": {}
        }
      ]
    },
    {
      "cell_type": "code",
      "source": [
        "unique(books[\"Type\"])"
      ],
      "metadata": {
        "colab": {
          "base_uri": "https://localhost:8080/",
          "height": 286
        },
        "id": "1jXxJ2tG8794",
        "outputId": "eb49dc13-6709-455f-bda9-1e5cb6eafcda"
      },
      "execution_count": null,
      "outputs": [
        {
          "output_type": "display_data",
          "data": {
            "text/plain": [
              "    Type                 \n",
              "1   Hardcover            \n",
              "3   Kindle Edition       \n",
              "6   Paperback            \n",
              "55  ebook                \n",
              "86  Unknown Binding      \n",
              "269 Boxed Set - Hardcover"
            ],
            "text/latex": "A data.frame: 6 × 1\n\\begin{tabular}{r|l}\n  & Type\\\\\n  & <fct>\\\\\n\\hline\n\t1 & Hardcover            \\\\\n\t3 & Kindle Edition       \\\\\n\t6 & Paperback            \\\\\n\t55 & ebook                \\\\\n\t86 & Unknown Binding      \\\\\n\t269 & Boxed Set - Hardcover\\\\\n\\end{tabular}\n",
            "text/markdown": "\nA data.frame: 6 × 1\n\n| <!--/--> | Type &lt;fct&gt; |\n|---|---|\n| 1 | Hardcover             |\n| 3 | Kindle Edition        |\n| 6 | Paperback             |\n| 55 | ebook                 |\n| 86 | Unknown Binding       |\n| 269 | Boxed Set - Hardcover |\n\n",
            "text/html": [
              "<table class=\"dataframe\">\n",
              "<caption>A data.frame: 6 × 1</caption>\n",
              "<thead>\n",
              "\t<tr><th></th><th scope=col>Type</th></tr>\n",
              "\t<tr><th></th><th scope=col>&lt;fct&gt;</th></tr>\n",
              "</thead>\n",
              "<tbody>\n",
              "\t<tr><th scope=row>1</th><td>Hardcover            </td></tr>\n",
              "\t<tr><th scope=row>3</th><td>Kindle Edition       </td></tr>\n",
              "\t<tr><th scope=row>6</th><td>Paperback            </td></tr>\n",
              "\t<tr><th scope=row>55</th><td>ebook                </td></tr>\n",
              "\t<tr><th scope=row>86</th><td>Unknown Binding      </td></tr>\n",
              "\t<tr><th scope=row>269</th><td>Boxed Set - Hardcover</td></tr>\n",
              "</tbody>\n",
              "</table>\n"
            ]
          },
          "metadata": {}
        }
      ]
    },
    {
      "cell_type": "code",
      "source": [
        "colnames(books)"
      ],
      "metadata": {
        "colab": {
          "base_uri": "https://localhost:8080/",
          "height": 34
        },
        "id": "SIOfx9Bf9OHV",
        "outputId": "395c65d5-03c6-46ec-c0d8-249b7de5cb95"
      },
      "execution_count": null,
      "outputs": [
        {
          "output_type": "display_data",
          "data": {
            "text/plain": [
              "[1] \"Rating\"          \"Reviews\"         \"Book_title\"      \"Number_Of_Pages\"\n",
              "[5] \"Type\"            \"Price\"          "
            ],
            "text/latex": "\\begin{enumerate*}\n\\item 'Rating'\n\\item 'Reviews'\n\\item 'Book\\_title'\n\\item 'Number\\_Of\\_Pages'\n\\item 'Type'\n\\item 'Price'\n\\end{enumerate*}\n",
            "text/markdown": "1. 'Rating'\n2. 'Reviews'\n3. 'Book_title'\n4. 'Number_Of_Pages'\n5. 'Type'\n6. 'Price'\n\n\n",
            "text/html": [
              "<style>\n",
              ".list-inline {list-style: none; margin:0; padding: 0}\n",
              ".list-inline>li {display: inline-block}\n",
              ".list-inline>li:not(:last-child)::after {content: \"\\00b7\"; padding: 0 .5ex}\n",
              "</style>\n",
              "<ol class=list-inline><li>'Rating'</li><li>'Reviews'</li><li>'Book_title'</li><li>'Number_Of_Pages'</li><li>'Type'</li><li>'Price'</li></ol>\n"
            ]
          },
          "metadata": {}
        }
      ]
    },
    {
      "cell_type": "code",
      "source": [
        "rownames(books)"
      ],
      "metadata": {
        "colab": {
          "base_uri": "https://localhost:8080/",
          "height": 312
        },
        "id": "WeLIFMaw-Ay5",
        "outputId": "af96cde9-a9db-4899-f477-764799bd0894"
      },
      "execution_count": null,
      "outputs": [
        {
          "output_type": "display_data",
          "data": {
            "text/plain": [
              "  [1] \"1\"   \"2\"   \"3\"   \"4\"   \"5\"   \"6\"   \"7\"   \"8\"   \"9\"   \"10\"  \"11\"  \"12\" \n",
              " [13] \"13\"  \"14\"  \"15\"  \"16\"  \"17\"  \"18\"  \"19\"  \"20\"  \"21\"  \"22\"  \"23\"  \"24\" \n",
              " [25] \"25\"  \"26\"  \"27\"  \"28\"  \"29\"  \"30\"  \"31\"  \"32\"  \"33\"  \"34\"  \"35\"  \"36\" \n",
              " [37] \"37\"  \"38\"  \"39\"  \"40\"  \"41\"  \"42\"  \"43\"  \"44\"  \"45\"  \"46\"  \"47\"  \"48\" \n",
              " [49] \"49\"  \"50\"  \"51\"  \"52\"  \"53\"  \"54\"  \"55\"  \"56\"  \"57\"  \"58\"  \"59\"  \"60\" \n",
              " [61] \"61\"  \"62\"  \"63\"  \"64\"  \"65\"  \"66\"  \"67\"  \"68\"  \"69\"  \"70\"  \"71\"  \"72\" \n",
              " [73] \"73\"  \"74\"  \"75\"  \"76\"  \"77\"  \"78\"  \"79\"  \"80\"  \"81\"  \"82\"  \"83\"  \"84\" \n",
              " [85] \"85\"  \"86\"  \"87\"  \"88\"  \"89\"  \"90\"  \"91\"  \"92\"  \"93\"  \"94\"  \"95\"  \"96\" \n",
              " [97] \"97\"  \"98\"  \"99\"  \"100\" \"101\" \"102\" \"103\" \"104\" \"105\" \"106\" \"107\" \"108\"\n",
              "[109] \"109\" \"110\" \"111\" \"112\" \"113\" \"114\" \"115\" \"116\" \"117\" \"118\" \"119\" \"120\"\n",
              "[121] \"121\" \"122\" \"123\" \"124\" \"125\" \"126\" \"127\" \"128\" \"129\" \"130\" \"131\" \"132\"\n",
              "[133] \"133\" \"134\" \"135\" \"136\" \"137\" \"138\" \"139\" \"140\" \"141\" \"142\" \"143\" \"144\"\n",
              "[145] \"145\" \"146\" \"147\" \"148\" \"149\" \"150\" \"151\" \"152\" \"153\" \"154\" \"155\" \"156\"\n",
              "[157] \"157\" \"158\" \"159\" \"160\" \"161\" \"162\" \"163\" \"164\" \"165\" \"166\" \"167\" \"168\"\n",
              "[169] \"169\" \"170\" \"171\" \"172\" \"173\" \"174\" \"175\" \"176\" \"177\" \"178\" \"179\" \"180\"\n",
              "[181] \"181\" \"182\" \"183\" \"184\" \"185\" \"186\" \"187\" \"188\" \"189\" \"190\" \"191\" \"192\"\n",
              "[193] \"193\" \"194\" \"195\" \"196\" \"197\" \"198\" \"199\" \"200\" \"201\" \"202\" \"203\" \"204\"\n",
              "[205] \"205\" \"206\" \"207\" \"208\" \"209\" \"210\" \"211\" \"212\" \"213\" \"214\" \"215\" \"216\"\n",
              "[217] \"217\" \"218\" \"219\" \"220\" \"221\" \"222\" \"223\" \"224\" \"225\" \"226\" \"227\" \"228\"\n",
              "[229] \"229\" \"230\" \"231\" \"232\" \"233\" \"234\" \"235\" \"236\" \"237\" \"238\" \"239\" \"240\"\n",
              "[241] \"241\" \"242\" \"243\" \"244\" \"245\" \"246\" \"247\" \"248\" \"249\" \"250\" \"251\" \"252\"\n",
              "[253] \"253\" \"254\" \"255\" \"256\" \"257\" \"258\" \"259\" \"260\" \"261\" \"262\" \"263\" \"264\"\n",
              "[265] \"265\" \"266\" \"267\" \"268\" \"269\" \"270\" \"271\""
            ],
            "text/latex": "\\begin{enumerate*}\n\\item '1'\n\\item '2'\n\\item '3'\n\\item '4'\n\\item '5'\n\\item '6'\n\\item '7'\n\\item '8'\n\\item '9'\n\\item '10'\n\\item '11'\n\\item '12'\n\\item '13'\n\\item '14'\n\\item '15'\n\\item '16'\n\\item '17'\n\\item '18'\n\\item '19'\n\\item '20'\n\\item '21'\n\\item '22'\n\\item '23'\n\\item '24'\n\\item '25'\n\\item '26'\n\\item '27'\n\\item '28'\n\\item '29'\n\\item '30'\n\\item '31'\n\\item '32'\n\\item '33'\n\\item '34'\n\\item '35'\n\\item '36'\n\\item '37'\n\\item '38'\n\\item '39'\n\\item '40'\n\\item '41'\n\\item '42'\n\\item '43'\n\\item '44'\n\\item '45'\n\\item '46'\n\\item '47'\n\\item '48'\n\\item '49'\n\\item '50'\n\\item '51'\n\\item '52'\n\\item '53'\n\\item '54'\n\\item '55'\n\\item '56'\n\\item '57'\n\\item '58'\n\\item '59'\n\\item '60'\n\\item '61'\n\\item '62'\n\\item '63'\n\\item '64'\n\\item '65'\n\\item '66'\n\\item '67'\n\\item '68'\n\\item '69'\n\\item '70'\n\\item '71'\n\\item '72'\n\\item '73'\n\\item '74'\n\\item '75'\n\\item '76'\n\\item '77'\n\\item '78'\n\\item '79'\n\\item '80'\n\\item '81'\n\\item '82'\n\\item '83'\n\\item '84'\n\\item '85'\n\\item '86'\n\\item '87'\n\\item '88'\n\\item '89'\n\\item '90'\n\\item '91'\n\\item '92'\n\\item '93'\n\\item '94'\n\\item '95'\n\\item '96'\n\\item '97'\n\\item '98'\n\\item '99'\n\\item '100'\n\\item '101'\n\\item '102'\n\\item '103'\n\\item '104'\n\\item '105'\n\\item '106'\n\\item '107'\n\\item '108'\n\\item '109'\n\\item '110'\n\\item '111'\n\\item '112'\n\\item '113'\n\\item '114'\n\\item '115'\n\\item '116'\n\\item '117'\n\\item '118'\n\\item '119'\n\\item '120'\n\\item '121'\n\\item '122'\n\\item '123'\n\\item '124'\n\\item '125'\n\\item '126'\n\\item '127'\n\\item '128'\n\\item '129'\n\\item '130'\n\\item '131'\n\\item '132'\n\\item '133'\n\\item '134'\n\\item '135'\n\\item '136'\n\\item '137'\n\\item '138'\n\\item '139'\n\\item '140'\n\\item '141'\n\\item '142'\n\\item '143'\n\\item '144'\n\\item '145'\n\\item '146'\n\\item '147'\n\\item '148'\n\\item '149'\n\\item '150'\n\\item '151'\n\\item '152'\n\\item '153'\n\\item '154'\n\\item '155'\n\\item '156'\n\\item '157'\n\\item '158'\n\\item '159'\n\\item '160'\n\\item '161'\n\\item '162'\n\\item '163'\n\\item '164'\n\\item '165'\n\\item '166'\n\\item '167'\n\\item '168'\n\\item '169'\n\\item '170'\n\\item '171'\n\\item '172'\n\\item '173'\n\\item '174'\n\\item '175'\n\\item '176'\n\\item '177'\n\\item '178'\n\\item '179'\n\\item '180'\n\\item '181'\n\\item '182'\n\\item '183'\n\\item '184'\n\\item '185'\n\\item '186'\n\\item '187'\n\\item '188'\n\\item '189'\n\\item '190'\n\\item '191'\n\\item '192'\n\\item '193'\n\\item '194'\n\\item '195'\n\\item '196'\n\\item '197'\n\\item '198'\n\\item '199'\n\\item '200'\n\\item '201'\n\\item '202'\n\\item '203'\n\\item '204'\n\\item '205'\n\\item '206'\n\\item '207'\n\\item '208'\n\\item '209'\n\\item '210'\n\\item '211'\n\\item '212'\n\\item '213'\n\\item '214'\n\\item '215'\n\\item '216'\n\\item '217'\n\\item '218'\n\\item '219'\n\\item '220'\n\\item '221'\n\\item '222'\n\\item '223'\n\\item '224'\n\\item '225'\n\\item '226'\n\\item '227'\n\\item '228'\n\\item '229'\n\\item '230'\n\\item '231'\n\\item '232'\n\\item '233'\n\\item '234'\n\\item '235'\n\\item '236'\n\\item '237'\n\\item '238'\n\\item '239'\n\\item '240'\n\\item '241'\n\\item '242'\n\\item '243'\n\\item '244'\n\\item '245'\n\\item '246'\n\\item '247'\n\\item '248'\n\\item '249'\n\\item '250'\n\\item '251'\n\\item '252'\n\\item '253'\n\\item '254'\n\\item '255'\n\\item '256'\n\\item '257'\n\\item '258'\n\\item '259'\n\\item '260'\n\\item '261'\n\\item '262'\n\\item '263'\n\\item '264'\n\\item '265'\n\\item '266'\n\\item '267'\n\\item '268'\n\\item '269'\n\\item '270'\n\\item '271'\n\\end{enumerate*}\n",
            "text/markdown": "1. '1'\n2. '2'\n3. '3'\n4. '4'\n5. '5'\n6. '6'\n7. '7'\n8. '8'\n9. '9'\n10. '10'\n11. '11'\n12. '12'\n13. '13'\n14. '14'\n15. '15'\n16. '16'\n17. '17'\n18. '18'\n19. '19'\n20. '20'\n21. '21'\n22. '22'\n23. '23'\n24. '24'\n25. '25'\n26. '26'\n27. '27'\n28. '28'\n29. '29'\n30. '30'\n31. '31'\n32. '32'\n33. '33'\n34. '34'\n35. '35'\n36. '36'\n37. '37'\n38. '38'\n39. '39'\n40. '40'\n41. '41'\n42. '42'\n43. '43'\n44. '44'\n45. '45'\n46. '46'\n47. '47'\n48. '48'\n49. '49'\n50. '50'\n51. '51'\n52. '52'\n53. '53'\n54. '54'\n55. '55'\n56. '56'\n57. '57'\n58. '58'\n59. '59'\n60. '60'\n61. '61'\n62. '62'\n63. '63'\n64. '64'\n65. '65'\n66. '66'\n67. '67'\n68. '68'\n69. '69'\n70. '70'\n71. '71'\n72. '72'\n73. '73'\n74. '74'\n75. '75'\n76. '76'\n77. '77'\n78. '78'\n79. '79'\n80. '80'\n81. '81'\n82. '82'\n83. '83'\n84. '84'\n85. '85'\n86. '86'\n87. '87'\n88. '88'\n89. '89'\n90. '90'\n91. '91'\n92. '92'\n93. '93'\n94. '94'\n95. '95'\n96. '96'\n97. '97'\n98. '98'\n99. '99'\n100. '100'\n101. '101'\n102. '102'\n103. '103'\n104. '104'\n105. '105'\n106. '106'\n107. '107'\n108. '108'\n109. '109'\n110. '110'\n111. '111'\n112. '112'\n113. '113'\n114. '114'\n115. '115'\n116. '116'\n117. '117'\n118. '118'\n119. '119'\n120. '120'\n121. '121'\n122. '122'\n123. '123'\n124. '124'\n125. '125'\n126. '126'\n127. '127'\n128. '128'\n129. '129'\n130. '130'\n131. '131'\n132. '132'\n133. '133'\n134. '134'\n135. '135'\n136. '136'\n137. '137'\n138. '138'\n139. '139'\n140. '140'\n141. '141'\n142. '142'\n143. '143'\n144. '144'\n145. '145'\n146. '146'\n147. '147'\n148. '148'\n149. '149'\n150. '150'\n151. '151'\n152. '152'\n153. '153'\n154. '154'\n155. '155'\n156. '156'\n157. '157'\n158. '158'\n159. '159'\n160. '160'\n161. '161'\n162. '162'\n163. '163'\n164. '164'\n165. '165'\n166. '166'\n167. '167'\n168. '168'\n169. '169'\n170. '170'\n171. '171'\n172. '172'\n173. '173'\n174. '174'\n175. '175'\n176. '176'\n177. '177'\n178. '178'\n179. '179'\n180. '180'\n181. '181'\n182. '182'\n183. '183'\n184. '184'\n185. '185'\n186. '186'\n187. '187'\n188. '188'\n189. '189'\n190. '190'\n191. '191'\n192. '192'\n193. '193'\n194. '194'\n195. '195'\n196. '196'\n197. '197'\n198. '198'\n199. '199'\n200. '200'\n201. '201'\n202. '202'\n203. '203'\n204. '204'\n205. '205'\n206. '206'\n207. '207'\n208. '208'\n209. '209'\n210. '210'\n211. '211'\n212. '212'\n213. '213'\n214. '214'\n215. '215'\n216. '216'\n217. '217'\n218. '218'\n219. '219'\n220. '220'\n221. '221'\n222. '222'\n223. '223'\n224. '224'\n225. '225'\n226. '226'\n227. '227'\n228. '228'\n229. '229'\n230. '230'\n231. '231'\n232. '232'\n233. '233'\n234. '234'\n235. '235'\n236. '236'\n237. '237'\n238. '238'\n239. '239'\n240. '240'\n241. '241'\n242. '242'\n243. '243'\n244. '244'\n245. '245'\n246. '246'\n247. '247'\n248. '248'\n249. '249'\n250. '250'\n251. '251'\n252. '252'\n253. '253'\n254. '254'\n255. '255'\n256. '256'\n257. '257'\n258. '258'\n259. '259'\n260. '260'\n261. '261'\n262. '262'\n263. '263'\n264. '264'\n265. '265'\n266. '266'\n267. '267'\n268. '268'\n269. '269'\n270. '270'\n271. '271'\n\n\n",
            "text/html": [
              "<style>\n",
              ".list-inline {list-style: none; margin:0; padding: 0}\n",
              ".list-inline>li {display: inline-block}\n",
              ".list-inline>li:not(:last-child)::after {content: \"\\00b7\"; padding: 0 .5ex}\n",
              "</style>\n",
              "<ol class=list-inline><li>'1'</li><li>'2'</li><li>'3'</li><li>'4'</li><li>'5'</li><li>'6'</li><li>'7'</li><li>'8'</li><li>'9'</li><li>'10'</li><li>'11'</li><li>'12'</li><li>'13'</li><li>'14'</li><li>'15'</li><li>'16'</li><li>'17'</li><li>'18'</li><li>'19'</li><li>'20'</li><li>'21'</li><li>'22'</li><li>'23'</li><li>'24'</li><li>'25'</li><li>'26'</li><li>'27'</li><li>'28'</li><li>'29'</li><li>'30'</li><li>'31'</li><li>'32'</li><li>'33'</li><li>'34'</li><li>'35'</li><li>'36'</li><li>'37'</li><li>'38'</li><li>'39'</li><li>'40'</li><li>'41'</li><li>'42'</li><li>'43'</li><li>'44'</li><li>'45'</li><li>'46'</li><li>'47'</li><li>'48'</li><li>'49'</li><li>'50'</li><li>'51'</li><li>'52'</li><li>'53'</li><li>'54'</li><li>'55'</li><li>'56'</li><li>'57'</li><li>'58'</li><li>'59'</li><li>'60'</li><li>'61'</li><li>'62'</li><li>'63'</li><li>'64'</li><li>'65'</li><li>'66'</li><li>'67'</li><li>'68'</li><li>'69'</li><li>'70'</li><li>'71'</li><li>'72'</li><li>'73'</li><li>'74'</li><li>'75'</li><li>'76'</li><li>'77'</li><li>'78'</li><li>'79'</li><li>'80'</li><li>'81'</li><li>'82'</li><li>'83'</li><li>'84'</li><li>'85'</li><li>'86'</li><li>'87'</li><li>'88'</li><li>'89'</li><li>'90'</li><li>'91'</li><li>'92'</li><li>'93'</li><li>'94'</li><li>'95'</li><li>'96'</li><li>'97'</li><li>'98'</li><li>'99'</li><li>'100'</li><li>'101'</li><li>'102'</li><li>'103'</li><li>'104'</li><li>'105'</li><li>'106'</li><li>'107'</li><li>'108'</li><li>'109'</li><li>'110'</li><li>'111'</li><li>'112'</li><li>'113'</li><li>'114'</li><li>'115'</li><li>'116'</li><li>'117'</li><li>'118'</li><li>'119'</li><li>'120'</li><li>'121'</li><li>'122'</li><li>'123'</li><li>'124'</li><li>'125'</li><li>'126'</li><li>'127'</li><li>'128'</li><li>'129'</li><li>'130'</li><li>'131'</li><li>'132'</li><li>'133'</li><li>'134'</li><li>'135'</li><li>'136'</li><li>'137'</li><li>'138'</li><li>'139'</li><li>'140'</li><li>'141'</li><li>'142'</li><li>'143'</li><li>'144'</li><li>'145'</li><li>'146'</li><li>'147'</li><li>'148'</li><li>'149'</li><li>'150'</li><li>'151'</li><li>'152'</li><li>'153'</li><li>'154'</li><li>'155'</li><li>'156'</li><li>'157'</li><li>'158'</li><li>'159'</li><li>'160'</li><li>'161'</li><li>'162'</li><li>'163'</li><li>'164'</li><li>'165'</li><li>'166'</li><li>'167'</li><li>'168'</li><li>'169'</li><li>'170'</li><li>'171'</li><li>'172'</li><li>'173'</li><li>'174'</li><li>'175'</li><li>'176'</li><li>'177'</li><li>'178'</li><li>'179'</li><li>'180'</li><li>'181'</li><li>'182'</li><li>'183'</li><li>'184'</li><li>'185'</li><li>'186'</li><li>'187'</li><li>'188'</li><li>'189'</li><li>'190'</li><li>'191'</li><li>'192'</li><li>'193'</li><li>'194'</li><li>'195'</li><li>'196'</li><li>'197'</li><li>'198'</li><li>'199'</li><li>'200'</li><li>'201'</li><li>'202'</li><li>'203'</li><li>'204'</li><li>'205'</li><li>'206'</li><li>'207'</li><li>'208'</li><li>'209'</li><li>'210'</li><li>'211'</li><li>'212'</li><li>'213'</li><li>'214'</li><li>'215'</li><li>'216'</li><li>'217'</li><li>'218'</li><li>'219'</li><li>'220'</li><li>'221'</li><li>'222'</li><li>'223'</li><li>'224'</li><li>'225'</li><li>'226'</li><li>'227'</li><li>'228'</li><li>'229'</li><li>'230'</li><li>'231'</li><li>'232'</li><li>'233'</li><li>'234'</li><li>'235'</li><li>'236'</li><li>'237'</li><li>'238'</li><li>'239'</li><li>'240'</li><li>'241'</li><li>'242'</li><li>'243'</li><li>'244'</li><li>'245'</li><li>'246'</li><li>'247'</li><li>'248'</li><li>'249'</li><li>'250'</li><li>'251'</li><li>'252'</li><li>'253'</li><li>'254'</li><li>'255'</li><li>'256'</li><li>'257'</li><li>'258'</li><li>'259'</li><li>'260'</li><li>'261'</li><li>'262'</li><li>'263'</li><li>'264'</li><li>'265'</li><li>'266'</li><li>'267'</li><li>'268'</li><li>'269'</li><li>'270'</li><li>'271'</li></ol>\n"
            ]
          },
          "metadata": {}
        }
      ]
    },
    {
      "cell_type": "markdown",
      "metadata": {
        "heading_collapsed": true,
        "id": "rXyDfHodtPhd"
      },
      "source": [
        "### Вывод значений"
      ]
    },
    {
      "cell_type": "markdown",
      "metadata": {
        "heading_collapsed": true,
        "hidden": true,
        "id": "GAMcEtHXtPhf"
      },
      "source": [
        "#### первые / последние строки"
      ]
    },
    {
      "cell_type": "markdown",
      "metadata": {
        "id": "gnAa05TA6l6M"
      },
      "source": [
        "В данном разделе будут показаны несколько способов вывода значений DataFrame. R предлагает функции head() и tail() для исследования первых или последних строк, а также sample() для выбора случайных строк."
      ]
    },
    {
      "cell_type": "code",
      "source": [
        "head(books, n=2)"
      ],
      "metadata": {
        "colab": {
          "base_uri": "https://localhost:8080/",
          "height": 195
        },
        "id": "7MZB53jx-EvY",
        "outputId": "31ade457-c5b5-40c5-be92-3a64db8aac71"
      },
      "execution_count": null,
      "outputs": [
        {
          "output_type": "display_data",
          "data": {
            "text/plain": [
              "  Rating Reviews Book_title                                    Number_Of_Pages\n",
              "1 4.17   3,829   The Elements of Style                         105            \n",
              "2 4.01   1,406   The Information: A History, a Theory, a Flood 527            \n",
              "  Type      Price    \n",
              "1 Hardcover  9.323529\n",
              "2 Hardcover 11.000000"
            ],
            "text/latex": "A data.frame: 2 × 6\n\\begin{tabular}{r|llllll}\n  & Rating & Reviews & Book\\_title & Number\\_Of\\_Pages & Type & Price\\\\\n  & <dbl> & <fct> & <fct> & <dbl> & <fct> & <dbl>\\\\\n\\hline\n\t1 & 4.17 & 3,829 & The Elements of Style                         & 105 & Hardcover &  9.323529\\\\\n\t2 & 4.01 & 1,406 & The Information: A History, a Theory, a Flood & 527 & Hardcover & 11.000000\\\\\n\\end{tabular}\n",
            "text/markdown": "\nA data.frame: 2 × 6\n\n| <!--/--> | Rating &lt;dbl&gt; | Reviews &lt;fct&gt; | Book_title &lt;fct&gt; | Number_Of_Pages &lt;dbl&gt; | Type &lt;fct&gt; | Price &lt;dbl&gt; |\n|---|---|---|---|---|---|---|\n| 1 | 4.17 | 3,829 | The Elements of Style                         | 105 | Hardcover |  9.323529 |\n| 2 | 4.01 | 1,406 | The Information: A History, a Theory, a Flood | 527 | Hardcover | 11.000000 |\n\n",
            "text/html": [
              "<table class=\"dataframe\">\n",
              "<caption>A data.frame: 2 × 6</caption>\n",
              "<thead>\n",
              "\t<tr><th></th><th scope=col>Rating</th><th scope=col>Reviews</th><th scope=col>Book_title</th><th scope=col>Number_Of_Pages</th><th scope=col>Type</th><th scope=col>Price</th></tr>\n",
              "\t<tr><th></th><th scope=col>&lt;dbl&gt;</th><th scope=col>&lt;fct&gt;</th><th scope=col>&lt;fct&gt;</th><th scope=col>&lt;dbl&gt;</th><th scope=col>&lt;fct&gt;</th><th scope=col>&lt;dbl&gt;</th></tr>\n",
              "</thead>\n",
              "<tbody>\n",
              "\t<tr><th scope=row>1</th><td>4.17</td><td>3,829</td><td>The Elements of Style                        </td><td>105</td><td>Hardcover</td><td> 9.323529</td></tr>\n",
              "\t<tr><th scope=row>2</th><td>4.01</td><td>1,406</td><td>The Information: A History, a Theory, a Flood</td><td>527</td><td>Hardcover</td><td>11.000000</td></tr>\n",
              "</tbody>\n",
              "</table>\n"
            ]
          },
          "metadata": {}
        }
      ]
    },
    {
      "cell_type": "code",
      "source": [
        "tail(books, n=2)"
      ],
      "metadata": {
        "colab": {
          "base_uri": "https://localhost:8080/",
          "height": 213
        },
        "id": "JOW95WyD-KO2",
        "outputId": "361a937b-3990-4f74-e091-84b0d694fd7d"
      },
      "execution_count": null,
      "outputs": [
        {
          "output_type": "display_data",
          "data": {
            "text/plain": [
              "    Rating Reviews Book_title                                             \n",
              "270 4.77   4       The Art of Computer Programming, Volumes 1-4a Boxed Set\n",
              "271 3.84   5       A Discipline for Software Engineering                  \n",
              "    Number_Of_Pages Type      Price   \n",
              "270 3168            Hardcover 220.3853\n",
              "271  789            Hardcover 235.6500"
            ],
            "text/latex": "A data.frame: 2 × 6\n\\begin{tabular}{r|llllll}\n  & Rating & Reviews & Book\\_title & Number\\_Of\\_Pages & Type & Price\\\\\n  & <dbl> & <fct> & <fct> & <dbl> & <fct> & <dbl>\\\\\n\\hline\n\t270 & 4.77 & 4 & The Art of Computer Programming, Volumes 1-4a Boxed Set & 3168 & Hardcover & 220.3853\\\\\n\t271 & 3.84 & 5 & A Discipline for Software Engineering                   &  789 & Hardcover & 235.6500\\\\\n\\end{tabular}\n",
            "text/markdown": "\nA data.frame: 2 × 6\n\n| <!--/--> | Rating &lt;dbl&gt; | Reviews &lt;fct&gt; | Book_title &lt;fct&gt; | Number_Of_Pages &lt;dbl&gt; | Type &lt;fct&gt; | Price &lt;dbl&gt; |\n|---|---|---|---|---|---|---|\n| 270 | 4.77 | 4 | The Art of Computer Programming, Volumes 1-4a Boxed Set | 3168 | Hardcover | 220.3853 |\n| 271 | 3.84 | 5 | A Discipline for Software Engineering                   |  789 | Hardcover | 235.6500 |\n\n",
            "text/html": [
              "<table class=\"dataframe\">\n",
              "<caption>A data.frame: 2 × 6</caption>\n",
              "<thead>\n",
              "\t<tr><th></th><th scope=col>Rating</th><th scope=col>Reviews</th><th scope=col>Book_title</th><th scope=col>Number_Of_Pages</th><th scope=col>Type</th><th scope=col>Price</th></tr>\n",
              "\t<tr><th></th><th scope=col>&lt;dbl&gt;</th><th scope=col>&lt;fct&gt;</th><th scope=col>&lt;fct&gt;</th><th scope=col>&lt;dbl&gt;</th><th scope=col>&lt;fct&gt;</th><th scope=col>&lt;dbl&gt;</th></tr>\n",
              "</thead>\n",
              "<tbody>\n",
              "\t<tr><th scope=row>270</th><td>4.77</td><td>4</td><td>The Art of Computer Programming, Volumes 1-4a Boxed Set</td><td>3168</td><td>Hardcover</td><td>220.3853</td></tr>\n",
              "\t<tr><th scope=row>271</th><td>3.84</td><td>5</td><td>A Discipline for Software Engineering                  </td><td> 789</td><td>Hardcover</td><td>235.6500</td></tr>\n",
              "</tbody>\n",
              "</table>\n"
            ]
          },
          "metadata": {}
        }
      ]
    },
    {
      "cell_type": "code",
      "source": [
        "books[sample(nrow(books), 2),]"
      ],
      "metadata": {
        "colab": {
          "base_uri": "https://localhost:8080/",
          "height": 247
        },
        "id": "vzA7MyB6-MZL",
        "outputId": "82df3ea6-882b-4002-809c-01bbb1af6497"
      },
      "execution_count": null,
      "outputs": [
        {
          "output_type": "display_data",
          "data": {
            "text/plain": [
              "    Rating Reviews\n",
              "265 3.82   0      \n",
              "9   3.87   2,093  \n",
              "    Book_title                                                                            \n",
              "265 Game Programming Gems 3                                                               \n",
              "9   Weapons of Math Destruction: How Big Data Increases Inequality and Threatens Democracy\n",
              "    Number_Of_Pages Type      Price    \n",
              "265 663             Hardcover 143.13824\n",
              "9   259             Hardcover  14.50294"
            ],
            "text/latex": "A data.frame: 2 × 6\n\\begin{tabular}{r|llllll}\n  & Rating & Reviews & Book\\_title & Number\\_Of\\_Pages & Type & Price\\\\\n  & <dbl> & <fct> & <fct> & <dbl> & <fct> & <dbl>\\\\\n\\hline\n\t265 & 3.82 & 0     & Game Programming Gems 3                                                                & 663 & Hardcover & 143.13824\\\\\n\t9 & 3.87 & 2,093 & Weapons of Math Destruction: How Big Data Increases Inequality and Threatens Democracy & 259 & Hardcover &  14.50294\\\\\n\\end{tabular}\n",
            "text/markdown": "\nA data.frame: 2 × 6\n\n| <!--/--> | Rating &lt;dbl&gt; | Reviews &lt;fct&gt; | Book_title &lt;fct&gt; | Number_Of_Pages &lt;dbl&gt; | Type &lt;fct&gt; | Price &lt;dbl&gt; |\n|---|---|---|---|---|---|---|\n| 265 | 3.82 | 0     | Game Programming Gems 3                                                                | 663 | Hardcover | 143.13824 |\n| 9 | 3.87 | 2,093 | Weapons of Math Destruction: How Big Data Increases Inequality and Threatens Democracy | 259 | Hardcover |  14.50294 |\n\n",
            "text/html": [
              "<table class=\"dataframe\">\n",
              "<caption>A data.frame: 2 × 6</caption>\n",
              "<thead>\n",
              "\t<tr><th></th><th scope=col>Rating</th><th scope=col>Reviews</th><th scope=col>Book_title</th><th scope=col>Number_Of_Pages</th><th scope=col>Type</th><th scope=col>Price</th></tr>\n",
              "\t<tr><th></th><th scope=col>&lt;dbl&gt;</th><th scope=col>&lt;fct&gt;</th><th scope=col>&lt;fct&gt;</th><th scope=col>&lt;dbl&gt;</th><th scope=col>&lt;fct&gt;</th><th scope=col>&lt;dbl&gt;</th></tr>\n",
              "</thead>\n",
              "<tbody>\n",
              "\t<tr><th scope=row>265</th><td>3.82</td><td>0    </td><td>Game Programming Gems 3                                                               </td><td>663</td><td>Hardcover</td><td>143.13824</td></tr>\n",
              "\t<tr><th scope=row>9</th><td>3.87</td><td>2,093</td><td>Weapons of Math Destruction: How Big Data Increases Inequality and Threatens Democracy</td><td>259</td><td>Hardcover</td><td> 14.50294</td></tr>\n",
              "</tbody>\n",
              "</table>\n"
            ]
          },
          "metadata": {}
        }
      ]
    },
    {
      "cell_type": "code",
      "source": [
        "head(books[c(\"Book_title\", \"Number_Of_Pages\")], n=2)"
      ],
      "metadata": {
        "colab": {
          "base_uri": "https://localhost:8080/",
          "height": 161
        },
        "id": "y1tF7eV7-Oum",
        "outputId": "af2da0a8-6f27-4d2a-ec5a-f4bbd3e1e0a8"
      },
      "execution_count": null,
      "outputs": [
        {
          "output_type": "display_data",
          "data": {
            "text/plain": [
              "  Book_title                                    Number_Of_Pages\n",
              "1 The Elements of Style                         105            \n",
              "2 The Information: A History, a Theory, a Flood 527            "
            ],
            "text/latex": "A data.frame: 2 × 2\n\\begin{tabular}{r|ll}\n  & Book\\_title & Number\\_Of\\_Pages\\\\\n  & <fct> & <dbl>\\\\\n\\hline\n\t1 & The Elements of Style                         & 105\\\\\n\t2 & The Information: A History, a Theory, a Flood & 527\\\\\n\\end{tabular}\n",
            "text/markdown": "\nA data.frame: 2 × 2\n\n| <!--/--> | Book_title &lt;fct&gt; | Number_Of_Pages &lt;dbl&gt; |\n|---|---|---|\n| 1 | The Elements of Style                         | 105 |\n| 2 | The Information: A History, a Theory, a Flood | 527 |\n\n",
            "text/html": [
              "<table class=\"dataframe\">\n",
              "<caption>A data.frame: 2 × 2</caption>\n",
              "<thead>\n",
              "\t<tr><th></th><th scope=col>Book_title</th><th scope=col>Number_Of_Pages</th></tr>\n",
              "\t<tr><th></th><th scope=col>&lt;fct&gt;</th><th scope=col>&lt;dbl&gt;</th></tr>\n",
              "</thead>\n",
              "<tbody>\n",
              "\t<tr><th scope=row>1</th><td>The Elements of Style                        </td><td>105</td></tr>\n",
              "\t<tr><th scope=row>2</th><td>The Information: A History, a Theory, a Flood</td><td>527</td></tr>\n",
              "</tbody>\n",
              "</table>\n"
            ]
          },
          "metadata": {}
        }
      ]
    },
    {
      "cell_type": "code",
      "source": [
        "head(books$Book_title, n=3)"
      ],
      "metadata": {
        "colab": {
          "base_uri": "https://localhost:8080/",
          "height": 69
        },
        "id": "jzYClaMw_EwD",
        "outputId": "40ca89f8-a72b-4641-e00c-542004da5c9b"
      },
      "execution_count": null,
      "outputs": [
        {
          "output_type": "display_data",
          "data": {
            "text/plain": [
              "[1] The Elements of Style                        \n",
              "[2] The Information: A History, a Theory, a Flood\n",
              "[3] Responsive Web Design Overview For Beginners \n",
              "271 Levels: 3D Game Engine Architecture: Engineering Real-Time Applications with Wild Magic (The Morgan Kaufmann Series in Interactive 3d Technology) ..."
            ],
            "text/latex": "\\begin{enumerate*}\n\\item The Elements of Style\n\\item The Information: A History, a Theory, a Flood\n\\item Responsive Web Design Overview For Beginners\n\\end{enumerate*}\n\n\\emph{Levels}: \\begin{enumerate*}\n\\item '3D Game Engine Architecture: Engineering Real-Time Applications with Wild Magic (The Morgan Kaufmann Series in Interactive 3d Technology)'\n\\item '3D Game Engine Design: A Practical Approach to Real-Time Computer Graphics (The Morgan Kaufmann Series in Interactive 3D Technology)'\n\\item '3D Math Primer for Graphics and Game Development'\n\\item '97 Things Every Programmer Should Know: Collective Wisdom from the Experts'\n\\item 'A Discipline for Software Engineering'\n\\item 'A First Course in Logic: An Introduction to Model Theory, Proof Theory, Computability, and Complexity'\n\\item 'A Smarter Way to Learn JavaScript: The new approach that uses technology to cut your effort in half'\n\\item 'A Tour of C++'\n\\item 'Accelerate: Building and Scaling High-Performing Technology Organizations'\n\\item 'Accelerated C++: Practical Programming by Example'\n\\item 'Advanced Game Programming: A Gamedev.Net Collection'\n\\item 'Advanced Programming in the UNIX Environment'\n\\item 'Adventures in Minecraft'\n\\item 'Agile Retrospectives: Making Good Teams Great'\n\\item 'Agile Software Development, Principles, Patterns, and Practices'\n\\item 'Agile Web Development with Rails: A Pragmatic Guide'\n\\item 'Algorithm Design'\n\\item 'Algorithms'\n\\item 'Algorithms to Live By: The Computer Science of Human Decisions'\n\\item 'Algorithms Unlocked'\n\\item 'An Introduction to Database Systems'\n\\item 'An Introduction to Functional Programming Through Lambda Calculus'\n\\item 'Android NDK Game Development Cookbook'\n\\item 'API Design for C++'\n\\item 'Apprenticeship Patterns: Guidance for the Aspiring Software Craftsman'\n\\item 'Artificial Intelligence: A Modern Approach'\n\\item 'Assembly Language: Step-By-Step'\n\\item 'Augmented Reality: Principles and Practice'\n\\item 'Automate the Boring Stuff with Python: Practical Programming for Total Beginners'\n\\item 'Automate This: How Algorithms Came to Rule Our World'\n\\item 'Basic Proof Theory'\n\\item 'Beginners Guide On PHP Programming: Quick And Easy Guide To Learn PHP With My-SQL'\n\\item 'Beginning Game Programming: A Gamedev.Net Collection'\n\\item 'Beginning Java 2'\n\\item 'Best of Game Programming Gems'\n\\item 'Big Data: A Revolution That Will Transform How We Live, Work, and Think'\n\\item 'Big Data: Principles and best practices of scalable realtime data systems'\n\\item 'Blueprints Visual Scripting for Unreal Engine'\n\\item 'Build Web Applications with Java: Learn every aspect to build web applications from scratch'\n\\item 'Building an FPS Game with Unity'\n\\item 'Building Microservices: Designing Fine-Grained Systems'\n\\item 'C Primer Plus'\n\\item 'C: A Reference Manual'\n\\item 'C\\# in Depth'\n\\item 'C++ Coding Standards: 101 Rules, Guidelines, and Best Practices (C++ in Depth Series)'\n\\item 'C++ Primer'\n\\item 'C++ Templates: The Complete Guide'\n\\item 'Chaos: Making a New Science'\n\\item 'Clean Code: A Handbook of Agile Software Craftsmanship'\n\\item 'CLR via C\\# (Developer Reference)'\n\\item 'Code Complete'\n\\item 'Code: The Hidden Language of Computer Hardware and Software'\n\\item 'Coding Games in Scratch'\n\\item 'Communication Networks: Fundamental Concepts and Key Architectures'\n\\item 'Compilers: Principles, Techniques, and Tools'\n\\item 'Computability and Logic'\n\\item 'Computability and Unsolvability'\n\\item 'Computational Complexity'\n\\item 'Computational Geometry: Algorithms and Applications'\n\\item 'Computational Science and Engineering'\n\\item 'Computer Architecture: A Quantitative Approach'\n\\item 'Computer Systems: A Programmer\\textbackslash{}'s Perspective'\n\\item 'Concepts, Techniques, and Models of Computer Programming'\n\\item 'Concrete Mathematics: A Foundation for Computer Science'\n\\item 'Continuous Delivery: Reliable Software Releases Through Build, Test, and Deployment Automation'\n\\item 'Cross-Platform Game Programming (Game Development) (Charles River Media Game Development)'\n\\item 'Cryptography Engineering: Design Principles and Practical Applications'\n\\item 'CSS: The Missing Manual'\n\\item 'Data and Goliath: The Hidden Battles to Collect Your Data and Control Your World'\n\\item 'Data Science from Scratch: First Principles with Python'\n\\item 'Data Structures and Algorithms'\n\\item 'Database System Concepts'\n\\item 'Debugging: The 9 Indispensable Rules for Finding Even the Most Elusive Software and Hardware Problems'\n\\item 'Deep Learning'\n\\item 'Dependency Injection in .NET'\n\\item 'Design and Validation of Computer Protocols'\n\\item 'Design Patterns: Elements of Reusable Object-Oriented Software'\n\\item 'Designing Data-Intensive Applications: The Big Ideas Behind Reliable, Scalable, and Maintainable Systems'\n\\item 'DIV, Grad, Curl, and All That: An Informal Text on Vector Calculus'\n\\item 'Does God Play Dice?: The New Mathematics of Chaos'\n\\item 'Doing Data Science'\n\\item 'Domain-Driven Design: Tackling Complexity in the Heart of Software'\n\\item 'Domain-Specific Languages'\n\\item 'Effective JavaScript: 68 Specific Ways to Harness the Power of JavaScript'\n\\item 'Effective Programming: More Than Writing Code'\n\\item 'Effective Python: 59 Specific Ways to Write Better Python'\n\\item 'Effective STL: 50 Specific Ways to Improve Your Use of the Standard Template Library'\n\\item 'Elements of Programming'\n\\item 'Elements of the Theory of Computation'\n\\item 'Eloquent JavaScript: A Modern Introduction to Programming'\n\\item 'Engineering a Compiler'\n\\item 'Essential Mathematics for Games and Interactive Applications'\n\\item 'Essential Scrum: A Practical Guide to the Most Popular Agile Process'\n\\item 'Essentials of Programming Languages'\n\\item 'Exceptional C++ Style: 40 New Engineering Puzzles, Programming Problems, and Solutions'\n\\item 'Exceptional C++: 47 Engineering Puzzles, Programming Problems, and Solutions'\n\\item 'Expert C Programming: Deep C Secrets'\n\\item 'Extreme Programming Explained: Embrace Change (The XP Series)'\n\\item 'Fearless Change: Patterns for Introducing New Ideas'\n\\item 'Feynman Lectures On Computation'\n\\item 'File Structures: An Object-Oriented Approach with C++'\n\\item 'Fluent Python: Clear, Concise, and Effective Programming'\n\\item 'Framework Design Guidelines: Conventions, Idioms, and Patterns for Reusable .NET Libraries'\n\\item 'From Mathematics to Generic Programming'\n\\item 'Functional Programming Application and Implementation'\n\\item 'Functional Programming in Scala'\n\\item 'Game Engine Architecture'\n\\item 'Game Engine Gems 1'\n\\item 'Game Programming Gems'\n\\item 'Game Programming Gems 2'\n\\item 'Game Programming Gems 3'\n\\item 'Game Programming Gems 4'\n\\item 'Game Programming Gems 5'\n\\item 'Game Programming Gems 6'\n\\item 'Game Programming Golden Rules'\n\\item 'Game Programming Patterns'\n\\item 'Genetic Programming II: Automatic Discovery of Reusable Programs'\n\\item 'Geometric Algebra for Computer Science: An Object-Oriented Approach to Geometry'\n\\item 'Geometric Tools for Computer Graphics'\n\\item 'Ghost in the Wires: My Adventures as the World\\textbackslash{}'s Most Wanted Hacker'\n\\item 'Growing Object-Oriented Software, Guided by Tests'\n\\item 'Hacker\\textbackslash{}'s Delight'\n\\item 'Haskell: The Craft of Functional Programming'\n\\item 'Head First Design Patterns'\n\\item 'Help Your Kids with Computer Coding'\n\\item 'High Performance Browser Networking'\n\\item 'How Google Tests Software'\n\\item 'How Google Works'\n\\item 'How to Create a Mind: The Secret of Human Thought Revealed'\n\\item 'How to Design Programs: An Introduction to Programming and Computing'\n\\item 'How to Think Like a Computer Scientist: Learning with Python'\n\\item 'Implementing Domain-Driven Design'\n\\item 'Inside the C++ Object Model'\n\\item 'Introduction to Algorithms'\n\\item 'Introduction to Automata Theory, Languages, and Computation'\n\\item 'Introduction to Computation and Programming Using Python'\n\\item 'Introduction to Functional Programming'\n\\item 'Introduction to Game Design, Prototyping, and Development: From Concept to Playable Game with Unity and C\\#'\n\\item 'Introduction to the Theory of Computation'\n\\item 'Invent Your Own Computer Games with Python, 3rd Edition'\n\\item 'JavaScript: The Good Parts'\n\\item 'Joel on Software'\n\\item 'Kingpin: How One Hacker Took Over the Billion-Dollar Cybercrime Underground'\n\\item 'Lambda-Calculus and Combinators: An Introduction'\n\\item 'Lambda-Calculus, Combinators and Functional Programming'\n\\item 'Learn Java the Easy Way : A Hands-On Introduction to Programming'\n\\item 'Learn Python The Hard Way'\n\\item 'Learn You a Haskell for Great Good!'\n\\item 'Learn You a Haskell for Great Good!: A Beginner\\textbackslash{}'s Guide'\n\\item 'Learning Perl'\n\\item 'Learning Python'\n\\item 'Learning Ruby'\n\\item 'Linked: How Everything Is Connected to Everything Else and What It Means for Business, Science, and Everyday Life'\n\\item 'Machine Learning'\n\\item 'Machine Learning for Hackers'\n\\item 'Make Your Own Neural Network'\n\\item 'Make Your Own Neural Network: An In-depth Visual Introduction For Beginners'\n\\item 'Making Games with Python \\& Pygame'\n\\item 'Manage Your Project Portfolio'\n\\item 'Managing Data Using Excel'\n\\item 'Mathematics for 3D Game Programming and Computer Graphics'\n\\item 'Microsoft Visual C\\# Step by Step'\n\\item 'Mining of Massive Datasets'\n\\item 'Modern C++ Design: Generic Programming and Design Patterns Applied'\n\\item 'Modern Operating Systems'\n\\item 'Modern Operating Systems, 4th Edition'\n\\item 'More Effective C++'\n\\item 'More Exceptional C++: 40 New Engineering Puzzles, Programming Problems, and Solutions'\n\\item 'Nine Algorithms That Changed the Future: The Ingenious Ideas That Drive Today\\textbackslash{}'s Computers'\n\\item 'Numerical Recipes: The Art of Scientific Computing'\n\\item 'Object-Oriented Analysis and Design with Applications'\n\\item 'Object-Oriented Design Heuristics'\n\\item 'Optimized C++: Proven Techniques for Heightened Performance'\n\\item 'Our Final Invention: Artificial Intelligence and the End of the Human Era'\n\\item 'Peopleware: Productive Projects and Teams'\n\\item 'PHP and MySQL Web Development (Developer\\textbackslash{}'s Library)'\n\\item 'Practical Foundations for Programming Languages'\n\\item 'Practical Object Oriented Design in Ruby'\n\\item 'Practical SQL: A Beginner\\textbackslash{}'s Guide to Storytelling with Data'\n\\item 'Pro Git'\n\\item 'Pro TypeScript: Application-Scale JavaScript Development'\n\\item 'Programming in Lua, Fourth Edition'\n\\item 'Programming Pearls'\n\\item 'Programming PHP'\n\\item 'Programming Ruby: The Pragmatic Programmers\\textbackslash{}' Guide'\n\\item 'Python Crash Course: A Hands-On, Project-Based Introduction to Programming'\n\\item 'Python for Data Analysis'\n\\item 'Python Programming Books Set: Python Programming for Beginners \\& Complete Guide for Python Programming'\n\\item 'Python Programming For Beginners: Quick And Easy Guide For Python Programmers'\n\\item 'Quality Software Management V 1 – Systems Thinking'\n\\item 'Quantum Computing Since Democritus'\n\\item 'Real-World Machine Learning'\n\\item 'Refactoring: Improving the Design of Existing Code'\n\\item 'Release It!: Design and Deploy Production-Ready Software (Pragmatic Programmers)'\n\\item 'Responsive Web Design Overview For Beginners'\n\\item 'REST in Practice: Hypermedia and Systems Architecture'\n\\item 'Reviewing C++'\n\\item 'Reviewing Java'\n\\item 'Sams Teach Yourself JavaScript in 24 Hours'\n\\item 'Sams Teach Yourself MySQL in 24 Hours'\n\\item 'Sams Teach Yourself Perl in 24 Hours'\n\\item 'Scrum and XP from the Trenches'\n\\item 'Seven Languages in Seven Weeks'\n\\item 'Ship It!'\n\\item 'Simulation of Digital Communication Systems using Matlab'\n\\item 'Six Degrees: The Science of a Connected Age'\n\\item 'Soft Skills: The Software Developer\\textbackslash{}'s Life Manual'\n\\item 'Start with Why: How Great Leaders Inspire Everyone to Take Action'\n\\item 'Structure and Interpretation of Computer Programs'\n\\item 'Structure and Interpretation of Computer Programs (MIT Electrical Engineering and Computer Science)'\n\\item 'Structured Computer Organization'\n\\item 'Superintelligence: Paths, Dangers, Strategies'\n\\item 'Sync: The Emerging Science of Spontaneous Order'\n\\item 'Test Driven Development: By Example'\n\\item 'The Algorithm Design Manual'\n\\item 'The Architecture of Open Source Applications'\n\\item 'The Art of Computer Programming, Volume 1: Fundamental Algorithms'\n\\item 'The Art of Computer Programming, Volumes 1-3 Boxed Set'\n\\item 'The Art of Computer Programming, Volumes 1-4a Boxed Set'\n\\item 'The Art of the Start: The Time-Tested, Battle-Hardened Guide for Anyone Starting Anything'\n\\item 'The Boost C++ Libraries'\n\\item 'The C Programming Language'\n\\item 'The C++ Programming Language'\n\\item 'The C++ Standard Library: A Tutorial and Reference'\n\\item 'The Calculus of Computation: Decision Procedures with Applications to Verification'\n\\item 'The Clean Coder: A Code of Conduct for Professional Programmers'\n\\item 'The Code Book: The Science of Secrecy from Ancient Egypt to Quantum Cryptography'\n\\item 'The Connection Machine'\n\\item 'The Cosmic Landscape: String Theory and the Illusion of Intelligent Design'\n\\item 'The Design of Design: Essays from a Computer Scientist'\n\\item 'The Elements of Computing Systems: Building a Modern Computer from First Principles'\n\\item 'The Elements of Style'\n\\item 'The Goal: A Process of Ongoing Improvement'\n\\item 'The Golden Ticket: P, Np, and the Search for the Impossible'\n\\item 'The Hidden Connections: A Science for Sustainable Living'\n\\item 'The Information: A History, a Theory, a Flood'\n\\item 'The Innovators: How a Group of Hackers, Geniuses and Geeks Created the Digital Revolution'\n\\item 'The It Handbook for Business: Managing Information Technology Support Costs'\n\\item 'The Joy of Clojure'\n\\item 'The Linux Programming Interface: A Linux and Unix System Programming Handbook'\n\\item 'The Little Schemer'\n\\item 'The Master Algorithm: How the Quest for the Ultimate Learning Machine Will Remake Our World'\n\\item 'The Meme Machine'\n\\item 'The Mythical Man-Month: Essays on Software Engineering'\n\\item 'The Pattern on the Stone: The Simple Ideas that Make Computers Work'\n\\item 'The Phoenix Project: A Novel About IT, DevOps, and Helping Your Business Win'\n\\item 'The Practice of Programming (Addison-Wesley Professional Computing Series)'\n\\item 'The Principles of Object-Oriented JavaScript'\n\\item 'The Protocols (TCP/IP Illustrated, Volume 1)'\n\\item 'The Psychology of Computer Programming'\n\\item 'The Quark and the Jaguar: Adventures in the Simple and the Complex'\n\\item 'The Rails Way'\n\\item 'The Sciences of the Artificial'\n\\item 'The Scrumban {[}R{]}Evolution: Getting the Most Out of Agile, Scrum, and Lean Kanban'\n\\item 'The Shape of Inner Space: String Theory and the Geometry of the Universe\\textbackslash{}'s Hidden Dimensions'\n\\item 'The Society of Mind'\n\\item 'The Strangest Man: The Hidden Life of Paul Dirac, Mystic of the Atom'\n\\item 'The Unified Modeling Language User Guide'\n\\item 'The UNIX Programming Environment'\n\\item 'The Visual Display of Quantitative Information'\n\\item 'Think Complexity: Complexity Science and Computational Modeling'\n\\item 'Think Like a Programmer: An Introduction to Creative Problem Solving'\n\\item 'UML Distilled: A Brief Guide to the Standard Object Modeling Language'\n\\item 'Unity in Action'\n\\item 'Unity Virtual Reality Projects'\n\\item 'Weapons of Math Destruction: How Big Data Increases Inequality and Threatens Democracy'\n\\item 'What Is Life? with Mind and Matter and Autobiographical Sketches'\n\\item 'Working Effectively with Legacy Code'\n\\item 'xUnit Test Patterns: Refactoring Test Code'\n\\item 'Your First App: Node.js'\n\\item 'ZX Spectrum Games Code Club: Twenty fun games to code and learn'\n\\end{enumerate*}\n",
            "text/markdown": "1. The Elements of Style\n2. The Information: A History, a Theory, a Flood\n3. Responsive Web Design Overview For Beginners\n\n\n\n**Levels**: 1. '3D Game Engine Architecture: Engineering Real-Time Applications with Wild Magic (The Morgan Kaufmann Series in Interactive 3d Technology)'\n2. '3D Game Engine Design: A Practical Approach to Real-Time Computer Graphics (The Morgan Kaufmann Series in Interactive 3D Technology)'\n3. '3D Math Primer for Graphics and Game Development'\n4. '97 Things Every Programmer Should Know: Collective Wisdom from the Experts'\n5. 'A Discipline for Software Engineering'\n6. 'A First Course in Logic: An Introduction to Model Theory, Proof Theory, Computability, and Complexity'\n7. 'A Smarter Way to Learn JavaScript: The new approach that uses technology to cut your effort in half'\n8. 'A Tour of C++'\n9. 'Accelerate: Building and Scaling High-Performing Technology Organizations'\n10. 'Accelerated C++: Practical Programming by Example'\n11. 'Advanced Game Programming: A Gamedev.Net Collection'\n12. 'Advanced Programming in the UNIX Environment'\n13. 'Adventures in Minecraft'\n14. 'Agile Retrospectives: Making Good Teams Great'\n15. 'Agile Software Development, Principles, Patterns, and Practices'\n16. 'Agile Web Development with Rails: A Pragmatic Guide'\n17. 'Algorithm Design'\n18. 'Algorithms'\n19. 'Algorithms to Live By: The Computer Science of Human Decisions'\n20. 'Algorithms Unlocked'\n21. 'An Introduction to Database Systems'\n22. 'An Introduction to Functional Programming Through Lambda Calculus'\n23. 'Android NDK Game Development Cookbook'\n24. 'API Design for C++'\n25. 'Apprenticeship Patterns: Guidance for the Aspiring Software Craftsman'\n26. 'Artificial Intelligence: A Modern Approach'\n27. 'Assembly Language: Step-By-Step'\n28. 'Augmented Reality: Principles and Practice'\n29. 'Automate the Boring Stuff with Python: Practical Programming for Total Beginners'\n30. 'Automate This: How Algorithms Came to Rule Our World'\n31. 'Basic Proof Theory'\n32. 'Beginners Guide On PHP Programming: Quick And Easy Guide To Learn PHP With My-SQL'\n33. 'Beginning Game Programming: A Gamedev.Net Collection'\n34. 'Beginning Java 2'\n35. 'Best of Game Programming Gems'\n36. 'Big Data: A Revolution That Will Transform How We Live, Work, and Think'\n37. 'Big Data: Principles and best practices of scalable realtime data systems'\n38. 'Blueprints Visual Scripting for Unreal Engine'\n39. 'Build Web Applications with Java: Learn every aspect to build web applications from scratch'\n40. 'Building an FPS Game with Unity'\n41. 'Building Microservices: Designing Fine-Grained Systems'\n42. 'C Primer Plus'\n43. 'C: A Reference Manual'\n44. 'C# in Depth'\n45. 'C++ Coding Standards: 101 Rules, Guidelines, and Best Practices (C++ in Depth Series)'\n46. 'C++ Primer'\n47. 'C++ Templates: The Complete Guide'\n48. 'Chaos: Making a New Science'\n49. 'Clean Code: A Handbook of Agile Software Craftsmanship'\n50. 'CLR via C# (Developer Reference)'\n51. 'Code Complete'\n52. 'Code: The Hidden Language of Computer Hardware and Software'\n53. 'Coding Games in Scratch'\n54. 'Communication Networks: Fundamental Concepts and Key Architectures'\n55. 'Compilers: Principles, Techniques, and Tools'\n56. 'Computability and Logic'\n57. 'Computability and Unsolvability'\n58. 'Computational Complexity'\n59. 'Computational Geometry: Algorithms and Applications'\n60. 'Computational Science and Engineering'\n61. 'Computer Architecture: A Quantitative Approach'\n62. 'Computer Systems: A Programmer\\'s Perspective'\n63. 'Concepts, Techniques, and Models of Computer Programming'\n64. 'Concrete Mathematics: A Foundation for Computer Science'\n65. 'Continuous Delivery: Reliable Software Releases Through Build, Test, and Deployment Automation'\n66. 'Cross-Platform Game Programming (Game Development) (Charles River Media Game Development)'\n67. 'Cryptography Engineering: Design Principles and Practical Applications'\n68. 'CSS: The Missing Manual'\n69. 'Data and Goliath: The Hidden Battles to Collect Your Data and Control Your World'\n70. 'Data Science from Scratch: First Principles with Python'\n71. 'Data Structures and Algorithms'\n72. 'Database System Concepts'\n73. 'Debugging: The 9 Indispensable Rules for Finding Even the Most Elusive Software and Hardware Problems'\n74. 'Deep Learning'\n75. 'Dependency Injection in .NET'\n76. 'Design and Validation of Computer Protocols'\n77. 'Design Patterns: Elements of Reusable Object-Oriented Software'\n78. 'Designing Data-Intensive Applications: The Big Ideas Behind Reliable, Scalable, and Maintainable Systems'\n79. 'DIV, Grad, Curl, and All That: An Informal Text on Vector Calculus'\n80. 'Does God Play Dice?: The New Mathematics of Chaos'\n81. 'Doing Data Science'\n82. 'Domain-Driven Design: Tackling Complexity in the Heart of Software'\n83. 'Domain-Specific Languages'\n84. 'Effective JavaScript: 68 Specific Ways to Harness the Power of JavaScript'\n85. 'Effective Programming: More Than Writing Code'\n86. 'Effective Python: 59 Specific Ways to Write Better Python'\n87. 'Effective STL: 50 Specific Ways to Improve Your Use of the Standard Template Library'\n88. 'Elements of Programming'\n89. 'Elements of the Theory of Computation'\n90. 'Eloquent JavaScript: A Modern Introduction to Programming'\n91. 'Engineering a Compiler'\n92. 'Essential Mathematics for Games and Interactive Applications'\n93. 'Essential Scrum: A Practical Guide to the Most Popular Agile Process'\n94. 'Essentials of Programming Languages'\n95. 'Exceptional C++ Style: 40 New Engineering Puzzles, Programming Problems, and Solutions'\n96. 'Exceptional C++: 47 Engineering Puzzles, Programming Problems, and Solutions'\n97. 'Expert C Programming: Deep C Secrets'\n98. 'Extreme Programming Explained: Embrace Change (The XP Series)'\n99. 'Fearless Change: Patterns for Introducing New Ideas'\n100. 'Feynman Lectures On Computation'\n101. 'File Structures: An Object-Oriented Approach with C++'\n102. 'Fluent Python: Clear, Concise, and Effective Programming'\n103. 'Framework Design Guidelines: Conventions, Idioms, and Patterns for Reusable .NET Libraries'\n104. 'From Mathematics to Generic Programming'\n105. 'Functional Programming Application and Implementation'\n106. 'Functional Programming in Scala'\n107. 'Game Engine Architecture'\n108. 'Game Engine Gems 1'\n109. 'Game Programming Gems'\n110. 'Game Programming Gems 2'\n111. 'Game Programming Gems 3'\n112. 'Game Programming Gems 4'\n113. 'Game Programming Gems 5'\n114. 'Game Programming Gems 6'\n115. 'Game Programming Golden Rules'\n116. 'Game Programming Patterns'\n117. 'Genetic Programming II: Automatic Discovery of Reusable Programs'\n118. 'Geometric Algebra for Computer Science: An Object-Oriented Approach to Geometry'\n119. 'Geometric Tools for Computer Graphics'\n120. 'Ghost in the Wires: My Adventures as the World\\'s Most Wanted Hacker'\n121. 'Growing Object-Oriented Software, Guided by Tests'\n122. 'Hacker\\'s Delight'\n123. 'Haskell: The Craft of Functional Programming'\n124. 'Head First Design Patterns'\n125. 'Help Your Kids with Computer Coding'\n126. 'High Performance Browser Networking'\n127. 'How Google Tests Software'\n128. 'How Google Works'\n129. 'How to Create a Mind: The Secret of Human Thought Revealed'\n130. 'How to Design Programs: An Introduction to Programming and Computing'\n131. 'How to Think Like a Computer Scientist: Learning with Python'\n132. 'Implementing Domain-Driven Design'\n133. 'Inside the C++ Object Model'\n134. 'Introduction to Algorithms'\n135. 'Introduction to Automata Theory, Languages, and Computation'\n136. 'Introduction to Computation and Programming Using Python'\n137. 'Introduction to Functional Programming'\n138. 'Introduction to Game Design, Prototyping, and Development: From Concept to Playable Game with Unity and C#'\n139. 'Introduction to the Theory of Computation'\n140. 'Invent Your Own Computer Games with Python, 3rd Edition'\n141. 'JavaScript: The Good Parts'\n142. 'Joel on Software'\n143. 'Kingpin: How One Hacker Took Over the Billion-Dollar Cybercrime Underground'\n144. 'Lambda-Calculus and Combinators: An Introduction'\n145. 'Lambda-Calculus, Combinators and Functional Programming'\n146. 'Learn Java the Easy Way : A Hands-On Introduction to Programming'\n147. 'Learn Python The Hard Way'\n148. 'Learn You a Haskell for Great Good!'\n149. 'Learn You a Haskell for Great Good!: A Beginner\\'s Guide'\n150. 'Learning Perl'\n151. 'Learning Python'\n152. 'Learning Ruby'\n153. 'Linked: How Everything Is Connected to Everything Else and What It Means for Business, Science, and Everyday Life'\n154. 'Machine Learning'\n155. 'Machine Learning for Hackers'\n156. 'Make Your Own Neural Network'\n157. 'Make Your Own Neural Network: An In-depth Visual Introduction For Beginners'\n158. 'Making Games with Python &amp; Pygame'\n159. 'Manage Your Project Portfolio'\n160. 'Managing Data Using Excel'\n161. 'Mathematics for 3D Game Programming and Computer Graphics'\n162. 'Microsoft Visual C# Step by Step'\n163. 'Mining of Massive Datasets'\n164. 'Modern C++ Design: Generic Programming and Design Patterns Applied'\n165. 'Modern Operating Systems'\n166. 'Modern Operating Systems, 4th Edition'\n167. 'More Effective C++'\n168. 'More Exceptional C++: 40 New Engineering Puzzles, Programming Problems, and Solutions'\n169. 'Nine Algorithms That Changed the Future: The Ingenious Ideas That Drive Today\\'s Computers'\n170. 'Numerical Recipes: The Art of Scientific Computing'\n171. 'Object-Oriented Analysis and Design with Applications'\n172. 'Object-Oriented Design Heuristics'\n173. 'Optimized C++: Proven Techniques for Heightened Performance'\n174. 'Our Final Invention: Artificial Intelligence and the End of the Human Era'\n175. 'Peopleware: Productive Projects and Teams'\n176. 'PHP and MySQL Web Development (Developer\\'s Library)'\n177. 'Practical Foundations for Programming Languages'\n178. 'Practical Object Oriented Design in Ruby'\n179. 'Practical SQL: A Beginner\\'s Guide to Storytelling with Data'\n180. 'Pro Git'\n181. 'Pro TypeScript: Application-Scale JavaScript Development'\n182. 'Programming in Lua, Fourth Edition'\n183. 'Programming Pearls'\n184. 'Programming PHP'\n185. 'Programming Ruby: The Pragmatic Programmers\\' Guide'\n186. 'Python Crash Course: A Hands-On, Project-Based Introduction to Programming'\n187. 'Python for Data Analysis'\n188. 'Python Programming Books Set: Python Programming for Beginners &amp; Complete Guide for Python Programming'\n189. 'Python Programming For Beginners: Quick And Easy Guide For Python Programmers'\n190. 'Quality Software Management V 1 – Systems Thinking'\n191. 'Quantum Computing Since Democritus'\n192. 'Real-World Machine Learning'\n193. 'Refactoring: Improving the Design of Existing Code'\n194. 'Release It!: Design and Deploy Production-Ready Software (Pragmatic Programmers)'\n195. 'Responsive Web Design Overview For Beginners'\n196. 'REST in Practice: Hypermedia and Systems Architecture'\n197. 'Reviewing C++'\n198. 'Reviewing Java'\n199. 'Sams Teach Yourself JavaScript in 24 Hours'\n200. 'Sams Teach Yourself MySQL in 24 Hours'\n201. 'Sams Teach Yourself Perl in 24 Hours'\n202. 'Scrum and XP from the Trenches'\n203. 'Seven Languages in Seven Weeks'\n204. 'Ship It!'\n205. 'Simulation of Digital Communication Systems using Matlab'\n206. 'Six Degrees: The Science of a Connected Age'\n207. 'Soft Skills: The Software Developer\\'s Life Manual'\n208. 'Start with Why: How Great Leaders Inspire Everyone to Take Action'\n209. 'Structure and Interpretation of Computer Programs'\n210. 'Structure and Interpretation of Computer Programs (MIT Electrical Engineering and Computer Science)'\n211. 'Structured Computer Organization'\n212. 'Superintelligence: Paths, Dangers, Strategies'\n213. 'Sync: The Emerging Science of Spontaneous Order'\n214. 'Test Driven Development: By Example'\n215. 'The Algorithm Design Manual'\n216. 'The Architecture of Open Source Applications'\n217. 'The Art of Computer Programming, Volume 1: Fundamental Algorithms'\n218. 'The Art of Computer Programming, Volumes 1-3 Boxed Set'\n219. 'The Art of Computer Programming, Volumes 1-4a Boxed Set'\n220. 'The Art of the Start: The Time-Tested, Battle-Hardened Guide for Anyone Starting Anything'\n221. 'The Boost C++ Libraries'\n222. 'The C Programming Language'\n223. 'The C++ Programming Language'\n224. 'The C++ Standard Library: A Tutorial and Reference'\n225. 'The Calculus of Computation: Decision Procedures with Applications to Verification'\n226. 'The Clean Coder: A Code of Conduct for Professional Programmers'\n227. 'The Code Book: The Science of Secrecy from Ancient Egypt to Quantum Cryptography'\n228. 'The Connection Machine'\n229. 'The Cosmic Landscape: String Theory and the Illusion of Intelligent Design'\n230. 'The Design of Design: Essays from a Computer Scientist'\n231. 'The Elements of Computing Systems: Building a Modern Computer from First Principles'\n232. 'The Elements of Style'\n233. 'The Goal: A Process of Ongoing Improvement'\n234. 'The Golden Ticket: P, Np, and the Search for the Impossible'\n235. 'The Hidden Connections: A Science for Sustainable Living'\n236. 'The Information: A History, a Theory, a Flood'\n237. 'The Innovators: How a Group of Hackers, Geniuses and Geeks Created the Digital Revolution'\n238. 'The It Handbook for Business: Managing Information Technology Support Costs'\n239. 'The Joy of Clojure'\n240. 'The Linux Programming Interface: A Linux and Unix System Programming Handbook'\n241. 'The Little Schemer'\n242. 'The Master Algorithm: How the Quest for the Ultimate Learning Machine Will Remake Our World'\n243. 'The Meme Machine'\n244. 'The Mythical Man-Month: Essays on Software Engineering'\n245. 'The Pattern on the Stone: The Simple Ideas that Make Computers Work'\n246. 'The Phoenix Project: A Novel About IT, DevOps, and Helping Your Business Win'\n247. 'The Practice of Programming (Addison-Wesley Professional Computing Series)'\n248. 'The Principles of Object-Oriented JavaScript'\n249. 'The Protocols (TCP/IP Illustrated, Volume 1)'\n250. 'The Psychology of Computer Programming'\n251. 'The Quark and the Jaguar: Adventures in the Simple and the Complex'\n252. 'The Rails Way'\n253. 'The Sciences of the Artificial'\n254. 'The Scrumban [R]Evolution: Getting the Most Out of Agile, Scrum, and Lean Kanban'\n255. 'The Shape of Inner Space: String Theory and the Geometry of the Universe\\'s Hidden Dimensions'\n256. 'The Society of Mind'\n257. 'The Strangest Man: The Hidden Life of Paul Dirac, Mystic of the Atom'\n258. 'The Unified Modeling Language User Guide'\n259. 'The UNIX Programming Environment'\n260. 'The Visual Display of Quantitative Information'\n261. 'Think Complexity: Complexity Science and Computational Modeling'\n262. 'Think Like a Programmer: An Introduction to Creative Problem Solving'\n263. 'UML Distilled: A Brief Guide to the Standard Object Modeling Language'\n264. 'Unity in Action'\n265. 'Unity Virtual Reality Projects'\n266. 'Weapons of Math Destruction: How Big Data Increases Inequality and Threatens Democracy'\n267. 'What Is Life? with Mind and Matter and Autobiographical Sketches'\n268. 'Working Effectively with Legacy Code'\n269. 'xUnit Test Patterns: Refactoring Test Code'\n270. 'Your First App: Node.js'\n271. 'ZX Spectrum Games Code Club: Twenty fun games to code and learn'\n\n\n",
            "text/html": [
              "<style>\n",
              ".list-inline {list-style: none; margin:0; padding: 0}\n",
              ".list-inline>li {display: inline-block}\n",
              ".list-inline>li:not(:last-child)::after {content: \"\\00b7\"; padding: 0 .5ex}\n",
              "</style>\n",
              "<ol class=list-inline><li>The Elements of Style</li><li>The Information: A History, a Theory, a Flood</li><li>Responsive Web Design Overview For Beginners</li></ol>\n",
              "\n",
              "<details>\n",
              "\t<summary style=display:list-item;cursor:pointer>\n",
              "\t\t<strong>Levels</strong>:\n",
              "\t</summary>\n",
              "\t<style>\n",
              "\t.list-inline {list-style: none; margin:0; padding: 0}\n",
              "\t.list-inline>li {display: inline-block}\n",
              "\t.list-inline>li:not(:last-child)::after {content: \"\\00b7\"; padding: 0 .5ex}\n",
              "\t</style>\n",
              "\t<ol class=list-inline><li>'3D Game Engine Architecture: Engineering Real-Time Applications with Wild Magic (The Morgan Kaufmann Series in Interactive 3d Technology)'</li><li>'3D Game Engine Design: A Practical Approach to Real-Time Computer Graphics (The Morgan Kaufmann Series in Interactive 3D Technology)'</li><li>'3D Math Primer for Graphics and Game Development'</li><li>'97 Things Every Programmer Should Know: Collective Wisdom from the Experts'</li><li>'A Discipline for Software Engineering'</li><li>'A First Course in Logic: An Introduction to Model Theory, Proof Theory, Computability, and Complexity'</li><li>'A Smarter Way to Learn JavaScript: The new approach that uses technology to cut your effort in half'</li><li>'A Tour of C++'</li><li>'Accelerate: Building and Scaling High-Performing Technology Organizations'</li><li>'Accelerated C++: Practical Programming by Example'</li><li>'Advanced Game Programming: A Gamedev.Net Collection'</li><li>'Advanced Programming in the UNIX Environment'</li><li>'Adventures in Minecraft'</li><li>'Agile Retrospectives: Making Good Teams Great'</li><li>'Agile Software Development, Principles, Patterns, and Practices'</li><li>'Agile Web Development with Rails: A Pragmatic Guide'</li><li>'Algorithm Design'</li><li>'Algorithms'</li><li>'Algorithms to Live By: The Computer Science of Human Decisions'</li><li>'Algorithms Unlocked'</li><li>'An Introduction to Database Systems'</li><li>'An Introduction to Functional Programming Through Lambda Calculus'</li><li>'Android NDK Game Development Cookbook'</li><li>'API Design for C++'</li><li>'Apprenticeship Patterns: Guidance for the Aspiring Software Craftsman'</li><li>'Artificial Intelligence: A Modern Approach'</li><li>'Assembly Language: Step-By-Step'</li><li>'Augmented Reality: Principles and Practice'</li><li>'Automate the Boring Stuff with Python: Practical Programming for Total Beginners'</li><li>'Automate This: How Algorithms Came to Rule Our World'</li><li>'Basic Proof Theory'</li><li>'Beginners Guide On PHP Programming: Quick And Easy Guide To Learn PHP With My-SQL'</li><li>'Beginning Game Programming: A Gamedev.Net Collection'</li><li>'Beginning Java 2'</li><li>'Best of Game Programming Gems'</li><li>'Big Data: A Revolution That Will Transform How We Live, Work, and Think'</li><li>'Big Data: Principles and best practices of scalable realtime data systems'</li><li>'Blueprints Visual Scripting for Unreal Engine'</li><li>'Build Web Applications with Java: Learn every aspect to build web applications from scratch'</li><li>'Building an FPS Game with Unity'</li><li>'Building Microservices: Designing Fine-Grained Systems'</li><li>'C Primer Plus'</li><li>'C: A Reference Manual'</li><li>'C# in Depth'</li><li>'C++ Coding Standards: 101 Rules, Guidelines, and Best Practices (C++ in Depth Series)'</li><li>'C++ Primer'</li><li>'C++ Templates: The Complete Guide'</li><li>'Chaos: Making a New Science'</li><li>'Clean Code: A Handbook of Agile Software Craftsmanship'</li><li>'CLR via C# (Developer Reference)'</li><li>'Code Complete'</li><li>'Code: The Hidden Language of Computer Hardware and Software'</li><li>'Coding Games in Scratch'</li><li>'Communication Networks: Fundamental Concepts and Key Architectures'</li><li>'Compilers: Principles, Techniques, and Tools'</li><li>'Computability and Logic'</li><li>'Computability and Unsolvability'</li><li>'Computational Complexity'</li><li>'Computational Geometry: Algorithms and Applications'</li><li>'Computational Science and Engineering'</li><li>'Computer Architecture: A Quantitative Approach'</li><li>'Computer Systems: A Programmer\\'s Perspective'</li><li>'Concepts, Techniques, and Models of Computer Programming'</li><li>'Concrete Mathematics: A Foundation for Computer Science'</li><li>'Continuous Delivery: Reliable Software Releases Through Build, Test, and Deployment Automation'</li><li>'Cross-Platform Game Programming (Game Development) (Charles River Media Game Development)'</li><li>'Cryptography Engineering: Design Principles and Practical Applications'</li><li>'CSS: The Missing Manual'</li><li>'Data and Goliath: The Hidden Battles to Collect Your Data and Control Your World'</li><li>'Data Science from Scratch: First Principles with Python'</li><li>'Data Structures and Algorithms'</li><li>'Database System Concepts'</li><li>'Debugging: The 9 Indispensable Rules for Finding Even the Most Elusive Software and Hardware Problems'</li><li>'Deep Learning'</li><li>'Dependency Injection in .NET'</li><li>'Design and Validation of Computer Protocols'</li><li>'Design Patterns: Elements of Reusable Object-Oriented Software'</li><li>'Designing Data-Intensive Applications: The Big Ideas Behind Reliable, Scalable, and Maintainable Systems'</li><li>'DIV, Grad, Curl, and All That: An Informal Text on Vector Calculus'</li><li>'Does God Play Dice?: The New Mathematics of Chaos'</li><li>'Doing Data Science'</li><li>'Domain-Driven Design: Tackling Complexity in the Heart of Software'</li><li>'Domain-Specific Languages'</li><li>'Effective JavaScript: 68 Specific Ways to Harness the Power of JavaScript'</li><li>'Effective Programming: More Than Writing Code'</li><li>'Effective Python: 59 Specific Ways to Write Better Python'</li><li>'Effective STL: 50 Specific Ways to Improve Your Use of the Standard Template Library'</li><li>'Elements of Programming'</li><li>'Elements of the Theory of Computation'</li><li>'Eloquent JavaScript: A Modern Introduction to Programming'</li><li>'Engineering a Compiler'</li><li>'Essential Mathematics for Games and Interactive Applications'</li><li>'Essential Scrum: A Practical Guide to the Most Popular Agile Process'</li><li>'Essentials of Programming Languages'</li><li>'Exceptional C++ Style: 40 New Engineering Puzzles, Programming Problems, and Solutions'</li><li>'Exceptional C++: 47 Engineering Puzzles, Programming Problems, and Solutions'</li><li>'Expert C Programming: Deep C Secrets'</li><li>'Extreme Programming Explained: Embrace Change (The XP Series)'</li><li>'Fearless Change: Patterns for Introducing New Ideas'</li><li>'Feynman Lectures On Computation'</li><li>'File Structures: An Object-Oriented Approach with C++'</li><li>'Fluent Python: Clear, Concise, and Effective Programming'</li><li>'Framework Design Guidelines: Conventions, Idioms, and Patterns for Reusable .NET Libraries'</li><li>'From Mathematics to Generic Programming'</li><li>'Functional Programming Application and Implementation'</li><li>'Functional Programming in Scala'</li><li>'Game Engine Architecture'</li><li>'Game Engine Gems 1'</li><li>'Game Programming Gems'</li><li>'Game Programming Gems 2'</li><li>'Game Programming Gems 3'</li><li>'Game Programming Gems 4'</li><li>'Game Programming Gems 5'</li><li>'Game Programming Gems 6'</li><li>'Game Programming Golden Rules'</li><li>'Game Programming Patterns'</li><li>'Genetic Programming II: Automatic Discovery of Reusable Programs'</li><li>'Geometric Algebra for Computer Science: An Object-Oriented Approach to Geometry'</li><li>'Geometric Tools for Computer Graphics'</li><li>'Ghost in the Wires: My Adventures as the World\\'s Most Wanted Hacker'</li><li>'Growing Object-Oriented Software, Guided by Tests'</li><li>'Hacker\\'s Delight'</li><li>'Haskell: The Craft of Functional Programming'</li><li>'Head First Design Patterns'</li><li>'Help Your Kids with Computer Coding'</li><li>'High Performance Browser Networking'</li><li>'How Google Tests Software'</li><li>'How Google Works'</li><li>'How to Create a Mind: The Secret of Human Thought Revealed'</li><li>'How to Design Programs: An Introduction to Programming and Computing'</li><li>'How to Think Like a Computer Scientist: Learning with Python'</li><li>'Implementing Domain-Driven Design'</li><li>'Inside the C++ Object Model'</li><li>'Introduction to Algorithms'</li><li>'Introduction to Automata Theory, Languages, and Computation'</li><li>'Introduction to Computation and Programming Using Python'</li><li>'Introduction to Functional Programming'</li><li>'Introduction to Game Design, Prototyping, and Development: From Concept to Playable Game with Unity and C#'</li><li>'Introduction to the Theory of Computation'</li><li>'Invent Your Own Computer Games with Python, 3rd Edition'</li><li>'JavaScript: The Good Parts'</li><li>'Joel on Software'</li><li>'Kingpin: How One Hacker Took Over the Billion-Dollar Cybercrime Underground'</li><li>'Lambda-Calculus and Combinators: An Introduction'</li><li>'Lambda-Calculus, Combinators and Functional Programming'</li><li>'Learn Java the Easy Way : A Hands-On Introduction to Programming'</li><li>'Learn Python The Hard Way'</li><li>'Learn You a Haskell for Great Good!'</li><li>'Learn You a Haskell for Great Good!: A Beginner\\'s Guide'</li><li>'Learning Perl'</li><li>'Learning Python'</li><li>'Learning Ruby'</li><li>'Linked: How Everything Is Connected to Everything Else and What It Means for Business, Science, and Everyday Life'</li><li>'Machine Learning'</li><li>'Machine Learning for Hackers'</li><li>'Make Your Own Neural Network'</li><li>'Make Your Own Neural Network: An In-depth Visual Introduction For Beginners'</li><li>'Making Games with Python &amp; Pygame'</li><li>'Manage Your Project Portfolio'</li><li>'Managing Data Using Excel'</li><li>'Mathematics for 3D Game Programming and Computer Graphics'</li><li>'Microsoft Visual C# Step by Step'</li><li>'Mining of Massive Datasets'</li><li>'Modern C++ Design: Generic Programming and Design Patterns Applied'</li><li>'Modern Operating Systems'</li><li>'Modern Operating Systems, 4th Edition'</li><li>'More Effective C++'</li><li>'More Exceptional C++: 40 New Engineering Puzzles, Programming Problems, and Solutions'</li><li>'Nine Algorithms That Changed the Future: The Ingenious Ideas That Drive Today\\'s Computers'</li><li>'Numerical Recipes: The Art of Scientific Computing'</li><li>'Object-Oriented Analysis and Design with Applications'</li><li>'Object-Oriented Design Heuristics'</li><li>'Optimized C++: Proven Techniques for Heightened Performance'</li><li>'Our Final Invention: Artificial Intelligence and the End of the Human Era'</li><li>'Peopleware: Productive Projects and Teams'</li><li>'PHP and MySQL Web Development (Developer\\'s Library)'</li><li>'Practical Foundations for Programming Languages'</li><li>'Practical Object Oriented Design in Ruby'</li><li>'Practical SQL: A Beginner\\'s Guide to Storytelling with Data'</li><li>'Pro Git'</li><li>'Pro TypeScript: Application-Scale JavaScript Development'</li><li>'Programming in Lua, Fourth Edition'</li><li>'Programming Pearls'</li><li>'Programming PHP'</li><li>'Programming Ruby: The Pragmatic Programmers\\' Guide'</li><li>'Python Crash Course: A Hands-On, Project-Based Introduction to Programming'</li><li>'Python for Data Analysis'</li><li>'Python Programming Books Set: Python Programming for Beginners &amp; Complete Guide for Python Programming'</li><li>'Python Programming For Beginners: Quick And Easy Guide For Python Programmers'</li><li>'Quality Software Management V 1 – Systems Thinking'</li><li>'Quantum Computing Since Democritus'</li><li>'Real-World Machine Learning'</li><li>'Refactoring: Improving the Design of Existing Code'</li><li>'Release It!: Design and Deploy Production-Ready Software (Pragmatic Programmers)'</li><li>'Responsive Web Design Overview For Beginners'</li><li>'REST in Practice: Hypermedia and Systems Architecture'</li><li>'Reviewing C++'</li><li>'Reviewing Java'</li><li>'Sams Teach Yourself JavaScript in 24 Hours'</li><li>'Sams Teach Yourself MySQL in 24 Hours'</li><li>'Sams Teach Yourself Perl in 24 Hours'</li><li>'Scrum and XP from the Trenches'</li><li>'Seven Languages in Seven Weeks'</li><li>'Ship It!'</li><li>'Simulation of Digital Communication Systems using Matlab'</li><li>'Six Degrees: The Science of a Connected Age'</li><li>'Soft Skills: The Software Developer\\'s Life Manual'</li><li>'Start with Why: How Great Leaders Inspire Everyone to Take Action'</li><li>'Structure and Interpretation of Computer Programs'</li><li>'Structure and Interpretation of Computer Programs (MIT Electrical Engineering and Computer Science)'</li><li>'Structured Computer Organization'</li><li>'Superintelligence: Paths, Dangers, Strategies'</li><li>'Sync: The Emerging Science of Spontaneous Order'</li><li>'Test Driven Development: By Example'</li><li>'The Algorithm Design Manual'</li><li>'The Architecture of Open Source Applications'</li><li>'The Art of Computer Programming, Volume 1: Fundamental Algorithms'</li><li>'The Art of Computer Programming, Volumes 1-3 Boxed Set'</li><li>'The Art of Computer Programming, Volumes 1-4a Boxed Set'</li><li>'The Art of the Start: The Time-Tested, Battle-Hardened Guide for Anyone Starting Anything'</li><li>'The Boost C++ Libraries'</li><li>'The C Programming Language'</li><li>'The C++ Programming Language'</li><li>'The C++ Standard Library: A Tutorial and Reference'</li><li>'The Calculus of Computation: Decision Procedures with Applications to Verification'</li><li>'The Clean Coder: A Code of Conduct for Professional Programmers'</li><li>'The Code Book: The Science of Secrecy from Ancient Egypt to Quantum Cryptography'</li><li>'The Connection Machine'</li><li>'The Cosmic Landscape: String Theory and the Illusion of Intelligent Design'</li><li>'The Design of Design: Essays from a Computer Scientist'</li><li>'The Elements of Computing Systems: Building a Modern Computer from First Principles'</li><li>'The Elements of Style'</li><li>'The Goal: A Process of Ongoing Improvement'</li><li>'The Golden Ticket: P, Np, and the Search for the Impossible'</li><li>'The Hidden Connections: A Science for Sustainable Living'</li><li>'The Information: A History, a Theory, a Flood'</li><li>'The Innovators: How a Group of Hackers, Geniuses and Geeks Created the Digital Revolution'</li><li>'The It Handbook for Business: Managing Information Technology Support Costs'</li><li>'The Joy of Clojure'</li><li>'The Linux Programming Interface: A Linux and Unix System Programming Handbook'</li><li>'The Little Schemer'</li><li>'The Master Algorithm: How the Quest for the Ultimate Learning Machine Will Remake Our World'</li><li>'The Meme Machine'</li><li>'The Mythical Man-Month: Essays on Software Engineering'</li><li>'The Pattern on the Stone: The Simple Ideas that Make Computers Work'</li><li>'The Phoenix Project: A Novel About IT, DevOps, and Helping Your Business Win'</li><li>'The Practice of Programming (Addison-Wesley Professional Computing Series)'</li><li>'The Principles of Object-Oriented JavaScript'</li><li>'The Protocols (TCP/IP Illustrated, Volume 1)'</li><li>'The Psychology of Computer Programming'</li><li>'The Quark and the Jaguar: Adventures in the Simple and the Complex'</li><li>'The Rails Way'</li><li>'The Sciences of the Artificial'</li><li>'The Scrumban [R]Evolution: Getting the Most Out of Agile, Scrum, and Lean Kanban'</li><li>'The Shape of Inner Space: String Theory and the Geometry of the Universe\\'s Hidden Dimensions'</li><li>'The Society of Mind'</li><li>'The Strangest Man: The Hidden Life of Paul Dirac, Mystic of the Atom'</li><li>'The Unified Modeling Language User Guide'</li><li>'The UNIX Programming Environment'</li><li>'The Visual Display of Quantitative Information'</li><li>'Think Complexity: Complexity Science and Computational Modeling'</li><li>'Think Like a Programmer: An Introduction to Creative Problem Solving'</li><li>'UML Distilled: A Brief Guide to the Standard Object Modeling Language'</li><li>'Unity in Action'</li><li>'Unity Virtual Reality Projects'</li><li>'Weapons of Math Destruction: How Big Data Increases Inequality and Threatens Democracy'</li><li>'What Is Life? with Mind and Matter and Autobiographical Sketches'</li><li>'Working Effectively with Legacy Code'</li><li>'xUnit Test Patterns: Refactoring Test Code'</li><li>'Your First App: Node.js'</li><li>'ZX Spectrum Games Code Club: Twenty fun games to code and learn'</li></ol>\n",
              "</details>"
            ]
          },
          "metadata": {}
        }
      ]
    },
    {
      "cell_type": "markdown",
      "source": [
        "#### индексация в R"
      ],
      "metadata": {
        "id": "W9v6gT2GUevN"
      }
    },
    {
      "cell_type": "code",
      "source": [
        "books[1,] # первая строка"
      ],
      "metadata": {
        "colab": {
          "base_uri": "https://localhost:8080/",
          "height": 129
        },
        "id": "ObK9h8Ul_65L",
        "outputId": "589c7e99-904a-4204-f7ff-495995a27f7c"
      },
      "execution_count": null,
      "outputs": [
        {
          "output_type": "display_data",
          "data": {
            "text/plain": [
              "  Rating Reviews Book_title            Number_Of_Pages Type      Price   \n",
              "1 4.17   3,829   The Elements of Style 105             Hardcover 9.323529"
            ],
            "text/latex": "A data.frame: 1 × 6\n\\begin{tabular}{r|llllll}\n  & Rating & Reviews & Book\\_title & Number\\_Of\\_Pages & Type & Price\\\\\n  & <dbl> & <fct> & <fct> & <dbl> & <fct> & <dbl>\\\\\n\\hline\n\t1 & 4.17 & 3,829 & The Elements of Style & 105 & Hardcover & 9.323529\\\\\n\\end{tabular}\n",
            "text/markdown": "\nA data.frame: 1 × 6\n\n| <!--/--> | Rating &lt;dbl&gt; | Reviews &lt;fct&gt; | Book_title &lt;fct&gt; | Number_Of_Pages &lt;dbl&gt; | Type &lt;fct&gt; | Price &lt;dbl&gt; |\n|---|---|---|---|---|---|---|\n| 1 | 4.17 | 3,829 | The Elements of Style | 105 | Hardcover | 9.323529 |\n\n",
            "text/html": [
              "<table class=\"dataframe\">\n",
              "<caption>A data.frame: 1 × 6</caption>\n",
              "<thead>\n",
              "\t<tr><th></th><th scope=col>Rating</th><th scope=col>Reviews</th><th scope=col>Book_title</th><th scope=col>Number_Of_Pages</th><th scope=col>Type</th><th scope=col>Price</th></tr>\n",
              "\t<tr><th></th><th scope=col>&lt;dbl&gt;</th><th scope=col>&lt;fct&gt;</th><th scope=col>&lt;fct&gt;</th><th scope=col>&lt;dbl&gt;</th><th scope=col>&lt;fct&gt;</th><th scope=col>&lt;dbl&gt;</th></tr>\n",
              "</thead>\n",
              "<tbody>\n",
              "\t<tr><th scope=row>1</th><td>4.17</td><td>3,829</td><td>The Elements of Style</td><td>105</td><td>Hardcover</td><td>9.323529</td></tr>\n",
              "</tbody>\n",
              "</table>\n"
            ]
          },
          "metadata": {}
        }
      ]
    },
    {
      "cell_type": "code",
      "source": [
        "books[12,]"
      ],
      "metadata": {
        "colab": {
          "base_uri": "https://localhost:8080/",
          "height": 199
        },
        "id": "1S4AF5r_AOb2",
        "outputId": "d7a1dd82-03aa-4916-b8b5-7c58e04563e9"
      },
      "execution_count": null,
      "outputs": [
        {
          "output_type": "display_data",
          "data": {
            "text/plain": [
              "   Rating Reviews\n",
              "12 3.78   481    \n",
              "   Book_title                                                                                 \n",
              "12 The Master Algorithm: How the Quest for the Ultimate Learning Machine Will Remake Our World\n",
              "   Number_Of_Pages Type      Price   \n",
              "12 352             Hardcover 15.22941"
            ],
            "text/latex": "A data.frame: 1 × 6\n\\begin{tabular}{r|llllll}\n  & Rating & Reviews & Book\\_title & Number\\_Of\\_Pages & Type & Price\\\\\n  & <dbl> & <fct> & <fct> & <dbl> & <fct> & <dbl>\\\\\n\\hline\n\t12 & 3.78 & 481 & The Master Algorithm: How the Quest for the Ultimate Learning Machine Will Remake Our World & 352 & Hardcover & 15.22941\\\\\n\\end{tabular}\n",
            "text/markdown": "\nA data.frame: 1 × 6\n\n| <!--/--> | Rating &lt;dbl&gt; | Reviews &lt;fct&gt; | Book_title &lt;fct&gt; | Number_Of_Pages &lt;dbl&gt; | Type &lt;fct&gt; | Price &lt;dbl&gt; |\n|---|---|---|---|---|---|---|\n| 12 | 3.78 | 481 | The Master Algorithm: How the Quest for the Ultimate Learning Machine Will Remake Our World | 352 | Hardcover | 15.22941 |\n\n",
            "text/html": [
              "<table class=\"dataframe\">\n",
              "<caption>A data.frame: 1 × 6</caption>\n",
              "<thead>\n",
              "\t<tr><th></th><th scope=col>Rating</th><th scope=col>Reviews</th><th scope=col>Book_title</th><th scope=col>Number_Of_Pages</th><th scope=col>Type</th><th scope=col>Price</th></tr>\n",
              "\t<tr><th></th><th scope=col>&lt;dbl&gt;</th><th scope=col>&lt;fct&gt;</th><th scope=col>&lt;fct&gt;</th><th scope=col>&lt;dbl&gt;</th><th scope=col>&lt;fct&gt;</th><th scope=col>&lt;dbl&gt;</th></tr>\n",
              "</thead>\n",
              "<tbody>\n",
              "\t<tr><th scope=row>12</th><td>3.78</td><td>481</td><td>The Master Algorithm: How the Quest for the Ultimate Learning Machine Will Remake Our World</td><td>352</td><td>Hardcover</td><td>15.22941</td></tr>\n",
              "</tbody>\n",
              "</table>\n"
            ]
          },
          "metadata": {}
        }
      ]
    },
    {
      "cell_type": "code",
      "source": [
        "head(books[,3], n=3) # третий столбец"
      ],
      "metadata": {
        "colab": {
          "base_uri": "https://localhost:8080/",
          "height": 69
        },
        "id": "lfIOzWQeATLr",
        "outputId": "9bb2b489-2b70-4441-9881-476a6310eeb7"
      },
      "execution_count": null,
      "outputs": [
        {
          "output_type": "display_data",
          "data": {
            "text/plain": [
              "[1] The Elements of Style                        \n",
              "[2] The Information: A History, a Theory, a Flood\n",
              "[3] Responsive Web Design Overview For Beginners \n",
              "271 Levels: 3D Game Engine Architecture: Engineering Real-Time Applications with Wild Magic (The Morgan Kaufmann Series in Interactive 3d Technology) ..."
            ],
            "text/latex": "\\begin{enumerate*}\n\\item The Elements of Style\n\\item The Information: A History, a Theory, a Flood\n\\item Responsive Web Design Overview For Beginners\n\\end{enumerate*}\n\n\\emph{Levels}: \\begin{enumerate*}\n\\item '3D Game Engine Architecture: Engineering Real-Time Applications with Wild Magic (The Morgan Kaufmann Series in Interactive 3d Technology)'\n\\item '3D Game Engine Design: A Practical Approach to Real-Time Computer Graphics (The Morgan Kaufmann Series in Interactive 3D Technology)'\n\\item '3D Math Primer for Graphics and Game Development'\n\\item '97 Things Every Programmer Should Know: Collective Wisdom from the Experts'\n\\item 'A Discipline for Software Engineering'\n\\item 'A First Course in Logic: An Introduction to Model Theory, Proof Theory, Computability, and Complexity'\n\\item 'A Smarter Way to Learn JavaScript: The new approach that uses technology to cut your effort in half'\n\\item 'A Tour of C++'\n\\item 'Accelerate: Building and Scaling High-Performing Technology Organizations'\n\\item 'Accelerated C++: Practical Programming by Example'\n\\item 'Advanced Game Programming: A Gamedev.Net Collection'\n\\item 'Advanced Programming in the UNIX Environment'\n\\item 'Adventures in Minecraft'\n\\item 'Agile Retrospectives: Making Good Teams Great'\n\\item 'Agile Software Development, Principles, Patterns, and Practices'\n\\item 'Agile Web Development with Rails: A Pragmatic Guide'\n\\item 'Algorithm Design'\n\\item 'Algorithms'\n\\item 'Algorithms to Live By: The Computer Science of Human Decisions'\n\\item 'Algorithms Unlocked'\n\\item 'An Introduction to Database Systems'\n\\item 'An Introduction to Functional Programming Through Lambda Calculus'\n\\item 'Android NDK Game Development Cookbook'\n\\item 'API Design for C++'\n\\item 'Apprenticeship Patterns: Guidance for the Aspiring Software Craftsman'\n\\item 'Artificial Intelligence: A Modern Approach'\n\\item 'Assembly Language: Step-By-Step'\n\\item 'Augmented Reality: Principles and Practice'\n\\item 'Automate the Boring Stuff with Python: Practical Programming for Total Beginners'\n\\item 'Automate This: How Algorithms Came to Rule Our World'\n\\item 'Basic Proof Theory'\n\\item 'Beginners Guide On PHP Programming: Quick And Easy Guide To Learn PHP With My-SQL'\n\\item 'Beginning Game Programming: A Gamedev.Net Collection'\n\\item 'Beginning Java 2'\n\\item 'Best of Game Programming Gems'\n\\item 'Big Data: A Revolution That Will Transform How We Live, Work, and Think'\n\\item 'Big Data: Principles and best practices of scalable realtime data systems'\n\\item 'Blueprints Visual Scripting for Unreal Engine'\n\\item 'Build Web Applications with Java: Learn every aspect to build web applications from scratch'\n\\item 'Building an FPS Game with Unity'\n\\item 'Building Microservices: Designing Fine-Grained Systems'\n\\item 'C Primer Plus'\n\\item 'C: A Reference Manual'\n\\item 'C\\# in Depth'\n\\item 'C++ Coding Standards: 101 Rules, Guidelines, and Best Practices (C++ in Depth Series)'\n\\item 'C++ Primer'\n\\item 'C++ Templates: The Complete Guide'\n\\item 'Chaos: Making a New Science'\n\\item 'Clean Code: A Handbook of Agile Software Craftsmanship'\n\\item 'CLR via C\\# (Developer Reference)'\n\\item 'Code Complete'\n\\item 'Code: The Hidden Language of Computer Hardware and Software'\n\\item 'Coding Games in Scratch'\n\\item 'Communication Networks: Fundamental Concepts and Key Architectures'\n\\item 'Compilers: Principles, Techniques, and Tools'\n\\item 'Computability and Logic'\n\\item 'Computability and Unsolvability'\n\\item 'Computational Complexity'\n\\item 'Computational Geometry: Algorithms and Applications'\n\\item 'Computational Science and Engineering'\n\\item 'Computer Architecture: A Quantitative Approach'\n\\item 'Computer Systems: A Programmer\\textbackslash{}'s Perspective'\n\\item 'Concepts, Techniques, and Models of Computer Programming'\n\\item 'Concrete Mathematics: A Foundation for Computer Science'\n\\item 'Continuous Delivery: Reliable Software Releases Through Build, Test, and Deployment Automation'\n\\item 'Cross-Platform Game Programming (Game Development) (Charles River Media Game Development)'\n\\item 'Cryptography Engineering: Design Principles and Practical Applications'\n\\item 'CSS: The Missing Manual'\n\\item 'Data and Goliath: The Hidden Battles to Collect Your Data and Control Your World'\n\\item 'Data Science from Scratch: First Principles with Python'\n\\item 'Data Structures and Algorithms'\n\\item 'Database System Concepts'\n\\item 'Debugging: The 9 Indispensable Rules for Finding Even the Most Elusive Software and Hardware Problems'\n\\item 'Deep Learning'\n\\item 'Dependency Injection in .NET'\n\\item 'Design and Validation of Computer Protocols'\n\\item 'Design Patterns: Elements of Reusable Object-Oriented Software'\n\\item 'Designing Data-Intensive Applications: The Big Ideas Behind Reliable, Scalable, and Maintainable Systems'\n\\item 'DIV, Grad, Curl, and All That: An Informal Text on Vector Calculus'\n\\item 'Does God Play Dice?: The New Mathematics of Chaos'\n\\item 'Doing Data Science'\n\\item 'Domain-Driven Design: Tackling Complexity in the Heart of Software'\n\\item 'Domain-Specific Languages'\n\\item 'Effective JavaScript: 68 Specific Ways to Harness the Power of JavaScript'\n\\item 'Effective Programming: More Than Writing Code'\n\\item 'Effective Python: 59 Specific Ways to Write Better Python'\n\\item 'Effective STL: 50 Specific Ways to Improve Your Use of the Standard Template Library'\n\\item 'Elements of Programming'\n\\item 'Elements of the Theory of Computation'\n\\item 'Eloquent JavaScript: A Modern Introduction to Programming'\n\\item 'Engineering a Compiler'\n\\item 'Essential Mathematics for Games and Interactive Applications'\n\\item 'Essential Scrum: A Practical Guide to the Most Popular Agile Process'\n\\item 'Essentials of Programming Languages'\n\\item 'Exceptional C++ Style: 40 New Engineering Puzzles, Programming Problems, and Solutions'\n\\item 'Exceptional C++: 47 Engineering Puzzles, Programming Problems, and Solutions'\n\\item 'Expert C Programming: Deep C Secrets'\n\\item 'Extreme Programming Explained: Embrace Change (The XP Series)'\n\\item 'Fearless Change: Patterns for Introducing New Ideas'\n\\item 'Feynman Lectures On Computation'\n\\item 'File Structures: An Object-Oriented Approach with C++'\n\\item 'Fluent Python: Clear, Concise, and Effective Programming'\n\\item 'Framework Design Guidelines: Conventions, Idioms, and Patterns for Reusable .NET Libraries'\n\\item 'From Mathematics to Generic Programming'\n\\item 'Functional Programming Application and Implementation'\n\\item 'Functional Programming in Scala'\n\\item 'Game Engine Architecture'\n\\item 'Game Engine Gems 1'\n\\item 'Game Programming Gems'\n\\item 'Game Programming Gems 2'\n\\item 'Game Programming Gems 3'\n\\item 'Game Programming Gems 4'\n\\item 'Game Programming Gems 5'\n\\item 'Game Programming Gems 6'\n\\item 'Game Programming Golden Rules'\n\\item 'Game Programming Patterns'\n\\item 'Genetic Programming II: Automatic Discovery of Reusable Programs'\n\\item 'Geometric Algebra for Computer Science: An Object-Oriented Approach to Geometry'\n\\item 'Geometric Tools for Computer Graphics'\n\\item 'Ghost in the Wires: My Adventures as the World\\textbackslash{}'s Most Wanted Hacker'\n\\item 'Growing Object-Oriented Software, Guided by Tests'\n\\item 'Hacker\\textbackslash{}'s Delight'\n\\item 'Haskell: The Craft of Functional Programming'\n\\item 'Head First Design Patterns'\n\\item 'Help Your Kids with Computer Coding'\n\\item 'High Performance Browser Networking'\n\\item 'How Google Tests Software'\n\\item 'How Google Works'\n\\item 'How to Create a Mind: The Secret of Human Thought Revealed'\n\\item 'How to Design Programs: An Introduction to Programming and Computing'\n\\item 'How to Think Like a Computer Scientist: Learning with Python'\n\\item 'Implementing Domain-Driven Design'\n\\item 'Inside the C++ Object Model'\n\\item 'Introduction to Algorithms'\n\\item 'Introduction to Automata Theory, Languages, and Computation'\n\\item 'Introduction to Computation and Programming Using Python'\n\\item 'Introduction to Functional Programming'\n\\item 'Introduction to Game Design, Prototyping, and Development: From Concept to Playable Game with Unity and C\\#'\n\\item 'Introduction to the Theory of Computation'\n\\item 'Invent Your Own Computer Games with Python, 3rd Edition'\n\\item 'JavaScript: The Good Parts'\n\\item 'Joel on Software'\n\\item 'Kingpin: How One Hacker Took Over the Billion-Dollar Cybercrime Underground'\n\\item 'Lambda-Calculus and Combinators: An Introduction'\n\\item 'Lambda-Calculus, Combinators and Functional Programming'\n\\item 'Learn Java the Easy Way : A Hands-On Introduction to Programming'\n\\item 'Learn Python The Hard Way'\n\\item 'Learn You a Haskell for Great Good!'\n\\item 'Learn You a Haskell for Great Good!: A Beginner\\textbackslash{}'s Guide'\n\\item 'Learning Perl'\n\\item 'Learning Python'\n\\item 'Learning Ruby'\n\\item 'Linked: How Everything Is Connected to Everything Else and What It Means for Business, Science, and Everyday Life'\n\\item 'Machine Learning'\n\\item 'Machine Learning for Hackers'\n\\item 'Make Your Own Neural Network'\n\\item 'Make Your Own Neural Network: An In-depth Visual Introduction For Beginners'\n\\item 'Making Games with Python \\& Pygame'\n\\item 'Manage Your Project Portfolio'\n\\item 'Managing Data Using Excel'\n\\item 'Mathematics for 3D Game Programming and Computer Graphics'\n\\item 'Microsoft Visual C\\# Step by Step'\n\\item 'Mining of Massive Datasets'\n\\item 'Modern C++ Design: Generic Programming and Design Patterns Applied'\n\\item 'Modern Operating Systems'\n\\item 'Modern Operating Systems, 4th Edition'\n\\item 'More Effective C++'\n\\item 'More Exceptional C++: 40 New Engineering Puzzles, Programming Problems, and Solutions'\n\\item 'Nine Algorithms That Changed the Future: The Ingenious Ideas That Drive Today\\textbackslash{}'s Computers'\n\\item 'Numerical Recipes: The Art of Scientific Computing'\n\\item 'Object-Oriented Analysis and Design with Applications'\n\\item 'Object-Oriented Design Heuristics'\n\\item 'Optimized C++: Proven Techniques for Heightened Performance'\n\\item 'Our Final Invention: Artificial Intelligence and the End of the Human Era'\n\\item 'Peopleware: Productive Projects and Teams'\n\\item 'PHP and MySQL Web Development (Developer\\textbackslash{}'s Library)'\n\\item 'Practical Foundations for Programming Languages'\n\\item 'Practical Object Oriented Design in Ruby'\n\\item 'Practical SQL: A Beginner\\textbackslash{}'s Guide to Storytelling with Data'\n\\item 'Pro Git'\n\\item 'Pro TypeScript: Application-Scale JavaScript Development'\n\\item 'Programming in Lua, Fourth Edition'\n\\item 'Programming Pearls'\n\\item 'Programming PHP'\n\\item 'Programming Ruby: The Pragmatic Programmers\\textbackslash{}' Guide'\n\\item 'Python Crash Course: A Hands-On, Project-Based Introduction to Programming'\n\\item 'Python for Data Analysis'\n\\item 'Python Programming Books Set: Python Programming for Beginners \\& Complete Guide for Python Programming'\n\\item 'Python Programming For Beginners: Quick And Easy Guide For Python Programmers'\n\\item 'Quality Software Management V 1 – Systems Thinking'\n\\item 'Quantum Computing Since Democritus'\n\\item 'Real-World Machine Learning'\n\\item 'Refactoring: Improving the Design of Existing Code'\n\\item 'Release It!: Design and Deploy Production-Ready Software (Pragmatic Programmers)'\n\\item 'Responsive Web Design Overview For Beginners'\n\\item 'REST in Practice: Hypermedia and Systems Architecture'\n\\item 'Reviewing C++'\n\\item 'Reviewing Java'\n\\item 'Sams Teach Yourself JavaScript in 24 Hours'\n\\item 'Sams Teach Yourself MySQL in 24 Hours'\n\\item 'Sams Teach Yourself Perl in 24 Hours'\n\\item 'Scrum and XP from the Trenches'\n\\item 'Seven Languages in Seven Weeks'\n\\item 'Ship It!'\n\\item 'Simulation of Digital Communication Systems using Matlab'\n\\item 'Six Degrees: The Science of a Connected Age'\n\\item 'Soft Skills: The Software Developer\\textbackslash{}'s Life Manual'\n\\item 'Start with Why: How Great Leaders Inspire Everyone to Take Action'\n\\item 'Structure and Interpretation of Computer Programs'\n\\item 'Structure and Interpretation of Computer Programs (MIT Electrical Engineering and Computer Science)'\n\\item 'Structured Computer Organization'\n\\item 'Superintelligence: Paths, Dangers, Strategies'\n\\item 'Sync: The Emerging Science of Spontaneous Order'\n\\item 'Test Driven Development: By Example'\n\\item 'The Algorithm Design Manual'\n\\item 'The Architecture of Open Source Applications'\n\\item 'The Art of Computer Programming, Volume 1: Fundamental Algorithms'\n\\item 'The Art of Computer Programming, Volumes 1-3 Boxed Set'\n\\item 'The Art of Computer Programming, Volumes 1-4a Boxed Set'\n\\item 'The Art of the Start: The Time-Tested, Battle-Hardened Guide for Anyone Starting Anything'\n\\item 'The Boost C++ Libraries'\n\\item 'The C Programming Language'\n\\item 'The C++ Programming Language'\n\\item 'The C++ Standard Library: A Tutorial and Reference'\n\\item 'The Calculus of Computation: Decision Procedures with Applications to Verification'\n\\item 'The Clean Coder: A Code of Conduct for Professional Programmers'\n\\item 'The Code Book: The Science of Secrecy from Ancient Egypt to Quantum Cryptography'\n\\item 'The Connection Machine'\n\\item 'The Cosmic Landscape: String Theory and the Illusion of Intelligent Design'\n\\item 'The Design of Design: Essays from a Computer Scientist'\n\\item 'The Elements of Computing Systems: Building a Modern Computer from First Principles'\n\\item 'The Elements of Style'\n\\item 'The Goal: A Process of Ongoing Improvement'\n\\item 'The Golden Ticket: P, Np, and the Search for the Impossible'\n\\item 'The Hidden Connections: A Science for Sustainable Living'\n\\item 'The Information: A History, a Theory, a Flood'\n\\item 'The Innovators: How a Group of Hackers, Geniuses and Geeks Created the Digital Revolution'\n\\item 'The It Handbook for Business: Managing Information Technology Support Costs'\n\\item 'The Joy of Clojure'\n\\item 'The Linux Programming Interface: A Linux and Unix System Programming Handbook'\n\\item 'The Little Schemer'\n\\item 'The Master Algorithm: How the Quest for the Ultimate Learning Machine Will Remake Our World'\n\\item 'The Meme Machine'\n\\item 'The Mythical Man-Month: Essays on Software Engineering'\n\\item 'The Pattern on the Stone: The Simple Ideas that Make Computers Work'\n\\item 'The Phoenix Project: A Novel About IT, DevOps, and Helping Your Business Win'\n\\item 'The Practice of Programming (Addison-Wesley Professional Computing Series)'\n\\item 'The Principles of Object-Oriented JavaScript'\n\\item 'The Protocols (TCP/IP Illustrated, Volume 1)'\n\\item 'The Psychology of Computer Programming'\n\\item 'The Quark and the Jaguar: Adventures in the Simple and the Complex'\n\\item 'The Rails Way'\n\\item 'The Sciences of the Artificial'\n\\item 'The Scrumban {[}R{]}Evolution: Getting the Most Out of Agile, Scrum, and Lean Kanban'\n\\item 'The Shape of Inner Space: String Theory and the Geometry of the Universe\\textbackslash{}'s Hidden Dimensions'\n\\item 'The Society of Mind'\n\\item 'The Strangest Man: The Hidden Life of Paul Dirac, Mystic of the Atom'\n\\item 'The Unified Modeling Language User Guide'\n\\item 'The UNIX Programming Environment'\n\\item 'The Visual Display of Quantitative Information'\n\\item 'Think Complexity: Complexity Science and Computational Modeling'\n\\item 'Think Like a Programmer: An Introduction to Creative Problem Solving'\n\\item 'UML Distilled: A Brief Guide to the Standard Object Modeling Language'\n\\item 'Unity in Action'\n\\item 'Unity Virtual Reality Projects'\n\\item 'Weapons of Math Destruction: How Big Data Increases Inequality and Threatens Democracy'\n\\item 'What Is Life? with Mind and Matter and Autobiographical Sketches'\n\\item 'Working Effectively with Legacy Code'\n\\item 'xUnit Test Patterns: Refactoring Test Code'\n\\item 'Your First App: Node.js'\n\\item 'ZX Spectrum Games Code Club: Twenty fun games to code and learn'\n\\end{enumerate*}\n",
            "text/markdown": "1. The Elements of Style\n2. The Information: A History, a Theory, a Flood\n3. Responsive Web Design Overview For Beginners\n\n\n\n**Levels**: 1. '3D Game Engine Architecture: Engineering Real-Time Applications with Wild Magic (The Morgan Kaufmann Series in Interactive 3d Technology)'\n2. '3D Game Engine Design: A Practical Approach to Real-Time Computer Graphics (The Morgan Kaufmann Series in Interactive 3D Technology)'\n3. '3D Math Primer for Graphics and Game Development'\n4. '97 Things Every Programmer Should Know: Collective Wisdom from the Experts'\n5. 'A Discipline for Software Engineering'\n6. 'A First Course in Logic: An Introduction to Model Theory, Proof Theory, Computability, and Complexity'\n7. 'A Smarter Way to Learn JavaScript: The new approach that uses technology to cut your effort in half'\n8. 'A Tour of C++'\n9. 'Accelerate: Building and Scaling High-Performing Technology Organizations'\n10. 'Accelerated C++: Practical Programming by Example'\n11. 'Advanced Game Programming: A Gamedev.Net Collection'\n12. 'Advanced Programming in the UNIX Environment'\n13. 'Adventures in Minecraft'\n14. 'Agile Retrospectives: Making Good Teams Great'\n15. 'Agile Software Development, Principles, Patterns, and Practices'\n16. 'Agile Web Development with Rails: A Pragmatic Guide'\n17. 'Algorithm Design'\n18. 'Algorithms'\n19. 'Algorithms to Live By: The Computer Science of Human Decisions'\n20. 'Algorithms Unlocked'\n21. 'An Introduction to Database Systems'\n22. 'An Introduction to Functional Programming Through Lambda Calculus'\n23. 'Android NDK Game Development Cookbook'\n24. 'API Design for C++'\n25. 'Apprenticeship Patterns: Guidance for the Aspiring Software Craftsman'\n26. 'Artificial Intelligence: A Modern Approach'\n27. 'Assembly Language: Step-By-Step'\n28. 'Augmented Reality: Principles and Practice'\n29. 'Automate the Boring Stuff with Python: Practical Programming for Total Beginners'\n30. 'Automate This: How Algorithms Came to Rule Our World'\n31. 'Basic Proof Theory'\n32. 'Beginners Guide On PHP Programming: Quick And Easy Guide To Learn PHP With My-SQL'\n33. 'Beginning Game Programming: A Gamedev.Net Collection'\n34. 'Beginning Java 2'\n35. 'Best of Game Programming Gems'\n36. 'Big Data: A Revolution That Will Transform How We Live, Work, and Think'\n37. 'Big Data: Principles and best practices of scalable realtime data systems'\n38. 'Blueprints Visual Scripting for Unreal Engine'\n39. 'Build Web Applications with Java: Learn every aspect to build web applications from scratch'\n40. 'Building an FPS Game with Unity'\n41. 'Building Microservices: Designing Fine-Grained Systems'\n42. 'C Primer Plus'\n43. 'C: A Reference Manual'\n44. 'C# in Depth'\n45. 'C++ Coding Standards: 101 Rules, Guidelines, and Best Practices (C++ in Depth Series)'\n46. 'C++ Primer'\n47. 'C++ Templates: The Complete Guide'\n48. 'Chaos: Making a New Science'\n49. 'Clean Code: A Handbook of Agile Software Craftsmanship'\n50. 'CLR via C# (Developer Reference)'\n51. 'Code Complete'\n52. 'Code: The Hidden Language of Computer Hardware and Software'\n53. 'Coding Games in Scratch'\n54. 'Communication Networks: Fundamental Concepts and Key Architectures'\n55. 'Compilers: Principles, Techniques, and Tools'\n56. 'Computability and Logic'\n57. 'Computability and Unsolvability'\n58. 'Computational Complexity'\n59. 'Computational Geometry: Algorithms and Applications'\n60. 'Computational Science and Engineering'\n61. 'Computer Architecture: A Quantitative Approach'\n62. 'Computer Systems: A Programmer\\'s Perspective'\n63. 'Concepts, Techniques, and Models of Computer Programming'\n64. 'Concrete Mathematics: A Foundation for Computer Science'\n65. 'Continuous Delivery: Reliable Software Releases Through Build, Test, and Deployment Automation'\n66. 'Cross-Platform Game Programming (Game Development) (Charles River Media Game Development)'\n67. 'Cryptography Engineering: Design Principles and Practical Applications'\n68. 'CSS: The Missing Manual'\n69. 'Data and Goliath: The Hidden Battles to Collect Your Data and Control Your World'\n70. 'Data Science from Scratch: First Principles with Python'\n71. 'Data Structures and Algorithms'\n72. 'Database System Concepts'\n73. 'Debugging: The 9 Indispensable Rules for Finding Even the Most Elusive Software and Hardware Problems'\n74. 'Deep Learning'\n75. 'Dependency Injection in .NET'\n76. 'Design and Validation of Computer Protocols'\n77. 'Design Patterns: Elements of Reusable Object-Oriented Software'\n78. 'Designing Data-Intensive Applications: The Big Ideas Behind Reliable, Scalable, and Maintainable Systems'\n79. 'DIV, Grad, Curl, and All That: An Informal Text on Vector Calculus'\n80. 'Does God Play Dice?: The New Mathematics of Chaos'\n81. 'Doing Data Science'\n82. 'Domain-Driven Design: Tackling Complexity in the Heart of Software'\n83. 'Domain-Specific Languages'\n84. 'Effective JavaScript: 68 Specific Ways to Harness the Power of JavaScript'\n85. 'Effective Programming: More Than Writing Code'\n86. 'Effective Python: 59 Specific Ways to Write Better Python'\n87. 'Effective STL: 50 Specific Ways to Improve Your Use of the Standard Template Library'\n88. 'Elements of Programming'\n89. 'Elements of the Theory of Computation'\n90. 'Eloquent JavaScript: A Modern Introduction to Programming'\n91. 'Engineering a Compiler'\n92. 'Essential Mathematics for Games and Interactive Applications'\n93. 'Essential Scrum: A Practical Guide to the Most Popular Agile Process'\n94. 'Essentials of Programming Languages'\n95. 'Exceptional C++ Style: 40 New Engineering Puzzles, Programming Problems, and Solutions'\n96. 'Exceptional C++: 47 Engineering Puzzles, Programming Problems, and Solutions'\n97. 'Expert C Programming: Deep C Secrets'\n98. 'Extreme Programming Explained: Embrace Change (The XP Series)'\n99. 'Fearless Change: Patterns for Introducing New Ideas'\n100. 'Feynman Lectures On Computation'\n101. 'File Structures: An Object-Oriented Approach with C++'\n102. 'Fluent Python: Clear, Concise, and Effective Programming'\n103. 'Framework Design Guidelines: Conventions, Idioms, and Patterns for Reusable .NET Libraries'\n104. 'From Mathematics to Generic Programming'\n105. 'Functional Programming Application and Implementation'\n106. 'Functional Programming in Scala'\n107. 'Game Engine Architecture'\n108. 'Game Engine Gems 1'\n109. 'Game Programming Gems'\n110. 'Game Programming Gems 2'\n111. 'Game Programming Gems 3'\n112. 'Game Programming Gems 4'\n113. 'Game Programming Gems 5'\n114. 'Game Programming Gems 6'\n115. 'Game Programming Golden Rules'\n116. 'Game Programming Patterns'\n117. 'Genetic Programming II: Automatic Discovery of Reusable Programs'\n118. 'Geometric Algebra for Computer Science: An Object-Oriented Approach to Geometry'\n119. 'Geometric Tools for Computer Graphics'\n120. 'Ghost in the Wires: My Adventures as the World\\'s Most Wanted Hacker'\n121. 'Growing Object-Oriented Software, Guided by Tests'\n122. 'Hacker\\'s Delight'\n123. 'Haskell: The Craft of Functional Programming'\n124. 'Head First Design Patterns'\n125. 'Help Your Kids with Computer Coding'\n126. 'High Performance Browser Networking'\n127. 'How Google Tests Software'\n128. 'How Google Works'\n129. 'How to Create a Mind: The Secret of Human Thought Revealed'\n130. 'How to Design Programs: An Introduction to Programming and Computing'\n131. 'How to Think Like a Computer Scientist: Learning with Python'\n132. 'Implementing Domain-Driven Design'\n133. 'Inside the C++ Object Model'\n134. 'Introduction to Algorithms'\n135. 'Introduction to Automata Theory, Languages, and Computation'\n136. 'Introduction to Computation and Programming Using Python'\n137. 'Introduction to Functional Programming'\n138. 'Introduction to Game Design, Prototyping, and Development: From Concept to Playable Game with Unity and C#'\n139. 'Introduction to the Theory of Computation'\n140. 'Invent Your Own Computer Games with Python, 3rd Edition'\n141. 'JavaScript: The Good Parts'\n142. 'Joel on Software'\n143. 'Kingpin: How One Hacker Took Over the Billion-Dollar Cybercrime Underground'\n144. 'Lambda-Calculus and Combinators: An Introduction'\n145. 'Lambda-Calculus, Combinators and Functional Programming'\n146. 'Learn Java the Easy Way : A Hands-On Introduction to Programming'\n147. 'Learn Python The Hard Way'\n148. 'Learn You a Haskell for Great Good!'\n149. 'Learn You a Haskell for Great Good!: A Beginner\\'s Guide'\n150. 'Learning Perl'\n151. 'Learning Python'\n152. 'Learning Ruby'\n153. 'Linked: How Everything Is Connected to Everything Else and What It Means for Business, Science, and Everyday Life'\n154. 'Machine Learning'\n155. 'Machine Learning for Hackers'\n156. 'Make Your Own Neural Network'\n157. 'Make Your Own Neural Network: An In-depth Visual Introduction For Beginners'\n158. 'Making Games with Python &amp; Pygame'\n159. 'Manage Your Project Portfolio'\n160. 'Managing Data Using Excel'\n161. 'Mathematics for 3D Game Programming and Computer Graphics'\n162. 'Microsoft Visual C# Step by Step'\n163. 'Mining of Massive Datasets'\n164. 'Modern C++ Design: Generic Programming and Design Patterns Applied'\n165. 'Modern Operating Systems'\n166. 'Modern Operating Systems, 4th Edition'\n167. 'More Effective C++'\n168. 'More Exceptional C++: 40 New Engineering Puzzles, Programming Problems, and Solutions'\n169. 'Nine Algorithms That Changed the Future: The Ingenious Ideas That Drive Today\\'s Computers'\n170. 'Numerical Recipes: The Art of Scientific Computing'\n171. 'Object-Oriented Analysis and Design with Applications'\n172. 'Object-Oriented Design Heuristics'\n173. 'Optimized C++: Proven Techniques for Heightened Performance'\n174. 'Our Final Invention: Artificial Intelligence and the End of the Human Era'\n175. 'Peopleware: Productive Projects and Teams'\n176. 'PHP and MySQL Web Development (Developer\\'s Library)'\n177. 'Practical Foundations for Programming Languages'\n178. 'Practical Object Oriented Design in Ruby'\n179. 'Practical SQL: A Beginner\\'s Guide to Storytelling with Data'\n180. 'Pro Git'\n181. 'Pro TypeScript: Application-Scale JavaScript Development'\n182. 'Programming in Lua, Fourth Edition'\n183. 'Programming Pearls'\n184. 'Programming PHP'\n185. 'Programming Ruby: The Pragmatic Programmers\\' Guide'\n186. 'Python Crash Course: A Hands-On, Project-Based Introduction to Programming'\n187. 'Python for Data Analysis'\n188. 'Python Programming Books Set: Python Programming for Beginners &amp; Complete Guide for Python Programming'\n189. 'Python Programming For Beginners: Quick And Easy Guide For Python Programmers'\n190. 'Quality Software Management V 1 – Systems Thinking'\n191. 'Quantum Computing Since Democritus'\n192. 'Real-World Machine Learning'\n193. 'Refactoring: Improving the Design of Existing Code'\n194. 'Release It!: Design and Deploy Production-Ready Software (Pragmatic Programmers)'\n195. 'Responsive Web Design Overview For Beginners'\n196. 'REST in Practice: Hypermedia and Systems Architecture'\n197. 'Reviewing C++'\n198. 'Reviewing Java'\n199. 'Sams Teach Yourself JavaScript in 24 Hours'\n200. 'Sams Teach Yourself MySQL in 24 Hours'\n201. 'Sams Teach Yourself Perl in 24 Hours'\n202. 'Scrum and XP from the Trenches'\n203. 'Seven Languages in Seven Weeks'\n204. 'Ship It!'\n205. 'Simulation of Digital Communication Systems using Matlab'\n206. 'Six Degrees: The Science of a Connected Age'\n207. 'Soft Skills: The Software Developer\\'s Life Manual'\n208. 'Start with Why: How Great Leaders Inspire Everyone to Take Action'\n209. 'Structure and Interpretation of Computer Programs'\n210. 'Structure and Interpretation of Computer Programs (MIT Electrical Engineering and Computer Science)'\n211. 'Structured Computer Organization'\n212. 'Superintelligence: Paths, Dangers, Strategies'\n213. 'Sync: The Emerging Science of Spontaneous Order'\n214. 'Test Driven Development: By Example'\n215. 'The Algorithm Design Manual'\n216. 'The Architecture of Open Source Applications'\n217. 'The Art of Computer Programming, Volume 1: Fundamental Algorithms'\n218. 'The Art of Computer Programming, Volumes 1-3 Boxed Set'\n219. 'The Art of Computer Programming, Volumes 1-4a Boxed Set'\n220. 'The Art of the Start: The Time-Tested, Battle-Hardened Guide for Anyone Starting Anything'\n221. 'The Boost C++ Libraries'\n222. 'The C Programming Language'\n223. 'The C++ Programming Language'\n224. 'The C++ Standard Library: A Tutorial and Reference'\n225. 'The Calculus of Computation: Decision Procedures with Applications to Verification'\n226. 'The Clean Coder: A Code of Conduct for Professional Programmers'\n227. 'The Code Book: The Science of Secrecy from Ancient Egypt to Quantum Cryptography'\n228. 'The Connection Machine'\n229. 'The Cosmic Landscape: String Theory and the Illusion of Intelligent Design'\n230. 'The Design of Design: Essays from a Computer Scientist'\n231. 'The Elements of Computing Systems: Building a Modern Computer from First Principles'\n232. 'The Elements of Style'\n233. 'The Goal: A Process of Ongoing Improvement'\n234. 'The Golden Ticket: P, Np, and the Search for the Impossible'\n235. 'The Hidden Connections: A Science for Sustainable Living'\n236. 'The Information: A History, a Theory, a Flood'\n237. 'The Innovators: How a Group of Hackers, Geniuses and Geeks Created the Digital Revolution'\n238. 'The It Handbook for Business: Managing Information Technology Support Costs'\n239. 'The Joy of Clojure'\n240. 'The Linux Programming Interface: A Linux and Unix System Programming Handbook'\n241. 'The Little Schemer'\n242. 'The Master Algorithm: How the Quest for the Ultimate Learning Machine Will Remake Our World'\n243. 'The Meme Machine'\n244. 'The Mythical Man-Month: Essays on Software Engineering'\n245. 'The Pattern on the Stone: The Simple Ideas that Make Computers Work'\n246. 'The Phoenix Project: A Novel About IT, DevOps, and Helping Your Business Win'\n247. 'The Practice of Programming (Addison-Wesley Professional Computing Series)'\n248. 'The Principles of Object-Oriented JavaScript'\n249. 'The Protocols (TCP/IP Illustrated, Volume 1)'\n250. 'The Psychology of Computer Programming'\n251. 'The Quark and the Jaguar: Adventures in the Simple and the Complex'\n252. 'The Rails Way'\n253. 'The Sciences of the Artificial'\n254. 'The Scrumban [R]Evolution: Getting the Most Out of Agile, Scrum, and Lean Kanban'\n255. 'The Shape of Inner Space: String Theory and the Geometry of the Universe\\'s Hidden Dimensions'\n256. 'The Society of Mind'\n257. 'The Strangest Man: The Hidden Life of Paul Dirac, Mystic of the Atom'\n258. 'The Unified Modeling Language User Guide'\n259. 'The UNIX Programming Environment'\n260. 'The Visual Display of Quantitative Information'\n261. 'Think Complexity: Complexity Science and Computational Modeling'\n262. 'Think Like a Programmer: An Introduction to Creative Problem Solving'\n263. 'UML Distilled: A Brief Guide to the Standard Object Modeling Language'\n264. 'Unity in Action'\n265. 'Unity Virtual Reality Projects'\n266. 'Weapons of Math Destruction: How Big Data Increases Inequality and Threatens Democracy'\n267. 'What Is Life? with Mind and Matter and Autobiographical Sketches'\n268. 'Working Effectively with Legacy Code'\n269. 'xUnit Test Patterns: Refactoring Test Code'\n270. 'Your First App: Node.js'\n271. 'ZX Spectrum Games Code Club: Twenty fun games to code and learn'\n\n\n",
            "text/html": [
              "<style>\n",
              ".list-inline {list-style: none; margin:0; padding: 0}\n",
              ".list-inline>li {display: inline-block}\n",
              ".list-inline>li:not(:last-child)::after {content: \"\\00b7\"; padding: 0 .5ex}\n",
              "</style>\n",
              "<ol class=list-inline><li>The Elements of Style</li><li>The Information: A History, a Theory, a Flood</li><li>Responsive Web Design Overview For Beginners</li></ol>\n",
              "\n",
              "<details>\n",
              "\t<summary style=display:list-item;cursor:pointer>\n",
              "\t\t<strong>Levels</strong>:\n",
              "\t</summary>\n",
              "\t<style>\n",
              "\t.list-inline {list-style: none; margin:0; padding: 0}\n",
              "\t.list-inline>li {display: inline-block}\n",
              "\t.list-inline>li:not(:last-child)::after {content: \"\\00b7\"; padding: 0 .5ex}\n",
              "\t</style>\n",
              "\t<ol class=list-inline><li>'3D Game Engine Architecture: Engineering Real-Time Applications with Wild Magic (The Morgan Kaufmann Series in Interactive 3d Technology)'</li><li>'3D Game Engine Design: A Practical Approach to Real-Time Computer Graphics (The Morgan Kaufmann Series in Interactive 3D Technology)'</li><li>'3D Math Primer for Graphics and Game Development'</li><li>'97 Things Every Programmer Should Know: Collective Wisdom from the Experts'</li><li>'A Discipline for Software Engineering'</li><li>'A First Course in Logic: An Introduction to Model Theory, Proof Theory, Computability, and Complexity'</li><li>'A Smarter Way to Learn JavaScript: The new approach that uses technology to cut your effort in half'</li><li>'A Tour of C++'</li><li>'Accelerate: Building and Scaling High-Performing Technology Organizations'</li><li>'Accelerated C++: Practical Programming by Example'</li><li>'Advanced Game Programming: A Gamedev.Net Collection'</li><li>'Advanced Programming in the UNIX Environment'</li><li>'Adventures in Minecraft'</li><li>'Agile Retrospectives: Making Good Teams Great'</li><li>'Agile Software Development, Principles, Patterns, and Practices'</li><li>'Agile Web Development with Rails: A Pragmatic Guide'</li><li>'Algorithm Design'</li><li>'Algorithms'</li><li>'Algorithms to Live By: The Computer Science of Human Decisions'</li><li>'Algorithms Unlocked'</li><li>'An Introduction to Database Systems'</li><li>'An Introduction to Functional Programming Through Lambda Calculus'</li><li>'Android NDK Game Development Cookbook'</li><li>'API Design for C++'</li><li>'Apprenticeship Patterns: Guidance for the Aspiring Software Craftsman'</li><li>'Artificial Intelligence: A Modern Approach'</li><li>'Assembly Language: Step-By-Step'</li><li>'Augmented Reality: Principles and Practice'</li><li>'Automate the Boring Stuff with Python: Practical Programming for Total Beginners'</li><li>'Automate This: How Algorithms Came to Rule Our World'</li><li>'Basic Proof Theory'</li><li>'Beginners Guide On PHP Programming: Quick And Easy Guide To Learn PHP With My-SQL'</li><li>'Beginning Game Programming: A Gamedev.Net Collection'</li><li>'Beginning Java 2'</li><li>'Best of Game Programming Gems'</li><li>'Big Data: A Revolution That Will Transform How We Live, Work, and Think'</li><li>'Big Data: Principles and best practices of scalable realtime data systems'</li><li>'Blueprints Visual Scripting for Unreal Engine'</li><li>'Build Web Applications with Java: Learn every aspect to build web applications from scratch'</li><li>'Building an FPS Game with Unity'</li><li>'Building Microservices: Designing Fine-Grained Systems'</li><li>'C Primer Plus'</li><li>'C: A Reference Manual'</li><li>'C# in Depth'</li><li>'C++ Coding Standards: 101 Rules, Guidelines, and Best Practices (C++ in Depth Series)'</li><li>'C++ Primer'</li><li>'C++ Templates: The Complete Guide'</li><li>'Chaos: Making a New Science'</li><li>'Clean Code: A Handbook of Agile Software Craftsmanship'</li><li>'CLR via C# (Developer Reference)'</li><li>'Code Complete'</li><li>'Code: The Hidden Language of Computer Hardware and Software'</li><li>'Coding Games in Scratch'</li><li>'Communication Networks: Fundamental Concepts and Key Architectures'</li><li>'Compilers: Principles, Techniques, and Tools'</li><li>'Computability and Logic'</li><li>'Computability and Unsolvability'</li><li>'Computational Complexity'</li><li>'Computational Geometry: Algorithms and Applications'</li><li>'Computational Science and Engineering'</li><li>'Computer Architecture: A Quantitative Approach'</li><li>'Computer Systems: A Programmer\\'s Perspective'</li><li>'Concepts, Techniques, and Models of Computer Programming'</li><li>'Concrete Mathematics: A Foundation for Computer Science'</li><li>'Continuous Delivery: Reliable Software Releases Through Build, Test, and Deployment Automation'</li><li>'Cross-Platform Game Programming (Game Development) (Charles River Media Game Development)'</li><li>'Cryptography Engineering: Design Principles and Practical Applications'</li><li>'CSS: The Missing Manual'</li><li>'Data and Goliath: The Hidden Battles to Collect Your Data and Control Your World'</li><li>'Data Science from Scratch: First Principles with Python'</li><li>'Data Structures and Algorithms'</li><li>'Database System Concepts'</li><li>'Debugging: The 9 Indispensable Rules for Finding Even the Most Elusive Software and Hardware Problems'</li><li>'Deep Learning'</li><li>'Dependency Injection in .NET'</li><li>'Design and Validation of Computer Protocols'</li><li>'Design Patterns: Elements of Reusable Object-Oriented Software'</li><li>'Designing Data-Intensive Applications: The Big Ideas Behind Reliable, Scalable, and Maintainable Systems'</li><li>'DIV, Grad, Curl, and All That: An Informal Text on Vector Calculus'</li><li>'Does God Play Dice?: The New Mathematics of Chaos'</li><li>'Doing Data Science'</li><li>'Domain-Driven Design: Tackling Complexity in the Heart of Software'</li><li>'Domain-Specific Languages'</li><li>'Effective JavaScript: 68 Specific Ways to Harness the Power of JavaScript'</li><li>'Effective Programming: More Than Writing Code'</li><li>'Effective Python: 59 Specific Ways to Write Better Python'</li><li>'Effective STL: 50 Specific Ways to Improve Your Use of the Standard Template Library'</li><li>'Elements of Programming'</li><li>'Elements of the Theory of Computation'</li><li>'Eloquent JavaScript: A Modern Introduction to Programming'</li><li>'Engineering a Compiler'</li><li>'Essential Mathematics for Games and Interactive Applications'</li><li>'Essential Scrum: A Practical Guide to the Most Popular Agile Process'</li><li>'Essentials of Programming Languages'</li><li>'Exceptional C++ Style: 40 New Engineering Puzzles, Programming Problems, and Solutions'</li><li>'Exceptional C++: 47 Engineering Puzzles, Programming Problems, and Solutions'</li><li>'Expert C Programming: Deep C Secrets'</li><li>'Extreme Programming Explained: Embrace Change (The XP Series)'</li><li>'Fearless Change: Patterns for Introducing New Ideas'</li><li>'Feynman Lectures On Computation'</li><li>'File Structures: An Object-Oriented Approach with C++'</li><li>'Fluent Python: Clear, Concise, and Effective Programming'</li><li>'Framework Design Guidelines: Conventions, Idioms, and Patterns for Reusable .NET Libraries'</li><li>'From Mathematics to Generic Programming'</li><li>'Functional Programming Application and Implementation'</li><li>'Functional Programming in Scala'</li><li>'Game Engine Architecture'</li><li>'Game Engine Gems 1'</li><li>'Game Programming Gems'</li><li>'Game Programming Gems 2'</li><li>'Game Programming Gems 3'</li><li>'Game Programming Gems 4'</li><li>'Game Programming Gems 5'</li><li>'Game Programming Gems 6'</li><li>'Game Programming Golden Rules'</li><li>'Game Programming Patterns'</li><li>'Genetic Programming II: Automatic Discovery of Reusable Programs'</li><li>'Geometric Algebra for Computer Science: An Object-Oriented Approach to Geometry'</li><li>'Geometric Tools for Computer Graphics'</li><li>'Ghost in the Wires: My Adventures as the World\\'s Most Wanted Hacker'</li><li>'Growing Object-Oriented Software, Guided by Tests'</li><li>'Hacker\\'s Delight'</li><li>'Haskell: The Craft of Functional Programming'</li><li>'Head First Design Patterns'</li><li>'Help Your Kids with Computer Coding'</li><li>'High Performance Browser Networking'</li><li>'How Google Tests Software'</li><li>'How Google Works'</li><li>'How to Create a Mind: The Secret of Human Thought Revealed'</li><li>'How to Design Programs: An Introduction to Programming and Computing'</li><li>'How to Think Like a Computer Scientist: Learning with Python'</li><li>'Implementing Domain-Driven Design'</li><li>'Inside the C++ Object Model'</li><li>'Introduction to Algorithms'</li><li>'Introduction to Automata Theory, Languages, and Computation'</li><li>'Introduction to Computation and Programming Using Python'</li><li>'Introduction to Functional Programming'</li><li>'Introduction to Game Design, Prototyping, and Development: From Concept to Playable Game with Unity and C#'</li><li>'Introduction to the Theory of Computation'</li><li>'Invent Your Own Computer Games with Python, 3rd Edition'</li><li>'JavaScript: The Good Parts'</li><li>'Joel on Software'</li><li>'Kingpin: How One Hacker Took Over the Billion-Dollar Cybercrime Underground'</li><li>'Lambda-Calculus and Combinators: An Introduction'</li><li>'Lambda-Calculus, Combinators and Functional Programming'</li><li>'Learn Java the Easy Way : A Hands-On Introduction to Programming'</li><li>'Learn Python The Hard Way'</li><li>'Learn You a Haskell for Great Good!'</li><li>'Learn You a Haskell for Great Good!: A Beginner\\'s Guide'</li><li>'Learning Perl'</li><li>'Learning Python'</li><li>'Learning Ruby'</li><li>'Linked: How Everything Is Connected to Everything Else and What It Means for Business, Science, and Everyday Life'</li><li>'Machine Learning'</li><li>'Machine Learning for Hackers'</li><li>'Make Your Own Neural Network'</li><li>'Make Your Own Neural Network: An In-depth Visual Introduction For Beginners'</li><li>'Making Games with Python &amp; Pygame'</li><li>'Manage Your Project Portfolio'</li><li>'Managing Data Using Excel'</li><li>'Mathematics for 3D Game Programming and Computer Graphics'</li><li>'Microsoft Visual C# Step by Step'</li><li>'Mining of Massive Datasets'</li><li>'Modern C++ Design: Generic Programming and Design Patterns Applied'</li><li>'Modern Operating Systems'</li><li>'Modern Operating Systems, 4th Edition'</li><li>'More Effective C++'</li><li>'More Exceptional C++: 40 New Engineering Puzzles, Programming Problems, and Solutions'</li><li>'Nine Algorithms That Changed the Future: The Ingenious Ideas That Drive Today\\'s Computers'</li><li>'Numerical Recipes: The Art of Scientific Computing'</li><li>'Object-Oriented Analysis and Design with Applications'</li><li>'Object-Oriented Design Heuristics'</li><li>'Optimized C++: Proven Techniques for Heightened Performance'</li><li>'Our Final Invention: Artificial Intelligence and the End of the Human Era'</li><li>'Peopleware: Productive Projects and Teams'</li><li>'PHP and MySQL Web Development (Developer\\'s Library)'</li><li>'Practical Foundations for Programming Languages'</li><li>'Practical Object Oriented Design in Ruby'</li><li>'Practical SQL: A Beginner\\'s Guide to Storytelling with Data'</li><li>'Pro Git'</li><li>'Pro TypeScript: Application-Scale JavaScript Development'</li><li>'Programming in Lua, Fourth Edition'</li><li>'Programming Pearls'</li><li>'Programming PHP'</li><li>'Programming Ruby: The Pragmatic Programmers\\' Guide'</li><li>'Python Crash Course: A Hands-On, Project-Based Introduction to Programming'</li><li>'Python for Data Analysis'</li><li>'Python Programming Books Set: Python Programming for Beginners &amp; Complete Guide for Python Programming'</li><li>'Python Programming For Beginners: Quick And Easy Guide For Python Programmers'</li><li>'Quality Software Management V 1 – Systems Thinking'</li><li>'Quantum Computing Since Democritus'</li><li>'Real-World Machine Learning'</li><li>'Refactoring: Improving the Design of Existing Code'</li><li>'Release It!: Design and Deploy Production-Ready Software (Pragmatic Programmers)'</li><li>'Responsive Web Design Overview For Beginners'</li><li>'REST in Practice: Hypermedia and Systems Architecture'</li><li>'Reviewing C++'</li><li>'Reviewing Java'</li><li>'Sams Teach Yourself JavaScript in 24 Hours'</li><li>'Sams Teach Yourself MySQL in 24 Hours'</li><li>'Sams Teach Yourself Perl in 24 Hours'</li><li>'Scrum and XP from the Trenches'</li><li>'Seven Languages in Seven Weeks'</li><li>'Ship It!'</li><li>'Simulation of Digital Communication Systems using Matlab'</li><li>'Six Degrees: The Science of a Connected Age'</li><li>'Soft Skills: The Software Developer\\'s Life Manual'</li><li>'Start with Why: How Great Leaders Inspire Everyone to Take Action'</li><li>'Structure and Interpretation of Computer Programs'</li><li>'Structure and Interpretation of Computer Programs (MIT Electrical Engineering and Computer Science)'</li><li>'Structured Computer Organization'</li><li>'Superintelligence: Paths, Dangers, Strategies'</li><li>'Sync: The Emerging Science of Spontaneous Order'</li><li>'Test Driven Development: By Example'</li><li>'The Algorithm Design Manual'</li><li>'The Architecture of Open Source Applications'</li><li>'The Art of Computer Programming, Volume 1: Fundamental Algorithms'</li><li>'The Art of Computer Programming, Volumes 1-3 Boxed Set'</li><li>'The Art of Computer Programming, Volumes 1-4a Boxed Set'</li><li>'The Art of the Start: The Time-Tested, Battle-Hardened Guide for Anyone Starting Anything'</li><li>'The Boost C++ Libraries'</li><li>'The C Programming Language'</li><li>'The C++ Programming Language'</li><li>'The C++ Standard Library: A Tutorial and Reference'</li><li>'The Calculus of Computation: Decision Procedures with Applications to Verification'</li><li>'The Clean Coder: A Code of Conduct for Professional Programmers'</li><li>'The Code Book: The Science of Secrecy from Ancient Egypt to Quantum Cryptography'</li><li>'The Connection Machine'</li><li>'The Cosmic Landscape: String Theory and the Illusion of Intelligent Design'</li><li>'The Design of Design: Essays from a Computer Scientist'</li><li>'The Elements of Computing Systems: Building a Modern Computer from First Principles'</li><li>'The Elements of Style'</li><li>'The Goal: A Process of Ongoing Improvement'</li><li>'The Golden Ticket: P, Np, and the Search for the Impossible'</li><li>'The Hidden Connections: A Science for Sustainable Living'</li><li>'The Information: A History, a Theory, a Flood'</li><li>'The Innovators: How a Group of Hackers, Geniuses and Geeks Created the Digital Revolution'</li><li>'The It Handbook for Business: Managing Information Technology Support Costs'</li><li>'The Joy of Clojure'</li><li>'The Linux Programming Interface: A Linux and Unix System Programming Handbook'</li><li>'The Little Schemer'</li><li>'The Master Algorithm: How the Quest for the Ultimate Learning Machine Will Remake Our World'</li><li>'The Meme Machine'</li><li>'The Mythical Man-Month: Essays on Software Engineering'</li><li>'The Pattern on the Stone: The Simple Ideas that Make Computers Work'</li><li>'The Phoenix Project: A Novel About IT, DevOps, and Helping Your Business Win'</li><li>'The Practice of Programming (Addison-Wesley Professional Computing Series)'</li><li>'The Principles of Object-Oriented JavaScript'</li><li>'The Protocols (TCP/IP Illustrated, Volume 1)'</li><li>'The Psychology of Computer Programming'</li><li>'The Quark and the Jaguar: Adventures in the Simple and the Complex'</li><li>'The Rails Way'</li><li>'The Sciences of the Artificial'</li><li>'The Scrumban [R]Evolution: Getting the Most Out of Agile, Scrum, and Lean Kanban'</li><li>'The Shape of Inner Space: String Theory and the Geometry of the Universe\\'s Hidden Dimensions'</li><li>'The Society of Mind'</li><li>'The Strangest Man: The Hidden Life of Paul Dirac, Mystic of the Atom'</li><li>'The Unified Modeling Language User Guide'</li><li>'The UNIX Programming Environment'</li><li>'The Visual Display of Quantitative Information'</li><li>'Think Complexity: Complexity Science and Computational Modeling'</li><li>'Think Like a Programmer: An Introduction to Creative Problem Solving'</li><li>'UML Distilled: A Brief Guide to the Standard Object Modeling Language'</li><li>'Unity in Action'</li><li>'Unity Virtual Reality Projects'</li><li>'Weapons of Math Destruction: How Big Data Increases Inequality and Threatens Democracy'</li><li>'What Is Life? with Mind and Matter and Autobiographical Sketches'</li><li>'Working Effectively with Legacy Code'</li><li>'xUnit Test Patterns: Refactoring Test Code'</li><li>'Your First App: Node.js'</li><li>'ZX Spectrum Games Code Club: Twenty fun games to code and learn'</li></ol>\n",
              "</details>"
            ]
          },
          "metadata": {}
        }
      ]
    },
    {
      "cell_type": "code",
      "source": [
        "books[12, 3]"
      ],
      "metadata": {
        "colab": {
          "base_uri": "https://localhost:8080/",
          "height": 51
        },
        "id": "gilg8TNvAWE1",
        "outputId": "b2837f38-10aa-4cd9-fb7a-10aec7038ec2"
      },
      "execution_count": null,
      "outputs": [
        {
          "output_type": "display_data",
          "data": {
            "text/plain": [
              "[1] The Master Algorithm: How the Quest for the Ultimate Learning Machine Will Remake Our World\n",
              "271 Levels: 3D Game Engine Architecture: Engineering Real-Time Applications with Wild Magic (The Morgan Kaufmann Series in Interactive 3d Technology) ..."
            ],
            "text/latex": "The Master Algorithm: How the Quest for the Ultimate Learning Machine Will Remake Our World\n\\emph{Levels}: \\begin{enumerate*}\n\\item '3D Game Engine Architecture: Engineering Real-Time Applications with Wild Magic (The Morgan Kaufmann Series in Interactive 3d Technology)'\n\\item '3D Game Engine Design: A Practical Approach to Real-Time Computer Graphics (The Morgan Kaufmann Series in Interactive 3D Technology)'\n\\item '3D Math Primer for Graphics and Game Development'\n\\item '97 Things Every Programmer Should Know: Collective Wisdom from the Experts'\n\\item 'A Discipline for Software Engineering'\n\\item 'A First Course in Logic: An Introduction to Model Theory, Proof Theory, Computability, and Complexity'\n\\item 'A Smarter Way to Learn JavaScript: The new approach that uses technology to cut your effort in half'\n\\item 'A Tour of C++'\n\\item 'Accelerate: Building and Scaling High-Performing Technology Organizations'\n\\item 'Accelerated C++: Practical Programming by Example'\n\\item 'Advanced Game Programming: A Gamedev.Net Collection'\n\\item 'Advanced Programming in the UNIX Environment'\n\\item 'Adventures in Minecraft'\n\\item 'Agile Retrospectives: Making Good Teams Great'\n\\item 'Agile Software Development, Principles, Patterns, and Practices'\n\\item 'Agile Web Development with Rails: A Pragmatic Guide'\n\\item 'Algorithm Design'\n\\item 'Algorithms'\n\\item 'Algorithms to Live By: The Computer Science of Human Decisions'\n\\item 'Algorithms Unlocked'\n\\item 'An Introduction to Database Systems'\n\\item 'An Introduction to Functional Programming Through Lambda Calculus'\n\\item 'Android NDK Game Development Cookbook'\n\\item 'API Design for C++'\n\\item 'Apprenticeship Patterns: Guidance for the Aspiring Software Craftsman'\n\\item 'Artificial Intelligence: A Modern Approach'\n\\item 'Assembly Language: Step-By-Step'\n\\item 'Augmented Reality: Principles and Practice'\n\\item 'Automate the Boring Stuff with Python: Practical Programming for Total Beginners'\n\\item 'Automate This: How Algorithms Came to Rule Our World'\n\\item 'Basic Proof Theory'\n\\item 'Beginners Guide On PHP Programming: Quick And Easy Guide To Learn PHP With My-SQL'\n\\item 'Beginning Game Programming: A Gamedev.Net Collection'\n\\item 'Beginning Java 2'\n\\item 'Best of Game Programming Gems'\n\\item 'Big Data: A Revolution That Will Transform How We Live, Work, and Think'\n\\item 'Big Data: Principles and best practices of scalable realtime data systems'\n\\item 'Blueprints Visual Scripting for Unreal Engine'\n\\item 'Build Web Applications with Java: Learn every aspect to build web applications from scratch'\n\\item 'Building an FPS Game with Unity'\n\\item 'Building Microservices: Designing Fine-Grained Systems'\n\\item 'C Primer Plus'\n\\item 'C: A Reference Manual'\n\\item 'C\\# in Depth'\n\\item 'C++ Coding Standards: 101 Rules, Guidelines, and Best Practices (C++ in Depth Series)'\n\\item 'C++ Primer'\n\\item 'C++ Templates: The Complete Guide'\n\\item 'Chaos: Making a New Science'\n\\item 'Clean Code: A Handbook of Agile Software Craftsmanship'\n\\item 'CLR via C\\# (Developer Reference)'\n\\item 'Code Complete'\n\\item 'Code: The Hidden Language of Computer Hardware and Software'\n\\item 'Coding Games in Scratch'\n\\item 'Communication Networks: Fundamental Concepts and Key Architectures'\n\\item 'Compilers: Principles, Techniques, and Tools'\n\\item 'Computability and Logic'\n\\item 'Computability and Unsolvability'\n\\item 'Computational Complexity'\n\\item 'Computational Geometry: Algorithms and Applications'\n\\item 'Computational Science and Engineering'\n\\item 'Computer Architecture: A Quantitative Approach'\n\\item 'Computer Systems: A Programmer\\textbackslash{}'s Perspective'\n\\item 'Concepts, Techniques, and Models of Computer Programming'\n\\item 'Concrete Mathematics: A Foundation for Computer Science'\n\\item 'Continuous Delivery: Reliable Software Releases Through Build, Test, and Deployment Automation'\n\\item 'Cross-Platform Game Programming (Game Development) (Charles River Media Game Development)'\n\\item 'Cryptography Engineering: Design Principles and Practical Applications'\n\\item 'CSS: The Missing Manual'\n\\item 'Data and Goliath: The Hidden Battles to Collect Your Data and Control Your World'\n\\item 'Data Science from Scratch: First Principles with Python'\n\\item 'Data Structures and Algorithms'\n\\item 'Database System Concepts'\n\\item 'Debugging: The 9 Indispensable Rules for Finding Even the Most Elusive Software and Hardware Problems'\n\\item 'Deep Learning'\n\\item 'Dependency Injection in .NET'\n\\item 'Design and Validation of Computer Protocols'\n\\item 'Design Patterns: Elements of Reusable Object-Oriented Software'\n\\item 'Designing Data-Intensive Applications: The Big Ideas Behind Reliable, Scalable, and Maintainable Systems'\n\\item 'DIV, Grad, Curl, and All That: An Informal Text on Vector Calculus'\n\\item 'Does God Play Dice?: The New Mathematics of Chaos'\n\\item 'Doing Data Science'\n\\item 'Domain-Driven Design: Tackling Complexity in the Heart of Software'\n\\item 'Domain-Specific Languages'\n\\item 'Effective JavaScript: 68 Specific Ways to Harness the Power of JavaScript'\n\\item 'Effective Programming: More Than Writing Code'\n\\item 'Effective Python: 59 Specific Ways to Write Better Python'\n\\item 'Effective STL: 50 Specific Ways to Improve Your Use of the Standard Template Library'\n\\item 'Elements of Programming'\n\\item 'Elements of the Theory of Computation'\n\\item 'Eloquent JavaScript: A Modern Introduction to Programming'\n\\item 'Engineering a Compiler'\n\\item 'Essential Mathematics for Games and Interactive Applications'\n\\item 'Essential Scrum: A Practical Guide to the Most Popular Agile Process'\n\\item 'Essentials of Programming Languages'\n\\item 'Exceptional C++ Style: 40 New Engineering Puzzles, Programming Problems, and Solutions'\n\\item 'Exceptional C++: 47 Engineering Puzzles, Programming Problems, and Solutions'\n\\item 'Expert C Programming: Deep C Secrets'\n\\item 'Extreme Programming Explained: Embrace Change (The XP Series)'\n\\item 'Fearless Change: Patterns for Introducing New Ideas'\n\\item 'Feynman Lectures On Computation'\n\\item 'File Structures: An Object-Oriented Approach with C++'\n\\item 'Fluent Python: Clear, Concise, and Effective Programming'\n\\item 'Framework Design Guidelines: Conventions, Idioms, and Patterns for Reusable .NET Libraries'\n\\item 'From Mathematics to Generic Programming'\n\\item 'Functional Programming Application and Implementation'\n\\item 'Functional Programming in Scala'\n\\item 'Game Engine Architecture'\n\\item 'Game Engine Gems 1'\n\\item 'Game Programming Gems'\n\\item 'Game Programming Gems 2'\n\\item 'Game Programming Gems 3'\n\\item 'Game Programming Gems 4'\n\\item 'Game Programming Gems 5'\n\\item 'Game Programming Gems 6'\n\\item 'Game Programming Golden Rules'\n\\item 'Game Programming Patterns'\n\\item 'Genetic Programming II: Automatic Discovery of Reusable Programs'\n\\item 'Geometric Algebra for Computer Science: An Object-Oriented Approach to Geometry'\n\\item 'Geometric Tools for Computer Graphics'\n\\item 'Ghost in the Wires: My Adventures as the World\\textbackslash{}'s Most Wanted Hacker'\n\\item 'Growing Object-Oriented Software, Guided by Tests'\n\\item 'Hacker\\textbackslash{}'s Delight'\n\\item 'Haskell: The Craft of Functional Programming'\n\\item 'Head First Design Patterns'\n\\item 'Help Your Kids with Computer Coding'\n\\item 'High Performance Browser Networking'\n\\item 'How Google Tests Software'\n\\item 'How Google Works'\n\\item 'How to Create a Mind: The Secret of Human Thought Revealed'\n\\item 'How to Design Programs: An Introduction to Programming and Computing'\n\\item 'How to Think Like a Computer Scientist: Learning with Python'\n\\item 'Implementing Domain-Driven Design'\n\\item 'Inside the C++ Object Model'\n\\item 'Introduction to Algorithms'\n\\item 'Introduction to Automata Theory, Languages, and Computation'\n\\item 'Introduction to Computation and Programming Using Python'\n\\item 'Introduction to Functional Programming'\n\\item 'Introduction to Game Design, Prototyping, and Development: From Concept to Playable Game with Unity and C\\#'\n\\item 'Introduction to the Theory of Computation'\n\\item 'Invent Your Own Computer Games with Python, 3rd Edition'\n\\item 'JavaScript: The Good Parts'\n\\item 'Joel on Software'\n\\item 'Kingpin: How One Hacker Took Over the Billion-Dollar Cybercrime Underground'\n\\item 'Lambda-Calculus and Combinators: An Introduction'\n\\item 'Lambda-Calculus, Combinators and Functional Programming'\n\\item 'Learn Java the Easy Way : A Hands-On Introduction to Programming'\n\\item 'Learn Python The Hard Way'\n\\item 'Learn You a Haskell for Great Good!'\n\\item 'Learn You a Haskell for Great Good!: A Beginner\\textbackslash{}'s Guide'\n\\item 'Learning Perl'\n\\item 'Learning Python'\n\\item 'Learning Ruby'\n\\item 'Linked: How Everything Is Connected to Everything Else and What It Means for Business, Science, and Everyday Life'\n\\item 'Machine Learning'\n\\item 'Machine Learning for Hackers'\n\\item 'Make Your Own Neural Network'\n\\item 'Make Your Own Neural Network: An In-depth Visual Introduction For Beginners'\n\\item 'Making Games with Python \\& Pygame'\n\\item 'Manage Your Project Portfolio'\n\\item 'Managing Data Using Excel'\n\\item 'Mathematics for 3D Game Programming and Computer Graphics'\n\\item 'Microsoft Visual C\\# Step by Step'\n\\item 'Mining of Massive Datasets'\n\\item 'Modern C++ Design: Generic Programming and Design Patterns Applied'\n\\item 'Modern Operating Systems'\n\\item 'Modern Operating Systems, 4th Edition'\n\\item 'More Effective C++'\n\\item 'More Exceptional C++: 40 New Engineering Puzzles, Programming Problems, and Solutions'\n\\item 'Nine Algorithms That Changed the Future: The Ingenious Ideas That Drive Today\\textbackslash{}'s Computers'\n\\item 'Numerical Recipes: The Art of Scientific Computing'\n\\item 'Object-Oriented Analysis and Design with Applications'\n\\item 'Object-Oriented Design Heuristics'\n\\item 'Optimized C++: Proven Techniques for Heightened Performance'\n\\item 'Our Final Invention: Artificial Intelligence and the End of the Human Era'\n\\item 'Peopleware: Productive Projects and Teams'\n\\item 'PHP and MySQL Web Development (Developer\\textbackslash{}'s Library)'\n\\item 'Practical Foundations for Programming Languages'\n\\item 'Practical Object Oriented Design in Ruby'\n\\item 'Practical SQL: A Beginner\\textbackslash{}'s Guide to Storytelling with Data'\n\\item 'Pro Git'\n\\item 'Pro TypeScript: Application-Scale JavaScript Development'\n\\item 'Programming in Lua, Fourth Edition'\n\\item 'Programming Pearls'\n\\item 'Programming PHP'\n\\item 'Programming Ruby: The Pragmatic Programmers\\textbackslash{}' Guide'\n\\item 'Python Crash Course: A Hands-On, Project-Based Introduction to Programming'\n\\item 'Python for Data Analysis'\n\\item 'Python Programming Books Set: Python Programming for Beginners \\& Complete Guide for Python Programming'\n\\item 'Python Programming For Beginners: Quick And Easy Guide For Python Programmers'\n\\item 'Quality Software Management V 1 – Systems Thinking'\n\\item 'Quantum Computing Since Democritus'\n\\item 'Real-World Machine Learning'\n\\item 'Refactoring: Improving the Design of Existing Code'\n\\item 'Release It!: Design and Deploy Production-Ready Software (Pragmatic Programmers)'\n\\item 'Responsive Web Design Overview For Beginners'\n\\item 'REST in Practice: Hypermedia and Systems Architecture'\n\\item 'Reviewing C++'\n\\item 'Reviewing Java'\n\\item 'Sams Teach Yourself JavaScript in 24 Hours'\n\\item 'Sams Teach Yourself MySQL in 24 Hours'\n\\item 'Sams Teach Yourself Perl in 24 Hours'\n\\item 'Scrum and XP from the Trenches'\n\\item 'Seven Languages in Seven Weeks'\n\\item 'Ship It!'\n\\item 'Simulation of Digital Communication Systems using Matlab'\n\\item 'Six Degrees: The Science of a Connected Age'\n\\item 'Soft Skills: The Software Developer\\textbackslash{}'s Life Manual'\n\\item 'Start with Why: How Great Leaders Inspire Everyone to Take Action'\n\\item 'Structure and Interpretation of Computer Programs'\n\\item 'Structure and Interpretation of Computer Programs (MIT Electrical Engineering and Computer Science)'\n\\item 'Structured Computer Organization'\n\\item 'Superintelligence: Paths, Dangers, Strategies'\n\\item 'Sync: The Emerging Science of Spontaneous Order'\n\\item 'Test Driven Development: By Example'\n\\item 'The Algorithm Design Manual'\n\\item 'The Architecture of Open Source Applications'\n\\item 'The Art of Computer Programming, Volume 1: Fundamental Algorithms'\n\\item 'The Art of Computer Programming, Volumes 1-3 Boxed Set'\n\\item 'The Art of Computer Programming, Volumes 1-4a Boxed Set'\n\\item 'The Art of the Start: The Time-Tested, Battle-Hardened Guide for Anyone Starting Anything'\n\\item 'The Boost C++ Libraries'\n\\item 'The C Programming Language'\n\\item 'The C++ Programming Language'\n\\item 'The C++ Standard Library: A Tutorial and Reference'\n\\item 'The Calculus of Computation: Decision Procedures with Applications to Verification'\n\\item 'The Clean Coder: A Code of Conduct for Professional Programmers'\n\\item 'The Code Book: The Science of Secrecy from Ancient Egypt to Quantum Cryptography'\n\\item 'The Connection Machine'\n\\item 'The Cosmic Landscape: String Theory and the Illusion of Intelligent Design'\n\\item 'The Design of Design: Essays from a Computer Scientist'\n\\item 'The Elements of Computing Systems: Building a Modern Computer from First Principles'\n\\item 'The Elements of Style'\n\\item 'The Goal: A Process of Ongoing Improvement'\n\\item 'The Golden Ticket: P, Np, and the Search for the Impossible'\n\\item 'The Hidden Connections: A Science for Sustainable Living'\n\\item 'The Information: A History, a Theory, a Flood'\n\\item 'The Innovators: How a Group of Hackers, Geniuses and Geeks Created the Digital Revolution'\n\\item 'The It Handbook for Business: Managing Information Technology Support Costs'\n\\item 'The Joy of Clojure'\n\\item 'The Linux Programming Interface: A Linux and Unix System Programming Handbook'\n\\item 'The Little Schemer'\n\\item 'The Master Algorithm: How the Quest for the Ultimate Learning Machine Will Remake Our World'\n\\item 'The Meme Machine'\n\\item 'The Mythical Man-Month: Essays on Software Engineering'\n\\item 'The Pattern on the Stone: The Simple Ideas that Make Computers Work'\n\\item 'The Phoenix Project: A Novel About IT, DevOps, and Helping Your Business Win'\n\\item 'The Practice of Programming (Addison-Wesley Professional Computing Series)'\n\\item 'The Principles of Object-Oriented JavaScript'\n\\item 'The Protocols (TCP/IP Illustrated, Volume 1)'\n\\item 'The Psychology of Computer Programming'\n\\item 'The Quark and the Jaguar: Adventures in the Simple and the Complex'\n\\item 'The Rails Way'\n\\item 'The Sciences of the Artificial'\n\\item 'The Scrumban {[}R{]}Evolution: Getting the Most Out of Agile, Scrum, and Lean Kanban'\n\\item 'The Shape of Inner Space: String Theory and the Geometry of the Universe\\textbackslash{}'s Hidden Dimensions'\n\\item 'The Society of Mind'\n\\item 'The Strangest Man: The Hidden Life of Paul Dirac, Mystic of the Atom'\n\\item 'The Unified Modeling Language User Guide'\n\\item 'The UNIX Programming Environment'\n\\item 'The Visual Display of Quantitative Information'\n\\item 'Think Complexity: Complexity Science and Computational Modeling'\n\\item 'Think Like a Programmer: An Introduction to Creative Problem Solving'\n\\item 'UML Distilled: A Brief Guide to the Standard Object Modeling Language'\n\\item 'Unity in Action'\n\\item 'Unity Virtual Reality Projects'\n\\item 'Weapons of Math Destruction: How Big Data Increases Inequality and Threatens Democracy'\n\\item 'What Is Life? with Mind and Matter and Autobiographical Sketches'\n\\item 'Working Effectively with Legacy Code'\n\\item 'xUnit Test Patterns: Refactoring Test Code'\n\\item 'Your First App: Node.js'\n\\item 'ZX Spectrum Games Code Club: Twenty fun games to code and learn'\n\\end{enumerate*}\n",
            "text/markdown": "The Master Algorithm: How the Quest for the Ultimate Learning Machine Will Remake Our World\n**Levels**: 1. '3D Game Engine Architecture: Engineering Real-Time Applications with Wild Magic (The Morgan Kaufmann Series in Interactive 3d Technology)'\n2. '3D Game Engine Design: A Practical Approach to Real-Time Computer Graphics (The Morgan Kaufmann Series in Interactive 3D Technology)'\n3. '3D Math Primer for Graphics and Game Development'\n4. '97 Things Every Programmer Should Know: Collective Wisdom from the Experts'\n5. 'A Discipline for Software Engineering'\n6. 'A First Course in Logic: An Introduction to Model Theory, Proof Theory, Computability, and Complexity'\n7. 'A Smarter Way to Learn JavaScript: The new approach that uses technology to cut your effort in half'\n8. 'A Tour of C++'\n9. 'Accelerate: Building and Scaling High-Performing Technology Organizations'\n10. 'Accelerated C++: Practical Programming by Example'\n11. 'Advanced Game Programming: A Gamedev.Net Collection'\n12. 'Advanced Programming in the UNIX Environment'\n13. 'Adventures in Minecraft'\n14. 'Agile Retrospectives: Making Good Teams Great'\n15. 'Agile Software Development, Principles, Patterns, and Practices'\n16. 'Agile Web Development with Rails: A Pragmatic Guide'\n17. 'Algorithm Design'\n18. 'Algorithms'\n19. 'Algorithms to Live By: The Computer Science of Human Decisions'\n20. 'Algorithms Unlocked'\n21. 'An Introduction to Database Systems'\n22. 'An Introduction to Functional Programming Through Lambda Calculus'\n23. 'Android NDK Game Development Cookbook'\n24. 'API Design for C++'\n25. 'Apprenticeship Patterns: Guidance for the Aspiring Software Craftsman'\n26. 'Artificial Intelligence: A Modern Approach'\n27. 'Assembly Language: Step-By-Step'\n28. 'Augmented Reality: Principles and Practice'\n29. 'Automate the Boring Stuff with Python: Practical Programming for Total Beginners'\n30. 'Automate This: How Algorithms Came to Rule Our World'\n31. 'Basic Proof Theory'\n32. 'Beginners Guide On PHP Programming: Quick And Easy Guide To Learn PHP With My-SQL'\n33. 'Beginning Game Programming: A Gamedev.Net Collection'\n34. 'Beginning Java 2'\n35. 'Best of Game Programming Gems'\n36. 'Big Data: A Revolution That Will Transform How We Live, Work, and Think'\n37. 'Big Data: Principles and best practices of scalable realtime data systems'\n38. 'Blueprints Visual Scripting for Unreal Engine'\n39. 'Build Web Applications with Java: Learn every aspect to build web applications from scratch'\n40. 'Building an FPS Game with Unity'\n41. 'Building Microservices: Designing Fine-Grained Systems'\n42. 'C Primer Plus'\n43. 'C: A Reference Manual'\n44. 'C# in Depth'\n45. 'C++ Coding Standards: 101 Rules, Guidelines, and Best Practices (C++ in Depth Series)'\n46. 'C++ Primer'\n47. 'C++ Templates: The Complete Guide'\n48. 'Chaos: Making a New Science'\n49. 'Clean Code: A Handbook of Agile Software Craftsmanship'\n50. 'CLR via C# (Developer Reference)'\n51. 'Code Complete'\n52. 'Code: The Hidden Language of Computer Hardware and Software'\n53. 'Coding Games in Scratch'\n54. 'Communication Networks: Fundamental Concepts and Key Architectures'\n55. 'Compilers: Principles, Techniques, and Tools'\n56. 'Computability and Logic'\n57. 'Computability and Unsolvability'\n58. 'Computational Complexity'\n59. 'Computational Geometry: Algorithms and Applications'\n60. 'Computational Science and Engineering'\n61. 'Computer Architecture: A Quantitative Approach'\n62. 'Computer Systems: A Programmer\\'s Perspective'\n63. 'Concepts, Techniques, and Models of Computer Programming'\n64. 'Concrete Mathematics: A Foundation for Computer Science'\n65. 'Continuous Delivery: Reliable Software Releases Through Build, Test, and Deployment Automation'\n66. 'Cross-Platform Game Programming (Game Development) (Charles River Media Game Development)'\n67. 'Cryptography Engineering: Design Principles and Practical Applications'\n68. 'CSS: The Missing Manual'\n69. 'Data and Goliath: The Hidden Battles to Collect Your Data and Control Your World'\n70. 'Data Science from Scratch: First Principles with Python'\n71. 'Data Structures and Algorithms'\n72. 'Database System Concepts'\n73. 'Debugging: The 9 Indispensable Rules for Finding Even the Most Elusive Software and Hardware Problems'\n74. 'Deep Learning'\n75. 'Dependency Injection in .NET'\n76. 'Design and Validation of Computer Protocols'\n77. 'Design Patterns: Elements of Reusable Object-Oriented Software'\n78. 'Designing Data-Intensive Applications: The Big Ideas Behind Reliable, Scalable, and Maintainable Systems'\n79. 'DIV, Grad, Curl, and All That: An Informal Text on Vector Calculus'\n80. 'Does God Play Dice?: The New Mathematics of Chaos'\n81. 'Doing Data Science'\n82. 'Domain-Driven Design: Tackling Complexity in the Heart of Software'\n83. 'Domain-Specific Languages'\n84. 'Effective JavaScript: 68 Specific Ways to Harness the Power of JavaScript'\n85. 'Effective Programming: More Than Writing Code'\n86. 'Effective Python: 59 Specific Ways to Write Better Python'\n87. 'Effective STL: 50 Specific Ways to Improve Your Use of the Standard Template Library'\n88. 'Elements of Programming'\n89. 'Elements of the Theory of Computation'\n90. 'Eloquent JavaScript: A Modern Introduction to Programming'\n91. 'Engineering a Compiler'\n92. 'Essential Mathematics for Games and Interactive Applications'\n93. 'Essential Scrum: A Practical Guide to the Most Popular Agile Process'\n94. 'Essentials of Programming Languages'\n95. 'Exceptional C++ Style: 40 New Engineering Puzzles, Programming Problems, and Solutions'\n96. 'Exceptional C++: 47 Engineering Puzzles, Programming Problems, and Solutions'\n97. 'Expert C Programming: Deep C Secrets'\n98. 'Extreme Programming Explained: Embrace Change (The XP Series)'\n99. 'Fearless Change: Patterns for Introducing New Ideas'\n100. 'Feynman Lectures On Computation'\n101. 'File Structures: An Object-Oriented Approach with C++'\n102. 'Fluent Python: Clear, Concise, and Effective Programming'\n103. 'Framework Design Guidelines: Conventions, Idioms, and Patterns for Reusable .NET Libraries'\n104. 'From Mathematics to Generic Programming'\n105. 'Functional Programming Application and Implementation'\n106. 'Functional Programming in Scala'\n107. 'Game Engine Architecture'\n108. 'Game Engine Gems 1'\n109. 'Game Programming Gems'\n110. 'Game Programming Gems 2'\n111. 'Game Programming Gems 3'\n112. 'Game Programming Gems 4'\n113. 'Game Programming Gems 5'\n114. 'Game Programming Gems 6'\n115. 'Game Programming Golden Rules'\n116. 'Game Programming Patterns'\n117. 'Genetic Programming II: Automatic Discovery of Reusable Programs'\n118. 'Geometric Algebra for Computer Science: An Object-Oriented Approach to Geometry'\n119. 'Geometric Tools for Computer Graphics'\n120. 'Ghost in the Wires: My Adventures as the World\\'s Most Wanted Hacker'\n121. 'Growing Object-Oriented Software, Guided by Tests'\n122. 'Hacker\\'s Delight'\n123. 'Haskell: The Craft of Functional Programming'\n124. 'Head First Design Patterns'\n125. 'Help Your Kids with Computer Coding'\n126. 'High Performance Browser Networking'\n127. 'How Google Tests Software'\n128. 'How Google Works'\n129. 'How to Create a Mind: The Secret of Human Thought Revealed'\n130. 'How to Design Programs: An Introduction to Programming and Computing'\n131. 'How to Think Like a Computer Scientist: Learning with Python'\n132. 'Implementing Domain-Driven Design'\n133. 'Inside the C++ Object Model'\n134. 'Introduction to Algorithms'\n135. 'Introduction to Automata Theory, Languages, and Computation'\n136. 'Introduction to Computation and Programming Using Python'\n137. 'Introduction to Functional Programming'\n138. 'Introduction to Game Design, Prototyping, and Development: From Concept to Playable Game with Unity and C#'\n139. 'Introduction to the Theory of Computation'\n140. 'Invent Your Own Computer Games with Python, 3rd Edition'\n141. 'JavaScript: The Good Parts'\n142. 'Joel on Software'\n143. 'Kingpin: How One Hacker Took Over the Billion-Dollar Cybercrime Underground'\n144. 'Lambda-Calculus and Combinators: An Introduction'\n145. 'Lambda-Calculus, Combinators and Functional Programming'\n146. 'Learn Java the Easy Way : A Hands-On Introduction to Programming'\n147. 'Learn Python The Hard Way'\n148. 'Learn You a Haskell for Great Good!'\n149. 'Learn You a Haskell for Great Good!: A Beginner\\'s Guide'\n150. 'Learning Perl'\n151. 'Learning Python'\n152. 'Learning Ruby'\n153. 'Linked: How Everything Is Connected to Everything Else and What It Means for Business, Science, and Everyday Life'\n154. 'Machine Learning'\n155. 'Machine Learning for Hackers'\n156. 'Make Your Own Neural Network'\n157. 'Make Your Own Neural Network: An In-depth Visual Introduction For Beginners'\n158. 'Making Games with Python &amp; Pygame'\n159. 'Manage Your Project Portfolio'\n160. 'Managing Data Using Excel'\n161. 'Mathematics for 3D Game Programming and Computer Graphics'\n162. 'Microsoft Visual C# Step by Step'\n163. 'Mining of Massive Datasets'\n164. 'Modern C++ Design: Generic Programming and Design Patterns Applied'\n165. 'Modern Operating Systems'\n166. 'Modern Operating Systems, 4th Edition'\n167. 'More Effective C++'\n168. 'More Exceptional C++: 40 New Engineering Puzzles, Programming Problems, and Solutions'\n169. 'Nine Algorithms That Changed the Future: The Ingenious Ideas That Drive Today\\'s Computers'\n170. 'Numerical Recipes: The Art of Scientific Computing'\n171. 'Object-Oriented Analysis and Design with Applications'\n172. 'Object-Oriented Design Heuristics'\n173. 'Optimized C++: Proven Techniques for Heightened Performance'\n174. 'Our Final Invention: Artificial Intelligence and the End of the Human Era'\n175. 'Peopleware: Productive Projects and Teams'\n176. 'PHP and MySQL Web Development (Developer\\'s Library)'\n177. 'Practical Foundations for Programming Languages'\n178. 'Practical Object Oriented Design in Ruby'\n179. 'Practical SQL: A Beginner\\'s Guide to Storytelling with Data'\n180. 'Pro Git'\n181. 'Pro TypeScript: Application-Scale JavaScript Development'\n182. 'Programming in Lua, Fourth Edition'\n183. 'Programming Pearls'\n184. 'Programming PHP'\n185. 'Programming Ruby: The Pragmatic Programmers\\' Guide'\n186. 'Python Crash Course: A Hands-On, Project-Based Introduction to Programming'\n187. 'Python for Data Analysis'\n188. 'Python Programming Books Set: Python Programming for Beginners &amp; Complete Guide for Python Programming'\n189. 'Python Programming For Beginners: Quick And Easy Guide For Python Programmers'\n190. 'Quality Software Management V 1 – Systems Thinking'\n191. 'Quantum Computing Since Democritus'\n192. 'Real-World Machine Learning'\n193. 'Refactoring: Improving the Design of Existing Code'\n194. 'Release It!: Design and Deploy Production-Ready Software (Pragmatic Programmers)'\n195. 'Responsive Web Design Overview For Beginners'\n196. 'REST in Practice: Hypermedia and Systems Architecture'\n197. 'Reviewing C++'\n198. 'Reviewing Java'\n199. 'Sams Teach Yourself JavaScript in 24 Hours'\n200. 'Sams Teach Yourself MySQL in 24 Hours'\n201. 'Sams Teach Yourself Perl in 24 Hours'\n202. 'Scrum and XP from the Trenches'\n203. 'Seven Languages in Seven Weeks'\n204. 'Ship It!'\n205. 'Simulation of Digital Communication Systems using Matlab'\n206. 'Six Degrees: The Science of a Connected Age'\n207. 'Soft Skills: The Software Developer\\'s Life Manual'\n208. 'Start with Why: How Great Leaders Inspire Everyone to Take Action'\n209. 'Structure and Interpretation of Computer Programs'\n210. 'Structure and Interpretation of Computer Programs (MIT Electrical Engineering and Computer Science)'\n211. 'Structured Computer Organization'\n212. 'Superintelligence: Paths, Dangers, Strategies'\n213. 'Sync: The Emerging Science of Spontaneous Order'\n214. 'Test Driven Development: By Example'\n215. 'The Algorithm Design Manual'\n216. 'The Architecture of Open Source Applications'\n217. 'The Art of Computer Programming, Volume 1: Fundamental Algorithms'\n218. 'The Art of Computer Programming, Volumes 1-3 Boxed Set'\n219. 'The Art of Computer Programming, Volumes 1-4a Boxed Set'\n220. 'The Art of the Start: The Time-Tested, Battle-Hardened Guide for Anyone Starting Anything'\n221. 'The Boost C++ Libraries'\n222. 'The C Programming Language'\n223. 'The C++ Programming Language'\n224. 'The C++ Standard Library: A Tutorial and Reference'\n225. 'The Calculus of Computation: Decision Procedures with Applications to Verification'\n226. 'The Clean Coder: A Code of Conduct for Professional Programmers'\n227. 'The Code Book: The Science of Secrecy from Ancient Egypt to Quantum Cryptography'\n228. 'The Connection Machine'\n229. 'The Cosmic Landscape: String Theory and the Illusion of Intelligent Design'\n230. 'The Design of Design: Essays from a Computer Scientist'\n231. 'The Elements of Computing Systems: Building a Modern Computer from First Principles'\n232. 'The Elements of Style'\n233. 'The Goal: A Process of Ongoing Improvement'\n234. 'The Golden Ticket: P, Np, and the Search for the Impossible'\n235. 'The Hidden Connections: A Science for Sustainable Living'\n236. 'The Information: A History, a Theory, a Flood'\n237. 'The Innovators: How a Group of Hackers, Geniuses and Geeks Created the Digital Revolution'\n238. 'The It Handbook for Business: Managing Information Technology Support Costs'\n239. 'The Joy of Clojure'\n240. 'The Linux Programming Interface: A Linux and Unix System Programming Handbook'\n241. 'The Little Schemer'\n242. 'The Master Algorithm: How the Quest for the Ultimate Learning Machine Will Remake Our World'\n243. 'The Meme Machine'\n244. 'The Mythical Man-Month: Essays on Software Engineering'\n245. 'The Pattern on the Stone: The Simple Ideas that Make Computers Work'\n246. 'The Phoenix Project: A Novel About IT, DevOps, and Helping Your Business Win'\n247. 'The Practice of Programming (Addison-Wesley Professional Computing Series)'\n248. 'The Principles of Object-Oriented JavaScript'\n249. 'The Protocols (TCP/IP Illustrated, Volume 1)'\n250. 'The Psychology of Computer Programming'\n251. 'The Quark and the Jaguar: Adventures in the Simple and the Complex'\n252. 'The Rails Way'\n253. 'The Sciences of the Artificial'\n254. 'The Scrumban [R]Evolution: Getting the Most Out of Agile, Scrum, and Lean Kanban'\n255. 'The Shape of Inner Space: String Theory and the Geometry of the Universe\\'s Hidden Dimensions'\n256. 'The Society of Mind'\n257. 'The Strangest Man: The Hidden Life of Paul Dirac, Mystic of the Atom'\n258. 'The Unified Modeling Language User Guide'\n259. 'The UNIX Programming Environment'\n260. 'The Visual Display of Quantitative Information'\n261. 'Think Complexity: Complexity Science and Computational Modeling'\n262. 'Think Like a Programmer: An Introduction to Creative Problem Solving'\n263. 'UML Distilled: A Brief Guide to the Standard Object Modeling Language'\n264. 'Unity in Action'\n265. 'Unity Virtual Reality Projects'\n266. 'Weapons of Math Destruction: How Big Data Increases Inequality and Threatens Democracy'\n267. 'What Is Life? with Mind and Matter and Autobiographical Sketches'\n268. 'Working Effectively with Legacy Code'\n269. 'xUnit Test Patterns: Refactoring Test Code'\n270. 'Your First App: Node.js'\n271. 'ZX Spectrum Games Code Club: Twenty fun games to code and learn'\n\n\n",
            "text/html": [
              "The Master Algorithm: How the Quest for the Ultimate Learning Machine Will Remake Our World\n",
              "<details>\n",
              "\t<summary style=display:list-item;cursor:pointer>\n",
              "\t\t<strong>Levels</strong>:\n",
              "\t</summary>\n",
              "\t<style>\n",
              "\t.list-inline {list-style: none; margin:0; padding: 0}\n",
              "\t.list-inline>li {display: inline-block}\n",
              "\t.list-inline>li:not(:last-child)::after {content: \"\\00b7\"; padding: 0 .5ex}\n",
              "\t</style>\n",
              "\t<ol class=list-inline><li>'3D Game Engine Architecture: Engineering Real-Time Applications with Wild Magic (The Morgan Kaufmann Series in Interactive 3d Technology)'</li><li>'3D Game Engine Design: A Practical Approach to Real-Time Computer Graphics (The Morgan Kaufmann Series in Interactive 3D Technology)'</li><li>'3D Math Primer for Graphics and Game Development'</li><li>'97 Things Every Programmer Should Know: Collective Wisdom from the Experts'</li><li>'A Discipline for Software Engineering'</li><li>'A First Course in Logic: An Introduction to Model Theory, Proof Theory, Computability, and Complexity'</li><li>'A Smarter Way to Learn JavaScript: The new approach that uses technology to cut your effort in half'</li><li>'A Tour of C++'</li><li>'Accelerate: Building and Scaling High-Performing Technology Organizations'</li><li>'Accelerated C++: Practical Programming by Example'</li><li>'Advanced Game Programming: A Gamedev.Net Collection'</li><li>'Advanced Programming in the UNIX Environment'</li><li>'Adventures in Minecraft'</li><li>'Agile Retrospectives: Making Good Teams Great'</li><li>'Agile Software Development, Principles, Patterns, and Practices'</li><li>'Agile Web Development with Rails: A Pragmatic Guide'</li><li>'Algorithm Design'</li><li>'Algorithms'</li><li>'Algorithms to Live By: The Computer Science of Human Decisions'</li><li>'Algorithms Unlocked'</li><li>'An Introduction to Database Systems'</li><li>'An Introduction to Functional Programming Through Lambda Calculus'</li><li>'Android NDK Game Development Cookbook'</li><li>'API Design for C++'</li><li>'Apprenticeship Patterns: Guidance for the Aspiring Software Craftsman'</li><li>'Artificial Intelligence: A Modern Approach'</li><li>'Assembly Language: Step-By-Step'</li><li>'Augmented Reality: Principles and Practice'</li><li>'Automate the Boring Stuff with Python: Practical Programming for Total Beginners'</li><li>'Automate This: How Algorithms Came to Rule Our World'</li><li>'Basic Proof Theory'</li><li>'Beginners Guide On PHP Programming: Quick And Easy Guide To Learn PHP With My-SQL'</li><li>'Beginning Game Programming: A Gamedev.Net Collection'</li><li>'Beginning Java 2'</li><li>'Best of Game Programming Gems'</li><li>'Big Data: A Revolution That Will Transform How We Live, Work, and Think'</li><li>'Big Data: Principles and best practices of scalable realtime data systems'</li><li>'Blueprints Visual Scripting for Unreal Engine'</li><li>'Build Web Applications with Java: Learn every aspect to build web applications from scratch'</li><li>'Building an FPS Game with Unity'</li><li>'Building Microservices: Designing Fine-Grained Systems'</li><li>'C Primer Plus'</li><li>'C: A Reference Manual'</li><li>'C# in Depth'</li><li>'C++ Coding Standards: 101 Rules, Guidelines, and Best Practices (C++ in Depth Series)'</li><li>'C++ Primer'</li><li>'C++ Templates: The Complete Guide'</li><li>'Chaos: Making a New Science'</li><li>'Clean Code: A Handbook of Agile Software Craftsmanship'</li><li>'CLR via C# (Developer Reference)'</li><li>'Code Complete'</li><li>'Code: The Hidden Language of Computer Hardware and Software'</li><li>'Coding Games in Scratch'</li><li>'Communication Networks: Fundamental Concepts and Key Architectures'</li><li>'Compilers: Principles, Techniques, and Tools'</li><li>'Computability and Logic'</li><li>'Computability and Unsolvability'</li><li>'Computational Complexity'</li><li>'Computational Geometry: Algorithms and Applications'</li><li>'Computational Science and Engineering'</li><li>'Computer Architecture: A Quantitative Approach'</li><li>'Computer Systems: A Programmer\\'s Perspective'</li><li>'Concepts, Techniques, and Models of Computer Programming'</li><li>'Concrete Mathematics: A Foundation for Computer Science'</li><li>'Continuous Delivery: Reliable Software Releases Through Build, Test, and Deployment Automation'</li><li>'Cross-Platform Game Programming (Game Development) (Charles River Media Game Development)'</li><li>'Cryptography Engineering: Design Principles and Practical Applications'</li><li>'CSS: The Missing Manual'</li><li>'Data and Goliath: The Hidden Battles to Collect Your Data and Control Your World'</li><li>'Data Science from Scratch: First Principles with Python'</li><li>'Data Structures and Algorithms'</li><li>'Database System Concepts'</li><li>'Debugging: The 9 Indispensable Rules for Finding Even the Most Elusive Software and Hardware Problems'</li><li>'Deep Learning'</li><li>'Dependency Injection in .NET'</li><li>'Design and Validation of Computer Protocols'</li><li>'Design Patterns: Elements of Reusable Object-Oriented Software'</li><li>'Designing Data-Intensive Applications: The Big Ideas Behind Reliable, Scalable, and Maintainable Systems'</li><li>'DIV, Grad, Curl, and All That: An Informal Text on Vector Calculus'</li><li>'Does God Play Dice?: The New Mathematics of Chaos'</li><li>'Doing Data Science'</li><li>'Domain-Driven Design: Tackling Complexity in the Heart of Software'</li><li>'Domain-Specific Languages'</li><li>'Effective JavaScript: 68 Specific Ways to Harness the Power of JavaScript'</li><li>'Effective Programming: More Than Writing Code'</li><li>'Effective Python: 59 Specific Ways to Write Better Python'</li><li>'Effective STL: 50 Specific Ways to Improve Your Use of the Standard Template Library'</li><li>'Elements of Programming'</li><li>'Elements of the Theory of Computation'</li><li>'Eloquent JavaScript: A Modern Introduction to Programming'</li><li>'Engineering a Compiler'</li><li>'Essential Mathematics for Games and Interactive Applications'</li><li>'Essential Scrum: A Practical Guide to the Most Popular Agile Process'</li><li>'Essentials of Programming Languages'</li><li>'Exceptional C++ Style: 40 New Engineering Puzzles, Programming Problems, and Solutions'</li><li>'Exceptional C++: 47 Engineering Puzzles, Programming Problems, and Solutions'</li><li>'Expert C Programming: Deep C Secrets'</li><li>'Extreme Programming Explained: Embrace Change (The XP Series)'</li><li>'Fearless Change: Patterns for Introducing New Ideas'</li><li>'Feynman Lectures On Computation'</li><li>'File Structures: An Object-Oriented Approach with C++'</li><li>'Fluent Python: Clear, Concise, and Effective Programming'</li><li>'Framework Design Guidelines: Conventions, Idioms, and Patterns for Reusable .NET Libraries'</li><li>'From Mathematics to Generic Programming'</li><li>'Functional Programming Application and Implementation'</li><li>'Functional Programming in Scala'</li><li>'Game Engine Architecture'</li><li>'Game Engine Gems 1'</li><li>'Game Programming Gems'</li><li>'Game Programming Gems 2'</li><li>'Game Programming Gems 3'</li><li>'Game Programming Gems 4'</li><li>'Game Programming Gems 5'</li><li>'Game Programming Gems 6'</li><li>'Game Programming Golden Rules'</li><li>'Game Programming Patterns'</li><li>'Genetic Programming II: Automatic Discovery of Reusable Programs'</li><li>'Geometric Algebra for Computer Science: An Object-Oriented Approach to Geometry'</li><li>'Geometric Tools for Computer Graphics'</li><li>'Ghost in the Wires: My Adventures as the World\\'s Most Wanted Hacker'</li><li>'Growing Object-Oriented Software, Guided by Tests'</li><li>'Hacker\\'s Delight'</li><li>'Haskell: The Craft of Functional Programming'</li><li>'Head First Design Patterns'</li><li>'Help Your Kids with Computer Coding'</li><li>'High Performance Browser Networking'</li><li>'How Google Tests Software'</li><li>'How Google Works'</li><li>'How to Create a Mind: The Secret of Human Thought Revealed'</li><li>'How to Design Programs: An Introduction to Programming and Computing'</li><li>'How to Think Like a Computer Scientist: Learning with Python'</li><li>'Implementing Domain-Driven Design'</li><li>'Inside the C++ Object Model'</li><li>'Introduction to Algorithms'</li><li>'Introduction to Automata Theory, Languages, and Computation'</li><li>'Introduction to Computation and Programming Using Python'</li><li>'Introduction to Functional Programming'</li><li>'Introduction to Game Design, Prototyping, and Development: From Concept to Playable Game with Unity and C#'</li><li>'Introduction to the Theory of Computation'</li><li>'Invent Your Own Computer Games with Python, 3rd Edition'</li><li>'JavaScript: The Good Parts'</li><li>'Joel on Software'</li><li>'Kingpin: How One Hacker Took Over the Billion-Dollar Cybercrime Underground'</li><li>'Lambda-Calculus and Combinators: An Introduction'</li><li>'Lambda-Calculus, Combinators and Functional Programming'</li><li>'Learn Java the Easy Way : A Hands-On Introduction to Programming'</li><li>'Learn Python The Hard Way'</li><li>'Learn You a Haskell for Great Good!'</li><li>'Learn You a Haskell for Great Good!: A Beginner\\'s Guide'</li><li>'Learning Perl'</li><li>'Learning Python'</li><li>'Learning Ruby'</li><li>'Linked: How Everything Is Connected to Everything Else and What It Means for Business, Science, and Everyday Life'</li><li>'Machine Learning'</li><li>'Machine Learning for Hackers'</li><li>'Make Your Own Neural Network'</li><li>'Make Your Own Neural Network: An In-depth Visual Introduction For Beginners'</li><li>'Making Games with Python &amp; Pygame'</li><li>'Manage Your Project Portfolio'</li><li>'Managing Data Using Excel'</li><li>'Mathematics for 3D Game Programming and Computer Graphics'</li><li>'Microsoft Visual C# Step by Step'</li><li>'Mining of Massive Datasets'</li><li>'Modern C++ Design: Generic Programming and Design Patterns Applied'</li><li>'Modern Operating Systems'</li><li>'Modern Operating Systems, 4th Edition'</li><li>'More Effective C++'</li><li>'More Exceptional C++: 40 New Engineering Puzzles, Programming Problems, and Solutions'</li><li>'Nine Algorithms That Changed the Future: The Ingenious Ideas That Drive Today\\'s Computers'</li><li>'Numerical Recipes: The Art of Scientific Computing'</li><li>'Object-Oriented Analysis and Design with Applications'</li><li>'Object-Oriented Design Heuristics'</li><li>'Optimized C++: Proven Techniques for Heightened Performance'</li><li>'Our Final Invention: Artificial Intelligence and the End of the Human Era'</li><li>'Peopleware: Productive Projects and Teams'</li><li>'PHP and MySQL Web Development (Developer\\'s Library)'</li><li>'Practical Foundations for Programming Languages'</li><li>'Practical Object Oriented Design in Ruby'</li><li>'Practical SQL: A Beginner\\'s Guide to Storytelling with Data'</li><li>'Pro Git'</li><li>'Pro TypeScript: Application-Scale JavaScript Development'</li><li>'Programming in Lua, Fourth Edition'</li><li>'Programming Pearls'</li><li>'Programming PHP'</li><li>'Programming Ruby: The Pragmatic Programmers\\' Guide'</li><li>'Python Crash Course: A Hands-On, Project-Based Introduction to Programming'</li><li>'Python for Data Analysis'</li><li>'Python Programming Books Set: Python Programming for Beginners &amp; Complete Guide for Python Programming'</li><li>'Python Programming For Beginners: Quick And Easy Guide For Python Programmers'</li><li>'Quality Software Management V 1 – Systems Thinking'</li><li>'Quantum Computing Since Democritus'</li><li>'Real-World Machine Learning'</li><li>'Refactoring: Improving the Design of Existing Code'</li><li>'Release It!: Design and Deploy Production-Ready Software (Pragmatic Programmers)'</li><li>'Responsive Web Design Overview For Beginners'</li><li>'REST in Practice: Hypermedia and Systems Architecture'</li><li>'Reviewing C++'</li><li>'Reviewing Java'</li><li>'Sams Teach Yourself JavaScript in 24 Hours'</li><li>'Sams Teach Yourself MySQL in 24 Hours'</li><li>'Sams Teach Yourself Perl in 24 Hours'</li><li>'Scrum and XP from the Trenches'</li><li>'Seven Languages in Seven Weeks'</li><li>'Ship It!'</li><li>'Simulation of Digital Communication Systems using Matlab'</li><li>'Six Degrees: The Science of a Connected Age'</li><li>'Soft Skills: The Software Developer\\'s Life Manual'</li><li>'Start with Why: How Great Leaders Inspire Everyone to Take Action'</li><li>'Structure and Interpretation of Computer Programs'</li><li>'Structure and Interpretation of Computer Programs (MIT Electrical Engineering and Computer Science)'</li><li>'Structured Computer Organization'</li><li>'Superintelligence: Paths, Dangers, Strategies'</li><li>'Sync: The Emerging Science of Spontaneous Order'</li><li>'Test Driven Development: By Example'</li><li>'The Algorithm Design Manual'</li><li>'The Architecture of Open Source Applications'</li><li>'The Art of Computer Programming, Volume 1: Fundamental Algorithms'</li><li>'The Art of Computer Programming, Volumes 1-3 Boxed Set'</li><li>'The Art of Computer Programming, Volumes 1-4a Boxed Set'</li><li>'The Art of the Start: The Time-Tested, Battle-Hardened Guide for Anyone Starting Anything'</li><li>'The Boost C++ Libraries'</li><li>'The C Programming Language'</li><li>'The C++ Programming Language'</li><li>'The C++ Standard Library: A Tutorial and Reference'</li><li>'The Calculus of Computation: Decision Procedures with Applications to Verification'</li><li>'The Clean Coder: A Code of Conduct for Professional Programmers'</li><li>'The Code Book: The Science of Secrecy from Ancient Egypt to Quantum Cryptography'</li><li>'The Connection Machine'</li><li>'The Cosmic Landscape: String Theory and the Illusion of Intelligent Design'</li><li>'The Design of Design: Essays from a Computer Scientist'</li><li>'The Elements of Computing Systems: Building a Modern Computer from First Principles'</li><li>'The Elements of Style'</li><li>'The Goal: A Process of Ongoing Improvement'</li><li>'The Golden Ticket: P, Np, and the Search for the Impossible'</li><li>'The Hidden Connections: A Science for Sustainable Living'</li><li>'The Information: A History, a Theory, a Flood'</li><li>'The Innovators: How a Group of Hackers, Geniuses and Geeks Created the Digital Revolution'</li><li>'The It Handbook for Business: Managing Information Technology Support Costs'</li><li>'The Joy of Clojure'</li><li>'The Linux Programming Interface: A Linux and Unix System Programming Handbook'</li><li>'The Little Schemer'</li><li>'The Master Algorithm: How the Quest for the Ultimate Learning Machine Will Remake Our World'</li><li>'The Meme Machine'</li><li>'The Mythical Man-Month: Essays on Software Engineering'</li><li>'The Pattern on the Stone: The Simple Ideas that Make Computers Work'</li><li>'The Phoenix Project: A Novel About IT, DevOps, and Helping Your Business Win'</li><li>'The Practice of Programming (Addison-Wesley Professional Computing Series)'</li><li>'The Principles of Object-Oriented JavaScript'</li><li>'The Protocols (TCP/IP Illustrated, Volume 1)'</li><li>'The Psychology of Computer Programming'</li><li>'The Quark and the Jaguar: Adventures in the Simple and the Complex'</li><li>'The Rails Way'</li><li>'The Sciences of the Artificial'</li><li>'The Scrumban [R]Evolution: Getting the Most Out of Agile, Scrum, and Lean Kanban'</li><li>'The Shape of Inner Space: String Theory and the Geometry of the Universe\\'s Hidden Dimensions'</li><li>'The Society of Mind'</li><li>'The Strangest Man: The Hidden Life of Paul Dirac, Mystic of the Atom'</li><li>'The Unified Modeling Language User Guide'</li><li>'The UNIX Programming Environment'</li><li>'The Visual Display of Quantitative Information'</li><li>'Think Complexity: Complexity Science and Computational Modeling'</li><li>'Think Like a Programmer: An Introduction to Creative Problem Solving'</li><li>'UML Distilled: A Brief Guide to the Standard Object Modeling Language'</li><li>'Unity in Action'</li><li>'Unity Virtual Reality Projects'</li><li>'Weapons of Math Destruction: How Big Data Increases Inequality and Threatens Democracy'</li><li>'What Is Life? with Mind and Matter and Autobiographical Sketches'</li><li>'Working Effectively with Legacy Code'</li><li>'xUnit Test Patterns: Refactoring Test Code'</li><li>'Your First App: Node.js'</li><li>'ZX Spectrum Games Code Club: Twenty fun games to code and learn'</li></ol>\n",
              "</details>"
            ]
          },
          "metadata": {}
        }
      ]
    },
    {
      "cell_type": "code",
      "source": [
        "books[c(1,12),]"
      ],
      "metadata": {
        "colab": {
          "base_uri": "https://localhost:8080/",
          "height": 230
        },
        "id": "NdeGOpClAieG",
        "outputId": "d4ee28bb-530a-490a-c995-d3f42e4f2775"
      },
      "execution_count": null,
      "outputs": [
        {
          "output_type": "display_data",
          "data": {
            "text/plain": [
              "   Rating Reviews\n",
              "1  4.17   3,829  \n",
              "12 3.78   481    \n",
              "   Book_title                                                                                 \n",
              "1  The Elements of Style                                                                      \n",
              "12 The Master Algorithm: How the Quest for the Ultimate Learning Machine Will Remake Our World\n",
              "   Number_Of_Pages Type      Price    \n",
              "1  105             Hardcover  9.323529\n",
              "12 352             Hardcover 15.229412"
            ],
            "text/latex": "A data.frame: 2 × 6\n\\begin{tabular}{r|llllll}\n  & Rating & Reviews & Book\\_title & Number\\_Of\\_Pages & Type & Price\\\\\n  & <dbl> & <fct> & <fct> & <dbl> & <fct> & <dbl>\\\\\n\\hline\n\t1 & 4.17 & 3,829 & The Elements of Style                                                                       & 105 & Hardcover &  9.323529\\\\\n\t12 & 3.78 & 481   & The Master Algorithm: How the Quest for the Ultimate Learning Machine Will Remake Our World & 352 & Hardcover & 15.229412\\\\\n\\end{tabular}\n",
            "text/markdown": "\nA data.frame: 2 × 6\n\n| <!--/--> | Rating &lt;dbl&gt; | Reviews &lt;fct&gt; | Book_title &lt;fct&gt; | Number_Of_Pages &lt;dbl&gt; | Type &lt;fct&gt; | Price &lt;dbl&gt; |\n|---|---|---|---|---|---|---|\n| 1 | 4.17 | 3,829 | The Elements of Style                                                                       | 105 | Hardcover |  9.323529 |\n| 12 | 3.78 | 481   | The Master Algorithm: How the Quest for the Ultimate Learning Machine Will Remake Our World | 352 | Hardcover | 15.229412 |\n\n",
            "text/html": [
              "<table class=\"dataframe\">\n",
              "<caption>A data.frame: 2 × 6</caption>\n",
              "<thead>\n",
              "\t<tr><th></th><th scope=col>Rating</th><th scope=col>Reviews</th><th scope=col>Book_title</th><th scope=col>Number_Of_Pages</th><th scope=col>Type</th><th scope=col>Price</th></tr>\n",
              "\t<tr><th></th><th scope=col>&lt;dbl&gt;</th><th scope=col>&lt;fct&gt;</th><th scope=col>&lt;fct&gt;</th><th scope=col>&lt;dbl&gt;</th><th scope=col>&lt;fct&gt;</th><th scope=col>&lt;dbl&gt;</th></tr>\n",
              "</thead>\n",
              "<tbody>\n",
              "\t<tr><th scope=row>1</th><td>4.17</td><td>3,829</td><td>The Elements of Style                                                                      </td><td>105</td><td>Hardcover</td><td> 9.323529</td></tr>\n",
              "\t<tr><th scope=row>12</th><td>3.78</td><td>481  </td><td>The Master Algorithm: How the Quest for the Ultimate Learning Machine Will Remake Our World</td><td>352</td><td>Hardcover</td><td>15.229412</td></tr>\n",
              "</tbody>\n",
              "</table>\n"
            ]
          },
          "metadata": {}
        }
      ]
    },
    {
      "cell_type": "code",
      "source": [
        "books[c(1:3),]"
      ],
      "metadata": {
        "colab": {
          "base_uri": "https://localhost:8080/",
          "height": 261
        },
        "id": "4NFjs5rIAsvO",
        "outputId": "aa0e37ba-ea09-4e42-9d66-f407e5c2d571"
      },
      "execution_count": null,
      "outputs": [
        {
          "output_type": "display_data",
          "data": {
            "text/plain": [
              "  Rating Reviews Book_title                                    Number_Of_Pages\n",
              "1 4.17   3,829   The Elements of Style                         105            \n",
              "2 4.01   1,406   The Information: A History, a Theory, a Flood 527            \n",
              "3 3.33   0       Responsive Web Design Overview For Beginners   50            \n",
              "  Type           Price    \n",
              "1 Hardcover       9.323529\n",
              "2 Hardcover      11.000000\n",
              "3 Kindle Edition 11.267647"
            ],
            "text/latex": "A data.frame: 3 × 6\n\\begin{tabular}{r|llllll}\n  & Rating & Reviews & Book\\_title & Number\\_Of\\_Pages & Type & Price\\\\\n  & <dbl> & <fct> & <fct> & <dbl> & <fct> & <dbl>\\\\\n\\hline\n\t1 & 4.17 & 3,829 & The Elements of Style                         & 105 & Hardcover      &  9.323529\\\\\n\t2 & 4.01 & 1,406 & The Information: A History, a Theory, a Flood & 527 & Hardcover      & 11.000000\\\\\n\t3 & 3.33 & 0     & Responsive Web Design Overview For Beginners  &  50 & Kindle Edition & 11.267647\\\\\n\\end{tabular}\n",
            "text/markdown": "\nA data.frame: 3 × 6\n\n| <!--/--> | Rating &lt;dbl&gt; | Reviews &lt;fct&gt; | Book_title &lt;fct&gt; | Number_Of_Pages &lt;dbl&gt; | Type &lt;fct&gt; | Price &lt;dbl&gt; |\n|---|---|---|---|---|---|---|\n| 1 | 4.17 | 3,829 | The Elements of Style                         | 105 | Hardcover      |  9.323529 |\n| 2 | 4.01 | 1,406 | The Information: A History, a Theory, a Flood | 527 | Hardcover      | 11.000000 |\n| 3 | 3.33 | 0     | Responsive Web Design Overview For Beginners  |  50 | Kindle Edition | 11.267647 |\n\n",
            "text/html": [
              "<table class=\"dataframe\">\n",
              "<caption>A data.frame: 3 × 6</caption>\n",
              "<thead>\n",
              "\t<tr><th></th><th scope=col>Rating</th><th scope=col>Reviews</th><th scope=col>Book_title</th><th scope=col>Number_Of_Pages</th><th scope=col>Type</th><th scope=col>Price</th></tr>\n",
              "\t<tr><th></th><th scope=col>&lt;dbl&gt;</th><th scope=col>&lt;fct&gt;</th><th scope=col>&lt;fct&gt;</th><th scope=col>&lt;dbl&gt;</th><th scope=col>&lt;fct&gt;</th><th scope=col>&lt;dbl&gt;</th></tr>\n",
              "</thead>\n",
              "<tbody>\n",
              "\t<tr><th scope=row>1</th><td>4.17</td><td>3,829</td><td>The Elements of Style                        </td><td>105</td><td>Hardcover     </td><td> 9.323529</td></tr>\n",
              "\t<tr><th scope=row>2</th><td>4.01</td><td>1,406</td><td>The Information: A History, a Theory, a Flood</td><td>527</td><td>Hardcover     </td><td>11.000000</td></tr>\n",
              "\t<tr><th scope=row>3</th><td>3.33</td><td>0    </td><td>Responsive Web Design Overview For Beginners </td><td> 50</td><td>Kindle Edition</td><td>11.267647</td></tr>\n",
              "</tbody>\n",
              "</table>\n"
            ]
          },
          "metadata": {}
        }
      ]
    },
    {
      "cell_type": "code",
      "source": [
        "books[c(1:3),c(3,5)]"
      ],
      "metadata": {
        "colab": {
          "base_uri": "https://localhost:8080/",
          "height": 192
        },
        "id": "q_qYvX9UAy0Z",
        "outputId": "e7e89b75-df47-408b-d9d5-9777c81852eb"
      },
      "execution_count": null,
      "outputs": [
        {
          "output_type": "display_data",
          "data": {
            "text/plain": [
              "  Book_title                                    Type          \n",
              "1 The Elements of Style                         Hardcover     \n",
              "2 The Information: A History, a Theory, a Flood Hardcover     \n",
              "3 Responsive Web Design Overview For Beginners  Kindle Edition"
            ],
            "text/latex": "A data.frame: 3 × 2\n\\begin{tabular}{r|ll}\n  & Book\\_title & Type\\\\\n  & <fct> & <fct>\\\\\n\\hline\n\t1 & The Elements of Style                         & Hardcover     \\\\\n\t2 & The Information: A History, a Theory, a Flood & Hardcover     \\\\\n\t3 & Responsive Web Design Overview For Beginners  & Kindle Edition\\\\\n\\end{tabular}\n",
            "text/markdown": "\nA data.frame: 3 × 2\n\n| <!--/--> | Book_title &lt;fct&gt; | Type &lt;fct&gt; |\n|---|---|---|\n| 1 | The Elements of Style                         | Hardcover      |\n| 2 | The Information: A History, a Theory, a Flood | Hardcover      |\n| 3 | Responsive Web Design Overview For Beginners  | Kindle Edition |\n\n",
            "text/html": [
              "<table class=\"dataframe\">\n",
              "<caption>A data.frame: 3 × 2</caption>\n",
              "<thead>\n",
              "\t<tr><th></th><th scope=col>Book_title</th><th scope=col>Type</th></tr>\n",
              "\t<tr><th></th><th scope=col>&lt;fct&gt;</th><th scope=col>&lt;fct&gt;</th></tr>\n",
              "</thead>\n",
              "<tbody>\n",
              "\t<tr><th scope=row>1</th><td>The Elements of Style                        </td><td>Hardcover     </td></tr>\n",
              "\t<tr><th scope=row>2</th><td>The Information: A History, a Theory, a Flood</td><td>Hardcover     </td></tr>\n",
              "\t<tr><th scope=row>3</th><td>Responsive Web Design Overview For Beginners </td><td>Kindle Edition</td></tr>\n",
              "</tbody>\n",
              "</table>\n"
            ]
          },
          "metadata": {}
        }
      ]
    },
    {
      "cell_type": "code",
      "source": [
        "books[c(1,12), c(\"Book_title\", \"Number_Of_Pages\")]"
      ],
      "metadata": {
        "colab": {
          "base_uri": "https://localhost:8080/",
          "height": 178
        },
        "id": "cDdXD1V_A5s7",
        "outputId": "80a0bede-7584-4053-8648-084626a50a50"
      },
      "execution_count": null,
      "outputs": [
        {
          "output_type": "display_data",
          "data": {
            "text/plain": [
              "   Book_title                                                                                 \n",
              "1  The Elements of Style                                                                      \n",
              "12 The Master Algorithm: How the Quest for the Ultimate Learning Machine Will Remake Our World\n",
              "   Number_Of_Pages\n",
              "1  105            \n",
              "12 352            "
            ],
            "text/latex": "A data.frame: 2 × 2\n\\begin{tabular}{r|ll}\n  & Book\\_title & Number\\_Of\\_Pages\\\\\n  & <fct> & <dbl>\\\\\n\\hline\n\t1 & The Elements of Style                                                                       & 105\\\\\n\t12 & The Master Algorithm: How the Quest for the Ultimate Learning Machine Will Remake Our World & 352\\\\\n\\end{tabular}\n",
            "text/markdown": "\nA data.frame: 2 × 2\n\n| <!--/--> | Book_title &lt;fct&gt; | Number_Of_Pages &lt;dbl&gt; |\n|---|---|---|\n| 1 | The Elements of Style                                                                       | 105 |\n| 12 | The Master Algorithm: How the Quest for the Ultimate Learning Machine Will Remake Our World | 352 |\n\n",
            "text/html": [
              "<table class=\"dataframe\">\n",
              "<caption>A data.frame: 2 × 2</caption>\n",
              "<thead>\n",
              "\t<tr><th></th><th scope=col>Book_title</th><th scope=col>Number_Of_Pages</th></tr>\n",
              "\t<tr><th></th><th scope=col>&lt;fct&gt;</th><th scope=col>&lt;dbl&gt;</th></tr>\n",
              "</thead>\n",
              "<tbody>\n",
              "\t<tr><th scope=row>1</th><td>The Elements of Style                                                                      </td><td>105</td></tr>\n",
              "\t<tr><th scope=row>12</th><td>The Master Algorithm: How the Quest for the Ultimate Learning Machine Will Remake Our World</td><td>352</td></tr>\n",
              "</tbody>\n",
              "</table>\n"
            ]
          },
          "metadata": {}
        }
      ]
    },
    {
      "cell_type": "markdown",
      "metadata": {
        "heading_collapsed": true,
        "hidden": true,
        "id": "s7-1Qv_dtPpG"
      },
      "source": [
        "#### транспонирование"
      ]
    },
    {
      "cell_type": "code",
      "source": [
        "t(books[c(1:3),])"
      ],
      "metadata": {
        "colab": {
          "base_uri": "https://localhost:8080/",
          "height": 272
        },
        "id": "D-KK5OV4BHuf",
        "outputId": "3455e5ec-8243-44ab-fc5a-5f74621863a9"
      },
      "execution_count": null,
      "outputs": [
        {
          "output_type": "display_data",
          "data": {
            "text/plain": [
              "                1                    \n",
              "Rating          4.17                 \n",
              "Reviews         3,829                \n",
              "Book_title      The Elements of Style\n",
              "Number_Of_Pages 105                  \n",
              "Type            Hardcover            \n",
              "Price            9.323529            \n",
              "                2                                            \n",
              "Rating          4.01                                         \n",
              "Reviews         1,406                                        \n",
              "Book_title      The Information: A History, a Theory, a Flood\n",
              "Number_Of_Pages 527                                          \n",
              "Type            Hardcover                                    \n",
              "Price           11.000000                                    \n",
              "                3                                           \n",
              "Rating          3.33                                        \n",
              "Reviews         0                                           \n",
              "Book_title      Responsive Web Design Overview For Beginners\n",
              "Number_Of_Pages  50                                         \n",
              "Type            Kindle Edition                              \n",
              "Price           11.267647                                   "
            ],
            "text/latex": "A matrix: 6 × 3 of type chr\n\\begin{tabular}{r|lll}\n  & 1 & 2 & 3\\\\\n\\hline\n\tRating & 4.17                  & 4.01                                          & 3.33                                        \\\\\n\tReviews & 3,829                 & 1,406                                         & 0                                           \\\\\n\tBook\\_title & The Elements of Style & The Information: A History, a Theory, a Flood & Responsive Web Design Overview For Beginners\\\\\n\tNumber\\_Of\\_Pages & 105                   & 527                                           &  50                                         \\\\\n\tType & Hardcover             & Hardcover                                     & Kindle Edition                              \\\\\n\tPrice &  9.323529             & 11.000000                                     & 11.267647                                   \\\\\n\\end{tabular}\n",
            "text/markdown": "\nA matrix: 6 × 3 of type chr\n\n| <!--/--> | 1 | 2 | 3 |\n|---|---|---|---|\n| Rating | 4.17                  | 4.01                                          | 3.33                                         |\n| Reviews | 3,829                 | 1,406                                         | 0                                            |\n| Book_title | The Elements of Style | The Information: A History, a Theory, a Flood | Responsive Web Design Overview For Beginners |\n| Number_Of_Pages | 105                   | 527                                           |  50                                          |\n| Type | Hardcover             | Hardcover                                     | Kindle Edition                               |\n| Price |  9.323529             | 11.000000                                     | 11.267647                                    |\n\n",
            "text/html": [
              "<table class=\"dataframe\">\n",
              "<caption>A matrix: 6 × 3 of type chr</caption>\n",
              "<thead>\n",
              "\t<tr><th></th><th scope=col>1</th><th scope=col>2</th><th scope=col>3</th></tr>\n",
              "</thead>\n",
              "<tbody>\n",
              "\t<tr><th scope=row>Rating</th><td>4.17                 </td><td>4.01                                         </td><td>3.33                                        </td></tr>\n",
              "\t<tr><th scope=row>Reviews</th><td>3,829                </td><td>1,406                                        </td><td>0                                           </td></tr>\n",
              "\t<tr><th scope=row>Book_title</th><td>The Elements of Style</td><td>The Information: A History, a Theory, a Flood</td><td>Responsive Web Design Overview For Beginners</td></tr>\n",
              "\t<tr><th scope=row>Number_Of_Pages</th><td>105                  </td><td>527                                          </td><td> 50                                         </td></tr>\n",
              "\t<tr><th scope=row>Type</th><td>Hardcover            </td><td>Hardcover                                    </td><td>Kindle Edition                              </td></tr>\n",
              "\t<tr><th scope=row>Price</th><td> 9.323529            </td><td>11.000000                                    </td><td>11.267647                                   </td></tr>\n",
              "</tbody>\n",
              "</table>\n"
            ]
          },
          "metadata": {}
        }
      ]
    },
    {
      "cell_type": "code",
      "source": [
        "colnames(books) <- c(\"rating\", \"reviews\", \"title\", \"pages\", \"type\", \"price\")"
      ],
      "metadata": {
        "id": "girnaqPfBQ7I"
      },
      "execution_count": null,
      "outputs": []
    },
    {
      "cell_type": "markdown",
      "metadata": {
        "heading_collapsed": true,
        "id": "CWWnajg6tPu3"
      },
      "source": [
        "### Фильтрация по условию"
      ]
    },
    {
      "cell_type": "markdown",
      "metadata": {
        "id": "z_19UB5PeebV"
      },
      "source": [
        "В базовом R фильтрация по условия осуществляется засчет манипуляций с индексами \n",
        "\n",
        "Посмотрим примеры.\n"
      ]
    },
    {
      "cell_type": "code",
      "source": [
        "head(books, n=2)"
      ],
      "metadata": {
        "colab": {
          "base_uri": "https://localhost:8080/",
          "height": 178
        },
        "id": "PohJViqfBu7p",
        "outputId": "f19dbfa9-cb1e-4fa5-a329-fa5726b4b094"
      },
      "execution_count": null,
      "outputs": [
        {
          "output_type": "display_data",
          "data": {
            "text/plain": [
              "  rating reviews title                                         pages type     \n",
              "1 4.17   3,829   The Elements of Style                         105   Hardcover\n",
              "2 4.01   1,406   The Information: A History, a Theory, a Flood 527   Hardcover\n",
              "  price    \n",
              "1  9.323529\n",
              "2 11.000000"
            ],
            "text/latex": "A data.frame: 2 × 6\n\\begin{tabular}{r|llllll}\n  & rating & reviews & title & pages & type & price\\\\\n  & <dbl> & <fct> & <fct> & <dbl> & <fct> & <dbl>\\\\\n\\hline\n\t1 & 4.17 & 3,829 & The Elements of Style                         & 105 & Hardcover &  9.323529\\\\\n\t2 & 4.01 & 1,406 & The Information: A History, a Theory, a Flood & 527 & Hardcover & 11.000000\\\\\n\\end{tabular}\n",
            "text/markdown": "\nA data.frame: 2 × 6\n\n| <!--/--> | rating &lt;dbl&gt; | reviews &lt;fct&gt; | title &lt;fct&gt; | pages &lt;dbl&gt; | type &lt;fct&gt; | price &lt;dbl&gt; |\n|---|---|---|---|---|---|---|\n| 1 | 4.17 | 3,829 | The Elements of Style                         | 105 | Hardcover |  9.323529 |\n| 2 | 4.01 | 1,406 | The Information: A History, a Theory, a Flood | 527 | Hardcover | 11.000000 |\n\n",
            "text/html": [
              "<table class=\"dataframe\">\n",
              "<caption>A data.frame: 2 × 6</caption>\n",
              "<thead>\n",
              "\t<tr><th></th><th scope=col>rating</th><th scope=col>reviews</th><th scope=col>title</th><th scope=col>pages</th><th scope=col>type</th><th scope=col>price</th></tr>\n",
              "\t<tr><th></th><th scope=col>&lt;dbl&gt;</th><th scope=col>&lt;fct&gt;</th><th scope=col>&lt;fct&gt;</th><th scope=col>&lt;dbl&gt;</th><th scope=col>&lt;fct&gt;</th><th scope=col>&lt;dbl&gt;</th></tr>\n",
              "</thead>\n",
              "<tbody>\n",
              "\t<tr><th scope=row>1</th><td>4.17</td><td>3,829</td><td>The Elements of Style                        </td><td>105</td><td>Hardcover</td><td> 9.323529</td></tr>\n",
              "\t<tr><th scope=row>2</th><td>4.01</td><td>1,406</td><td>The Information: A History, a Theory, a Flood</td><td>527</td><td>Hardcover</td><td>11.000000</td></tr>\n",
              "</tbody>\n",
              "</table>\n"
            ]
          },
          "metadata": {}
        }
      ]
    },
    {
      "cell_type": "markdown",
      "source": [
        "Запятая после условия здесь означает, что мы работаем со строками, а столбцы берем все."
      ],
      "metadata": {
        "id": "SC13ByYfVGYn"
      }
    },
    {
      "cell_type": "code",
      "source": [
        "books[books$pages >= 1000, ]"
      ],
      "metadata": {
        "colab": {
          "base_uri": "https://localhost:8080/",
          "height": 843
        },
        "id": "dMYDntC4BxTY",
        "outputId": "ae68241f-b6da-479f-88f3-cfa008ea5bbd"
      },
      "execution_count": null,
      "outputs": [
        {
          "output_type": "display_data",
          "data": {
            "text/plain": [
              "    rating reviews\n",
              "87  3.22   2      \n",
              "130 3.96   53     \n",
              "138 4.62   28     \n",
              "204 3.96   150    \n",
              "207 4.08   92     \n",
              "233 3.77   28     \n",
              "241 4.33   194    \n",
              "246 4.35   21     \n",
              "250 4.03   1      \n",
              "254 4.11   56     \n",
              "259 4.16   16     \n",
              "260 4.18   130    \n",
              "261 3.45   1      \n",
              "266 4.26   5      \n",
              "268 3.94   22     \n",
              "270 4.77   4      \n",
              "    title                                                                                                                               \n",
              "87  Beginning Java 2                                                                                                                    \n",
              "130 PHP and MySQL Web Development (Developer's Library)                                                                                 \n",
              "138 The Linux Programming Interface: A Linux and Unix System Programming Handbook                                                       \n",
              "204 Learning Python                                                                                                                     \n",
              "207 The C++ Programming Language                                                                                                        \n",
              "233 Database System Concepts                                                                                                            \n",
              "241 Introduction to Algorithms                                                                                                          \n",
              "246 Game Engine Architecture                                                                                                            \n",
              "250 Geometric Tools for Computer Graphics                                                                                               \n",
              "254 Modern Operating Systems, 4th Edition                                                                                               \n",
              "259 The C++ Standard Library: A Tutorial and Reference                                                                                  \n",
              "260 Artificial Intelligence: A Modern Approach                                                                                          \n",
              "261 3D Game Engine Design: A Practical Approach to Real-Time Computer Graphics (The Morgan Kaufmann Series in Interactive 3D Technology)\n",
              "266 Numerical Recipes: The Art of Scientific Computing                                                                                  \n",
              "268 An Introduction to Database Systems                                                                                                 \n",
              "270 The Art of Computer Programming, Volumes 1-4a Boxed Set                                                                             \n",
              "    pages type      price    \n",
              "87  1200  Paperback  36.61765\n",
              "130 1008  Paperback  45.32647\n",
              "138 1506  Hardcover  46.35882\n",
              "204 1214  Paperback  67.87353\n",
              "207 1040  Hardcover  69.37941\n",
              "233 1142  Hardcover  85.60588\n",
              "241 1180  Hardcover  92.25588\n",
              "246 1052  Hardcover  96.03235\n",
              "250 1056  Hardcover  99.82941\n",
              "254 1136  Paperback 103.46176\n",
              "259 1136  Hardcover 113.30294\n",
              "260 1132  Hardcover 115.75000\n",
              "261 1040  Hardcover 117.98824\n",
              "266 1235  Hardcover 176.14412\n",
              "268 1040  Paperback 212.09706\n",
              "270 3168  Hardcover 220.38529"
            ],
            "text/latex": "A data.frame: 16 × 6\n\\begin{tabular}{r|llllll}\n  & rating & reviews & title & pages & type & price\\\\\n  & <dbl> & <fct> & <fct> & <dbl> & <fct> & <dbl>\\\\\n\\hline\n\t87 & 3.22 & 2   & Beginning Java 2                                                                                                                     & 1200 & Paperback &  36.61765\\\\\n\t130 & 3.96 & 53  & PHP and MySQL Web Development (Developer's Library)                                                                                  & 1008 & Paperback &  45.32647\\\\\n\t138 & 4.62 & 28  & The Linux Programming Interface: A Linux and Unix System Programming Handbook                                                        & 1506 & Hardcover &  46.35882\\\\\n\t204 & 3.96 & 150 & Learning Python                                                                                                                      & 1214 & Paperback &  67.87353\\\\\n\t207 & 4.08 & 92  & The C++ Programming Language                                                                                                         & 1040 & Hardcover &  69.37941\\\\\n\t233 & 3.77 & 28  & Database System Concepts                                                                                                             & 1142 & Hardcover &  85.60588\\\\\n\t241 & 4.33 & 194 & Introduction to Algorithms                                                                                                           & 1180 & Hardcover &  92.25588\\\\\n\t246 & 4.35 & 21  & Game Engine Architecture                                                                                                             & 1052 & Hardcover &  96.03235\\\\\n\t250 & 4.03 & 1   & Geometric Tools for Computer Graphics                                                                                                & 1056 & Hardcover &  99.82941\\\\\n\t254 & 4.11 & 56  & Modern Operating Systems, 4th Edition                                                                                                & 1136 & Paperback & 103.46176\\\\\n\t259 & 4.16 & 16  & The C++ Standard Library: A Tutorial and Reference                                                                                   & 1136 & Hardcover & 113.30294\\\\\n\t260 & 4.18 & 130 & Artificial Intelligence: A Modern Approach                                                                                           & 1132 & Hardcover & 115.75000\\\\\n\t261 & 3.45 & 1   & 3D Game Engine Design: A Practical Approach to Real-Time Computer Graphics (The Morgan Kaufmann Series in Interactive 3D Technology) & 1040 & Hardcover & 117.98824\\\\\n\t266 & 4.26 & 5   & Numerical Recipes: The Art of Scientific Computing                                                                                   & 1235 & Hardcover & 176.14412\\\\\n\t268 & 3.94 & 22  & An Introduction to Database Systems                                                                                                  & 1040 & Paperback & 212.09706\\\\\n\t270 & 4.77 & 4   & The Art of Computer Programming, Volumes 1-4a Boxed Set                                                                              & 3168 & Hardcover & 220.38529\\\\\n\\end{tabular}\n",
            "text/markdown": "\nA data.frame: 16 × 6\n\n| <!--/--> | rating &lt;dbl&gt; | reviews &lt;fct&gt; | title &lt;fct&gt; | pages &lt;dbl&gt; | type &lt;fct&gt; | price &lt;dbl&gt; |\n|---|---|---|---|---|---|---|\n| 87 | 3.22 | 2   | Beginning Java 2                                                                                                                     | 1200 | Paperback |  36.61765 |\n| 130 | 3.96 | 53  | PHP and MySQL Web Development (Developer's Library)                                                                                  | 1008 | Paperback |  45.32647 |\n| 138 | 4.62 | 28  | The Linux Programming Interface: A Linux and Unix System Programming Handbook                                                        | 1506 | Hardcover |  46.35882 |\n| 204 | 3.96 | 150 | Learning Python                                                                                                                      | 1214 | Paperback |  67.87353 |\n| 207 | 4.08 | 92  | The C++ Programming Language                                                                                                         | 1040 | Hardcover |  69.37941 |\n| 233 | 3.77 | 28  | Database System Concepts                                                                                                             | 1142 | Hardcover |  85.60588 |\n| 241 | 4.33 | 194 | Introduction to Algorithms                                                                                                           | 1180 | Hardcover |  92.25588 |\n| 246 | 4.35 | 21  | Game Engine Architecture                                                                                                             | 1052 | Hardcover |  96.03235 |\n| 250 | 4.03 | 1   | Geometric Tools for Computer Graphics                                                                                                | 1056 | Hardcover |  99.82941 |\n| 254 | 4.11 | 56  | Modern Operating Systems, 4th Edition                                                                                                | 1136 | Paperback | 103.46176 |\n| 259 | 4.16 | 16  | The C++ Standard Library: A Tutorial and Reference                                                                                   | 1136 | Hardcover | 113.30294 |\n| 260 | 4.18 | 130 | Artificial Intelligence: A Modern Approach                                                                                           | 1132 | Hardcover | 115.75000 |\n| 261 | 3.45 | 1   | 3D Game Engine Design: A Practical Approach to Real-Time Computer Graphics (The Morgan Kaufmann Series in Interactive 3D Technology) | 1040 | Hardcover | 117.98824 |\n| 266 | 4.26 | 5   | Numerical Recipes: The Art of Scientific Computing                                                                                   | 1235 | Hardcover | 176.14412 |\n| 268 | 3.94 | 22  | An Introduction to Database Systems                                                                                                  | 1040 | Paperback | 212.09706 |\n| 270 | 4.77 | 4   | The Art of Computer Programming, Volumes 1-4a Boxed Set                                                                              | 3168 | Hardcover | 220.38529 |\n\n",
            "text/html": [
              "<table class=\"dataframe\">\n",
              "<caption>A data.frame: 16 × 6</caption>\n",
              "<thead>\n",
              "\t<tr><th></th><th scope=col>rating</th><th scope=col>reviews</th><th scope=col>title</th><th scope=col>pages</th><th scope=col>type</th><th scope=col>price</th></tr>\n",
              "\t<tr><th></th><th scope=col>&lt;dbl&gt;</th><th scope=col>&lt;fct&gt;</th><th scope=col>&lt;fct&gt;</th><th scope=col>&lt;dbl&gt;</th><th scope=col>&lt;fct&gt;</th><th scope=col>&lt;dbl&gt;</th></tr>\n",
              "</thead>\n",
              "<tbody>\n",
              "\t<tr><th scope=row>87</th><td>3.22</td><td>2  </td><td>Beginning Java 2                                                                                                                    </td><td>1200</td><td>Paperback</td><td> 36.61765</td></tr>\n",
              "\t<tr><th scope=row>130</th><td>3.96</td><td>53 </td><td>PHP and MySQL Web Development (Developer's Library)                                                                                 </td><td>1008</td><td>Paperback</td><td> 45.32647</td></tr>\n",
              "\t<tr><th scope=row>138</th><td>4.62</td><td>28 </td><td>The Linux Programming Interface: A Linux and Unix System Programming Handbook                                                       </td><td>1506</td><td>Hardcover</td><td> 46.35882</td></tr>\n",
              "\t<tr><th scope=row>204</th><td>3.96</td><td>150</td><td>Learning Python                                                                                                                     </td><td>1214</td><td>Paperback</td><td> 67.87353</td></tr>\n",
              "\t<tr><th scope=row>207</th><td>4.08</td><td>92 </td><td>The C++ Programming Language                                                                                                        </td><td>1040</td><td>Hardcover</td><td> 69.37941</td></tr>\n",
              "\t<tr><th scope=row>233</th><td>3.77</td><td>28 </td><td>Database System Concepts                                                                                                            </td><td>1142</td><td>Hardcover</td><td> 85.60588</td></tr>\n",
              "\t<tr><th scope=row>241</th><td>4.33</td><td>194</td><td>Introduction to Algorithms                                                                                                          </td><td>1180</td><td>Hardcover</td><td> 92.25588</td></tr>\n",
              "\t<tr><th scope=row>246</th><td>4.35</td><td>21 </td><td>Game Engine Architecture                                                                                                            </td><td>1052</td><td>Hardcover</td><td> 96.03235</td></tr>\n",
              "\t<tr><th scope=row>250</th><td>4.03</td><td>1  </td><td>Geometric Tools for Computer Graphics                                                                                               </td><td>1056</td><td>Hardcover</td><td> 99.82941</td></tr>\n",
              "\t<tr><th scope=row>254</th><td>4.11</td><td>56 </td><td>Modern Operating Systems, 4th Edition                                                                                               </td><td>1136</td><td>Paperback</td><td>103.46176</td></tr>\n",
              "\t<tr><th scope=row>259</th><td>4.16</td><td>16 </td><td>The C++ Standard Library: A Tutorial and Reference                                                                                  </td><td>1136</td><td>Hardcover</td><td>113.30294</td></tr>\n",
              "\t<tr><th scope=row>260</th><td>4.18</td><td>130</td><td>Artificial Intelligence: A Modern Approach                                                                                          </td><td>1132</td><td>Hardcover</td><td>115.75000</td></tr>\n",
              "\t<tr><th scope=row>261</th><td>3.45</td><td>1  </td><td>3D Game Engine Design: A Practical Approach to Real-Time Computer Graphics (The Morgan Kaufmann Series in Interactive 3D Technology)</td><td>1040</td><td>Hardcover</td><td>117.98824</td></tr>\n",
              "\t<tr><th scope=row>266</th><td>4.26</td><td>5  </td><td>Numerical Recipes: The Art of Scientific Computing                                                                                  </td><td>1235</td><td>Hardcover</td><td>176.14412</td></tr>\n",
              "\t<tr><th scope=row>268</th><td>3.94</td><td>22 </td><td>An Introduction to Database Systems                                                                                                 </td><td>1040</td><td>Paperback</td><td>212.09706</td></tr>\n",
              "\t<tr><th scope=row>270</th><td>4.77</td><td>4  </td><td>The Art of Computer Programming, Volumes 1-4a Boxed Set                                                                             </td><td>3168</td><td>Hardcover</td><td>220.38529</td></tr>\n",
              "</tbody>\n",
              "</table>\n"
            ]
          },
          "metadata": {}
        }
      ]
    },
    {
      "cell_type": "markdown",
      "source": [
        "Синтаксис, отчасти похожий на метод .isin() в pandas."
      ],
      "metadata": {
        "id": "Q5c4dEziVNTC"
      }
    },
    {
      "cell_type": "code",
      "source": [
        "books[books$type %in% c(\"Hardcover\", \"Paperback\"),]"
      ],
      "metadata": {
        "colab": {
          "base_uri": "https://localhost:8080/",
          "height": 1000
        },
        "id": "wcgC6g-RB2FY",
        "outputId": "66bd6224-5a40-44ff-e792-8dabc1f4b300"
      },
      "execution_count": null,
      "outputs": [
        {
          "output_type": "display_data",
          "data": {
            "text/plain": [
              "    rating reviews\n",
              "1   4.17   3,829  \n",
              "2   4.01   1,406  \n",
              "4   3.97   1,658  \n",
              "6   3.84   117    \n",
              "7   4.09   5,938  \n",
              "8   4.15   1,817  \n",
              "9   3.87   2,093  \n",
              "10  4.62   0      \n",
              "11  4.03   160    \n",
              "12  3.78   481    \n",
              "13  3.73   33     \n",
              "14  3.87   1,255  \n",
              "15  3.87   593    \n",
              "16  3.95   417    \n",
              "17  3.85   80     \n",
              "18  3.94   279    \n",
              "19  3.75   370    \n",
              "20  4.10   2,092  \n",
              "21  4.22   27     \n",
              "22  3.71   676    \n",
              "23  4.21   16     \n",
              "24  4.28   1,268  \n",
              "25  3.20   0      \n",
              "26  3.67   19     \n",
              "27  3.97   491    \n",
              "28  3.98   48     \n",
              "29  3.96   1      \n",
              "30  4.37   1      \n",
              "31  4.25   16     \n",
              "32  4.32   39     \n",
              "⋮   ⋮      ⋮      \n",
              "241 4.33   194    \n",
              "242 4.06   3      \n",
              "243 3.97   4      \n",
              "244 4.37   44     \n",
              "245 4.10   7      \n",
              "246 4.35   21     \n",
              "247 4.37   0      \n",
              "248 3.90   2      \n",
              "249 4.02   25     \n",
              "250 4.03   1      \n",
              "251 4.10   31     \n",
              "252 4.42   38     \n",
              "253 4.11   56     \n",
              "254 4.11   56     \n",
              "255 3.96   15     \n",
              "256 3.67   2      \n",
              "257 4.13   14     \n",
              "258 3.87   13     \n",
              "259 4.16   16     \n",
              "260 4.18   130    \n",
              "261 3.45   1      \n",
              "262 3.82   0      \n",
              "263 4.08   56     \n",
              "264 3.77   0      \n",
              "265 3.82   0      \n",
              "266 4.26   5      \n",
              "267 3.76   0      \n",
              "268 3.94   22     \n",
              "270 4.77   4      \n",
              "271 3.84   5      \n",
              "    title                                                                                                                                    \n",
              "1   The Elements of Style                                                                                                                    \n",
              "2   The Information: A History, a Theory, a Flood                                                                                            \n",
              "4   Ghost in the Wires: My Adventures as the World's Most Wanted Hacker                                                                      \n",
              "6   The Meme Machine                                                                                                                         \n",
              "7   Start with Why: How Great Leaders Inspire Everyone to Take Action                                                                        \n",
              "8   Algorithms to Live By: The Computer Science of Human Decisions                                                                           \n",
              "9   Weapons of Math Destruction: How Big Data Increases Inequality and Threatens Democracy                                                   \n",
              "10  ZX Spectrum Games Code Club: Twenty fun games to code and learn                                                                          \n",
              "11  Sync: The Emerging Science of Spontaneous Order                                                                                          \n",
              "12  The Master Algorithm: How the Quest for the Ultimate Learning Machine Will Remake Our World                                              \n",
              "13  Ship It!                                                                                                                                 \n",
              "14  Superintelligence: Paths, Dangers, Strategies                                                                                            \n",
              "15  The Art of the Start: The Time-Tested, Battle-Hardened Guide for Anyone Starting Anything                                                \n",
              "16  Kingpin: How One Hacker Took Over the Billion-Dollar Cybercrime Underground                                                              \n",
              "17  The Quark and the Jaguar: Adventures in the Simple and the Complex                                                                       \n",
              "18  Linked: How Everything Is Connected to Everything Else and What It Means for Business, Science, and Everyday Life                        \n",
              "19  Our Final Invention: Artificial Intelligence and the End of the Human Era                                                                \n",
              "20  The Innovators: How a Group of Hackers, Geniuses and Geeks Created the Digital Revolution                                                \n",
              "21  Debugging: The 9 Indispensable Rules for Finding Even the Most Elusive Software and Hardware Problems                                    \n",
              "22  Big Data: A Revolution That Will Transform How We Live, Work, and Think                                                                  \n",
              "23  Help Your Kids with Computer Coding                                                                                                      \n",
              "24  The Code Book: The Science of Secrecy from Ancient Egypt to Quantum Cryptography                                                         \n",
              "25  Game Programming Golden Rules                                                                                                            \n",
              "26  The Architecture of Open Source Applications                                                                                             \n",
              "27  How to Create a Mind: The Secret of Human Thought Revealed                                                                               \n",
              "28  The Hidden Connections: A Science for Sustainable Living                                                                                 \n",
              "29  Computability and Unsolvability                                                                                                          \n",
              "30  Adventures in Minecraft                                                                                                                  \n",
              "31  Coding Games in Scratch                                                                                                                  \n",
              "32  Expert C Programming: Deep C Secrets                                                                                                     \n",
              "⋮   ⋮                                                                                                                                        \n",
              "241 Introduction to Algorithms                                                                                                               \n",
              "242 Geometric Algebra for Computer Science: An Object-Oriented Approach to Geometry                                                          \n",
              "243 Essentials of Programming Languages                                                                                                      \n",
              "244 The Art of Computer Programming, Volume 1: Fundamental Algorithms                                                                        \n",
              "245 Essential Mathematics for Games and Interactive Applications                                                                             \n",
              "246 Game Engine Architecture                                                                                                                 \n",
              "247 A First Course in Logic: An Introduction to Model Theory, Proof Theory, Computability, and Complexity                                    \n",
              "248 Computational Science and Engineering                                                                                                    \n",
              "249 Introduction to Automata Theory, Languages, and Computation                                                                              \n",
              "250 Geometric Tools for Computer Graphics                                                                                                    \n",
              "251 Computer Architecture: A Quantitative Approach                                                                                           \n",
              "252 Computer Systems: A Programmer's Perspective                                                                                             \n",
              "253 Modern Operating Systems                                                                                                                 \n",
              "254 Modern Operating Systems, 4th Edition                                                                                                    \n",
              "255 Structured Computer Organization                                                                                                         \n",
              "256 Game Engine Gems 1                                                                                                                       \n",
              "257 Concepts, Techniques, and Models of Computer Programming                                                                                 \n",
              "258 File Structures: An Object-Oriented Approach with C++                                                                                    \n",
              "259 The C++ Standard Library: A Tutorial and Reference                                                                                       \n",
              "260 Artificial Intelligence: A Modern Approach                                                                                               \n",
              "261 3D Game Engine Design: A Practical Approach to Real-Time Computer Graphics (The Morgan Kaufmann Series in Interactive 3D Technology)     \n",
              "262 Game Programming Gems 6                                                                                                                  \n",
              "263 Compilers: Principles, Techniques, and Tools                                                                                             \n",
              "264 Game Programming Gems 4                                                                                                                  \n",
              "265 Game Programming Gems 3                                                                                                                  \n",
              "266 Numerical Recipes: The Art of Scientific Computing                                                                                       \n",
              "267 3D Game Engine Architecture: Engineering Real-Time Applications with Wild Magic (The Morgan Kaufmann Series in Interactive 3d Technology)\n",
              "268 An Introduction to Database Systems                                                                                                      \n",
              "270 The Art of Computer Programming, Volumes 1-4a Boxed Set                                                                                  \n",
              "271 A Discipline for Software Engineering                                                                                                    \n",
              "    pages type      price    \n",
              "1   105   Hardcover  9.323529\n",
              "2   527   Hardcover 11.000000\n",
              "4   393   Hardcover 12.873529\n",
              "6   288   Paperback 14.188235\n",
              "7   256   Hardcover 14.232353\n",
              "8   368   Hardcover 14.364706\n",
              "9   259   Hardcover 14.502941\n",
              "10  128   Paperback 14.641176\n",
              "11  352   Hardcover 15.229412\n",
              "12  352   Hardcover 15.229412\n",
              "13  200   Paperback 15.326471\n",
              "14  328   Hardcover 15.682353\n",
              "15  240   Hardcover 15.885294\n",
              "16  288   Hardcover 16.073529\n",
              "17  392   Paperback 16.367647\n",
              "18  304   Paperback 16.852941\n",
              "19  336   Hardcover 16.891176\n",
              "20  542   Hardcover 17.229412\n",
              "21  192   Paperback 17.491176\n",
              "22  242   Hardcover 17.620588\n",
              "23  224   Paperback 18.938235\n",
              "24  412   Paperback 19.132353\n",
              "25  318   Paperback 19.152941\n",
              "26  432   Paperback 19.247059\n",
              "27  336   Hardcover 19.855882\n",
              "28  320   Paperback 20.052941\n",
              "29  288   Paperback 20.400000\n",
              "30  320   Paperback 21.038235\n",
              "31  224   Paperback 21.088235\n",
              "32  384   Paperback 21.097059\n",
              "⋮   ⋮     ⋮         ⋮        \n",
              "241 1180  Hardcover  92.25588\n",
              "242  626  Hardcover  92.35882\n",
              "243  410  Hardcover  92.41176\n",
              "244  672  Hardcover  93.45588\n",
              "245  624  Hardcover  94.78529\n",
              "246 1052  Hardcover  96.03235\n",
              "247  431  Paperback  96.49412\n",
              "248  716  Hardcover  97.52647\n",
              "249  521  Hardcover  97.68824\n",
              "250 1056  Hardcover  99.82941\n",
              "251  493  Paperback 101.05588\n",
              "252  978  Hardcover 103.17353\n",
              "253  976  Hardcover 103.46176\n",
              "254 1136  Paperback 103.46176\n",
              "255  669  Hardcover 103.60882\n",
              "256  362  Hardcover 105.65000\n",
              "257  936  Hardcover 107.74706\n",
              "258  724  Paperback 108.36765\n",
              "259 1136  Hardcover 113.30294\n",
              "260 1132  Hardcover 115.75000\n",
              "261 1040  Hardcover 117.98824\n",
              "262  700  Hardcover 119.20294\n",
              "263  796  Hardcover 126.57941\n",
              "264  703  Hardcover 139.43529\n",
              "265  663  Hardcover 143.13824\n",
              "266 1235  Hardcover 176.14412\n",
              "267  752  Hardcover 203.10882\n",
              "268 1040  Paperback 212.09706\n",
              "270 3168  Hardcover 220.38529\n",
              "271  789  Hardcover 235.65000"
            ],
            "text/latex": "A data.frame: 251 × 6\n\\begin{tabular}{r|llllll}\n  & rating & reviews & title & pages & type & price\\\\\n  & <dbl> & <fct> & <fct> & <dbl> & <fct> & <dbl>\\\\\n\\hline\n\t1 & 4.17 & 3,829 & The Elements of Style                                                                                             & 105 & Hardcover &  9.323529\\\\\n\t2 & 4.01 & 1,406 & The Information: A History, a Theory, a Flood                                                                     & 527 & Hardcover & 11.000000\\\\\n\t4 & 3.97 & 1,658 & Ghost in the Wires: My Adventures as the World's Most Wanted Hacker                                               & 393 & Hardcover & 12.873529\\\\\n\t6 & 3.84 & 117   & The Meme Machine                                                                                                  & 288 & Paperback & 14.188235\\\\\n\t7 & 4.09 & 5,938 & Start with Why: How Great Leaders Inspire Everyone to Take Action                                                 & 256 & Hardcover & 14.232353\\\\\n\t8 & 4.15 & 1,817 & Algorithms to Live By: The Computer Science of Human Decisions                                                    & 368 & Hardcover & 14.364706\\\\\n\t9 & 3.87 & 2,093 & Weapons of Math Destruction: How Big Data Increases Inequality and Threatens Democracy                            & 259 & Hardcover & 14.502941\\\\\n\t10 & 4.62 & 0     & ZX Spectrum Games Code Club: Twenty fun games to code and learn                                                   & 128 & Paperback & 14.641176\\\\\n\t11 & 4.03 & 160   & Sync: The Emerging Science of Spontaneous Order                                                                   & 352 & Hardcover & 15.229412\\\\\n\t12 & 3.78 & 481   & The Master Algorithm: How the Quest for the Ultimate Learning Machine Will Remake Our World                       & 352 & Hardcover & 15.229412\\\\\n\t13 & 3.73 & 33    & Ship It!                                                                                                          & 200 & Paperback & 15.326471\\\\\n\t14 & 3.87 & 1,255 & Superintelligence: Paths, Dangers, Strategies                                                                     & 328 & Hardcover & 15.682353\\\\\n\t15 & 3.87 & 593   & The Art of the Start: The Time-Tested, Battle-Hardened Guide for Anyone Starting Anything                         & 240 & Hardcover & 15.885294\\\\\n\t16 & 3.95 & 417   & Kingpin: How One Hacker Took Over the Billion-Dollar Cybercrime Underground                                       & 288 & Hardcover & 16.073529\\\\\n\t17 & 3.85 & 80    & The Quark and the Jaguar: Adventures in the Simple and the Complex                                                & 392 & Paperback & 16.367647\\\\\n\t18 & 3.94 & 279   & Linked: How Everything Is Connected to Everything Else and What It Means for Business, Science, and Everyday Life & 304 & Paperback & 16.852941\\\\\n\t19 & 3.75 & 370   & Our Final Invention: Artificial Intelligence and the End of the Human Era                                         & 336 & Hardcover & 16.891176\\\\\n\t20 & 4.10 & 2,092 & The Innovators: How a Group of Hackers, Geniuses and Geeks Created the Digital Revolution                         & 542 & Hardcover & 17.229412\\\\\n\t21 & 4.22 & 27    & Debugging: The 9 Indispensable Rules for Finding Even the Most Elusive Software and Hardware Problems             & 192 & Paperback & 17.491176\\\\\n\t22 & 3.71 & 676   & Big Data: A Revolution That Will Transform How We Live, Work, and Think                                           & 242 & Hardcover & 17.620588\\\\\n\t23 & 4.21 & 16    & Help Your Kids with Computer Coding                                                                               & 224 & Paperback & 18.938235\\\\\n\t24 & 4.28 & 1,268 & The Code Book: The Science of Secrecy from Ancient Egypt to Quantum Cryptography                                  & 412 & Paperback & 19.132353\\\\\n\t25 & 3.20 & 0     & Game Programming Golden Rules                                                                                     & 318 & Paperback & 19.152941\\\\\n\t26 & 3.67 & 19    & The Architecture of Open Source Applications                                                                      & 432 & Paperback & 19.247059\\\\\n\t27 & 3.97 & 491   & How to Create a Mind: The Secret of Human Thought Revealed                                                        & 336 & Hardcover & 19.855882\\\\\n\t28 & 3.98 & 48    & The Hidden Connections: A Science for Sustainable Living                                                          & 320 & Paperback & 20.052941\\\\\n\t29 & 3.96 & 1     & Computability and Unsolvability                                                                                   & 288 & Paperback & 20.400000\\\\\n\t30 & 4.37 & 1     & Adventures in Minecraft                                                                                           & 320 & Paperback & 21.038235\\\\\n\t31 & 4.25 & 16    & Coding Games in Scratch                                                                                           & 224 & Paperback & 21.088235\\\\\n\t32 & 4.32 & 39    & Expert C Programming: Deep C Secrets                                                                              & 384 & Paperback & 21.097059\\\\\n\t⋮ & ⋮ & ⋮ & ⋮ & ⋮ & ⋮ & ⋮\\\\\n\t241 & 4.33 & 194 & Introduction to Algorithms                                                                                                                & 1180 & Hardcover &  92.25588\\\\\n\t242 & 4.06 & 3   & Geometric Algebra for Computer Science: An Object-Oriented Approach to Geometry                                                           &  626 & Hardcover &  92.35882\\\\\n\t243 & 3.97 & 4   & Essentials of Programming Languages                                                                                                       &  410 & Hardcover &  92.41176\\\\\n\t244 & 4.37 & 44  & The Art of Computer Programming, Volume 1: Fundamental Algorithms                                                                         &  672 & Hardcover &  93.45588\\\\\n\t245 & 4.10 & 7   & Essential Mathematics for Games and Interactive Applications                                                                              &  624 & Hardcover &  94.78529\\\\\n\t246 & 4.35 & 21  & Game Engine Architecture                                                                                                                  & 1052 & Hardcover &  96.03235\\\\\n\t247 & 4.37 & 0   & A First Course in Logic: An Introduction to Model Theory, Proof Theory, Computability, and Complexity                                     &  431 & Paperback &  96.49412\\\\\n\t248 & 3.90 & 2   & Computational Science and Engineering                                                                                                     &  716 & Hardcover &  97.52647\\\\\n\t249 & 4.02 & 25  & Introduction to Automata Theory, Languages, and Computation                                                                               &  521 & Hardcover &  97.68824\\\\\n\t250 & 4.03 & 1   & Geometric Tools for Computer Graphics                                                                                                     & 1056 & Hardcover &  99.82941\\\\\n\t251 & 4.10 & 31  & Computer Architecture: A Quantitative Approach                                                                                            &  493 & Paperback & 101.05588\\\\\n\t252 & 4.42 & 38  & Computer Systems: A Programmer's Perspective                                                                                              &  978 & Hardcover & 103.17353\\\\\n\t253 & 4.11 & 56  & Modern Operating Systems                                                                                                                  &  976 & Hardcover & 103.46176\\\\\n\t254 & 4.11 & 56  & Modern Operating Systems, 4th Edition                                                                                                     & 1136 & Paperback & 103.46176\\\\\n\t255 & 3.96 & 15  & Structured Computer Organization                                                                                                          &  669 & Hardcover & 103.60882\\\\\n\t256 & 3.67 & 2   & Game Engine Gems 1                                                                                                                        &  362 & Hardcover & 105.65000\\\\\n\t257 & 4.13 & 14  & Concepts, Techniques, and Models of Computer Programming                                                                                  &  936 & Hardcover & 107.74706\\\\\n\t258 & 3.87 & 13  & File Structures: An Object-Oriented Approach with C++                                                                                     &  724 & Paperback & 108.36765\\\\\n\t259 & 4.16 & 16  & The C++ Standard Library: A Tutorial and Reference                                                                                        & 1136 & Hardcover & 113.30294\\\\\n\t260 & 4.18 & 130 & Artificial Intelligence: A Modern Approach                                                                                                & 1132 & Hardcover & 115.75000\\\\\n\t261 & 3.45 & 1   & 3D Game Engine Design: A Practical Approach to Real-Time Computer Graphics (The Morgan Kaufmann Series in Interactive 3D Technology)      & 1040 & Hardcover & 117.98824\\\\\n\t262 & 3.82 & 0   & Game Programming Gems 6                                                                                                                   &  700 & Hardcover & 119.20294\\\\\n\t263 & 4.08 & 56  & Compilers: Principles, Techniques, and Tools                                                                                              &  796 & Hardcover & 126.57941\\\\\n\t264 & 3.77 & 0   & Game Programming Gems 4                                                                                                                   &  703 & Hardcover & 139.43529\\\\\n\t265 & 3.82 & 0   & Game Programming Gems 3                                                                                                                   &  663 & Hardcover & 143.13824\\\\\n\t266 & 4.26 & 5   & Numerical Recipes: The Art of Scientific Computing                                                                                        & 1235 & Hardcover & 176.14412\\\\\n\t267 & 3.76 & 0   & 3D Game Engine Architecture: Engineering Real-Time Applications with Wild Magic (The Morgan Kaufmann Series in Interactive 3d Technology) &  752 & Hardcover & 203.10882\\\\\n\t268 & 3.94 & 22  & An Introduction to Database Systems                                                                                                       & 1040 & Paperback & 212.09706\\\\\n\t270 & 4.77 & 4   & The Art of Computer Programming, Volumes 1-4a Boxed Set                                                                                   & 3168 & Hardcover & 220.38529\\\\\n\t271 & 3.84 & 5   & A Discipline for Software Engineering                                                                                                     &  789 & Hardcover & 235.65000\\\\\n\\end{tabular}\n",
            "text/markdown": "\nA data.frame: 251 × 6\n\n| <!--/--> | rating &lt;dbl&gt; | reviews &lt;fct&gt; | title &lt;fct&gt; | pages &lt;dbl&gt; | type &lt;fct&gt; | price &lt;dbl&gt; |\n|---|---|---|---|---|---|---|\n| 1 | 4.17 | 3,829 | The Elements of Style                                                                                             | 105 | Hardcover |  9.323529 |\n| 2 | 4.01 | 1,406 | The Information: A History, a Theory, a Flood                                                                     | 527 | Hardcover | 11.000000 |\n| 4 | 3.97 | 1,658 | Ghost in the Wires: My Adventures as the World's Most Wanted Hacker                                               | 393 | Hardcover | 12.873529 |\n| 6 | 3.84 | 117   | The Meme Machine                                                                                                  | 288 | Paperback | 14.188235 |\n| 7 | 4.09 | 5,938 | Start with Why: How Great Leaders Inspire Everyone to Take Action                                                 | 256 | Hardcover | 14.232353 |\n| 8 | 4.15 | 1,817 | Algorithms to Live By: The Computer Science of Human Decisions                                                    | 368 | Hardcover | 14.364706 |\n| 9 | 3.87 | 2,093 | Weapons of Math Destruction: How Big Data Increases Inequality and Threatens Democracy                            | 259 | Hardcover | 14.502941 |\n| 10 | 4.62 | 0     | ZX Spectrum Games Code Club: Twenty fun games to code and learn                                                   | 128 | Paperback | 14.641176 |\n| 11 | 4.03 | 160   | Sync: The Emerging Science of Spontaneous Order                                                                   | 352 | Hardcover | 15.229412 |\n| 12 | 3.78 | 481   | The Master Algorithm: How the Quest for the Ultimate Learning Machine Will Remake Our World                       | 352 | Hardcover | 15.229412 |\n| 13 | 3.73 | 33    | Ship It!                                                                                                          | 200 | Paperback | 15.326471 |\n| 14 | 3.87 | 1,255 | Superintelligence: Paths, Dangers, Strategies                                                                     | 328 | Hardcover | 15.682353 |\n| 15 | 3.87 | 593   | The Art of the Start: The Time-Tested, Battle-Hardened Guide for Anyone Starting Anything                         | 240 | Hardcover | 15.885294 |\n| 16 | 3.95 | 417   | Kingpin: How One Hacker Took Over the Billion-Dollar Cybercrime Underground                                       | 288 | Hardcover | 16.073529 |\n| 17 | 3.85 | 80    | The Quark and the Jaguar: Adventures in the Simple and the Complex                                                | 392 | Paperback | 16.367647 |\n| 18 | 3.94 | 279   | Linked: How Everything Is Connected to Everything Else and What It Means for Business, Science, and Everyday Life | 304 | Paperback | 16.852941 |\n| 19 | 3.75 | 370   | Our Final Invention: Artificial Intelligence and the End of the Human Era                                         | 336 | Hardcover | 16.891176 |\n| 20 | 4.10 | 2,092 | The Innovators: How a Group of Hackers, Geniuses and Geeks Created the Digital Revolution                         | 542 | Hardcover | 17.229412 |\n| 21 | 4.22 | 27    | Debugging: The 9 Indispensable Rules for Finding Even the Most Elusive Software and Hardware Problems             | 192 | Paperback | 17.491176 |\n| 22 | 3.71 | 676   | Big Data: A Revolution That Will Transform How We Live, Work, and Think                                           | 242 | Hardcover | 17.620588 |\n| 23 | 4.21 | 16    | Help Your Kids with Computer Coding                                                                               | 224 | Paperback | 18.938235 |\n| 24 | 4.28 | 1,268 | The Code Book: The Science of Secrecy from Ancient Egypt to Quantum Cryptography                                  | 412 | Paperback | 19.132353 |\n| 25 | 3.20 | 0     | Game Programming Golden Rules                                                                                     | 318 | Paperback | 19.152941 |\n| 26 | 3.67 | 19    | The Architecture of Open Source Applications                                                                      | 432 | Paperback | 19.247059 |\n| 27 | 3.97 | 491   | How to Create a Mind: The Secret of Human Thought Revealed                                                        | 336 | Hardcover | 19.855882 |\n| 28 | 3.98 | 48    | The Hidden Connections: A Science for Sustainable Living                                                          | 320 | Paperback | 20.052941 |\n| 29 | 3.96 | 1     | Computability and Unsolvability                                                                                   | 288 | Paperback | 20.400000 |\n| 30 | 4.37 | 1     | Adventures in Minecraft                                                                                           | 320 | Paperback | 21.038235 |\n| 31 | 4.25 | 16    | Coding Games in Scratch                                                                                           | 224 | Paperback | 21.088235 |\n| 32 | 4.32 | 39    | Expert C Programming: Deep C Secrets                                                                              | 384 | Paperback | 21.097059 |\n| ⋮ | ⋮ | ⋮ | ⋮ | ⋮ | ⋮ | ⋮ |\n| 241 | 4.33 | 194 | Introduction to Algorithms                                                                                                                | 1180 | Hardcover |  92.25588 |\n| 242 | 4.06 | 3   | Geometric Algebra for Computer Science: An Object-Oriented Approach to Geometry                                                           |  626 | Hardcover |  92.35882 |\n| 243 | 3.97 | 4   | Essentials of Programming Languages                                                                                                       |  410 | Hardcover |  92.41176 |\n| 244 | 4.37 | 44  | The Art of Computer Programming, Volume 1: Fundamental Algorithms                                                                         |  672 | Hardcover |  93.45588 |\n| 245 | 4.10 | 7   | Essential Mathematics for Games and Interactive Applications                                                                              |  624 | Hardcover |  94.78529 |\n| 246 | 4.35 | 21  | Game Engine Architecture                                                                                                                  | 1052 | Hardcover |  96.03235 |\n| 247 | 4.37 | 0   | A First Course in Logic: An Introduction to Model Theory, Proof Theory, Computability, and Complexity                                     |  431 | Paperback |  96.49412 |\n| 248 | 3.90 | 2   | Computational Science and Engineering                                                                                                     |  716 | Hardcover |  97.52647 |\n| 249 | 4.02 | 25  | Introduction to Automata Theory, Languages, and Computation                                                                               |  521 | Hardcover |  97.68824 |\n| 250 | 4.03 | 1   | Geometric Tools for Computer Graphics                                                                                                     | 1056 | Hardcover |  99.82941 |\n| 251 | 4.10 | 31  | Computer Architecture: A Quantitative Approach                                                                                            |  493 | Paperback | 101.05588 |\n| 252 | 4.42 | 38  | Computer Systems: A Programmer's Perspective                                                                                              |  978 | Hardcover | 103.17353 |\n| 253 | 4.11 | 56  | Modern Operating Systems                                                                                                                  |  976 | Hardcover | 103.46176 |\n| 254 | 4.11 | 56  | Modern Operating Systems, 4th Edition                                                                                                     | 1136 | Paperback | 103.46176 |\n| 255 | 3.96 | 15  | Structured Computer Organization                                                                                                          |  669 | Hardcover | 103.60882 |\n| 256 | 3.67 | 2   | Game Engine Gems 1                                                                                                                        |  362 | Hardcover | 105.65000 |\n| 257 | 4.13 | 14  | Concepts, Techniques, and Models of Computer Programming                                                                                  |  936 | Hardcover | 107.74706 |\n| 258 | 3.87 | 13  | File Structures: An Object-Oriented Approach with C++                                                                                     |  724 | Paperback | 108.36765 |\n| 259 | 4.16 | 16  | The C++ Standard Library: A Tutorial and Reference                                                                                        | 1136 | Hardcover | 113.30294 |\n| 260 | 4.18 | 130 | Artificial Intelligence: A Modern Approach                                                                                                | 1132 | Hardcover | 115.75000 |\n| 261 | 3.45 | 1   | 3D Game Engine Design: A Practical Approach to Real-Time Computer Graphics (The Morgan Kaufmann Series in Interactive 3D Technology)      | 1040 | Hardcover | 117.98824 |\n| 262 | 3.82 | 0   | Game Programming Gems 6                                                                                                                   |  700 | Hardcover | 119.20294 |\n| 263 | 4.08 | 56  | Compilers: Principles, Techniques, and Tools                                                                                              |  796 | Hardcover | 126.57941 |\n| 264 | 3.77 | 0   | Game Programming Gems 4                                                                                                                   |  703 | Hardcover | 139.43529 |\n| 265 | 3.82 | 0   | Game Programming Gems 3                                                                                                                   |  663 | Hardcover | 143.13824 |\n| 266 | 4.26 | 5   | Numerical Recipes: The Art of Scientific Computing                                                                                        | 1235 | Hardcover | 176.14412 |\n| 267 | 3.76 | 0   | 3D Game Engine Architecture: Engineering Real-Time Applications with Wild Magic (The Morgan Kaufmann Series in Interactive 3d Technology) |  752 | Hardcover | 203.10882 |\n| 268 | 3.94 | 22  | An Introduction to Database Systems                                                                                                       | 1040 | Paperback | 212.09706 |\n| 270 | 4.77 | 4   | The Art of Computer Programming, Volumes 1-4a Boxed Set                                                                                   | 3168 | Hardcover | 220.38529 |\n| 271 | 3.84 | 5   | A Discipline for Software Engineering                                                                                                     |  789 | Hardcover | 235.65000 |\n\n",
            "text/html": [
              "<table class=\"dataframe\">\n",
              "<caption>A data.frame: 251 × 6</caption>\n",
              "<thead>\n",
              "\t<tr><th></th><th scope=col>rating</th><th scope=col>reviews</th><th scope=col>title</th><th scope=col>pages</th><th scope=col>type</th><th scope=col>price</th></tr>\n",
              "\t<tr><th></th><th scope=col>&lt;dbl&gt;</th><th scope=col>&lt;fct&gt;</th><th scope=col>&lt;fct&gt;</th><th scope=col>&lt;dbl&gt;</th><th scope=col>&lt;fct&gt;</th><th scope=col>&lt;dbl&gt;</th></tr>\n",
              "</thead>\n",
              "<tbody>\n",
              "\t<tr><th scope=row>1</th><td>4.17</td><td>3,829</td><td>The Elements of Style                                                                                            </td><td>105</td><td>Hardcover</td><td> 9.323529</td></tr>\n",
              "\t<tr><th scope=row>2</th><td>4.01</td><td>1,406</td><td>The Information: A History, a Theory, a Flood                                                                    </td><td>527</td><td>Hardcover</td><td>11.000000</td></tr>\n",
              "\t<tr><th scope=row>4</th><td>3.97</td><td>1,658</td><td>Ghost in the Wires: My Adventures as the World's Most Wanted Hacker                                              </td><td>393</td><td>Hardcover</td><td>12.873529</td></tr>\n",
              "\t<tr><th scope=row>6</th><td>3.84</td><td>117  </td><td>The Meme Machine                                                                                                 </td><td>288</td><td>Paperback</td><td>14.188235</td></tr>\n",
              "\t<tr><th scope=row>7</th><td>4.09</td><td>5,938</td><td>Start with Why: How Great Leaders Inspire Everyone to Take Action                                                </td><td>256</td><td>Hardcover</td><td>14.232353</td></tr>\n",
              "\t<tr><th scope=row>8</th><td>4.15</td><td>1,817</td><td>Algorithms to Live By: The Computer Science of Human Decisions                                                   </td><td>368</td><td>Hardcover</td><td>14.364706</td></tr>\n",
              "\t<tr><th scope=row>9</th><td>3.87</td><td>2,093</td><td>Weapons of Math Destruction: How Big Data Increases Inequality and Threatens Democracy                           </td><td>259</td><td>Hardcover</td><td>14.502941</td></tr>\n",
              "\t<tr><th scope=row>10</th><td>4.62</td><td>0    </td><td>ZX Spectrum Games Code Club: Twenty fun games to code and learn                                                  </td><td>128</td><td>Paperback</td><td>14.641176</td></tr>\n",
              "\t<tr><th scope=row>11</th><td>4.03</td><td>160  </td><td>Sync: The Emerging Science of Spontaneous Order                                                                  </td><td>352</td><td>Hardcover</td><td>15.229412</td></tr>\n",
              "\t<tr><th scope=row>12</th><td>3.78</td><td>481  </td><td>The Master Algorithm: How the Quest for the Ultimate Learning Machine Will Remake Our World                      </td><td>352</td><td>Hardcover</td><td>15.229412</td></tr>\n",
              "\t<tr><th scope=row>13</th><td>3.73</td><td>33   </td><td>Ship It!                                                                                                         </td><td>200</td><td>Paperback</td><td>15.326471</td></tr>\n",
              "\t<tr><th scope=row>14</th><td>3.87</td><td>1,255</td><td>Superintelligence: Paths, Dangers, Strategies                                                                    </td><td>328</td><td>Hardcover</td><td>15.682353</td></tr>\n",
              "\t<tr><th scope=row>15</th><td>3.87</td><td>593  </td><td>The Art of the Start: The Time-Tested, Battle-Hardened Guide for Anyone Starting Anything                        </td><td>240</td><td>Hardcover</td><td>15.885294</td></tr>\n",
              "\t<tr><th scope=row>16</th><td>3.95</td><td>417  </td><td>Kingpin: How One Hacker Took Over the Billion-Dollar Cybercrime Underground                                      </td><td>288</td><td>Hardcover</td><td>16.073529</td></tr>\n",
              "\t<tr><th scope=row>17</th><td>3.85</td><td>80   </td><td>The Quark and the Jaguar: Adventures in the Simple and the Complex                                               </td><td>392</td><td>Paperback</td><td>16.367647</td></tr>\n",
              "\t<tr><th scope=row>18</th><td>3.94</td><td>279  </td><td>Linked: How Everything Is Connected to Everything Else and What It Means for Business, Science, and Everyday Life</td><td>304</td><td>Paperback</td><td>16.852941</td></tr>\n",
              "\t<tr><th scope=row>19</th><td>3.75</td><td>370  </td><td>Our Final Invention: Artificial Intelligence and the End of the Human Era                                        </td><td>336</td><td>Hardcover</td><td>16.891176</td></tr>\n",
              "\t<tr><th scope=row>20</th><td>4.10</td><td>2,092</td><td>The Innovators: How a Group of Hackers, Geniuses and Geeks Created the Digital Revolution                        </td><td>542</td><td>Hardcover</td><td>17.229412</td></tr>\n",
              "\t<tr><th scope=row>21</th><td>4.22</td><td>27   </td><td>Debugging: The 9 Indispensable Rules for Finding Even the Most Elusive Software and Hardware Problems            </td><td>192</td><td>Paperback</td><td>17.491176</td></tr>\n",
              "\t<tr><th scope=row>22</th><td>3.71</td><td>676  </td><td>Big Data: A Revolution That Will Transform How We Live, Work, and Think                                          </td><td>242</td><td>Hardcover</td><td>17.620588</td></tr>\n",
              "\t<tr><th scope=row>23</th><td>4.21</td><td>16   </td><td>Help Your Kids with Computer Coding                                                                              </td><td>224</td><td>Paperback</td><td>18.938235</td></tr>\n",
              "\t<tr><th scope=row>24</th><td>4.28</td><td>1,268</td><td>The Code Book: The Science of Secrecy from Ancient Egypt to Quantum Cryptography                                 </td><td>412</td><td>Paperback</td><td>19.132353</td></tr>\n",
              "\t<tr><th scope=row>25</th><td>3.20</td><td>0    </td><td>Game Programming Golden Rules                                                                                    </td><td>318</td><td>Paperback</td><td>19.152941</td></tr>\n",
              "\t<tr><th scope=row>26</th><td>3.67</td><td>19   </td><td>The Architecture of Open Source Applications                                                                     </td><td>432</td><td>Paperback</td><td>19.247059</td></tr>\n",
              "\t<tr><th scope=row>27</th><td>3.97</td><td>491  </td><td>How to Create a Mind: The Secret of Human Thought Revealed                                                       </td><td>336</td><td>Hardcover</td><td>19.855882</td></tr>\n",
              "\t<tr><th scope=row>28</th><td>3.98</td><td>48   </td><td>The Hidden Connections: A Science for Sustainable Living                                                         </td><td>320</td><td>Paperback</td><td>20.052941</td></tr>\n",
              "\t<tr><th scope=row>29</th><td>3.96</td><td>1    </td><td>Computability and Unsolvability                                                                                  </td><td>288</td><td>Paperback</td><td>20.400000</td></tr>\n",
              "\t<tr><th scope=row>30</th><td>4.37</td><td>1    </td><td>Adventures in Minecraft                                                                                          </td><td>320</td><td>Paperback</td><td>21.038235</td></tr>\n",
              "\t<tr><th scope=row>31</th><td>4.25</td><td>16   </td><td>Coding Games in Scratch                                                                                          </td><td>224</td><td>Paperback</td><td>21.088235</td></tr>\n",
              "\t<tr><th scope=row>32</th><td>4.32</td><td>39   </td><td>Expert C Programming: Deep C Secrets                                                                             </td><td>384</td><td>Paperback</td><td>21.097059</td></tr>\n",
              "\t<tr><th scope=row>⋮</th><td>⋮</td><td>⋮</td><td>⋮</td><td>⋮</td><td>⋮</td><td>⋮</td></tr>\n",
              "\t<tr><th scope=row>241</th><td>4.33</td><td>194</td><td>Introduction to Algorithms                                                                                                               </td><td>1180</td><td>Hardcover</td><td> 92.25588</td></tr>\n",
              "\t<tr><th scope=row>242</th><td>4.06</td><td>3  </td><td>Geometric Algebra for Computer Science: An Object-Oriented Approach to Geometry                                                          </td><td> 626</td><td>Hardcover</td><td> 92.35882</td></tr>\n",
              "\t<tr><th scope=row>243</th><td>3.97</td><td>4  </td><td>Essentials of Programming Languages                                                                                                      </td><td> 410</td><td>Hardcover</td><td> 92.41176</td></tr>\n",
              "\t<tr><th scope=row>244</th><td>4.37</td><td>44 </td><td>The Art of Computer Programming, Volume 1: Fundamental Algorithms                                                                        </td><td> 672</td><td>Hardcover</td><td> 93.45588</td></tr>\n",
              "\t<tr><th scope=row>245</th><td>4.10</td><td>7  </td><td>Essential Mathematics for Games and Interactive Applications                                                                             </td><td> 624</td><td>Hardcover</td><td> 94.78529</td></tr>\n",
              "\t<tr><th scope=row>246</th><td>4.35</td><td>21 </td><td>Game Engine Architecture                                                                                                                 </td><td>1052</td><td>Hardcover</td><td> 96.03235</td></tr>\n",
              "\t<tr><th scope=row>247</th><td>4.37</td><td>0  </td><td>A First Course in Logic: An Introduction to Model Theory, Proof Theory, Computability, and Complexity                                    </td><td> 431</td><td>Paperback</td><td> 96.49412</td></tr>\n",
              "\t<tr><th scope=row>248</th><td>3.90</td><td>2  </td><td>Computational Science and Engineering                                                                                                    </td><td> 716</td><td>Hardcover</td><td> 97.52647</td></tr>\n",
              "\t<tr><th scope=row>249</th><td>4.02</td><td>25 </td><td>Introduction to Automata Theory, Languages, and Computation                                                                              </td><td> 521</td><td>Hardcover</td><td> 97.68824</td></tr>\n",
              "\t<tr><th scope=row>250</th><td>4.03</td><td>1  </td><td>Geometric Tools for Computer Graphics                                                                                                    </td><td>1056</td><td>Hardcover</td><td> 99.82941</td></tr>\n",
              "\t<tr><th scope=row>251</th><td>4.10</td><td>31 </td><td>Computer Architecture: A Quantitative Approach                                                                                           </td><td> 493</td><td>Paperback</td><td>101.05588</td></tr>\n",
              "\t<tr><th scope=row>252</th><td>4.42</td><td>38 </td><td>Computer Systems: A Programmer's Perspective                                                                                             </td><td> 978</td><td>Hardcover</td><td>103.17353</td></tr>\n",
              "\t<tr><th scope=row>253</th><td>4.11</td><td>56 </td><td>Modern Operating Systems                                                                                                                 </td><td> 976</td><td>Hardcover</td><td>103.46176</td></tr>\n",
              "\t<tr><th scope=row>254</th><td>4.11</td><td>56 </td><td>Modern Operating Systems, 4th Edition                                                                                                    </td><td>1136</td><td>Paperback</td><td>103.46176</td></tr>\n",
              "\t<tr><th scope=row>255</th><td>3.96</td><td>15 </td><td>Structured Computer Organization                                                                                                         </td><td> 669</td><td>Hardcover</td><td>103.60882</td></tr>\n",
              "\t<tr><th scope=row>256</th><td>3.67</td><td>2  </td><td>Game Engine Gems 1                                                                                                                       </td><td> 362</td><td>Hardcover</td><td>105.65000</td></tr>\n",
              "\t<tr><th scope=row>257</th><td>4.13</td><td>14 </td><td>Concepts, Techniques, and Models of Computer Programming                                                                                 </td><td> 936</td><td>Hardcover</td><td>107.74706</td></tr>\n",
              "\t<tr><th scope=row>258</th><td>3.87</td><td>13 </td><td>File Structures: An Object-Oriented Approach with C++                                                                                    </td><td> 724</td><td>Paperback</td><td>108.36765</td></tr>\n",
              "\t<tr><th scope=row>259</th><td>4.16</td><td>16 </td><td>The C++ Standard Library: A Tutorial and Reference                                                                                       </td><td>1136</td><td>Hardcover</td><td>113.30294</td></tr>\n",
              "\t<tr><th scope=row>260</th><td>4.18</td><td>130</td><td>Artificial Intelligence: A Modern Approach                                                                                               </td><td>1132</td><td>Hardcover</td><td>115.75000</td></tr>\n",
              "\t<tr><th scope=row>261</th><td>3.45</td><td>1  </td><td>3D Game Engine Design: A Practical Approach to Real-Time Computer Graphics (The Morgan Kaufmann Series in Interactive 3D Technology)     </td><td>1040</td><td>Hardcover</td><td>117.98824</td></tr>\n",
              "\t<tr><th scope=row>262</th><td>3.82</td><td>0  </td><td>Game Programming Gems 6                                                                                                                  </td><td> 700</td><td>Hardcover</td><td>119.20294</td></tr>\n",
              "\t<tr><th scope=row>263</th><td>4.08</td><td>56 </td><td>Compilers: Principles, Techniques, and Tools                                                                                             </td><td> 796</td><td>Hardcover</td><td>126.57941</td></tr>\n",
              "\t<tr><th scope=row>264</th><td>3.77</td><td>0  </td><td>Game Programming Gems 4                                                                                                                  </td><td> 703</td><td>Hardcover</td><td>139.43529</td></tr>\n",
              "\t<tr><th scope=row>265</th><td>3.82</td><td>0  </td><td>Game Programming Gems 3                                                                                                                  </td><td> 663</td><td>Hardcover</td><td>143.13824</td></tr>\n",
              "\t<tr><th scope=row>266</th><td>4.26</td><td>5  </td><td>Numerical Recipes: The Art of Scientific Computing                                                                                       </td><td>1235</td><td>Hardcover</td><td>176.14412</td></tr>\n",
              "\t<tr><th scope=row>267</th><td>3.76</td><td>0  </td><td>3D Game Engine Architecture: Engineering Real-Time Applications with Wild Magic (The Morgan Kaufmann Series in Interactive 3d Technology)</td><td> 752</td><td>Hardcover</td><td>203.10882</td></tr>\n",
              "\t<tr><th scope=row>268</th><td>3.94</td><td>22 </td><td>An Introduction to Database Systems                                                                                                      </td><td>1040</td><td>Paperback</td><td>212.09706</td></tr>\n",
              "\t<tr><th scope=row>270</th><td>4.77</td><td>4  </td><td>The Art of Computer Programming, Volumes 1-4a Boxed Set                                                                                  </td><td>3168</td><td>Hardcover</td><td>220.38529</td></tr>\n",
              "\t<tr><th scope=row>271</th><td>3.84</td><td>5  </td><td>A Discipline for Software Engineering                                                                                                    </td><td> 789</td><td>Hardcover</td><td>235.65000</td></tr>\n",
              "</tbody>\n",
              "</table>\n"
            ]
          },
          "metadata": {}
        }
      ]
    },
    {
      "cell_type": "markdown",
      "source": [
        "Применение множественного условия."
      ],
      "metadata": {
        "id": "xMDLQsJoVUYN"
      }
    },
    {
      "cell_type": "code",
      "source": [
        "books[books$pages >= 1000 & books$type == \"Paperback\",]"
      ],
      "metadata": {
        "colab": {
          "base_uri": "https://localhost:8080/",
          "height": 307
        },
        "id": "L2yrRrZTDEIh",
        "outputId": "656f31d6-f4f2-4e71-9c6b-01dfac118f89"
      },
      "execution_count": null,
      "outputs": [
        {
          "output_type": "display_data",
          "data": {
            "text/plain": [
              "    rating reviews title                                               pages\n",
              "87  3.22   2       Beginning Java 2                                    1200 \n",
              "130 3.96   53      PHP and MySQL Web Development (Developer's Library) 1008 \n",
              "204 3.96   150     Learning Python                                     1214 \n",
              "254 4.11   56      Modern Operating Systems, 4th Edition               1136 \n",
              "268 3.94   22      An Introduction to Database Systems                 1040 \n",
              "    type      price    \n",
              "87  Paperback  36.61765\n",
              "130 Paperback  45.32647\n",
              "204 Paperback  67.87353\n",
              "254 Paperback 103.46176\n",
              "268 Paperback 212.09706"
            ],
            "text/latex": "A data.frame: 5 × 6\n\\begin{tabular}{r|llllll}\n  & rating & reviews & title & pages & type & price\\\\\n  & <dbl> & <fct> & <fct> & <dbl> & <fct> & <dbl>\\\\\n\\hline\n\t87 & 3.22 & 2   & Beginning Java 2                                    & 1200 & Paperback &  36.61765\\\\\n\t130 & 3.96 & 53  & PHP and MySQL Web Development (Developer's Library) & 1008 & Paperback &  45.32647\\\\\n\t204 & 3.96 & 150 & Learning Python                                     & 1214 & Paperback &  67.87353\\\\\n\t254 & 4.11 & 56  & Modern Operating Systems, 4th Edition               & 1136 & Paperback & 103.46176\\\\\n\t268 & 3.94 & 22  & An Introduction to Database Systems                 & 1040 & Paperback & 212.09706\\\\\n\\end{tabular}\n",
            "text/markdown": "\nA data.frame: 5 × 6\n\n| <!--/--> | rating &lt;dbl&gt; | reviews &lt;fct&gt; | title &lt;fct&gt; | pages &lt;dbl&gt; | type &lt;fct&gt; | price &lt;dbl&gt; |\n|---|---|---|---|---|---|---|\n| 87 | 3.22 | 2   | Beginning Java 2                                    | 1200 | Paperback |  36.61765 |\n| 130 | 3.96 | 53  | PHP and MySQL Web Development (Developer's Library) | 1008 | Paperback |  45.32647 |\n| 204 | 3.96 | 150 | Learning Python                                     | 1214 | Paperback |  67.87353 |\n| 254 | 4.11 | 56  | Modern Operating Systems, 4th Edition               | 1136 | Paperback | 103.46176 |\n| 268 | 3.94 | 22  | An Introduction to Database Systems                 | 1040 | Paperback | 212.09706 |\n\n",
            "text/html": [
              "<table class=\"dataframe\">\n",
              "<caption>A data.frame: 5 × 6</caption>\n",
              "<thead>\n",
              "\t<tr><th></th><th scope=col>rating</th><th scope=col>reviews</th><th scope=col>title</th><th scope=col>pages</th><th scope=col>type</th><th scope=col>price</th></tr>\n",
              "\t<tr><th></th><th scope=col>&lt;dbl&gt;</th><th scope=col>&lt;fct&gt;</th><th scope=col>&lt;fct&gt;</th><th scope=col>&lt;dbl&gt;</th><th scope=col>&lt;fct&gt;</th><th scope=col>&lt;dbl&gt;</th></tr>\n",
              "</thead>\n",
              "<tbody>\n",
              "\t<tr><th scope=row>87</th><td>3.22</td><td>2  </td><td>Beginning Java 2                                   </td><td>1200</td><td>Paperback</td><td> 36.61765</td></tr>\n",
              "\t<tr><th scope=row>130</th><td>3.96</td><td>53 </td><td>PHP and MySQL Web Development (Developer's Library)</td><td>1008</td><td>Paperback</td><td> 45.32647</td></tr>\n",
              "\t<tr><th scope=row>204</th><td>3.96</td><td>150</td><td>Learning Python                                    </td><td>1214</td><td>Paperback</td><td> 67.87353</td></tr>\n",
              "\t<tr><th scope=row>254</th><td>4.11</td><td>56 </td><td>Modern Operating Systems, 4th Edition              </td><td>1136</td><td>Paperback</td><td>103.46176</td></tr>\n",
              "\t<tr><th scope=row>268</th><td>3.94</td><td>22 </td><td>An Introduction to Database Systems                </td><td>1040</td><td>Paperback</td><td>212.09706</td></tr>\n",
              "</tbody>\n",
              "</table>\n"
            ]
          },
          "metadata": {}
        }
      ]
    },
    {
      "cell_type": "markdown",
      "source": [
        "Правило может быть вынесено в отдельную переменную."
      ],
      "metadata": {
        "id": "OEFesmq0VYxd"
      }
    },
    {
      "cell_type": "code",
      "source": [
        "rule <- books$pages %in% c(256,288)\n",
        "head(books[rule,], n=5)"
      ],
      "metadata": {
        "colab": {
          "base_uri": "https://localhost:8080/",
          "height": 324
        },
        "id": "FL-_FN2wDh7Q",
        "outputId": "33c21ab5-aa58-46c9-b182-e66f9f705af3"
      },
      "execution_count": null,
      "outputs": [
        {
          "output_type": "display_data",
          "data": {
            "text/plain": [
              "   rating reviews\n",
              "6  3.84   117    \n",
              "7  4.09   5,938  \n",
              "16 3.95   417    \n",
              "29 3.96   1      \n",
              "85 3.83   278    \n",
              "   title                                                                      \n",
              "6  The Meme Machine                                                           \n",
              "7  Start with Why: How Great Leaders Inspire Everyone to Take Action          \n",
              "16 Kingpin: How One Hacker Took Over the Billion-Dollar Cybercrime Underground\n",
              "29 Computability and Unsolvability                                            \n",
              "85 Automate This: How Algorithms Came to Rule Our World                       \n",
              "   pages type      price   \n",
              "6  288   Paperback 14.18824\n",
              "7  256   Hardcover 14.23235\n",
              "16 288   Hardcover 16.07353\n",
              "29 288   Paperback 20.40000\n",
              "85 256   Hardcover 35.84118"
            ],
            "text/latex": "A data.frame: 5 × 6\n\\begin{tabular}{r|llllll}\n  & rating & reviews & title & pages & type & price\\\\\n  & <dbl> & <fct> & <fct> & <dbl> & <fct> & <dbl>\\\\\n\\hline\n\t6 & 3.84 & 117   & The Meme Machine                                                            & 288 & Paperback & 14.18824\\\\\n\t7 & 4.09 & 5,938 & Start with Why: How Great Leaders Inspire Everyone to Take Action           & 256 & Hardcover & 14.23235\\\\\n\t16 & 3.95 & 417   & Kingpin: How One Hacker Took Over the Billion-Dollar Cybercrime Underground & 288 & Hardcover & 16.07353\\\\\n\t29 & 3.96 & 1     & Computability and Unsolvability                                             & 288 & Paperback & 20.40000\\\\\n\t85 & 3.83 & 278   & Automate This: How Algorithms Came to Rule Our World                        & 256 & Hardcover & 35.84118\\\\\n\\end{tabular}\n",
            "text/markdown": "\nA data.frame: 5 × 6\n\n| <!--/--> | rating &lt;dbl&gt; | reviews &lt;fct&gt; | title &lt;fct&gt; | pages &lt;dbl&gt; | type &lt;fct&gt; | price &lt;dbl&gt; |\n|---|---|---|---|---|---|---|\n| 6 | 3.84 | 117   | The Meme Machine                                                            | 288 | Paperback | 14.18824 |\n| 7 | 4.09 | 5,938 | Start with Why: How Great Leaders Inspire Everyone to Take Action           | 256 | Hardcover | 14.23235 |\n| 16 | 3.95 | 417   | Kingpin: How One Hacker Took Over the Billion-Dollar Cybercrime Underground | 288 | Hardcover | 16.07353 |\n| 29 | 3.96 | 1     | Computability and Unsolvability                                             | 288 | Paperback | 20.40000 |\n| 85 | 3.83 | 278   | Automate This: How Algorithms Came to Rule Our World                        | 256 | Hardcover | 35.84118 |\n\n",
            "text/html": [
              "<table class=\"dataframe\">\n",
              "<caption>A data.frame: 5 × 6</caption>\n",
              "<thead>\n",
              "\t<tr><th></th><th scope=col>rating</th><th scope=col>reviews</th><th scope=col>title</th><th scope=col>pages</th><th scope=col>type</th><th scope=col>price</th></tr>\n",
              "\t<tr><th></th><th scope=col>&lt;dbl&gt;</th><th scope=col>&lt;fct&gt;</th><th scope=col>&lt;fct&gt;</th><th scope=col>&lt;dbl&gt;</th><th scope=col>&lt;fct&gt;</th><th scope=col>&lt;dbl&gt;</th></tr>\n",
              "</thead>\n",
              "<tbody>\n",
              "\t<tr><th scope=row>6</th><td>3.84</td><td>117  </td><td>The Meme Machine                                                           </td><td>288</td><td>Paperback</td><td>14.18824</td></tr>\n",
              "\t<tr><th scope=row>7</th><td>4.09</td><td>5,938</td><td>Start with Why: How Great Leaders Inspire Everyone to Take Action          </td><td>256</td><td>Hardcover</td><td>14.23235</td></tr>\n",
              "\t<tr><th scope=row>16</th><td>3.95</td><td>417  </td><td>Kingpin: How One Hacker Took Over the Billion-Dollar Cybercrime Underground</td><td>288</td><td>Hardcover</td><td>16.07353</td></tr>\n",
              "\t<tr><th scope=row>29</th><td>3.96</td><td>1    </td><td>Computability and Unsolvability                                            </td><td>288</td><td>Paperback</td><td>20.40000</td></tr>\n",
              "\t<tr><th scope=row>85</th><td>3.83</td><td>278  </td><td>Automate This: How Algorithms Came to Rule Our World                       </td><td>256</td><td>Hardcover</td><td>35.84118</td></tr>\n",
              "</tbody>\n",
              "</table>\n"
            ]
          },
          "metadata": {}
        }
      ]
    },
    {
      "cell_type": "markdown",
      "metadata": {
        "heading_collapsed": true,
        "id": "H-2zNvedtPxL"
      },
      "source": [
        "### Добавление столбцов"
      ]
    },
    {
      "cell_type": "code",
      "source": [
        "books_copy <- copy(books)"
      ],
      "metadata": {
        "id": "1gzt1N_yEYhZ"
      },
      "execution_count": null,
      "outputs": []
    },
    {
      "cell_type": "code",
      "source": [
        "books_copy$RoundedPrice <- round(books_copy$price)\n",
        "head(books_copy, n=3)"
      ],
      "metadata": {
        "colab": {
          "base_uri": "https://localhost:8080/",
          "height": 279
        },
        "id": "Ci54H4YXFcF7",
        "outputId": "716c2640-986e-438e-f797-0a5408c9aa17"
      },
      "execution_count": null,
      "outputs": [
        {
          "output_type": "display_data",
          "data": {
            "text/plain": [
              "  rating reviews title                                         pages\n",
              "1 4.17   3,829   The Elements of Style                         105  \n",
              "2 4.01   1,406   The Information: A History, a Theory, a Flood 527  \n",
              "3 3.33   0       Responsive Web Design Overview For Beginners   50  \n",
              "  type           price     RoundedPrice\n",
              "1 Hardcover       9.323529  9          \n",
              "2 Hardcover      11.000000 11          \n",
              "3 Kindle Edition 11.267647 11          "
            ],
            "text/latex": "A data.frame: 3 × 7\n\\begin{tabular}{r|lllllll}\n  & rating & reviews & title & pages & type & price & RoundedPrice\\\\\n  & <dbl> & <fct> & <fct> & <dbl> & <fct> & <dbl> & <dbl>\\\\\n\\hline\n\t1 & 4.17 & 3,829 & The Elements of Style                         & 105 & Hardcover      &  9.323529 &  9\\\\\n\t2 & 4.01 & 1,406 & The Information: A History, a Theory, a Flood & 527 & Hardcover      & 11.000000 & 11\\\\\n\t3 & 3.33 & 0     & Responsive Web Design Overview For Beginners  &  50 & Kindle Edition & 11.267647 & 11\\\\\n\\end{tabular}\n",
            "text/markdown": "\nA data.frame: 3 × 7\n\n| <!--/--> | rating &lt;dbl&gt; | reviews &lt;fct&gt; | title &lt;fct&gt; | pages &lt;dbl&gt; | type &lt;fct&gt; | price &lt;dbl&gt; | RoundedPrice &lt;dbl&gt; |\n|---|---|---|---|---|---|---|---|\n| 1 | 4.17 | 3,829 | The Elements of Style                         | 105 | Hardcover      |  9.323529 |  9 |\n| 2 | 4.01 | 1,406 | The Information: A History, a Theory, a Flood | 527 | Hardcover      | 11.000000 | 11 |\n| 3 | 3.33 | 0     | Responsive Web Design Overview For Beginners  |  50 | Kindle Edition | 11.267647 | 11 |\n\n",
            "text/html": [
              "<table class=\"dataframe\">\n",
              "<caption>A data.frame: 3 × 7</caption>\n",
              "<thead>\n",
              "\t<tr><th></th><th scope=col>rating</th><th scope=col>reviews</th><th scope=col>title</th><th scope=col>pages</th><th scope=col>type</th><th scope=col>price</th><th scope=col>RoundedPrice</th></tr>\n",
              "\t<tr><th></th><th scope=col>&lt;dbl&gt;</th><th scope=col>&lt;fct&gt;</th><th scope=col>&lt;fct&gt;</th><th scope=col>&lt;dbl&gt;</th><th scope=col>&lt;fct&gt;</th><th scope=col>&lt;dbl&gt;</th><th scope=col>&lt;dbl&gt;</th></tr>\n",
              "</thead>\n",
              "<tbody>\n",
              "\t<tr><th scope=row>1</th><td>4.17</td><td>3,829</td><td>The Elements of Style                        </td><td>105</td><td>Hardcover     </td><td> 9.323529</td><td> 9</td></tr>\n",
              "\t<tr><th scope=row>2</th><td>4.01</td><td>1,406</td><td>The Information: A History, a Theory, a Flood</td><td>527</td><td>Hardcover     </td><td>11.000000</td><td>11</td></tr>\n",
              "\t<tr><th scope=row>3</th><td>3.33</td><td>0    </td><td>Responsive Web Design Overview For Beginners </td><td> 50</td><td>Kindle Edition</td><td>11.267647</td><td>11</td></tr>\n",
              "</tbody>\n",
              "</table>\n"
            ]
          },
          "metadata": {}
        }
      ]
    },
    {
      "cell_type": "markdown",
      "metadata": {
        "heading_collapsed": true,
        "id": "jzM5wrgWtPzR"
      },
      "source": [
        "### Сортировка"
      ]
    },
    {
      "cell_type": "markdown",
      "source": [
        "Сортировка также производится через индексы, но с использованием функции order() для матриц и sort() для векторов."
      ],
      "metadata": {
        "id": "AY-jIIRVVt-2"
      }
    },
    {
      "cell_type": "code",
      "source": [
        "head(books[order(books$price, decreasing=TRUE),], n=5)"
      ],
      "metadata": {
        "colab": {
          "base_uri": "https://localhost:8080/",
          "height": 394
        },
        "id": "Apv5Xkt6Fj4R",
        "outputId": "0f46fa35-0d20-4399-8f0f-5657cb940923"
      },
      "execution_count": null,
      "outputs": [
        {
          "output_type": "display_data",
          "data": {
            "text/plain": [
              "    rating reviews\n",
              "271 3.84   5      \n",
              "269 4.49   36     \n",
              "270 4.77   4      \n",
              "268 3.94   22     \n",
              "267 3.76   0      \n",
              "    title                                                                                                                                    \n",
              "271 A Discipline for Software Engineering                                                                                                    \n",
              "269 The Art of Computer Programming, Volumes 1-3 Boxed Set                                                                                   \n",
              "270 The Art of Computer Programming, Volumes 1-4a Boxed Set                                                                                  \n",
              "268 An Introduction to Database Systems                                                                                                      \n",
              "267 3D Game Engine Architecture: Engineering Real-Time Applications with Wild Magic (The Morgan Kaufmann Series in Interactive 3d Technology)\n",
              "    pages type                  price   \n",
              "271  789  Hardcover             235.6500\n",
              "269  896  Boxed Set - Hardcover 220.3853\n",
              "270 3168  Hardcover             220.3853\n",
              "268 1040  Paperback             212.0971\n",
              "267  752  Hardcover             203.1088"
            ],
            "text/latex": "A data.frame: 5 × 6\n\\begin{tabular}{r|llllll}\n  & rating & reviews & title & pages & type & price\\\\\n  & <dbl> & <fct> & <fct> & <dbl> & <fct> & <dbl>\\\\\n\\hline\n\t271 & 3.84 & 5  & A Discipline for Software Engineering                                                                                                     &  789 & Hardcover             & 235.6500\\\\\n\t269 & 4.49 & 36 & The Art of Computer Programming, Volumes 1-3 Boxed Set                                                                                    &  896 & Boxed Set - Hardcover & 220.3853\\\\\n\t270 & 4.77 & 4  & The Art of Computer Programming, Volumes 1-4a Boxed Set                                                                                   & 3168 & Hardcover             & 220.3853\\\\\n\t268 & 3.94 & 22 & An Introduction to Database Systems                                                                                                       & 1040 & Paperback             & 212.0971\\\\\n\t267 & 3.76 & 0  & 3D Game Engine Architecture: Engineering Real-Time Applications with Wild Magic (The Morgan Kaufmann Series in Interactive 3d Technology) &  752 & Hardcover             & 203.1088\\\\\n\\end{tabular}\n",
            "text/markdown": "\nA data.frame: 5 × 6\n\n| <!--/--> | rating &lt;dbl&gt; | reviews &lt;fct&gt; | title &lt;fct&gt; | pages &lt;dbl&gt; | type &lt;fct&gt; | price &lt;dbl&gt; |\n|---|---|---|---|---|---|---|\n| 271 | 3.84 | 5  | A Discipline for Software Engineering                                                                                                     |  789 | Hardcover             | 235.6500 |\n| 269 | 4.49 | 36 | The Art of Computer Programming, Volumes 1-3 Boxed Set                                                                                    |  896 | Boxed Set - Hardcover | 220.3853 |\n| 270 | 4.77 | 4  | The Art of Computer Programming, Volumes 1-4a Boxed Set                                                                                   | 3168 | Hardcover             | 220.3853 |\n| 268 | 3.94 | 22 | An Introduction to Database Systems                                                                                                       | 1040 | Paperback             | 212.0971 |\n| 267 | 3.76 | 0  | 3D Game Engine Architecture: Engineering Real-Time Applications with Wild Magic (The Morgan Kaufmann Series in Interactive 3d Technology) |  752 | Hardcover             | 203.1088 |\n\n",
            "text/html": [
              "<table class=\"dataframe\">\n",
              "<caption>A data.frame: 5 × 6</caption>\n",
              "<thead>\n",
              "\t<tr><th></th><th scope=col>rating</th><th scope=col>reviews</th><th scope=col>title</th><th scope=col>pages</th><th scope=col>type</th><th scope=col>price</th></tr>\n",
              "\t<tr><th></th><th scope=col>&lt;dbl&gt;</th><th scope=col>&lt;fct&gt;</th><th scope=col>&lt;fct&gt;</th><th scope=col>&lt;dbl&gt;</th><th scope=col>&lt;fct&gt;</th><th scope=col>&lt;dbl&gt;</th></tr>\n",
              "</thead>\n",
              "<tbody>\n",
              "\t<tr><th scope=row>271</th><td>3.84</td><td>5 </td><td>A Discipline for Software Engineering                                                                                                    </td><td> 789</td><td>Hardcover            </td><td>235.6500</td></tr>\n",
              "\t<tr><th scope=row>269</th><td>4.49</td><td>36</td><td>The Art of Computer Programming, Volumes 1-3 Boxed Set                                                                                   </td><td> 896</td><td>Boxed Set - Hardcover</td><td>220.3853</td></tr>\n",
              "\t<tr><th scope=row>270</th><td>4.77</td><td>4 </td><td>The Art of Computer Programming, Volumes 1-4a Boxed Set                                                                                  </td><td>3168</td><td>Hardcover            </td><td>220.3853</td></tr>\n",
              "\t<tr><th scope=row>268</th><td>3.94</td><td>22</td><td>An Introduction to Database Systems                                                                                                      </td><td>1040</td><td>Paperback            </td><td>212.0971</td></tr>\n",
              "\t<tr><th scope=row>267</th><td>3.76</td><td>0 </td><td>3D Game Engine Architecture: Engineering Real-Time Applications with Wild Magic (The Morgan Kaufmann Series in Interactive 3d Technology)</td><td> 752</td><td>Hardcover            </td><td>203.1088</td></tr>\n",
              "</tbody>\n",
              "</table>\n"
            ]
          },
          "metadata": {}
        }
      ]
    },
    {
      "cell_type": "markdown",
      "metadata": {
        "heading_collapsed": true,
        "hidden": true,
        "id": "NRLFYMgftPz8"
      },
      "source": [
        "#### наименьшее / наибольшее значение"
      ]
    },
    {
      "cell_type": "code",
      "source": [
        "max(books$price)"
      ],
      "metadata": {
        "colab": {
          "base_uri": "https://localhost:8080/",
          "height": 34
        },
        "id": "SgvSlPGgGylD",
        "outputId": "3bfaa746-cc8d-4dba-b49a-f0dff2f117da"
      },
      "execution_count": null,
      "outputs": [
        {
          "output_type": "display_data",
          "data": {
            "text/plain": [
              "[1] 235.65"
            ],
            "text/latex": "235.65",
            "text/markdown": "235.65",
            "text/html": [
              "235.65"
            ]
          },
          "metadata": {}
        }
      ]
    },
    {
      "cell_type": "code",
      "source": [
        "min(books$pages)"
      ],
      "metadata": {
        "colab": {
          "base_uri": "https://localhost:8080/",
          "height": 34
        },
        "id": "xre5kaRxHFNA",
        "outputId": "bc06dd59-90c4-4a9c-b7da-fcf805f0a880"
      },
      "execution_count": null,
      "outputs": [
        {
          "output_type": "display_data",
          "data": {
            "text/plain": [
              "[1] 50"
            ],
            "text/latex": "50",
            "text/markdown": "50",
            "text/html": [
              "50"
            ]
          },
          "metadata": {}
        }
      ]
    },
    {
      "cell_type": "markdown",
      "source": [
        "Отобрать топ значений принзнака в R несколько сложнее, чем в pandas. Снова нужно прибегать к логике срезов и индексов."
      ],
      "metadata": {
        "id": "NsQE-AEKWCjS"
      }
    },
    {
      "cell_type": "code",
      "source": [
        "books[books$rating %in% sort(books$rating)[1:5],]"
      ],
      "metadata": {
        "colab": {
          "base_uri": "https://localhost:8080/",
          "height": 324
        },
        "id": "1VaGFNGRHHrp",
        "outputId": "22be08d3-da54-483c-b5ec-8fbf267afd1d"
      },
      "execution_count": null,
      "outputs": [
        {
          "output_type": "display_data",
          "data": {
            "text/plain": [
              "    rating reviews\n",
              "25  3.20   0      \n",
              "87  3.22   2      \n",
              "178 3.00   0      \n",
              "183 3.00   0      \n",
              "188 3.00   0      \n",
              "    title                                                                                    \n",
              "25  Game Programming Golden Rules                                                            \n",
              "87  Beginning Java 2                                                                         \n",
              "178 Advanced Game Programming: A Gamedev.Net Collection                                      \n",
              "183 Cross-Platform Game Programming (Game Development) (Charles River Media Game Development)\n",
              "188 Lambda-Calculus, Combinators and Functional Programming                                  \n",
              "    pages type      price   \n",
              "25   318  Paperback 19.15294\n",
              "87  1200  Paperback 36.61765\n",
              "178  464  Paperback 59.08235\n",
              "183  460  Paperback 60.39118\n",
              "188  192  Paperback 61.16765"
            ],
            "text/latex": "A data.frame: 5 × 6\n\\begin{tabular}{r|llllll}\n  & rating & reviews & title & pages & type & price\\\\\n  & <dbl> & <fct> & <fct> & <dbl> & <fct> & <dbl>\\\\\n\\hline\n\t25 & 3.20 & 0 & Game Programming Golden Rules                                                             &  318 & Paperback & 19.15294\\\\\n\t87 & 3.22 & 2 & Beginning Java 2                                                                          & 1200 & Paperback & 36.61765\\\\\n\t178 & 3.00 & 0 & Advanced Game Programming: A Gamedev.Net Collection                                       &  464 & Paperback & 59.08235\\\\\n\t183 & 3.00 & 0 & Cross-Platform Game Programming (Game Development) (Charles River Media Game Development) &  460 & Paperback & 60.39118\\\\\n\t188 & 3.00 & 0 & Lambda-Calculus, Combinators and Functional Programming                                   &  192 & Paperback & 61.16765\\\\\n\\end{tabular}\n",
            "text/markdown": "\nA data.frame: 5 × 6\n\n| <!--/--> | rating &lt;dbl&gt; | reviews &lt;fct&gt; | title &lt;fct&gt; | pages &lt;dbl&gt; | type &lt;fct&gt; | price &lt;dbl&gt; |\n|---|---|---|---|---|---|---|\n| 25 | 3.20 | 0 | Game Programming Golden Rules                                                             |  318 | Paperback | 19.15294 |\n| 87 | 3.22 | 2 | Beginning Java 2                                                                          | 1200 | Paperback | 36.61765 |\n| 178 | 3.00 | 0 | Advanced Game Programming: A Gamedev.Net Collection                                       |  464 | Paperback | 59.08235 |\n| 183 | 3.00 | 0 | Cross-Platform Game Programming (Game Development) (Charles River Media Game Development) |  460 | Paperback | 60.39118 |\n| 188 | 3.00 | 0 | Lambda-Calculus, Combinators and Functional Programming                                   |  192 | Paperback | 61.16765 |\n\n",
            "text/html": [
              "<table class=\"dataframe\">\n",
              "<caption>A data.frame: 5 × 6</caption>\n",
              "<thead>\n",
              "\t<tr><th></th><th scope=col>rating</th><th scope=col>reviews</th><th scope=col>title</th><th scope=col>pages</th><th scope=col>type</th><th scope=col>price</th></tr>\n",
              "\t<tr><th></th><th scope=col>&lt;dbl&gt;</th><th scope=col>&lt;fct&gt;</th><th scope=col>&lt;fct&gt;</th><th scope=col>&lt;dbl&gt;</th><th scope=col>&lt;fct&gt;</th><th scope=col>&lt;dbl&gt;</th></tr>\n",
              "</thead>\n",
              "<tbody>\n",
              "\t<tr><th scope=row>25</th><td>3.20</td><td>0</td><td>Game Programming Golden Rules                                                            </td><td> 318</td><td>Paperback</td><td>19.15294</td></tr>\n",
              "\t<tr><th scope=row>87</th><td>3.22</td><td>2</td><td>Beginning Java 2                                                                         </td><td>1200</td><td>Paperback</td><td>36.61765</td></tr>\n",
              "\t<tr><th scope=row>178</th><td>3.00</td><td>0</td><td>Advanced Game Programming: A Gamedev.Net Collection                                      </td><td> 464</td><td>Paperback</td><td>59.08235</td></tr>\n",
              "\t<tr><th scope=row>183</th><td>3.00</td><td>0</td><td>Cross-Platform Game Programming (Game Development) (Charles River Media Game Development)</td><td> 460</td><td>Paperback</td><td>60.39118</td></tr>\n",
              "\t<tr><th scope=row>188</th><td>3.00</td><td>0</td><td>Lambda-Calculus, Combinators and Functional Programming                                  </td><td> 192</td><td>Paperback</td><td>61.16765</td></tr>\n",
              "</tbody>\n",
              "</table>\n"
            ]
          },
          "metadata": {}
        }
      ]
    },
    {
      "cell_type": "code",
      "source": [
        "books[books$rating %in% sort(books$rating, decreasing=TRUE)[-6:-nrow(books)],]"
      ],
      "metadata": {
        "colab": {
          "base_uri": "https://localhost:8080/",
          "height": 376
        },
        "id": "ikIkfCzTHJbd",
        "outputId": "48fee02e-64bf-46e3-d980-4f32688ecedd"
      },
      "execution_count": null,
      "outputs": [
        {
          "output_type": "display_data",
          "data": {
            "text/plain": [
              "    rating reviews\n",
              "55  5.00   0      \n",
              "115 4.67   1      \n",
              "132 4.72   362    \n",
              "195 4.67   78     \n",
              "270 4.77   4      \n",
              "    title                                                                                                   \n",
              "55  Your First App: Node.js                                                                                 \n",
              "115 Build Web Applications with Java: Learn every aspect to build web applications from scratch             \n",
              "132 Designing Data-Intensive Applications: The Big Ideas Behind Reliable, Scalable, and Maintainable Systems\n",
              "195 Fluent Python: Clear, Concise, and Effective Programming                                                \n",
              "270 The Art of Computer Programming, Volumes 1-4a Boxed Set                                                 \n",
              "    pages type      price    \n",
              "55   317  ebook      25.85588\n",
              "115  372  Paperback  42.27647\n",
              "132  616  Paperback  45.56176\n",
              "195  792  Paperback  64.09118\n",
              "270 3168  Hardcover 220.38529"
            ],
            "text/latex": "A data.frame: 5 × 6\n\\begin{tabular}{r|llllll}\n  & rating & reviews & title & pages & type & price\\\\\n  & <dbl> & <fct> & <fct> & <dbl> & <fct> & <dbl>\\\\\n\\hline\n\t55 & 5.00 & 0   & Your First App: Node.js                                                                                  &  317 & ebook     &  25.85588\\\\\n\t115 & 4.67 & 1   & Build Web Applications with Java: Learn every aspect to build web applications from scratch              &  372 & Paperback &  42.27647\\\\\n\t132 & 4.72 & 362 & Designing Data-Intensive Applications: The Big Ideas Behind Reliable, Scalable, and Maintainable Systems &  616 & Paperback &  45.56176\\\\\n\t195 & 4.67 & 78  & Fluent Python: Clear, Concise, and Effective Programming                                                 &  792 & Paperback &  64.09118\\\\\n\t270 & 4.77 & 4   & The Art of Computer Programming, Volumes 1-4a Boxed Set                                                  & 3168 & Hardcover & 220.38529\\\\\n\\end{tabular}\n",
            "text/markdown": "\nA data.frame: 5 × 6\n\n| <!--/--> | rating &lt;dbl&gt; | reviews &lt;fct&gt; | title &lt;fct&gt; | pages &lt;dbl&gt; | type &lt;fct&gt; | price &lt;dbl&gt; |\n|---|---|---|---|---|---|---|\n| 55 | 5.00 | 0   | Your First App: Node.js                                                                                  |  317 | ebook     |  25.85588 |\n| 115 | 4.67 | 1   | Build Web Applications with Java: Learn every aspect to build web applications from scratch              |  372 | Paperback |  42.27647 |\n| 132 | 4.72 | 362 | Designing Data-Intensive Applications: The Big Ideas Behind Reliable, Scalable, and Maintainable Systems |  616 | Paperback |  45.56176 |\n| 195 | 4.67 | 78  | Fluent Python: Clear, Concise, and Effective Programming                                                 |  792 | Paperback |  64.09118 |\n| 270 | 4.77 | 4   | The Art of Computer Programming, Volumes 1-4a Boxed Set                                                  | 3168 | Hardcover | 220.38529 |\n\n",
            "text/html": [
              "<table class=\"dataframe\">\n",
              "<caption>A data.frame: 5 × 6</caption>\n",
              "<thead>\n",
              "\t<tr><th></th><th scope=col>rating</th><th scope=col>reviews</th><th scope=col>title</th><th scope=col>pages</th><th scope=col>type</th><th scope=col>price</th></tr>\n",
              "\t<tr><th></th><th scope=col>&lt;dbl&gt;</th><th scope=col>&lt;fct&gt;</th><th scope=col>&lt;fct&gt;</th><th scope=col>&lt;dbl&gt;</th><th scope=col>&lt;fct&gt;</th><th scope=col>&lt;dbl&gt;</th></tr>\n",
              "</thead>\n",
              "<tbody>\n",
              "\t<tr><th scope=row>55</th><td>5.00</td><td>0  </td><td>Your First App: Node.js                                                                                 </td><td> 317</td><td>ebook    </td><td> 25.85588</td></tr>\n",
              "\t<tr><th scope=row>115</th><td>4.67</td><td>1  </td><td>Build Web Applications with Java: Learn every aspect to build web applications from scratch             </td><td> 372</td><td>Paperback</td><td> 42.27647</td></tr>\n",
              "\t<tr><th scope=row>132</th><td>4.72</td><td>362</td><td>Designing Data-Intensive Applications: The Big Ideas Behind Reliable, Scalable, and Maintainable Systems</td><td> 616</td><td>Paperback</td><td> 45.56176</td></tr>\n",
              "\t<tr><th scope=row>195</th><td>4.67</td><td>78 </td><td>Fluent Python: Clear, Concise, and Effective Programming                                                </td><td> 792</td><td>Paperback</td><td> 64.09118</td></tr>\n",
              "\t<tr><th scope=row>270</th><td>4.77</td><td>4  </td><td>The Art of Computer Programming, Volumes 1-4a Boxed Set                                                 </td><td>3168</td><td>Hardcover</td><td>220.38529</td></tr>\n",
              "</tbody>\n",
              "</table>\n"
            ]
          },
          "metadata": {}
        }
      ]
    },
    {
      "cell_type": "markdown",
      "metadata": {
        "id": "4A9E17HdfVW_"
      },
      "source": [
        "# Обработка пустых значений"
      ]
    },
    {
      "cell_type": "markdown",
      "metadata": {
        "hidden": true,
        "id": "dxF_HjiVaV4k"
      },
      "source": [
        "создаем датафрейм с 5 строками и 3 столбцами"
      ]
    },
    {
      "cell_type": "code",
      "source": [
        "df <- data.frame(c1=c(0,3,6,9,12,15,NaN), \n",
        "                 c2=c(1,4,7,10,13,16,NaN), \n",
        "                 c3=c(2,5,8,11,14,17,NaN),\n",
        "                 c4=c(20,NaN,NaN,NaN,NaN,18,NaN),\n",
        "                 c5=c(NaN,NaN,NaN,NaN,NaN,NaN,NaN))\n",
        "df"
      ],
      "metadata": {
        "colab": {
          "base_uri": "https://localhost:8080/",
          "height": 317
        },
        "id": "F20mMRCGJJ4w",
        "outputId": "558a828c-1579-48c2-a365-c82f3ce4b27f"
      },
      "execution_count": null,
      "outputs": [
        {
          "output_type": "display_data",
          "data": {
            "text/plain": [
              "  c1  c2  c3  c4  c5 \n",
              "1   0   1   2  20 NaN\n",
              "2   3   4   5 NaN NaN\n",
              "3   6   7   8 NaN NaN\n",
              "4   9  10  11 NaN NaN\n",
              "5  12  13  14 NaN NaN\n",
              "6  15  16  17  18 NaN\n",
              "7 NaN NaN NaN NaN NaN"
            ],
            "text/latex": "A data.frame: 7 × 5\n\\begin{tabular}{lllll}\n c1 & c2 & c3 & c4 & c5\\\\\n <dbl> & <dbl> & <dbl> & <dbl> & <dbl>\\\\\n\\hline\n\t   0 &   1 &   2 &  20 & NaN\\\\\n\t   3 &   4 &   5 & NaN & NaN\\\\\n\t   6 &   7 &   8 & NaN & NaN\\\\\n\t   9 &  10 &  11 & NaN & NaN\\\\\n\t  12 &  13 &  14 & NaN & NaN\\\\\n\t  15 &  16 &  17 &  18 & NaN\\\\\n\t NaN & NaN & NaN & NaN & NaN\\\\\n\\end{tabular}\n",
            "text/markdown": "\nA data.frame: 7 × 5\n\n| c1 &lt;dbl&gt; | c2 &lt;dbl&gt; | c3 &lt;dbl&gt; | c4 &lt;dbl&gt; | c5 &lt;dbl&gt; |\n|---|---|---|---|---|\n|   0 |   1 |   2 |  20 | NaN |\n|   3 |   4 |   5 | NaN | NaN |\n|   6 |   7 |   8 | NaN | NaN |\n|   9 |  10 |  11 | NaN | NaN |\n|  12 |  13 |  14 | NaN | NaN |\n|  15 |  16 |  17 |  18 | NaN |\n| NaN | NaN | NaN | NaN | NaN |\n\n",
            "text/html": [
              "<table class=\"dataframe\">\n",
              "<caption>A data.frame: 7 × 5</caption>\n",
              "<thead>\n",
              "\t<tr><th scope=col>c1</th><th scope=col>c2</th><th scope=col>c3</th><th scope=col>c4</th><th scope=col>c5</th></tr>\n",
              "\t<tr><th scope=col>&lt;dbl&gt;</th><th scope=col>&lt;dbl&gt;</th><th scope=col>&lt;dbl&gt;</th><th scope=col>&lt;dbl&gt;</th><th scope=col>&lt;dbl&gt;</th></tr>\n",
              "</thead>\n",
              "<tbody>\n",
              "\t<tr><td>  0</td><td>  1</td><td>  2</td><td> 20</td><td>NaN</td></tr>\n",
              "\t<tr><td>  3</td><td>  4</td><td>  5</td><td>NaN</td><td>NaN</td></tr>\n",
              "\t<tr><td>  6</td><td>  7</td><td>  8</td><td>NaN</td><td>NaN</td></tr>\n",
              "\t<tr><td>  9</td><td> 10</td><td> 11</td><td>NaN</td><td>NaN</td></tr>\n",
              "\t<tr><td> 12</td><td> 13</td><td> 14</td><td>NaN</td><td>NaN</td></tr>\n",
              "\t<tr><td> 15</td><td> 16</td><td> 17</td><td> 18</td><td>NaN</td></tr>\n",
              "\t<tr><td>NaN</td><td>NaN</td><td>NaN</td><td>NaN</td><td>NaN</td></tr>\n",
              "</tbody>\n",
              "</table>\n"
            ]
          },
          "metadata": {}
        }
      ]
    },
    {
      "cell_type": "markdown",
      "source": [
        "Найдем все пустые ячейки."
      ],
      "metadata": {
        "id": "3fOq_R6aWUTt"
      }
    },
    {
      "cell_type": "code",
      "source": [
        "is.na(df)"
      ],
      "metadata": {
        "colab": {
          "base_uri": "https://localhost:8080/",
          "height": 286
        },
        "id": "de08SMbPLUR_",
        "outputId": "d45a4053-1a5e-4003-adbc-971240ad3e1f"
      },
      "execution_count": null,
      "outputs": [
        {
          "output_type": "display_data",
          "data": {
            "text/plain": [
              "     c1    c2    c3    c4    c5  \n",
              "[1,] FALSE FALSE FALSE FALSE TRUE\n",
              "[2,] FALSE FALSE FALSE  TRUE TRUE\n",
              "[3,] FALSE FALSE FALSE  TRUE TRUE\n",
              "[4,] FALSE FALSE FALSE  TRUE TRUE\n",
              "[5,] FALSE FALSE FALSE  TRUE TRUE\n",
              "[6,] FALSE FALSE FALSE FALSE TRUE\n",
              "[7,]  TRUE  TRUE  TRUE  TRUE TRUE"
            ],
            "text/latex": "A matrix: 7 × 5 of type lgl\n\\begin{tabular}{lllll}\n c1 & c2 & c3 & c4 & c5\\\\\n\\hline\n\t FALSE & FALSE & FALSE & FALSE & TRUE\\\\\n\t FALSE & FALSE & FALSE &  TRUE & TRUE\\\\\n\t FALSE & FALSE & FALSE &  TRUE & TRUE\\\\\n\t FALSE & FALSE & FALSE &  TRUE & TRUE\\\\\n\t FALSE & FALSE & FALSE &  TRUE & TRUE\\\\\n\t FALSE & FALSE & FALSE & FALSE & TRUE\\\\\n\t  TRUE &  TRUE &  TRUE &  TRUE & TRUE\\\\\n\\end{tabular}\n",
            "text/markdown": "\nA matrix: 7 × 5 of type lgl\n\n| c1 | c2 | c3 | c4 | c5 |\n|---|---|---|---|---|\n| FALSE | FALSE | FALSE | FALSE | TRUE |\n| FALSE | FALSE | FALSE |  TRUE | TRUE |\n| FALSE | FALSE | FALSE |  TRUE | TRUE |\n| FALSE | FALSE | FALSE |  TRUE | TRUE |\n| FALSE | FALSE | FALSE |  TRUE | TRUE |\n| FALSE | FALSE | FALSE | FALSE | TRUE |\n|  TRUE |  TRUE |  TRUE |  TRUE | TRUE |\n\n",
            "text/html": [
              "<table class=\"dataframe\">\n",
              "<caption>A matrix: 7 × 5 of type lgl</caption>\n",
              "<thead>\n",
              "\t<tr><th scope=col>c1</th><th scope=col>c2</th><th scope=col>c3</th><th scope=col>c4</th><th scope=col>c5</th></tr>\n",
              "</thead>\n",
              "<tbody>\n",
              "\t<tr><td>FALSE</td><td>FALSE</td><td>FALSE</td><td>FALSE</td><td>TRUE</td></tr>\n",
              "\t<tr><td>FALSE</td><td>FALSE</td><td>FALSE</td><td> TRUE</td><td>TRUE</td></tr>\n",
              "\t<tr><td>FALSE</td><td>FALSE</td><td>FALSE</td><td> TRUE</td><td>TRUE</td></tr>\n",
              "\t<tr><td>FALSE</td><td>FALSE</td><td>FALSE</td><td> TRUE</td><td>TRUE</td></tr>\n",
              "\t<tr><td>FALSE</td><td>FALSE</td><td>FALSE</td><td> TRUE</td><td>TRUE</td></tr>\n",
              "\t<tr><td>FALSE</td><td>FALSE</td><td>FALSE</td><td>FALSE</td><td>TRUE</td></tr>\n",
              "\t<tr><td> TRUE</td><td> TRUE</td><td> TRUE</td><td> TRUE</td><td>TRUE</td></tr>\n",
              "</tbody>\n",
              "</table>\n"
            ]
          },
          "metadata": {}
        }
      ]
    },
    {
      "cell_type": "markdown",
      "source": [
        "Посчитаем количество пустых ячеек в каждом столбце и выведем в формате таблицы."
      ],
      "metadata": {
        "id": "lX3D2TZtWXGe"
      }
    },
    {
      "cell_type": "code",
      "source": [
        "t(colSums(is.na(df)))"
      ],
      "metadata": {
        "colab": {
          "base_uri": "https://localhost:8080/",
          "height": 115
        },
        "id": "aNA07DiHLZY8",
        "outputId": "b30d2cc1-e5cc-4bd2-d600-ea5a6f639a1d"
      },
      "execution_count": null,
      "outputs": [
        {
          "output_type": "display_data",
          "data": {
            "text/plain": [
              "     c1 c2 c3 c4 c5\n",
              "[1,] 1  1  1  5  7 "
            ],
            "text/latex": "A matrix: 1 × 5 of type dbl\n\\begin{tabular}{lllll}\n c1 & c2 & c3 & c4 & c5\\\\\n\\hline\n\t 1 & 1 & 1 & 5 & 7\\\\\n\\end{tabular}\n",
            "text/markdown": "\nA matrix: 1 × 5 of type dbl\n\n| c1 | c2 | c3 | c4 | c5 |\n|---|---|---|---|---|\n| 1 | 1 | 1 | 5 | 7 |\n\n",
            "text/html": [
              "<table class=\"dataframe\">\n",
              "<caption>A matrix: 1 × 5 of type dbl</caption>\n",
              "<thead>\n",
              "\t<tr><th scope=col>c1</th><th scope=col>c2</th><th scope=col>c3</th><th scope=col>c4</th><th scope=col>c5</th></tr>\n",
              "</thead>\n",
              "<tbody>\n",
              "\t<tr><td>1</td><td>1</td><td>1</td><td>5</td><td>7</td></tr>\n",
              "</tbody>\n",
              "</table>\n"
            ]
          },
          "metadata": {}
        }
      ]
    },
    {
      "cell_type": "markdown",
      "source": [
        "Посчитаем количество непустых ячеек в каждом столбце и выведем в формате таблицы."
      ],
      "metadata": {
        "id": "skS0vFHDWeQj"
      }
    },
    {
      "cell_type": "code",
      "source": [
        "t(colSums(!is.na(df)))"
      ],
      "metadata": {
        "colab": {
          "base_uri": "https://localhost:8080/",
          "height": 115
        },
        "id": "O26h3OLoLb1k",
        "outputId": "735c9cb2-76cf-48a2-8065-7ccd6919fe13"
      },
      "execution_count": null,
      "outputs": [
        {
          "output_type": "display_data",
          "data": {
            "text/plain": [
              "     c1 c2 c3 c4 c5\n",
              "[1,] 6  6  6  2  0 "
            ],
            "text/latex": "A matrix: 1 × 5 of type dbl\n\\begin{tabular}{lllll}\n c1 & c2 & c3 & c4 & c5\\\\\n\\hline\n\t 6 & 6 & 6 & 2 & 0\\\\\n\\end{tabular}\n",
            "text/markdown": "\nA matrix: 1 × 5 of type dbl\n\n| c1 | c2 | c3 | c4 | c5 |\n|---|---|---|---|---|\n| 6 | 6 | 6 | 2 | 0 |\n\n",
            "text/html": [
              "<table class=\"dataframe\">\n",
              "<caption>A matrix: 1 × 5 of type dbl</caption>\n",
              "<thead>\n",
              "\t<tr><th scope=col>c1</th><th scope=col>c2</th><th scope=col>c3</th><th scope=col>c4</th><th scope=col>c5</th></tr>\n",
              "</thead>\n",
              "<tbody>\n",
              "\t<tr><td>6</td><td>6</td><td>6</td><td>2</td><td>0</td></tr>\n",
              "</tbody>\n",
              "</table>\n"
            ]
          },
          "metadata": {}
        }
      ]
    },
    {
      "cell_type": "markdown",
      "metadata": {
        "id": "5AvTIVWBETQf"
      },
      "source": [
        "# Сводка статистик"
      ]
    },
    {
      "cell_type": "markdown",
      "metadata": {
        "id": "ohXtAxl5ETQh"
      },
      "source": [
        "Получаем сводку статистик для датафрейма. Это не датафрейм, но обращаться по индексу к отдельным столбцам и строкам в них можно."
      ]
    },
    {
      "cell_type": "code",
      "source": [
        "summary(books)"
      ],
      "metadata": {
        "colab": {
          "base_uri": "https://localhost:8080/",
          "height": 465
        },
        "id": "gWZFzbWKMQNo",
        "outputId": "f6e79ed7-c7c9-4db3-b163-b7028c67e2f7"
      },
      "execution_count": null,
      "outputs": [
        {
          "output_type": "display_data",
          "data": {
            "text/plain": [
              "     rating         reviews   \n",
              " Min.   :3.000   0      : 22  \n",
              " 1st Qu.:3.915   1      : 16  \n",
              " Median :4.100   2      :  8  \n",
              " Mean   :4.067   3      :  8  \n",
              " 3rd Qu.:4.250   11     :  7  \n",
              " Max.   :5.000   4      :  7  \n",
              "                 (Other):203  \n",
              "                                                                                                                                       title    \n",
              " 3D Game Engine Architecture: Engineering Real-Time Applications with Wild Magic (The Morgan Kaufmann Series in Interactive 3d Technology):  1  \n",
              " 3D Game Engine Design: A Practical Approach to Real-Time Computer Graphics (The Morgan Kaufmann Series in Interactive 3D Technology)     :  1  \n",
              " 3D Math Primer for Graphics and Game Development                                                                                         :  1  \n",
              " 97 Things Every Programmer Should Know: Collective Wisdom from the Experts                                                               :  1  \n",
              " A Discipline for Software Engineering                                                                                                    :  1  \n",
              " A First Course in Logic: An Introduction to Model Theory, Proof Theory, Computability, and Complexity                                    :  1  \n",
              " (Other)                                                                                                                                  :265  \n",
              "     pages                           type         price        \n",
              " Min.   :  50.0   Boxed Set - Hardcover:  1   Min.   :  9.324  \n",
              " 1st Qu.: 289.0   ebook                :  7   1st Qu.: 30.751  \n",
              " Median : 384.0   Hardcover            : 95   Median : 46.318  \n",
              " Mean   : 475.1   Kindle Edition       : 10   Mean   : 54.542  \n",
              " 3rd Qu.: 572.5   Paperback            :156   3rd Qu.: 67.854  \n",
              " Max.   :3168.0   Unknown Binding      :  2   Max.   :235.650  \n",
              "                                                               "
            ]
          },
          "metadata": {}
        }
      ]
    },
    {
      "cell_type": "code",
      "source": [
        "t(summary(books$type))"
      ],
      "metadata": {
        "colab": {
          "base_uri": "https://localhost:8080/",
          "height": 115
        },
        "id": "QEnlfM1BNK8F",
        "outputId": "a979c88d-3bcd-4663-df86-1a54461c88d9"
      },
      "execution_count": null,
      "outputs": [
        {
          "output_type": "display_data",
          "data": {
            "text/plain": [
              "     Boxed Set - Hardcover ebook Hardcover Kindle Edition Paperback\n",
              "[1,] 1                     7     95        10             156      \n",
              "     Unknown Binding\n",
              "[1,] 2              "
            ],
            "text/latex": "A matrix: 1 × 6 of type int\n\\begin{tabular}{llllll}\n Boxed Set - Hardcover & ebook & Hardcover & Kindle Edition & Paperback & Unknown Binding\\\\\n\\hline\n\t 1 & 7 & 95 & 10 & 156 & 2\\\\\n\\end{tabular}\n",
            "text/markdown": "\nA matrix: 1 × 6 of type int\n\n| Boxed Set - Hardcover | ebook | Hardcover | Kindle Edition | Paperback | Unknown Binding |\n|---|---|---|---|---|---|\n| 1 | 7 | 95 | 10 | 156 | 2 |\n\n",
            "text/html": [
              "<table class=\"dataframe\">\n",
              "<caption>A matrix: 1 × 6 of type int</caption>\n",
              "<thead>\n",
              "\t<tr><th scope=col>Boxed Set - Hardcover</th><th scope=col>ebook</th><th scope=col>Hardcover</th><th scope=col>Kindle Edition</th><th scope=col>Paperback</th><th scope=col>Unknown Binding</th></tr>\n",
              "</thead>\n",
              "<tbody>\n",
              "\t<tr><td>1</td><td>7</td><td>95</td><td>10</td><td>156</td><td>2</td></tr>\n",
              "</tbody>\n",
              "</table>\n"
            ]
          },
          "metadata": {}
        }
      ]
    },
    {
      "cell_type": "markdown",
      "metadata": {
        "heading_collapsed": true,
        "id": "OQr-Hl9zETSD"
      },
      "source": [
        "### Арифметические операции"
      ]
    },
    {
      "cell_type": "markdown",
      "metadata": {
        "hidden": true,
        "id": "gaXY08yIETSM"
      },
      "source": [
        "- задаем стартовое значение генератора случайных чисел для получения воспроизводимых результатов\n",
        "- создаем объект DataFrame"
      ]
    },
    {
      "cell_type": "code",
      "source": [
        "df <- data.frame(A=runif(n=5, min=-10, max=10),\n",
        "                 B=runif(n=5, min=-10, max=10),\n",
        "                 C=runif(n=5, min=-10, max=10),\n",
        "                 D=runif(n=5, min=-10, max=10))\n",
        "df"
      ],
      "metadata": {
        "colab": {
          "base_uri": "https://localhost:8080/",
          "height": 255
        },
        "id": "Ctkw3vwKNQoY",
        "outputId": "871a468f-7dba-4df7-9ff6-64cb89ac4a25"
      },
      "execution_count": null,
      "outputs": [
        {
          "output_type": "display_data",
          "data": {
            "text/plain": [
              "  A           B         C         D        \n",
              "1  4.85341383 -5.501308 -6.377070 -5.123532\n",
              "2 -0.08919005 -2.780199 -5.925521  6.904991\n",
              "3 -3.69052613  8.795139 -7.987127  7.834318\n",
              "4  7.30803882 -2.325721  7.590818 -5.394721\n",
              "5  5.96548661  2.459218 -9.814508 -1.260426"
            ],
            "text/latex": "A data.frame: 5 × 4\n\\begin{tabular}{llll}\n A & B & C & D\\\\\n <dbl> & <dbl> & <dbl> & <dbl>\\\\\n\\hline\n\t  4.85341383 & -5.501308 & -6.377070 & -5.123532\\\\\n\t -0.08919005 & -2.780199 & -5.925521 &  6.904991\\\\\n\t -3.69052613 &  8.795139 & -7.987127 &  7.834318\\\\\n\t  7.30803882 & -2.325721 &  7.590818 & -5.394721\\\\\n\t  5.96548661 &  2.459218 & -9.814508 & -1.260426\\\\\n\\end{tabular}\n",
            "text/markdown": "\nA data.frame: 5 × 4\n\n| A &lt;dbl&gt; | B &lt;dbl&gt; | C &lt;dbl&gt; | D &lt;dbl&gt; |\n|---|---|---|---|\n|  4.85341383 | -5.501308 | -6.377070 | -5.123532 |\n| -0.08919005 | -2.780199 | -5.925521 |  6.904991 |\n| -3.69052613 |  8.795139 | -7.987127 |  7.834318 |\n|  7.30803882 | -2.325721 |  7.590818 | -5.394721 |\n|  5.96548661 |  2.459218 | -9.814508 | -1.260426 |\n\n",
            "text/html": [
              "<table class=\"dataframe\">\n",
              "<caption>A data.frame: 5 × 4</caption>\n",
              "<thead>\n",
              "\t<tr><th scope=col>A</th><th scope=col>B</th><th scope=col>C</th><th scope=col>D</th></tr>\n",
              "\t<tr><th scope=col>&lt;dbl&gt;</th><th scope=col>&lt;dbl&gt;</th><th scope=col>&lt;dbl&gt;</th><th scope=col>&lt;dbl&gt;</th></tr>\n",
              "</thead>\n",
              "<tbody>\n",
              "\t<tr><td> 4.85341383</td><td>-5.501308</td><td>-6.377070</td><td>-5.123532</td></tr>\n",
              "\t<tr><td>-0.08919005</td><td>-2.780199</td><td>-5.925521</td><td> 6.904991</td></tr>\n",
              "\t<tr><td>-3.69052613</td><td> 8.795139</td><td>-7.987127</td><td> 7.834318</td></tr>\n",
              "\t<tr><td> 7.30803882</td><td>-2.325721</td><td> 7.590818</td><td>-5.394721</td></tr>\n",
              "\t<tr><td> 5.96548661</td><td> 2.459218</td><td>-9.814508</td><td>-1.260426</td></tr>\n",
              "</tbody>\n",
              "</table>\n"
            ]
          },
          "metadata": {}
        }
      ]
    },
    {
      "cell_type": "markdown",
      "metadata": {
        "hidden": true,
        "id": "aUhrDNKeETSb"
      },
      "source": [
        "умножаем все на 2, берём только абсолютные значения"
      ]
    },
    {
      "cell_type": "code",
      "source": [
        "abs(df * 2)"
      ],
      "metadata": {
        "colab": {
          "base_uri": "https://localhost:8080/",
          "height": 255
        },
        "id": "2ZAH3Nm0OCt9",
        "outputId": "ff724926-d0ea-4174-c9e2-57002574ab50"
      },
      "execution_count": null,
      "outputs": [
        {
          "output_type": "display_data",
          "data": {
            "text/plain": [
              "  A          B         C        D        \n",
              "1  9.7068277 11.002616 12.75414 10.247063\n",
              "2  0.1783801  5.560399 11.85104 13.809982\n",
              "3  7.3810523 17.590277 15.97425 15.668636\n",
              "4 14.6160776  4.651442 15.18164 10.789442\n",
              "5 11.9309732  4.918436 19.62902  2.520852"
            ],
            "text/latex": "A data.frame: 5 × 4\n\\begin{tabular}{llll}\n A & B & C & D\\\\\n <dbl> & <dbl> & <dbl> & <dbl>\\\\\n\\hline\n\t  9.7068277 & 11.002616 & 12.75414 & 10.247063\\\\\n\t  0.1783801 &  5.560399 & 11.85104 & 13.809982\\\\\n\t  7.3810523 & 17.590277 & 15.97425 & 15.668636\\\\\n\t 14.6160776 &  4.651442 & 15.18164 & 10.789442\\\\\n\t 11.9309732 &  4.918436 & 19.62902 &  2.520852\\\\\n\\end{tabular}\n",
            "text/markdown": "\nA data.frame: 5 × 4\n\n| A &lt;dbl&gt; | B &lt;dbl&gt; | C &lt;dbl&gt; | D &lt;dbl&gt; |\n|---|---|---|---|\n|  9.7068277 | 11.002616 | 12.75414 | 10.247063 |\n|  0.1783801 |  5.560399 | 11.85104 | 13.809982 |\n|  7.3810523 | 17.590277 | 15.97425 | 15.668636 |\n| 14.6160776 |  4.651442 | 15.18164 | 10.789442 |\n| 11.9309732 |  4.918436 | 19.62902 |  2.520852 |\n\n",
            "text/html": [
              "<table class=\"dataframe\">\n",
              "<caption>A data.frame: 5 × 4</caption>\n",
              "<thead>\n",
              "\t<tr><th scope=col>A</th><th scope=col>B</th><th scope=col>C</th><th scope=col>D</th></tr>\n",
              "\t<tr><th scope=col>&lt;dbl&gt;</th><th scope=col>&lt;dbl&gt;</th><th scope=col>&lt;dbl&gt;</th><th scope=col>&lt;dbl&gt;</th></tr>\n",
              "</thead>\n",
              "<tbody>\n",
              "\t<tr><td> 9.7068277</td><td>11.002616</td><td>12.75414</td><td>10.247063</td></tr>\n",
              "\t<tr><td> 0.1783801</td><td> 5.560399</td><td>11.85104</td><td>13.809982</td></tr>\n",
              "\t<tr><td> 7.3810523</td><td>17.590277</td><td>15.97425</td><td>15.668636</td></tr>\n",
              "\t<tr><td>14.6160776</td><td> 4.651442</td><td>15.18164</td><td>10.789442</td></tr>\n",
              "\t<tr><td>11.9309732</td><td> 4.918436</td><td>19.62902</td><td> 2.520852</td></tr>\n",
              "</tbody>\n",
              "</table>\n"
            ]
          },
          "metadata": {}
        }
      ]
    },
    {
      "cell_type": "markdown",
      "source": [
        "Вычесть вектор из матрицы в R не получится. Вспомним здесь еще раз про то, как R воспринимает индексацию.\n",
        "\n",
        "> `df[1] != df[1,]`"
      ],
      "metadata": {
        "id": "xXB2wlHVXDOx"
      }
    },
    {
      "cell_type": "code",
      "source": [
        "df[1,]"
      ],
      "metadata": {
        "colab": {
          "base_uri": "https://localhost:8080/",
          "height": 129
        },
        "id": "h_KBAr8LO1x3",
        "outputId": "9e5c0427-b608-4a16-e91b-08925c22f303"
      },
      "execution_count": null,
      "outputs": [
        {
          "output_type": "display_data",
          "data": {
            "text/plain": [
              "  A        B         C        D        \n",
              "1 4.853414 -5.501308 -6.37707 -5.123532"
            ],
            "text/latex": "A data.frame: 1 × 4\n\\begin{tabular}{r|llll}\n  & A & B & C & D\\\\\n  & <dbl> & <dbl> & <dbl> & <dbl>\\\\\n\\hline\n\t1 & 4.853414 & -5.501308 & -6.37707 & -5.123532\\\\\n\\end{tabular}\n",
            "text/markdown": "\nA data.frame: 1 × 4\n\n| <!--/--> | A &lt;dbl&gt; | B &lt;dbl&gt; | C &lt;dbl&gt; | D &lt;dbl&gt; |\n|---|---|---|---|---|\n| 1 | 4.853414 | -5.501308 | -6.37707 | -5.123532 |\n\n",
            "text/html": [
              "<table class=\"dataframe\">\n",
              "<caption>A data.frame: 1 × 4</caption>\n",
              "<thead>\n",
              "\t<tr><th></th><th scope=col>A</th><th scope=col>B</th><th scope=col>C</th><th scope=col>D</th></tr>\n",
              "\t<tr><th></th><th scope=col>&lt;dbl&gt;</th><th scope=col>&lt;dbl&gt;</th><th scope=col>&lt;dbl&gt;</th><th scope=col>&lt;dbl&gt;</th></tr>\n",
              "</thead>\n",
              "<tbody>\n",
              "\t<tr><th scope=row>1</th><td>4.853414</td><td>-5.501308</td><td>-6.37707</td><td>-5.123532</td></tr>\n",
              "</tbody>\n",
              "</table>\n"
            ]
          },
          "metadata": {}
        }
      ]
    },
    {
      "cell_type": "code",
      "source": [
        "df[1]"
      ],
      "metadata": {
        "colab": {
          "base_uri": "https://localhost:8080/",
          "height": 272
        },
        "id": "chIdwPyLO6Hx",
        "outputId": "0e40836d-b905-40e4-a756-07d77d22addd"
      },
      "execution_count": null,
      "outputs": [
        {
          "output_type": "display_data",
          "data": {
            "text/plain": [
              "  A          \n",
              "1  4.85341383\n",
              "2 -0.08919005\n",
              "3 -3.69052613\n",
              "4  7.30803882\n",
              "5  5.96548661"
            ],
            "text/latex": "A data.frame: 5 × 1\n\\begin{tabular}{l}\n A\\\\\n <dbl>\\\\\n\\hline\n\t  4.85341383\\\\\n\t -0.08919005\\\\\n\t -3.69052613\\\\\n\t  7.30803882\\\\\n\t  5.96548661\\\\\n\\end{tabular}\n",
            "text/markdown": "\nA data.frame: 5 × 1\n\n| A &lt;dbl&gt; |\n|---|\n|  4.85341383 |\n| -0.08919005 |\n| -3.69052613 |\n|  7.30803882 |\n|  5.96548661 |\n\n",
            "text/html": [
              "<table class=\"dataframe\">\n",
              "<caption>A data.frame: 5 × 1</caption>\n",
              "<thead>\n",
              "\t<tr><th scope=col>A</th></tr>\n",
              "\t<tr><th scope=col>&lt;dbl&gt;</th></tr>\n",
              "</thead>\n",
              "<tbody>\n",
              "\t<tr><td> 4.85341383</td></tr>\n",
              "\t<tr><td>-0.08919005</td></tr>\n",
              "\t<tr><td>-3.69052613</td></tr>\n",
              "\t<tr><td> 7.30803882</td></tr>\n",
              "\t<tr><td> 5.96548661</td></tr>\n",
              "</tbody>\n",
              "</table>\n"
            ]
          },
          "metadata": {}
        }
      ]
    },
    {
      "cell_type": "markdown",
      "metadata": {
        "heading_collapsed": true,
        "id": "25mqpgtFETUF"
      },
      "source": [
        "### Одномерные статистики"
      ]
    },
    {
      "cell_type": "markdown",
      "metadata": {
        "heading_collapsed": true,
        "hidden": true,
        "id": "qQZI-0pbETUh"
      },
      "source": [
        "#### cреднее значение / медиана / мода"
      ]
    },
    {
      "cell_type": "markdown",
      "source": [
        "Вычислим среднее значение по столбцу с ценой"
      ],
      "metadata": {
        "id": "u2FojX3GXc54"
      }
    },
    {
      "cell_type": "code",
      "source": [
        "mean(books$price)"
      ],
      "metadata": {
        "colab": {
          "base_uri": "https://localhost:8080/",
          "height": 34
        },
        "id": "gJanvxwQO_8p",
        "outputId": "14226774-1383-49cb-d1ee-9a36959dadaf"
      },
      "execution_count": null,
      "outputs": [
        {
          "output_type": "display_data",
          "data": {
            "text/plain": [
              "[1] 54.54186"
            ],
            "text/latex": "54.5418602124797",
            "text/markdown": "54.5418602124797",
            "text/html": [
              "54.5418602124797"
            ]
          },
          "metadata": {}
        }
      ]
    },
    {
      "cell_type": "markdown",
      "source": [
        "Вычислим медиану, для моды в R нет специальной функции"
      ],
      "metadata": {
        "id": "TI2c8xHVXiML"
      }
    },
    {
      "cell_type": "code",
      "source": [
        "median(books$rating)"
      ],
      "metadata": {
        "colab": {
          "base_uri": "https://localhost:8080/",
          "height": 34
        },
        "id": "ZjsW82a3QEtX",
        "outputId": "68c5cce0-3a39-46c1-c6e5-2247c2d22f0c"
      },
      "execution_count": null,
      "outputs": [
        {
          "output_type": "display_data",
          "data": {
            "text/plain": [
              "[1] 4.1"
            ],
            "text/latex": "4.1",
            "text/markdown": "4.1",
            "text/html": [
              "4.1"
            ]
          },
          "metadata": {}
        }
      ]
    },
    {
      "cell_type": "markdown",
      "metadata": {
        "heading_collapsed": true,
        "hidden": true,
        "id": "Czo94FXPETVZ"
      },
      "source": [
        "#### [дисперсия](https://ru.wikipedia.org/wiki/Дисперсия_случайной_величины) / среднеквадратичное отклонение"
      ]
    },
    {
      "cell_type": "markdown",
      "source": [
        "Вычислим дисперсию рейтинга"
      ],
      "metadata": {
        "id": "CDMO0vyNXt12"
      }
    },
    {
      "cell_type": "code",
      "source": [
        "var(books$rating)"
      ],
      "metadata": {
        "colab": {
          "base_uri": "https://localhost:8080/",
          "height": 151
        },
        "id": "oWTo04NRQgXR",
        "outputId": "47bb96ff-6505-4c12-9479-60c0842484c2"
      },
      "execution_count": null,
      "outputs": [
        {
          "output_type": "error",
          "ename": "ERROR",
          "evalue": "ignored",
          "traceback": [
            "Error in is.data.frame(x): object 'books' not found\nTraceback:\n",
            "1. var(books$rating)",
            "2. is.data.frame(x)"
          ]
        }
      ]
    },
    {
      "cell_type": "markdown",
      "source": [
        "И стандартное отклонение"
      ],
      "metadata": {
        "id": "S2-M-JEsXw7z"
      }
    },
    {
      "cell_type": "code",
      "source": [
        "sd(books$price)"
      ],
      "metadata": {
        "colab": {
          "base_uri": "https://localhost:8080/",
          "height": 168
        },
        "id": "5lLnBVKZQt-9",
        "outputId": "01b1d871-02a6-4b3d-d85a-2215aed6ec5d"
      },
      "execution_count": null,
      "outputs": [
        {
          "output_type": "error",
          "ename": "ERROR",
          "evalue": "ignored",
          "traceback": [
            "Error in is.data.frame(x): object 'books' not found\nTraceback:\n",
            "1. sd(books$price)",
            "2. var(if (is.vector(x) || is.factor(x)) x else as.double(x), na.rm = na.rm)",
            "3. is.data.frame(x)"
          ]
        }
      ]
    },
    {
      "cell_type": "markdown",
      "metadata": {
        "heading_collapsed": true,
        "hidden": true,
        "id": "JWYd1XptETWJ"
      },
      "source": [
        "#### [корреляция](https://ru.wikipedia.org/wiki/Корреляция)"
      ]
    },
    {
      "cell_type": "markdown",
      "source": [
        "Между двумя числовыми столбцами можно посчитать коэффициент корреляции Пирсона, Кенделла (ранговая) или Спирмена (показывает, как отличается полученная при наблюдении сумма квадратов разностей между рангами от случая отсутствия связи.). "
      ],
      "metadata": {
        "id": "WaWgnwbHX1uh"
      }
    },
    {
      "cell_type": "code",
      "source": [
        "cor(books$pages,books$price)"
      ],
      "metadata": {
        "colab": {
          "base_uri": "https://localhost:8080/",
          "height": 34
        },
        "id": "603e7SrIQyLd",
        "outputId": "a9036a13-45aa-4e99-deff-0e43fd0411fd"
      },
      "execution_count": null,
      "outputs": [
        {
          "output_type": "display_data",
          "data": {
            "text/plain": [
              "[1] 0.6369506"
            ],
            "text/latex": "0.6369505646202",
            "text/markdown": "0.6369505646202",
            "text/html": [
              "0.6369505646202"
            ]
          },
          "metadata": {}
        }
      ]
    },
    {
      "cell_type": "markdown",
      "source": [
        "Корреляционную матрицу можно построить только для числовых столбцов."
      ],
      "metadata": {
        "id": "XRAEvKU-YO5b"
      }
    },
    {
      "cell_type": "code",
      "source": [
        "round(cor(books[c(\"pages\", \"price\", \"rating\")]), 2)"
      ],
      "metadata": {
        "colab": {
          "base_uri": "https://localhost:8080/",
          "height": 161
        },
        "id": "v5GsPmgbQ30C",
        "outputId": "b916b628-6f3a-49f4-f7a2-de97e08e5c2d"
      },
      "execution_count": null,
      "outputs": [
        {
          "output_type": "display_data",
          "data": {
            "text/plain": [
              "       pages price rating\n",
              "pages  1.00  0.64  0.13  \n",
              "price  0.64  1.00  0.05  \n",
              "rating 0.13  0.05  1.00  "
            ],
            "text/latex": "A matrix: 3 × 3 of type dbl\n\\begin{tabular}{r|lll}\n  & pages & price & rating\\\\\n\\hline\n\tpages & 1.00 & 0.64 & 0.13\\\\\n\tprice & 0.64 & 1.00 & 0.05\\\\\n\trating & 0.13 & 0.05 & 1.00\\\\\n\\end{tabular}\n",
            "text/markdown": "\nA matrix: 3 × 3 of type dbl\n\n| <!--/--> | pages | price | rating |\n|---|---|---|---|\n| pages | 1.00 | 0.64 | 0.13 |\n| price | 0.64 | 1.00 | 0.05 |\n| rating | 0.13 | 0.05 | 1.00 |\n\n",
            "text/html": [
              "<table class=\"dataframe\">\n",
              "<caption>A matrix: 3 × 3 of type dbl</caption>\n",
              "<thead>\n",
              "\t<tr><th></th><th scope=col>pages</th><th scope=col>price</th><th scope=col>rating</th></tr>\n",
              "</thead>\n",
              "<tbody>\n",
              "\t<tr><th scope=row>pages</th><td>1.00</td><td>0.64</td><td>0.13</td></tr>\n",
              "\t<tr><th scope=row>price</th><td>0.64</td><td>1.00</td><td>0.05</td></tr>\n",
              "\t<tr><th scope=row>rating</th><td>0.13</td><td>0.05</td><td>1.00</td></tr>\n",
              "</tbody>\n",
              "</table>\n"
            ]
          },
          "metadata": {}
        }
      ]
    },
    {
      "cell_type": "markdown",
      "source": [
        "## Раздение и объединение векторов и таблиц"
      ],
      "metadata": {
        "id": "mZ6T71EEYX-A"
      }
    },
    {
      "cell_type": "markdown",
      "source": [
        "Разделим табличку с книгами по условию: в одной будет цена больше 100 долларов, во второй - меньше."
      ],
      "metadata": {
        "id": "B4EO0zYBZLgw"
      }
    },
    {
      "cell_type": "code",
      "source": [
        "up <- subset(books, price > 100)\n",
        "down <- subset(books, price <= 100)"
      ],
      "metadata": {
        "id": "w7Ll5SrCRHKK"
      },
      "execution_count": null,
      "outputs": []
    },
    {
      "cell_type": "code",
      "source": [
        "nrow(up)\n",
        "nrow(down)"
      ],
      "metadata": {
        "colab": {
          "base_uri": "https://localhost:8080/",
          "height": 51
        },
        "id": "ghMi3q49ZSvK",
        "outputId": "a20941d1-f5d7-414c-b949-ed7e6f8bfd5e"
      },
      "execution_count": null,
      "outputs": [
        {
          "output_type": "display_data",
          "data": {
            "text/plain": [
              "[1] 21"
            ],
            "text/latex": "21",
            "text/markdown": "21",
            "text/html": [
              "21"
            ]
          },
          "metadata": {}
        },
        {
          "output_type": "display_data",
          "data": {
            "text/plain": [
              "[1] 250"
            ],
            "text/latex": "250",
            "text/markdown": "250",
            "text/html": [
              "250"
            ]
          },
          "metadata": {}
        }
      ]
    },
    {
      "cell_type": "markdown",
      "source": [
        "Теперь объединим таблицы обратно. Для горизонтального склеивания таблиц есть функция rbind()."
      ],
      "metadata": {
        "id": "oNNgMknBZazY"
      }
    },
    {
      "cell_type": "code",
      "source": [
        "rbind(down, up)"
      ],
      "metadata": {
        "colab": {
          "base_uri": "https://localhost:8080/",
          "height": 1000
        },
        "id": "hYeVQcBZYxz2",
        "outputId": "5732b540-163a-4b57-9662-e1ad51ac6d87"
      },
      "execution_count": null,
      "outputs": [
        {
          "output_type": "display_data",
          "data": {
            "text/plain": [
              "    rating reviews\n",
              "1   4.17   3,829  \n",
              "2   4.01   1,406  \n",
              "3   3.33   0      \n",
              "4   3.97   1,658  \n",
              "5   4.06   1,325  \n",
              "6   3.84   117    \n",
              "7   4.09   5,938  \n",
              "8   4.15   1,817  \n",
              "9   3.87   2,093  \n",
              "10  4.62   0      \n",
              "11  4.03   160    \n",
              "12  3.78   481    \n",
              "13  3.73   33     \n",
              "14  3.87   1,255  \n",
              "15  3.87   593    \n",
              "16  3.95   417    \n",
              "17  3.85   80     \n",
              "18  3.94   279    \n",
              "19  3.75   370    \n",
              "20  4.10   2,092  \n",
              "21  4.22   27     \n",
              "22  3.71   676    \n",
              "23  4.21   16     \n",
              "24  4.28   1,268  \n",
              "25  3.20   0      \n",
              "26  3.67   19     \n",
              "27  3.97   491    \n",
              "28  3.98   48     \n",
              "29  3.96   1      \n",
              "30  4.37   1      \n",
              "⋮   ⋮      ⋮      \n",
              "242 4.06   3      \n",
              "243 3.97   4      \n",
              "244 4.37   44     \n",
              "245 4.10   7      \n",
              "246 4.35   21     \n",
              "247 4.37   0      \n",
              "248 3.90   2      \n",
              "249 4.02   25     \n",
              "250 4.03   1      \n",
              "251 4.10   31     \n",
              "252 4.42   38     \n",
              "253 4.11   56     \n",
              "254 4.11   56     \n",
              "255 3.96   15     \n",
              "256 3.67   2      \n",
              "257 4.13   14     \n",
              "258 3.87   13     \n",
              "259 4.16   16     \n",
              "260 4.18   130    \n",
              "261 3.45   1      \n",
              "262 3.82   0      \n",
              "263 4.08   56     \n",
              "264 3.77   0      \n",
              "265 3.82   0      \n",
              "266 4.26   5      \n",
              "267 3.76   0      \n",
              "268 3.94   22     \n",
              "269 4.49   36     \n",
              "270 4.77   4      \n",
              "271 3.84   5      \n",
              "    title                                                                                                                                    \n",
              "1   The Elements of Style                                                                                                                    \n",
              "2   The Information: A History, a Theory, a Flood                                                                                            \n",
              "3   Responsive Web Design Overview For Beginners                                                                                             \n",
              "4   Ghost in the Wires: My Adventures as the World's Most Wanted Hacker                                                                      \n",
              "5   How Google Works                                                                                                                         \n",
              "6   The Meme Machine                                                                                                                         \n",
              "7   Start with Why: How Great Leaders Inspire Everyone to Take Action                                                                        \n",
              "8   Algorithms to Live By: The Computer Science of Human Decisions                                                                           \n",
              "9   Weapons of Math Destruction: How Big Data Increases Inequality and Threatens Democracy                                                   \n",
              "10  ZX Spectrum Games Code Club: Twenty fun games to code and learn                                                                          \n",
              "11  Sync: The Emerging Science of Spontaneous Order                                                                                          \n",
              "12  The Master Algorithm: How the Quest for the Ultimate Learning Machine Will Remake Our World                                              \n",
              "13  Ship It!                                                                                                                                 \n",
              "14  Superintelligence: Paths, Dangers, Strategies                                                                                            \n",
              "15  The Art of the Start: The Time-Tested, Battle-Hardened Guide for Anyone Starting Anything                                                \n",
              "16  Kingpin: How One Hacker Took Over the Billion-Dollar Cybercrime Underground                                                              \n",
              "17  The Quark and the Jaguar: Adventures in the Simple and the Complex                                                                       \n",
              "18  Linked: How Everything Is Connected to Everything Else and What It Means for Business, Science, and Everyday Life                        \n",
              "19  Our Final Invention: Artificial Intelligence and the End of the Human Era                                                                \n",
              "20  The Innovators: How a Group of Hackers, Geniuses and Geeks Created the Digital Revolution                                                \n",
              "21  Debugging: The 9 Indispensable Rules for Finding Even the Most Elusive Software and Hardware Problems                                    \n",
              "22  Big Data: A Revolution That Will Transform How We Live, Work, and Think                                                                  \n",
              "23  Help Your Kids with Computer Coding                                                                                                      \n",
              "24  The Code Book: The Science of Secrecy from Ancient Egypt to Quantum Cryptography                                                         \n",
              "25  Game Programming Golden Rules                                                                                                            \n",
              "26  The Architecture of Open Source Applications                                                                                             \n",
              "27  How to Create a Mind: The Secret of Human Thought Revealed                                                                               \n",
              "28  The Hidden Connections: A Science for Sustainable Living                                                                                 \n",
              "29  Computability and Unsolvability                                                                                                          \n",
              "30  Adventures in Minecraft                                                                                                                  \n",
              "⋮   ⋮                                                                                                                                        \n",
              "242 Geometric Algebra for Computer Science: An Object-Oriented Approach to Geometry                                                          \n",
              "243 Essentials of Programming Languages                                                                                                      \n",
              "244 The Art of Computer Programming, Volume 1: Fundamental Algorithms                                                                        \n",
              "245 Essential Mathematics for Games and Interactive Applications                                                                             \n",
              "246 Game Engine Architecture                                                                                                                 \n",
              "247 A First Course in Logic: An Introduction to Model Theory, Proof Theory, Computability, and Complexity                                    \n",
              "248 Computational Science and Engineering                                                                                                    \n",
              "249 Introduction to Automata Theory, Languages, and Computation                                                                              \n",
              "250 Geometric Tools for Computer Graphics                                                                                                    \n",
              "251 Computer Architecture: A Quantitative Approach                                                                                           \n",
              "252 Computer Systems: A Programmer's Perspective                                                                                             \n",
              "253 Modern Operating Systems                                                                                                                 \n",
              "254 Modern Operating Systems, 4th Edition                                                                                                    \n",
              "255 Structured Computer Organization                                                                                                         \n",
              "256 Game Engine Gems 1                                                                                                                       \n",
              "257 Concepts, Techniques, and Models of Computer Programming                                                                                 \n",
              "258 File Structures: An Object-Oriented Approach with C++                                                                                    \n",
              "259 The C++ Standard Library: A Tutorial and Reference                                                                                       \n",
              "260 Artificial Intelligence: A Modern Approach                                                                                               \n",
              "261 3D Game Engine Design: A Practical Approach to Real-Time Computer Graphics (The Morgan Kaufmann Series in Interactive 3D Technology)     \n",
              "262 Game Programming Gems 6                                                                                                                  \n",
              "263 Compilers: Principles, Techniques, and Tools                                                                                             \n",
              "264 Game Programming Gems 4                                                                                                                  \n",
              "265 Game Programming Gems 3                                                                                                                  \n",
              "266 Numerical Recipes: The Art of Scientific Computing                                                                                       \n",
              "267 3D Game Engine Architecture: Engineering Real-Time Applications with Wild Magic (The Morgan Kaufmann Series in Interactive 3d Technology)\n",
              "268 An Introduction to Database Systems                                                                                                      \n",
              "269 The Art of Computer Programming, Volumes 1-3 Boxed Set                                                                                   \n",
              "270 The Art of Computer Programming, Volumes 1-4a Boxed Set                                                                                  \n",
              "271 A Discipline for Software Engineering                                                                                                    \n",
              "    pages type                  price    \n",
              "1   105   Hardcover              9.323529\n",
              "2   527   Hardcover             11.000000\n",
              "3    50   Kindle Edition        11.267647\n",
              "4   393   Hardcover             12.873529\n",
              "5   305   Kindle Edition        13.164706\n",
              "6   288   Paperback             14.188235\n",
              "7   256   Hardcover             14.232353\n",
              "8   368   Hardcover             14.364706\n",
              "9   259   Hardcover             14.502941\n",
              "10  128   Paperback             14.641176\n",
              "11  352   Hardcover             15.229412\n",
              "12  352   Hardcover             15.229412\n",
              "13  200   Paperback             15.326471\n",
              "14  328   Hardcover             15.682353\n",
              "15  240   Hardcover             15.885294\n",
              "16  288   Hardcover             16.073529\n",
              "17  392   Paperback             16.367647\n",
              "18  304   Paperback             16.852941\n",
              "19  336   Hardcover             16.891176\n",
              "20  542   Hardcover             17.229412\n",
              "21  192   Paperback             17.491176\n",
              "22  242   Hardcover             17.620588\n",
              "23  224   Paperback             18.938235\n",
              "24  412   Paperback             19.132353\n",
              "25  318   Paperback             19.152941\n",
              "26  432   Paperback             19.247059\n",
              "27  336   Hardcover             19.855882\n",
              "28  320   Paperback             20.052941\n",
              "29  288   Paperback             20.400000\n",
              "30  320   Paperback             21.038235\n",
              "⋮   ⋮     ⋮                     ⋮        \n",
              "242  626  Hardcover              92.35882\n",
              "243  410  Hardcover              92.41176\n",
              "244  672  Hardcover              93.45588\n",
              "245  624  Hardcover              94.78529\n",
              "246 1052  Hardcover              96.03235\n",
              "247  431  Paperback              96.49412\n",
              "248  716  Hardcover              97.52647\n",
              "249  521  Hardcover              97.68824\n",
              "250 1056  Hardcover              99.82941\n",
              "251  493  Paperback             101.05588\n",
              "252  978  Hardcover             103.17353\n",
              "253  976  Hardcover             103.46176\n",
              "254 1136  Paperback             103.46176\n",
              "255  669  Hardcover             103.60882\n",
              "256  362  Hardcover             105.65000\n",
              "257  936  Hardcover             107.74706\n",
              "258  724  Paperback             108.36765\n",
              "259 1136  Hardcover             113.30294\n",
              "260 1132  Hardcover             115.75000\n",
              "261 1040  Hardcover             117.98824\n",
              "262  700  Hardcover             119.20294\n",
              "263  796  Hardcover             126.57941\n",
              "264  703  Hardcover             139.43529\n",
              "265  663  Hardcover             143.13824\n",
              "266 1235  Hardcover             176.14412\n",
              "267  752  Hardcover             203.10882\n",
              "268 1040  Paperback             212.09706\n",
              "269  896  Boxed Set - Hardcover 220.38529\n",
              "270 3168  Hardcover             220.38529\n",
              "271  789  Hardcover             235.65000"
            ],
            "text/latex": "A data.frame: 271 × 6\n\\begin{tabular}{r|llllll}\n  & rating & reviews & title & pages & type & price\\\\\n  & <dbl> & <fct> & <fct> & <dbl> & <fct> & <dbl>\\\\\n\\hline\n\t1 & 4.17 & 3,829 & The Elements of Style                                                                                             & 105 & Hardcover      &  9.323529\\\\\n\t2 & 4.01 & 1,406 & The Information: A History, a Theory, a Flood                                                                     & 527 & Hardcover      & 11.000000\\\\\n\t3 & 3.33 & 0     & Responsive Web Design Overview For Beginners                                                                      &  50 & Kindle Edition & 11.267647\\\\\n\t4 & 3.97 & 1,658 & Ghost in the Wires: My Adventures as the World's Most Wanted Hacker                                               & 393 & Hardcover      & 12.873529\\\\\n\t5 & 4.06 & 1,325 & How Google Works                                                                                                  & 305 & Kindle Edition & 13.164706\\\\\n\t6 & 3.84 & 117   & The Meme Machine                                                                                                  & 288 & Paperback      & 14.188235\\\\\n\t7 & 4.09 & 5,938 & Start with Why: How Great Leaders Inspire Everyone to Take Action                                                 & 256 & Hardcover      & 14.232353\\\\\n\t8 & 4.15 & 1,817 & Algorithms to Live By: The Computer Science of Human Decisions                                                    & 368 & Hardcover      & 14.364706\\\\\n\t9 & 3.87 & 2,093 & Weapons of Math Destruction: How Big Data Increases Inequality and Threatens Democracy                            & 259 & Hardcover      & 14.502941\\\\\n\t10 & 4.62 & 0     & ZX Spectrum Games Code Club: Twenty fun games to code and learn                                                   & 128 & Paperback      & 14.641176\\\\\n\t11 & 4.03 & 160   & Sync: The Emerging Science of Spontaneous Order                                                                   & 352 & Hardcover      & 15.229412\\\\\n\t12 & 3.78 & 481   & The Master Algorithm: How the Quest for the Ultimate Learning Machine Will Remake Our World                       & 352 & Hardcover      & 15.229412\\\\\n\t13 & 3.73 & 33    & Ship It!                                                                                                          & 200 & Paperback      & 15.326471\\\\\n\t14 & 3.87 & 1,255 & Superintelligence: Paths, Dangers, Strategies                                                                     & 328 & Hardcover      & 15.682353\\\\\n\t15 & 3.87 & 593   & The Art of the Start: The Time-Tested, Battle-Hardened Guide for Anyone Starting Anything                         & 240 & Hardcover      & 15.885294\\\\\n\t16 & 3.95 & 417   & Kingpin: How One Hacker Took Over the Billion-Dollar Cybercrime Underground                                       & 288 & Hardcover      & 16.073529\\\\\n\t17 & 3.85 & 80    & The Quark and the Jaguar: Adventures in the Simple and the Complex                                                & 392 & Paperback      & 16.367647\\\\\n\t18 & 3.94 & 279   & Linked: How Everything Is Connected to Everything Else and What It Means for Business, Science, and Everyday Life & 304 & Paperback      & 16.852941\\\\\n\t19 & 3.75 & 370   & Our Final Invention: Artificial Intelligence and the End of the Human Era                                         & 336 & Hardcover      & 16.891176\\\\\n\t20 & 4.10 & 2,092 & The Innovators: How a Group of Hackers, Geniuses and Geeks Created the Digital Revolution                         & 542 & Hardcover      & 17.229412\\\\\n\t21 & 4.22 & 27    & Debugging: The 9 Indispensable Rules for Finding Even the Most Elusive Software and Hardware Problems             & 192 & Paperback      & 17.491176\\\\\n\t22 & 3.71 & 676   & Big Data: A Revolution That Will Transform How We Live, Work, and Think                                           & 242 & Hardcover      & 17.620588\\\\\n\t23 & 4.21 & 16    & Help Your Kids with Computer Coding                                                                               & 224 & Paperback      & 18.938235\\\\\n\t24 & 4.28 & 1,268 & The Code Book: The Science of Secrecy from Ancient Egypt to Quantum Cryptography                                  & 412 & Paperback      & 19.132353\\\\\n\t25 & 3.20 & 0     & Game Programming Golden Rules                                                                                     & 318 & Paperback      & 19.152941\\\\\n\t26 & 3.67 & 19    & The Architecture of Open Source Applications                                                                      & 432 & Paperback      & 19.247059\\\\\n\t27 & 3.97 & 491   & How to Create a Mind: The Secret of Human Thought Revealed                                                        & 336 & Hardcover      & 19.855882\\\\\n\t28 & 3.98 & 48    & The Hidden Connections: A Science for Sustainable Living                                                          & 320 & Paperback      & 20.052941\\\\\n\t29 & 3.96 & 1     & Computability and Unsolvability                                                                                   & 288 & Paperback      & 20.400000\\\\\n\t30 & 4.37 & 1     & Adventures in Minecraft                                                                                           & 320 & Paperback      & 21.038235\\\\\n\t⋮ & ⋮ & ⋮ & ⋮ & ⋮ & ⋮ & ⋮\\\\\n\t242 & 4.06 & 3   & Geometric Algebra for Computer Science: An Object-Oriented Approach to Geometry                                                           &  626 & Hardcover             &  92.35882\\\\\n\t243 & 3.97 & 4   & Essentials of Programming Languages                                                                                                       &  410 & Hardcover             &  92.41176\\\\\n\t244 & 4.37 & 44  & The Art of Computer Programming, Volume 1: Fundamental Algorithms                                                                         &  672 & Hardcover             &  93.45588\\\\\n\t245 & 4.10 & 7   & Essential Mathematics for Games and Interactive Applications                                                                              &  624 & Hardcover             &  94.78529\\\\\n\t246 & 4.35 & 21  & Game Engine Architecture                                                                                                                  & 1052 & Hardcover             &  96.03235\\\\\n\t247 & 4.37 & 0   & A First Course in Logic: An Introduction to Model Theory, Proof Theory, Computability, and Complexity                                     &  431 & Paperback             &  96.49412\\\\\n\t248 & 3.90 & 2   & Computational Science and Engineering                                                                                                     &  716 & Hardcover             &  97.52647\\\\\n\t249 & 4.02 & 25  & Introduction to Automata Theory, Languages, and Computation                                                                               &  521 & Hardcover             &  97.68824\\\\\n\t250 & 4.03 & 1   & Geometric Tools for Computer Graphics                                                                                                     & 1056 & Hardcover             &  99.82941\\\\\n\t251 & 4.10 & 31  & Computer Architecture: A Quantitative Approach                                                                                            &  493 & Paperback             & 101.05588\\\\\n\t252 & 4.42 & 38  & Computer Systems: A Programmer's Perspective                                                                                              &  978 & Hardcover             & 103.17353\\\\\n\t253 & 4.11 & 56  & Modern Operating Systems                                                                                                                  &  976 & Hardcover             & 103.46176\\\\\n\t254 & 4.11 & 56  & Modern Operating Systems, 4th Edition                                                                                                     & 1136 & Paperback             & 103.46176\\\\\n\t255 & 3.96 & 15  & Structured Computer Organization                                                                                                          &  669 & Hardcover             & 103.60882\\\\\n\t256 & 3.67 & 2   & Game Engine Gems 1                                                                                                                        &  362 & Hardcover             & 105.65000\\\\\n\t257 & 4.13 & 14  & Concepts, Techniques, and Models of Computer Programming                                                                                  &  936 & Hardcover             & 107.74706\\\\\n\t258 & 3.87 & 13  & File Structures: An Object-Oriented Approach with C++                                                                                     &  724 & Paperback             & 108.36765\\\\\n\t259 & 4.16 & 16  & The C++ Standard Library: A Tutorial and Reference                                                                                        & 1136 & Hardcover             & 113.30294\\\\\n\t260 & 4.18 & 130 & Artificial Intelligence: A Modern Approach                                                                                                & 1132 & Hardcover             & 115.75000\\\\\n\t261 & 3.45 & 1   & 3D Game Engine Design: A Practical Approach to Real-Time Computer Graphics (The Morgan Kaufmann Series in Interactive 3D Technology)      & 1040 & Hardcover             & 117.98824\\\\\n\t262 & 3.82 & 0   & Game Programming Gems 6                                                                                                                   &  700 & Hardcover             & 119.20294\\\\\n\t263 & 4.08 & 56  & Compilers: Principles, Techniques, and Tools                                                                                              &  796 & Hardcover             & 126.57941\\\\\n\t264 & 3.77 & 0   & Game Programming Gems 4                                                                                                                   &  703 & Hardcover             & 139.43529\\\\\n\t265 & 3.82 & 0   & Game Programming Gems 3                                                                                                                   &  663 & Hardcover             & 143.13824\\\\\n\t266 & 4.26 & 5   & Numerical Recipes: The Art of Scientific Computing                                                                                        & 1235 & Hardcover             & 176.14412\\\\\n\t267 & 3.76 & 0   & 3D Game Engine Architecture: Engineering Real-Time Applications with Wild Magic (The Morgan Kaufmann Series in Interactive 3d Technology) &  752 & Hardcover             & 203.10882\\\\\n\t268 & 3.94 & 22  & An Introduction to Database Systems                                                                                                       & 1040 & Paperback             & 212.09706\\\\\n\t269 & 4.49 & 36  & The Art of Computer Programming, Volumes 1-3 Boxed Set                                                                                    &  896 & Boxed Set - Hardcover & 220.38529\\\\\n\t270 & 4.77 & 4   & The Art of Computer Programming, Volumes 1-4a Boxed Set                                                                                   & 3168 & Hardcover             & 220.38529\\\\\n\t271 & 3.84 & 5   & A Discipline for Software Engineering                                                                                                     &  789 & Hardcover             & 235.65000\\\\\n\\end{tabular}\n",
            "text/markdown": "\nA data.frame: 271 × 6\n\n| <!--/--> | rating &lt;dbl&gt; | reviews &lt;fct&gt; | title &lt;fct&gt; | pages &lt;dbl&gt; | type &lt;fct&gt; | price &lt;dbl&gt; |\n|---|---|---|---|---|---|---|\n| 1 | 4.17 | 3,829 | The Elements of Style                                                                                             | 105 | Hardcover      |  9.323529 |\n| 2 | 4.01 | 1,406 | The Information: A History, a Theory, a Flood                                                                     | 527 | Hardcover      | 11.000000 |\n| 3 | 3.33 | 0     | Responsive Web Design Overview For Beginners                                                                      |  50 | Kindle Edition | 11.267647 |\n| 4 | 3.97 | 1,658 | Ghost in the Wires: My Adventures as the World's Most Wanted Hacker                                               | 393 | Hardcover      | 12.873529 |\n| 5 | 4.06 | 1,325 | How Google Works                                                                                                  | 305 | Kindle Edition | 13.164706 |\n| 6 | 3.84 | 117   | The Meme Machine                                                                                                  | 288 | Paperback      | 14.188235 |\n| 7 | 4.09 | 5,938 | Start with Why: How Great Leaders Inspire Everyone to Take Action                                                 | 256 | Hardcover      | 14.232353 |\n| 8 | 4.15 | 1,817 | Algorithms to Live By: The Computer Science of Human Decisions                                                    | 368 | Hardcover      | 14.364706 |\n| 9 | 3.87 | 2,093 | Weapons of Math Destruction: How Big Data Increases Inequality and Threatens Democracy                            | 259 | Hardcover      | 14.502941 |\n| 10 | 4.62 | 0     | ZX Spectrum Games Code Club: Twenty fun games to code and learn                                                   | 128 | Paperback      | 14.641176 |\n| 11 | 4.03 | 160   | Sync: The Emerging Science of Spontaneous Order                                                                   | 352 | Hardcover      | 15.229412 |\n| 12 | 3.78 | 481   | The Master Algorithm: How the Quest for the Ultimate Learning Machine Will Remake Our World                       | 352 | Hardcover      | 15.229412 |\n| 13 | 3.73 | 33    | Ship It!                                                                                                          | 200 | Paperback      | 15.326471 |\n| 14 | 3.87 | 1,255 | Superintelligence: Paths, Dangers, Strategies                                                                     | 328 | Hardcover      | 15.682353 |\n| 15 | 3.87 | 593   | The Art of the Start: The Time-Tested, Battle-Hardened Guide for Anyone Starting Anything                         | 240 | Hardcover      | 15.885294 |\n| 16 | 3.95 | 417   | Kingpin: How One Hacker Took Over the Billion-Dollar Cybercrime Underground                                       | 288 | Hardcover      | 16.073529 |\n| 17 | 3.85 | 80    | The Quark and the Jaguar: Adventures in the Simple and the Complex                                                | 392 | Paperback      | 16.367647 |\n| 18 | 3.94 | 279   | Linked: How Everything Is Connected to Everything Else and What It Means for Business, Science, and Everyday Life | 304 | Paperback      | 16.852941 |\n| 19 | 3.75 | 370   | Our Final Invention: Artificial Intelligence and the End of the Human Era                                         | 336 | Hardcover      | 16.891176 |\n| 20 | 4.10 | 2,092 | The Innovators: How a Group of Hackers, Geniuses and Geeks Created the Digital Revolution                         | 542 | Hardcover      | 17.229412 |\n| 21 | 4.22 | 27    | Debugging: The 9 Indispensable Rules for Finding Even the Most Elusive Software and Hardware Problems             | 192 | Paperback      | 17.491176 |\n| 22 | 3.71 | 676   | Big Data: A Revolution That Will Transform How We Live, Work, and Think                                           | 242 | Hardcover      | 17.620588 |\n| 23 | 4.21 | 16    | Help Your Kids with Computer Coding                                                                               | 224 | Paperback      | 18.938235 |\n| 24 | 4.28 | 1,268 | The Code Book: The Science of Secrecy from Ancient Egypt to Quantum Cryptography                                  | 412 | Paperback      | 19.132353 |\n| 25 | 3.20 | 0     | Game Programming Golden Rules                                                                                     | 318 | Paperback      | 19.152941 |\n| 26 | 3.67 | 19    | The Architecture of Open Source Applications                                                                      | 432 | Paperback      | 19.247059 |\n| 27 | 3.97 | 491   | How to Create a Mind: The Secret of Human Thought Revealed                                                        | 336 | Hardcover      | 19.855882 |\n| 28 | 3.98 | 48    | The Hidden Connections: A Science for Sustainable Living                                                          | 320 | Paperback      | 20.052941 |\n| 29 | 3.96 | 1     | Computability and Unsolvability                                                                                   | 288 | Paperback      | 20.400000 |\n| 30 | 4.37 | 1     | Adventures in Minecraft                                                                                           | 320 | Paperback      | 21.038235 |\n| ⋮ | ⋮ | ⋮ | ⋮ | ⋮ | ⋮ | ⋮ |\n| 242 | 4.06 | 3   | Geometric Algebra for Computer Science: An Object-Oriented Approach to Geometry                                                           |  626 | Hardcover             |  92.35882 |\n| 243 | 3.97 | 4   | Essentials of Programming Languages                                                                                                       |  410 | Hardcover             |  92.41176 |\n| 244 | 4.37 | 44  | The Art of Computer Programming, Volume 1: Fundamental Algorithms                                                                         |  672 | Hardcover             |  93.45588 |\n| 245 | 4.10 | 7   | Essential Mathematics for Games and Interactive Applications                                                                              |  624 | Hardcover             |  94.78529 |\n| 246 | 4.35 | 21  | Game Engine Architecture                                                                                                                  | 1052 | Hardcover             |  96.03235 |\n| 247 | 4.37 | 0   | A First Course in Logic: An Introduction to Model Theory, Proof Theory, Computability, and Complexity                                     |  431 | Paperback             |  96.49412 |\n| 248 | 3.90 | 2   | Computational Science and Engineering                                                                                                     |  716 | Hardcover             |  97.52647 |\n| 249 | 4.02 | 25  | Introduction to Automata Theory, Languages, and Computation                                                                               |  521 | Hardcover             |  97.68824 |\n| 250 | 4.03 | 1   | Geometric Tools for Computer Graphics                                                                                                     | 1056 | Hardcover             |  99.82941 |\n| 251 | 4.10 | 31  | Computer Architecture: A Quantitative Approach                                                                                            |  493 | Paperback             | 101.05588 |\n| 252 | 4.42 | 38  | Computer Systems: A Programmer's Perspective                                                                                              |  978 | Hardcover             | 103.17353 |\n| 253 | 4.11 | 56  | Modern Operating Systems                                                                                                                  |  976 | Hardcover             | 103.46176 |\n| 254 | 4.11 | 56  | Modern Operating Systems, 4th Edition                                                                                                     | 1136 | Paperback             | 103.46176 |\n| 255 | 3.96 | 15  | Structured Computer Organization                                                                                                          |  669 | Hardcover             | 103.60882 |\n| 256 | 3.67 | 2   | Game Engine Gems 1                                                                                                                        |  362 | Hardcover             | 105.65000 |\n| 257 | 4.13 | 14  | Concepts, Techniques, and Models of Computer Programming                                                                                  |  936 | Hardcover             | 107.74706 |\n| 258 | 3.87 | 13  | File Structures: An Object-Oriented Approach with C++                                                                                     |  724 | Paperback             | 108.36765 |\n| 259 | 4.16 | 16  | The C++ Standard Library: A Tutorial and Reference                                                                                        | 1136 | Hardcover             | 113.30294 |\n| 260 | 4.18 | 130 | Artificial Intelligence: A Modern Approach                                                                                                | 1132 | Hardcover             | 115.75000 |\n| 261 | 3.45 | 1   | 3D Game Engine Design: A Practical Approach to Real-Time Computer Graphics (The Morgan Kaufmann Series in Interactive 3D Technology)      | 1040 | Hardcover             | 117.98824 |\n| 262 | 3.82 | 0   | Game Programming Gems 6                                                                                                                   |  700 | Hardcover             | 119.20294 |\n| 263 | 4.08 | 56  | Compilers: Principles, Techniques, and Tools                                                                                              |  796 | Hardcover             | 126.57941 |\n| 264 | 3.77 | 0   | Game Programming Gems 4                                                                                                                   |  703 | Hardcover             | 139.43529 |\n| 265 | 3.82 | 0   | Game Programming Gems 3                                                                                                                   |  663 | Hardcover             | 143.13824 |\n| 266 | 4.26 | 5   | Numerical Recipes: The Art of Scientific Computing                                                                                        | 1235 | Hardcover             | 176.14412 |\n| 267 | 3.76 | 0   | 3D Game Engine Architecture: Engineering Real-Time Applications with Wild Magic (The Morgan Kaufmann Series in Interactive 3d Technology) |  752 | Hardcover             | 203.10882 |\n| 268 | 3.94 | 22  | An Introduction to Database Systems                                                                                                       | 1040 | Paperback             | 212.09706 |\n| 269 | 4.49 | 36  | The Art of Computer Programming, Volumes 1-3 Boxed Set                                                                                    |  896 | Boxed Set - Hardcover | 220.38529 |\n| 270 | 4.77 | 4   | The Art of Computer Programming, Volumes 1-4a Boxed Set                                                                                   | 3168 | Hardcover             | 220.38529 |\n| 271 | 3.84 | 5   | A Discipline for Software Engineering                                                                                                     |  789 | Hardcover             | 235.65000 |\n\n",
            "text/html": [
              "<table class=\"dataframe\">\n",
              "<caption>A data.frame: 271 × 6</caption>\n",
              "<thead>\n",
              "\t<tr><th></th><th scope=col>rating</th><th scope=col>reviews</th><th scope=col>title</th><th scope=col>pages</th><th scope=col>type</th><th scope=col>price</th></tr>\n",
              "\t<tr><th></th><th scope=col>&lt;dbl&gt;</th><th scope=col>&lt;fct&gt;</th><th scope=col>&lt;fct&gt;</th><th scope=col>&lt;dbl&gt;</th><th scope=col>&lt;fct&gt;</th><th scope=col>&lt;dbl&gt;</th></tr>\n",
              "</thead>\n",
              "<tbody>\n",
              "\t<tr><th scope=row>1</th><td>4.17</td><td>3,829</td><td>The Elements of Style                                                                                            </td><td>105</td><td>Hardcover     </td><td> 9.323529</td></tr>\n",
              "\t<tr><th scope=row>2</th><td>4.01</td><td>1,406</td><td>The Information: A History, a Theory, a Flood                                                                    </td><td>527</td><td>Hardcover     </td><td>11.000000</td></tr>\n",
              "\t<tr><th scope=row>3</th><td>3.33</td><td>0    </td><td>Responsive Web Design Overview For Beginners                                                                     </td><td> 50</td><td>Kindle Edition</td><td>11.267647</td></tr>\n",
              "\t<tr><th scope=row>4</th><td>3.97</td><td>1,658</td><td>Ghost in the Wires: My Adventures as the World's Most Wanted Hacker                                              </td><td>393</td><td>Hardcover     </td><td>12.873529</td></tr>\n",
              "\t<tr><th scope=row>5</th><td>4.06</td><td>1,325</td><td>How Google Works                                                                                                 </td><td>305</td><td>Kindle Edition</td><td>13.164706</td></tr>\n",
              "\t<tr><th scope=row>6</th><td>3.84</td><td>117  </td><td>The Meme Machine                                                                                                 </td><td>288</td><td>Paperback     </td><td>14.188235</td></tr>\n",
              "\t<tr><th scope=row>7</th><td>4.09</td><td>5,938</td><td>Start with Why: How Great Leaders Inspire Everyone to Take Action                                                </td><td>256</td><td>Hardcover     </td><td>14.232353</td></tr>\n",
              "\t<tr><th scope=row>8</th><td>4.15</td><td>1,817</td><td>Algorithms to Live By: The Computer Science of Human Decisions                                                   </td><td>368</td><td>Hardcover     </td><td>14.364706</td></tr>\n",
              "\t<tr><th scope=row>9</th><td>3.87</td><td>2,093</td><td>Weapons of Math Destruction: How Big Data Increases Inequality and Threatens Democracy                           </td><td>259</td><td>Hardcover     </td><td>14.502941</td></tr>\n",
              "\t<tr><th scope=row>10</th><td>4.62</td><td>0    </td><td>ZX Spectrum Games Code Club: Twenty fun games to code and learn                                                  </td><td>128</td><td>Paperback     </td><td>14.641176</td></tr>\n",
              "\t<tr><th scope=row>11</th><td>4.03</td><td>160  </td><td>Sync: The Emerging Science of Spontaneous Order                                                                  </td><td>352</td><td>Hardcover     </td><td>15.229412</td></tr>\n",
              "\t<tr><th scope=row>12</th><td>3.78</td><td>481  </td><td>The Master Algorithm: How the Quest for the Ultimate Learning Machine Will Remake Our World                      </td><td>352</td><td>Hardcover     </td><td>15.229412</td></tr>\n",
              "\t<tr><th scope=row>13</th><td>3.73</td><td>33   </td><td>Ship It!                                                                                                         </td><td>200</td><td>Paperback     </td><td>15.326471</td></tr>\n",
              "\t<tr><th scope=row>14</th><td>3.87</td><td>1,255</td><td>Superintelligence: Paths, Dangers, Strategies                                                                    </td><td>328</td><td>Hardcover     </td><td>15.682353</td></tr>\n",
              "\t<tr><th scope=row>15</th><td>3.87</td><td>593  </td><td>The Art of the Start: The Time-Tested, Battle-Hardened Guide for Anyone Starting Anything                        </td><td>240</td><td>Hardcover     </td><td>15.885294</td></tr>\n",
              "\t<tr><th scope=row>16</th><td>3.95</td><td>417  </td><td>Kingpin: How One Hacker Took Over the Billion-Dollar Cybercrime Underground                                      </td><td>288</td><td>Hardcover     </td><td>16.073529</td></tr>\n",
              "\t<tr><th scope=row>17</th><td>3.85</td><td>80   </td><td>The Quark and the Jaguar: Adventures in the Simple and the Complex                                               </td><td>392</td><td>Paperback     </td><td>16.367647</td></tr>\n",
              "\t<tr><th scope=row>18</th><td>3.94</td><td>279  </td><td>Linked: How Everything Is Connected to Everything Else and What It Means for Business, Science, and Everyday Life</td><td>304</td><td>Paperback     </td><td>16.852941</td></tr>\n",
              "\t<tr><th scope=row>19</th><td>3.75</td><td>370  </td><td>Our Final Invention: Artificial Intelligence and the End of the Human Era                                        </td><td>336</td><td>Hardcover     </td><td>16.891176</td></tr>\n",
              "\t<tr><th scope=row>20</th><td>4.10</td><td>2,092</td><td>The Innovators: How a Group of Hackers, Geniuses and Geeks Created the Digital Revolution                        </td><td>542</td><td>Hardcover     </td><td>17.229412</td></tr>\n",
              "\t<tr><th scope=row>21</th><td>4.22</td><td>27   </td><td>Debugging: The 9 Indispensable Rules for Finding Even the Most Elusive Software and Hardware Problems            </td><td>192</td><td>Paperback     </td><td>17.491176</td></tr>\n",
              "\t<tr><th scope=row>22</th><td>3.71</td><td>676  </td><td>Big Data: A Revolution That Will Transform How We Live, Work, and Think                                          </td><td>242</td><td>Hardcover     </td><td>17.620588</td></tr>\n",
              "\t<tr><th scope=row>23</th><td>4.21</td><td>16   </td><td>Help Your Kids with Computer Coding                                                                              </td><td>224</td><td>Paperback     </td><td>18.938235</td></tr>\n",
              "\t<tr><th scope=row>24</th><td>4.28</td><td>1,268</td><td>The Code Book: The Science of Secrecy from Ancient Egypt to Quantum Cryptography                                 </td><td>412</td><td>Paperback     </td><td>19.132353</td></tr>\n",
              "\t<tr><th scope=row>25</th><td>3.20</td><td>0    </td><td>Game Programming Golden Rules                                                                                    </td><td>318</td><td>Paperback     </td><td>19.152941</td></tr>\n",
              "\t<tr><th scope=row>26</th><td>3.67</td><td>19   </td><td>The Architecture of Open Source Applications                                                                     </td><td>432</td><td>Paperback     </td><td>19.247059</td></tr>\n",
              "\t<tr><th scope=row>27</th><td>3.97</td><td>491  </td><td>How to Create a Mind: The Secret of Human Thought Revealed                                                       </td><td>336</td><td>Hardcover     </td><td>19.855882</td></tr>\n",
              "\t<tr><th scope=row>28</th><td>3.98</td><td>48   </td><td>The Hidden Connections: A Science for Sustainable Living                                                         </td><td>320</td><td>Paperback     </td><td>20.052941</td></tr>\n",
              "\t<tr><th scope=row>29</th><td>3.96</td><td>1    </td><td>Computability and Unsolvability                                                                                  </td><td>288</td><td>Paperback     </td><td>20.400000</td></tr>\n",
              "\t<tr><th scope=row>30</th><td>4.37</td><td>1    </td><td>Adventures in Minecraft                                                                                          </td><td>320</td><td>Paperback     </td><td>21.038235</td></tr>\n",
              "\t<tr><th scope=row>⋮</th><td>⋮</td><td>⋮</td><td>⋮</td><td>⋮</td><td>⋮</td><td>⋮</td></tr>\n",
              "\t<tr><th scope=row>242</th><td>4.06</td><td>3  </td><td>Geometric Algebra for Computer Science: An Object-Oriented Approach to Geometry                                                          </td><td> 626</td><td>Hardcover            </td><td> 92.35882</td></tr>\n",
              "\t<tr><th scope=row>243</th><td>3.97</td><td>4  </td><td>Essentials of Programming Languages                                                                                                      </td><td> 410</td><td>Hardcover            </td><td> 92.41176</td></tr>\n",
              "\t<tr><th scope=row>244</th><td>4.37</td><td>44 </td><td>The Art of Computer Programming, Volume 1: Fundamental Algorithms                                                                        </td><td> 672</td><td>Hardcover            </td><td> 93.45588</td></tr>\n",
              "\t<tr><th scope=row>245</th><td>4.10</td><td>7  </td><td>Essential Mathematics for Games and Interactive Applications                                                                             </td><td> 624</td><td>Hardcover            </td><td> 94.78529</td></tr>\n",
              "\t<tr><th scope=row>246</th><td>4.35</td><td>21 </td><td>Game Engine Architecture                                                                                                                 </td><td>1052</td><td>Hardcover            </td><td> 96.03235</td></tr>\n",
              "\t<tr><th scope=row>247</th><td>4.37</td><td>0  </td><td>A First Course in Logic: An Introduction to Model Theory, Proof Theory, Computability, and Complexity                                    </td><td> 431</td><td>Paperback            </td><td> 96.49412</td></tr>\n",
              "\t<tr><th scope=row>248</th><td>3.90</td><td>2  </td><td>Computational Science and Engineering                                                                                                    </td><td> 716</td><td>Hardcover            </td><td> 97.52647</td></tr>\n",
              "\t<tr><th scope=row>249</th><td>4.02</td><td>25 </td><td>Introduction to Automata Theory, Languages, and Computation                                                                              </td><td> 521</td><td>Hardcover            </td><td> 97.68824</td></tr>\n",
              "\t<tr><th scope=row>250</th><td>4.03</td><td>1  </td><td>Geometric Tools for Computer Graphics                                                                                                    </td><td>1056</td><td>Hardcover            </td><td> 99.82941</td></tr>\n",
              "\t<tr><th scope=row>251</th><td>4.10</td><td>31 </td><td>Computer Architecture: A Quantitative Approach                                                                                           </td><td> 493</td><td>Paperback            </td><td>101.05588</td></tr>\n",
              "\t<tr><th scope=row>252</th><td>4.42</td><td>38 </td><td>Computer Systems: A Programmer's Perspective                                                                                             </td><td> 978</td><td>Hardcover            </td><td>103.17353</td></tr>\n",
              "\t<tr><th scope=row>253</th><td>4.11</td><td>56 </td><td>Modern Operating Systems                                                                                                                 </td><td> 976</td><td>Hardcover            </td><td>103.46176</td></tr>\n",
              "\t<tr><th scope=row>254</th><td>4.11</td><td>56 </td><td>Modern Operating Systems, 4th Edition                                                                                                    </td><td>1136</td><td>Paperback            </td><td>103.46176</td></tr>\n",
              "\t<tr><th scope=row>255</th><td>3.96</td><td>15 </td><td>Structured Computer Organization                                                                                                         </td><td> 669</td><td>Hardcover            </td><td>103.60882</td></tr>\n",
              "\t<tr><th scope=row>256</th><td>3.67</td><td>2  </td><td>Game Engine Gems 1                                                                                                                       </td><td> 362</td><td>Hardcover            </td><td>105.65000</td></tr>\n",
              "\t<tr><th scope=row>257</th><td>4.13</td><td>14 </td><td>Concepts, Techniques, and Models of Computer Programming                                                                                 </td><td> 936</td><td>Hardcover            </td><td>107.74706</td></tr>\n",
              "\t<tr><th scope=row>258</th><td>3.87</td><td>13 </td><td>File Structures: An Object-Oriented Approach with C++                                                                                    </td><td> 724</td><td>Paperback            </td><td>108.36765</td></tr>\n",
              "\t<tr><th scope=row>259</th><td>4.16</td><td>16 </td><td>The C++ Standard Library: A Tutorial and Reference                                                                                       </td><td>1136</td><td>Hardcover            </td><td>113.30294</td></tr>\n",
              "\t<tr><th scope=row>260</th><td>4.18</td><td>130</td><td>Artificial Intelligence: A Modern Approach                                                                                               </td><td>1132</td><td>Hardcover            </td><td>115.75000</td></tr>\n",
              "\t<tr><th scope=row>261</th><td>3.45</td><td>1  </td><td>3D Game Engine Design: A Practical Approach to Real-Time Computer Graphics (The Morgan Kaufmann Series in Interactive 3D Technology)     </td><td>1040</td><td>Hardcover            </td><td>117.98824</td></tr>\n",
              "\t<tr><th scope=row>262</th><td>3.82</td><td>0  </td><td>Game Programming Gems 6                                                                                                                  </td><td> 700</td><td>Hardcover            </td><td>119.20294</td></tr>\n",
              "\t<tr><th scope=row>263</th><td>4.08</td><td>56 </td><td>Compilers: Principles, Techniques, and Tools                                                                                             </td><td> 796</td><td>Hardcover            </td><td>126.57941</td></tr>\n",
              "\t<tr><th scope=row>264</th><td>3.77</td><td>0  </td><td>Game Programming Gems 4                                                                                                                  </td><td> 703</td><td>Hardcover            </td><td>139.43529</td></tr>\n",
              "\t<tr><th scope=row>265</th><td>3.82</td><td>0  </td><td>Game Programming Gems 3                                                                                                                  </td><td> 663</td><td>Hardcover            </td><td>143.13824</td></tr>\n",
              "\t<tr><th scope=row>266</th><td>4.26</td><td>5  </td><td>Numerical Recipes: The Art of Scientific Computing                                                                                       </td><td>1235</td><td>Hardcover            </td><td>176.14412</td></tr>\n",
              "\t<tr><th scope=row>267</th><td>3.76</td><td>0  </td><td>3D Game Engine Architecture: Engineering Real-Time Applications with Wild Magic (The Morgan Kaufmann Series in Interactive 3d Technology)</td><td> 752</td><td>Hardcover            </td><td>203.10882</td></tr>\n",
              "\t<tr><th scope=row>268</th><td>3.94</td><td>22 </td><td>An Introduction to Database Systems                                                                                                      </td><td>1040</td><td>Paperback            </td><td>212.09706</td></tr>\n",
              "\t<tr><th scope=row>269</th><td>4.49</td><td>36 </td><td>The Art of Computer Programming, Volumes 1-3 Boxed Set                                                                                   </td><td> 896</td><td>Boxed Set - Hardcover</td><td>220.38529</td></tr>\n",
              "\t<tr><th scope=row>270</th><td>4.77</td><td>4  </td><td>The Art of Computer Programming, Volumes 1-4a Boxed Set                                                                                  </td><td>3168</td><td>Hardcover            </td><td>220.38529</td></tr>\n",
              "\t<tr><th scope=row>271</th><td>3.84</td><td>5  </td><td>A Discipline for Software Engineering                                                                                                    </td><td> 789</td><td>Hardcover            </td><td>235.65000</td></tr>\n",
              "</tbody>\n",
              "</table>\n"
            ]
          },
          "metadata": {}
        }
      ]
    },
    {
      "cell_type": "markdown",
      "source": [
        "Разобьем по вертикали таблицу на две: по 4 и 2 два столбца."
      ],
      "metadata": {
        "id": "pyO26ad8aPYx"
      }
    },
    {
      "cell_type": "code",
      "source": [
        "left <- books[1:4]\n",
        "right <- books[5:6]\n",
        "ncol(left)\n",
        "ncol(right)"
      ],
      "metadata": {
        "colab": {
          "base_uri": "https://localhost:8080/",
          "height": 51
        },
        "id": "x5q74IxuYzTc",
        "outputId": "2bdfad10-f5ef-4097-8014-fbdaf4528900"
      },
      "execution_count": null,
      "outputs": [
        {
          "output_type": "display_data",
          "data": {
            "text/plain": [
              "[1] 4"
            ],
            "text/latex": "4",
            "text/markdown": "4",
            "text/html": [
              "4"
            ]
          },
          "metadata": {}
        },
        {
          "output_type": "display_data",
          "data": {
            "text/plain": [
              "[1] 2"
            ],
            "text/latex": "2",
            "text/markdown": "2",
            "text/html": [
              "2"
            ]
          },
          "metadata": {}
        }
      ]
    },
    {
      "cell_type": "code",
      "source": [
        "head(left, n=2)"
      ],
      "metadata": {
        "colab": {
          "base_uri": "https://localhost:8080/",
          "height": 161
        },
        "id": "eatuk724Z-0m",
        "outputId": "40361ed9-af97-483f-90a9-a2b34a4ce3f6"
      },
      "execution_count": null,
      "outputs": [
        {
          "output_type": "display_data",
          "data": {
            "text/plain": [
              "  rating reviews title                                         pages\n",
              "1 4.17   3,829   The Elements of Style                         105  \n",
              "2 4.01   1,406   The Information: A History, a Theory, a Flood 527  "
            ],
            "text/latex": "A data.frame: 2 × 4\n\\begin{tabular}{r|llll}\n  & rating & reviews & title & pages\\\\\n  & <dbl> & <fct> & <fct> & <dbl>\\\\\n\\hline\n\t1 & 4.17 & 3,829 & The Elements of Style                         & 105\\\\\n\t2 & 4.01 & 1,406 & The Information: A History, a Theory, a Flood & 527\\\\\n\\end{tabular}\n",
            "text/markdown": "\nA data.frame: 2 × 4\n\n| <!--/--> | rating &lt;dbl&gt; | reviews &lt;fct&gt; | title &lt;fct&gt; | pages &lt;dbl&gt; |\n|---|---|---|---|---|\n| 1 | 4.17 | 3,829 | The Elements of Style                         | 105 |\n| 2 | 4.01 | 1,406 | The Information: A History, a Theory, a Flood | 527 |\n\n",
            "text/html": [
              "<table class=\"dataframe\">\n",
              "<caption>A data.frame: 2 × 4</caption>\n",
              "<thead>\n",
              "\t<tr><th></th><th scope=col>rating</th><th scope=col>reviews</th><th scope=col>title</th><th scope=col>pages</th></tr>\n",
              "\t<tr><th></th><th scope=col>&lt;dbl&gt;</th><th scope=col>&lt;fct&gt;</th><th scope=col>&lt;fct&gt;</th><th scope=col>&lt;dbl&gt;</th></tr>\n",
              "</thead>\n",
              "<tbody>\n",
              "\t<tr><th scope=row>1</th><td>4.17</td><td>3,829</td><td>The Elements of Style                        </td><td>105</td></tr>\n",
              "\t<tr><th scope=row>2</th><td>4.01</td><td>1,406</td><td>The Information: A History, a Theory, a Flood</td><td>527</td></tr>\n",
              "</tbody>\n",
              "</table>\n"
            ]
          },
          "metadata": {}
        }
      ]
    },
    {
      "cell_type": "markdown",
      "source": [
        "Склеим обратно с помощью cbind()."
      ],
      "metadata": {
        "id": "VobV7xcdaVph"
      }
    },
    {
      "cell_type": "code",
      "source": [
        "head(cbind(right, left), n=2)"
      ],
      "metadata": {
        "colab": {
          "base_uri": "https://localhost:8080/",
          "height": 178
        },
        "id": "jAC829pUaCIh",
        "outputId": "94bd779f-f4e8-443b-f234-09b75ebb6935"
      },
      "execution_count": null,
      "outputs": [
        {
          "output_type": "display_data",
          "data": {
            "text/plain": [
              "  type      price     rating reviews\n",
              "1 Hardcover  9.323529 4.17   3,829  \n",
              "2 Hardcover 11.000000 4.01   1,406  \n",
              "  title                                         pages\n",
              "1 The Elements of Style                         105  \n",
              "2 The Information: A History, a Theory, a Flood 527  "
            ],
            "text/latex": "A data.frame: 2 × 6\n\\begin{tabular}{r|llllll}\n  & type & price & rating & reviews & title & pages\\\\\n  & <fct> & <dbl> & <dbl> & <fct> & <fct> & <dbl>\\\\\n\\hline\n\t1 & Hardcover &  9.323529 & 4.17 & 3,829 & The Elements of Style                         & 105\\\\\n\t2 & Hardcover & 11.000000 & 4.01 & 1,406 & The Information: A History, a Theory, a Flood & 527\\\\\n\\end{tabular}\n",
            "text/markdown": "\nA data.frame: 2 × 6\n\n| <!--/--> | type &lt;fct&gt; | price &lt;dbl&gt; | rating &lt;dbl&gt; | reviews &lt;fct&gt; | title &lt;fct&gt; | pages &lt;dbl&gt; |\n|---|---|---|---|---|---|---|\n| 1 | Hardcover |  9.323529 | 4.17 | 3,829 | The Elements of Style                         | 105 |\n| 2 | Hardcover | 11.000000 | 4.01 | 1,406 | The Information: A History, a Theory, a Flood | 527 |\n\n",
            "text/html": [
              "<table class=\"dataframe\">\n",
              "<caption>A data.frame: 2 × 6</caption>\n",
              "<thead>\n",
              "\t<tr><th></th><th scope=col>type</th><th scope=col>price</th><th scope=col>rating</th><th scope=col>reviews</th><th scope=col>title</th><th scope=col>pages</th></tr>\n",
              "\t<tr><th></th><th scope=col>&lt;fct&gt;</th><th scope=col>&lt;dbl&gt;</th><th scope=col>&lt;dbl&gt;</th><th scope=col>&lt;fct&gt;</th><th scope=col>&lt;fct&gt;</th><th scope=col>&lt;dbl&gt;</th></tr>\n",
              "</thead>\n",
              "<tbody>\n",
              "\t<tr><th scope=row>1</th><td>Hardcover</td><td> 9.323529</td><td>4.17</td><td>3,829</td><td>The Elements of Style                        </td><td>105</td></tr>\n",
              "\t<tr><th scope=row>2</th><td>Hardcover</td><td>11.000000</td><td>4.01</td><td>1,406</td><td>The Information: A History, a Theory, a Flood</td><td>527</td></tr>\n",
              "</tbody>\n",
              "</table>\n"
            ]
          },
          "metadata": {}
        }
      ]
    },
    {
      "cell_type": "markdown",
      "source": [
        "Проверим, что исходная табличка была такой же."
      ],
      "metadata": {
        "id": "8_-j3pANaYlR"
      }
    },
    {
      "cell_type": "code",
      "source": [
        "head(books, n=2)"
      ],
      "metadata": {
        "colab": {
          "base_uri": "https://localhost:8080/",
          "height": 178
        },
        "id": "xdnB4EpSaIkr",
        "outputId": "46023b65-0622-4313-cc9c-3cd36e1f0fac"
      },
      "execution_count": null,
      "outputs": [
        {
          "output_type": "display_data",
          "data": {
            "text/plain": [
              "  rating reviews title                                         pages type     \n",
              "1 4.17   3,829   The Elements of Style                         105   Hardcover\n",
              "2 4.01   1,406   The Information: A History, a Theory, a Flood 527   Hardcover\n",
              "  price    \n",
              "1  9.323529\n",
              "2 11.000000"
            ],
            "text/latex": "A data.frame: 2 × 6\n\\begin{tabular}{r|llllll}\n  & rating & reviews & title & pages & type & price\\\\\n  & <dbl> & <fct> & <fct> & <dbl> & <fct> & <dbl>\\\\\n\\hline\n\t1 & 4.17 & 3,829 & The Elements of Style                         & 105 & Hardcover &  9.323529\\\\\n\t2 & 4.01 & 1,406 & The Information: A History, a Theory, a Flood & 527 & Hardcover & 11.000000\\\\\n\\end{tabular}\n",
            "text/markdown": "\nA data.frame: 2 × 6\n\n| <!--/--> | rating &lt;dbl&gt; | reviews &lt;fct&gt; | title &lt;fct&gt; | pages &lt;dbl&gt; | type &lt;fct&gt; | price &lt;dbl&gt; |\n|---|---|---|---|---|---|---|\n| 1 | 4.17 | 3,829 | The Elements of Style                         | 105 | Hardcover |  9.323529 |\n| 2 | 4.01 | 1,406 | The Information: A History, a Theory, a Flood | 527 | Hardcover | 11.000000 |\n\n",
            "text/html": [
              "<table class=\"dataframe\">\n",
              "<caption>A data.frame: 2 × 6</caption>\n",
              "<thead>\n",
              "\t<tr><th></th><th scope=col>rating</th><th scope=col>reviews</th><th scope=col>title</th><th scope=col>pages</th><th scope=col>type</th><th scope=col>price</th></tr>\n",
              "\t<tr><th></th><th scope=col>&lt;dbl&gt;</th><th scope=col>&lt;fct&gt;</th><th scope=col>&lt;fct&gt;</th><th scope=col>&lt;dbl&gt;</th><th scope=col>&lt;fct&gt;</th><th scope=col>&lt;dbl&gt;</th></tr>\n",
              "</thead>\n",
              "<tbody>\n",
              "\t<tr><th scope=row>1</th><td>4.17</td><td>3,829</td><td>The Elements of Style                        </td><td>105</td><td>Hardcover</td><td> 9.323529</td></tr>\n",
              "\t<tr><th scope=row>2</th><td>4.01</td><td>1,406</td><td>The Information: A History, a Theory, a Flood</td><td>527</td><td>Hardcover</td><td>11.000000</td></tr>\n",
              "</tbody>\n",
              "</table>\n"
            ]
          },
          "metadata": {}
        }
      ]
    },
    {
      "cell_type": "markdown",
      "source": [
        "Теперь посмотрим на слияние таблиц: для этого есть функция merge()."
      ],
      "metadata": {
        "id": "WIgFa1vXbETs"
      }
    },
    {
      "cell_type": "code",
      "source": [
        "left <- books[c(1:3)]\n",
        "right <- books[c(3:6)]\n",
        "print(head(left, n=2))\n",
        "print(head(right, n=2))"
      ],
      "metadata": {
        "colab": {
          "base_uri": "https://localhost:8080/"
        },
        "id": "jAC8W9AlbKrd",
        "outputId": "240b89b1-c56c-4474-d671-7057b5dfe6a5"
      },
      "execution_count": null,
      "outputs": [
        {
          "output_type": "stream",
          "name": "stdout",
          "text": [
            "  rating reviews                                         title\n",
            "1   4.17   3,829                         The Elements of Style\n",
            "2   4.01   1,406 The Information: A History, a Theory, a Flood\n",
            "                                          title pages      type     price\n",
            "1                         The Elements of Style   105 Hardcover  9.323529\n",
            "2 The Information: A History, a Theory, a Flood   527 Hardcover 11.000000\n"
          ]
        }
      ]
    },
    {
      "cell_type": "markdown",
      "source": [
        "При слиянии итоговая табличка сортируется по возрастанию значений цены."
      ],
      "metadata": {
        "id": "aJLGq7jhcQfG"
      }
    },
    {
      "cell_type": "code",
      "source": [
        "books_merged <- merge(left, right, by=\"title\")\n",
        "head(books_merged[order(books_merged$price),], n=2)"
      ],
      "metadata": {
        "colab": {
          "base_uri": "https://localhost:8080/",
          "height": 178
        },
        "id": "XrmGUROyaNtQ",
        "outputId": "fb7373e7-bbcf-426d-ca9d-4ce0ca5b8e30"
      },
      "execution_count": null,
      "outputs": [
        {
          "output_type": "display_data",
          "data": {
            "text/plain": [
              "    title                                         rating reviews pages\n",
              "232 The Elements of Style                         4.17   3,829   105  \n",
              "236 The Information: A History, a Theory, a Flood 4.01   1,406   527  \n",
              "    type      price    \n",
              "232 Hardcover  9.323529\n",
              "236 Hardcover 11.000000"
            ],
            "text/latex": "A data.frame: 2 × 6\n\\begin{tabular}{r|llllll}\n  & title & rating & reviews & pages & type & price\\\\\n  & <fct> & <dbl> & <fct> & <dbl> & <fct> & <dbl>\\\\\n\\hline\n\t232 & The Elements of Style                         & 4.17 & 3,829 & 105 & Hardcover &  9.323529\\\\\n\t236 & The Information: A History, a Theory, a Flood & 4.01 & 1,406 & 527 & Hardcover & 11.000000\\\\\n\\end{tabular}\n",
            "text/markdown": "\nA data.frame: 2 × 6\n\n| <!--/--> | title &lt;fct&gt; | rating &lt;dbl&gt; | reviews &lt;fct&gt; | pages &lt;dbl&gt; | type &lt;fct&gt; | price &lt;dbl&gt; |\n|---|---|---|---|---|---|---|\n| 232 | The Elements of Style                         | 4.17 | 3,829 | 105 | Hardcover |  9.323529 |\n| 236 | The Information: A History, a Theory, a Flood | 4.01 | 1,406 | 527 | Hardcover | 11.000000 |\n\n",
            "text/html": [
              "<table class=\"dataframe\">\n",
              "<caption>A data.frame: 2 × 6</caption>\n",
              "<thead>\n",
              "\t<tr><th></th><th scope=col>title</th><th scope=col>rating</th><th scope=col>reviews</th><th scope=col>pages</th><th scope=col>type</th><th scope=col>price</th></tr>\n",
              "\t<tr><th></th><th scope=col>&lt;fct&gt;</th><th scope=col>&lt;dbl&gt;</th><th scope=col>&lt;fct&gt;</th><th scope=col>&lt;dbl&gt;</th><th scope=col>&lt;fct&gt;</th><th scope=col>&lt;dbl&gt;</th></tr>\n",
              "</thead>\n",
              "<tbody>\n",
              "\t<tr><th scope=row>232</th><td>The Elements of Style                        </td><td>4.17</td><td>3,829</td><td>105</td><td>Hardcover</td><td> 9.323529</td></tr>\n",
              "\t<tr><th scope=row>236</th><td>The Information: A History, a Theory, a Flood</td><td>4.01</td><td>1,406</td><td>527</td><td>Hardcover</td><td>11.000000</td></tr>\n",
              "</tbody>\n",
              "</table>\n"
            ]
          },
          "metadata": {}
        }
      ]
    },
    {
      "cell_type": "markdown",
      "source": [
        "В следующих блокнотах по R будут рассмотрены пакеты для манипуляции с таблицами и для их визуализации."
      ],
      "metadata": {
        "id": "NcaPUIVscfUa"
      }
    }
  ]
}